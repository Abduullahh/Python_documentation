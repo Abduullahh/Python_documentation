{
 "cells": [
  {
   "cell_type": "markdown",
   "id": "025a9dbf",
   "metadata": {},
   "source": [
    "#### when we pass *args as a function argument we are actually specifying the argument to be a tuple"
   ]
  },
  {
   "cell_type": "code",
   "execution_count": 1,
   "id": "6cfb7401",
   "metadata": {},
   "outputs": [
    {
     "name": "stdout",
     "output_type": "stream",
     "text": [
      "The total is equal to 8\n"
     ]
    }
   ],
   "source": [
    "def summ(*args):\n",
    "    total = 0\n",
    "    for i in args:\n",
    "        total+=i\n",
    "    print(\"The total is equal to\", total)\n",
    "    return None\n",
    "summ(3, 2, 3) # so these arguemnts are gonna be like (3, 2, 3) which is a tuple."
   ]
  },
  {
   "cell_type": "markdown",
   "id": "1602a4e2",
   "metadata": {},
   "source": [
    "<hr><br>"
   ]
  },
  {
   "cell_type": "markdown",
   "id": "7598714c",
   "metadata": {},
   "source": [
    "## some dictionary operations & methods"
   ]
  },
  {
   "cell_type": "markdown",
   "id": "12026894",
   "metadata": {},
   "source": [
    "#### we can pass a **kwargs and this is a special symbol for an argument as a dictionary"
   ]
  },
  {
   "cell_type": "code",
   "execution_count": 2,
   "id": "3c27039c",
   "metadata": {
    "scrolled": true
   },
   "outputs": [
    {
     "name": "stdout",
     "output_type": "stream",
     "text": [
      "name : Abdallah\n",
      "age : 21\n",
      "major : CS\n",
      "before using the clear function ->  {'name': 'Abdallah', 'age': 21, 'major': 'CS'}\n",
      "after using the clear function ->  {}\n"
     ]
    }
   ],
   "source": [
    "def dct(**kwargs):\n",
    "    for i, j in kwargs.items():\n",
    "        print(i, \":\", j)\n",
    "    print(\"before using the clear function -> \", kwargs)\n",
    "    kwargs.clear()\n",
    "    print(\"after using the clear function -> \", kwargs)\n",
    "    return None\n",
    "\n",
    "dct(name = \"Abdallah\", age = 21, major = \"CS\")"
   ]
  },
  {
   "cell_type": "markdown",
   "id": "f56fd9cf",
   "metadata": {},
   "source": [
    "#### use get method to get a certain dictionary value based on the key passed to the method"
   ]
  },
  {
   "cell_type": "code",
   "execution_count": 3,
   "id": "e043b0a7",
   "metadata": {},
   "outputs": [
    {
     "name": "stdout",
     "output_type": "stream",
     "text": [
      "Porche\n",
      "2022\n",
      "sport\n"
     ]
    },
    {
     "data": {
      "text/plain": [
       "'Porche'"
      ]
     },
     "execution_count": 3,
     "metadata": {},
     "output_type": "execute_result"
    }
   ],
   "source": [
    "dctt = {\"model\" : \"Porche\", \"year\" : 2022, \"model_type\" : \"sport\"}\n",
    "for i in dctt:\n",
    "    print(dctt[i])\n",
    "dctt.get(\"model\")"
   ]
  },
  {
   "cell_type": "markdown",
   "id": "e3602c9e",
   "metadata": {},
   "source": [
    "#### to check if certain key exists in a dictionary"
   ]
  },
  {
   "cell_type": "code",
   "execution_count": 4,
   "id": "226db5c0",
   "metadata": {},
   "outputs": [
    {
     "name": "stdout",
     "output_type": "stream",
     "text": [
      "True\n",
      "False\n"
     ]
    }
   ],
   "source": [
    "print(\"model\" in dctt)\n",
    "print(\"number\" in dctt)\n",
    "# there is this method has_key() but it's been removed in Python 3 it used to do the same thing "
   ]
  },
  {
   "cell_type": "markdown",
   "id": "72c85dd5",
   "metadata": {},
   "source": [
    "#### use pop() method to remove certain key and its value from the dictionary"
   ]
  },
  {
   "cell_type": "code",
   "execution_count": 5,
   "id": "1b9ce5d4",
   "metadata": {
    "scrolled": true
   },
   "outputs": [
    {
     "data": {
      "text/plain": [
       "{'model': 'Porche', 'year': 2022}"
      ]
     },
     "execution_count": 5,
     "metadata": {},
     "output_type": "execute_result"
    }
   ],
   "source": [
    "dctt.pop(\"model_type\")\n",
    "dctt"
   ]
  },
  {
   "cell_type": "markdown",
   "id": "d6a1c0c3",
   "metadata": {},
   "source": [
    "### hacker rank problem (finding the percentage)"
   ]
  },
  {
   "cell_type": "code",
   "execution_count": 6,
   "id": "81fa40cb",
   "metadata": {},
   "outputs": [
    {
     "name": "stdout",
     "output_type": "stream",
     "text": [
      "Enter number of students\n",
      "2\n",
      "Enter the name and the 3 marks of student all separated by a space\n",
      "ahmed 20 10 30\n",
      "Enter the name and the 3 marks of student all separated by a space\n",
      "abdallah 10 10 35\n",
      "Enter the name of student you wish to get their average marks\n",
      "abdallah\n",
      "18.33\n"
     ]
    }
   ],
   "source": [
    "n = int(input(\"Enter number of students\\n\"))\n",
    "student_marks = {}\n",
    "for i in range(n):\n",
    "    name, *line = input(\"Enter the name and the 3 marks of student all separated by a space\\n\").split()\n",
    "    scores = list(map(float, line))\n",
    "    student_marks[name] = scores\n",
    "query_name = input(\"Enter the name of student you wish to get their average marks\\n\")\n",
    "for j in student_marks:\n",
    "    if j == query_name:\n",
    "        marks = student_marks[j]\n",
    "        avg = \"%.2f\" % (sum(marks)/len(marks)) # to get result in only 2 decimals after the period\n",
    "print(avg)"
   ]
  },
  {
   "cell_type": "code",
   "execution_count": 7,
   "id": "0519cd6b",
   "metadata": {
    "scrolled": true
   },
   "outputs": [
    {
     "name": "stdout",
     "output_type": "stream",
     "text": [
      "Enter number of students\n",
      "2\n",
      "ahmed \n",
      "abdallah 10 20 30\n",
      "abdallah\n",
      "20.0\n"
     ]
    }
   ],
   "source": [
    "n = int(input(\"Enter number of students\\n\"))\n",
    "student_marks = {}\n",
    "for i in range(n):\n",
    "    name, *line = input().split()\n",
    "    scores = list(map(float, line))\n",
    "    student_marks[name] = scores\n",
    "query_name = input()\n",
    "for j in student_marks:\n",
    "    if j == query_name:\n",
    "        marks = student_marks[j] # marks = sum(student_marks[j])/len(student_marks[j]) <- this also works :p\n",
    "        avg = sum(marks)/len(marks)\n",
    "print(avg)\n",
    "\n",
    "# here i try to convert my code into a function but yet it doesn't work so don't mind it\n",
    "# def find_avg(n):\n",
    "#     n = int(input(\"Enter number of students\\n\"))\n",
    "#     student_marks = {}\n",
    "#     for i in range(n):\n",
    "#         name, *line = input(\"Enter the name of student and their 3 marks all separated by a space\").split()\n",
    "#         scores = list(map(float, line))\n",
    "#         student_marks[name] = scores\n",
    "#     query_name = input(\"Enter the name of student you wish to get their average mark\\n\")\n",
    "#     for j in student_marks:\n",
    "#         if j == query_name:\n",
    "#             marks = student_marks[j]\n",
    "#             avg = sum(marks)/len(marks)\n",
    "#     print(avg)\n",
    "#     return None\n",
    "# find_avg\n",
    "\n",
    "# hacker rank code :\n",
    "# if __name__ == '__main__':\n",
    "#     n = int(input())\n",
    "#     student_marks = {}\n",
    "#     for i in range(n):\n",
    "#         name, *line = input().split()\n",
    "#         scores = list(map(float, line))\n",
    "#         student_marks[name] = scores\n",
    "#     query_name = input()\n",
    "#     for j in student_marks:\n",
    "#         if j == query_name:\n",
    "#             marks = student_marks[j]\n",
    "#             avg = \"%.2f\" % (sum(marks)/len(marks))\n",
    "#     print(avg)"
   ]
  },
  {
   "cell_type": "code",
   "execution_count": 20,
   "id": "1ae6d9ab",
   "metadata": {},
   "outputs": [
    {
     "name": "stdout",
     "output_type": "stream",
     "text": [
      "{'lorem': 2, 'ipsum': 1, 'dolor': 1, 'diam': 5, 'amet': 2, 'consetetur': 1, 'magna': 2, 'sed': 1, 'nonumy': 1, 'eirmod': 1, 'tempor': 1, 'et': 3, 'labore': 1}\n",
      "2\n"
     ]
    }
   ],
   "source": [
    "class analysedText(object):\n",
    "    \n",
    "    def __init__ (self, text):\n",
    "\n",
    "        # TODO: Remove the punctuation from <text> and make it lower case.\n",
    "        \n",
    "        formattedtext = text.replace(\".\", \"\").replace(\"!\", \"\").replace(\",\", \"\").replace(\"?\", \"\")\n",
    "        \n",
    "        formattedtext = formattedtext.lower()\n",
    "        \n",
    "        # TODO: Assign the formatted text to a new attribute called \"fmtText\"\n",
    "        \n",
    "        self.fmtText = formattedtext \n",
    "    \n",
    "    \n",
    "    def freqAll(self):    \n",
    "\n",
    "        # TODO: Split the text into a list of words\n",
    "        \n",
    "        wordd = []\n",
    "        wordd = self.fmtText.split()\n",
    "\n",
    "        # TODO: Create a dictionary with the unique words in the text as keys\n",
    "        \n",
    "        ddct = {}\n",
    "        \n",
    "        # and the number of times they occur in the text as values\n",
    "      \n",
    "        for keys in wordd:\n",
    "            ddct[keys] = wordd.count(keys)\n",
    "        \n",
    "        # return the created dictionary\n",
    "        \n",
    "        return ddct\n",
    "        \n",
    "    def freqOf(self, word):\n",
    "\n",
    "        # TODO: return the number of occurrences of <word> in <fmtText>\n",
    "        freqddct = self.freqAll()\n",
    "        \n",
    "        return freqddct[word]\n",
    "\n",
    "samplePassage = analysedText(\"Lorem ipsum dolor! diam amet, consetetur Lorem magna. sed diam nonumy eirmod tempor. diam et labore? et diam magna. et diam amet.\")\n",
    "print(samplePassage.freqAll())\n",
    "print(samplePassage.freqOf(\"lorem\"))\n"
   ]
  },
  {
   "cell_type": "code",
   "execution_count": 21,
   "id": "fd7a046a",
   "metadata": {},
   "outputs": [
    {
     "name": "stdout",
     "output_type": "stream",
     "text": [
      "Constructor: \n",
      "Test Passed\n",
      "freqAll: \n",
      "Test Passed\n",
      "freqOf: \n",
      "Test Passed\n"
     ]
    }
   ],
   "source": [
    "import sys\n",
    "\n",
    "sampleMap = {'eirmod': 1,'sed': 1, 'amet': 2, 'diam': 5, 'consetetur': 1, 'labore': 1, 'tempor': 1, 'dolor': 1, 'magna': 2, 'et': 3, 'nonumy': 1, 'ipsum': 1, 'lorem': 2}\n",
    "\n",
    "def testMsg(passed):\n",
    "    if passed:\n",
    "       return 'Test Passed'\n",
    "    else :\n",
    "       return 'Test Failed'\n",
    "\n",
    "print(\"Constructor: \")\n",
    "try:\n",
    "    samplePassage = analysedText(\"Lorem ipsum dolor! diam amet, consetetur Lorem magna. sed diam nonumy eirmod tempor. diam et labore? et diam magna. et diam amet.\")\n",
    "    print(testMsg(samplePassage.fmtText == \"lorem ipsum dolor diam amet consetetur lorem magna sed diam nonumy eirmod tempor diam et labore et diam magna et diam amet\"))\n",
    "except:\n",
    "    print(\"Error detected. Recheck your function \" )\n",
    "print(\"freqAll: \")\n",
    "try:\n",
    "    wordMap = samplePassage.freqAll()\n",
    "    print(testMsg(wordMap==sampleMap))\n",
    "except:\n",
    "    print(\"Error detected. Recheck your function \" )\n",
    "print(\"freqOf: \")\n",
    "try:\n",
    "    passed = True\n",
    "    for word in sampleMap:\n",
    "        if samplePassage.freqOf(word) != sampleMap[word]:\n",
    "            passed = False\n",
    "            break\n",
    "    print(testMsg(passed))\n",
    "    \n",
    "except:\n",
    "    print(\"Error detected. Recheck your function  \" )\n",
    "    "
   ]
  },
  {
   "cell_type": "markdown",
   "id": "82e6810b",
   "metadata": {},
   "source": [
    "### File handling"
   ]
  },
  {
   "cell_type": "code",
   "execution_count": 87,
   "id": "01f28439",
   "metadata": {},
   "outputs": [
    {
     "name": "stdout",
     "output_type": "stream",
     "text": [
      "19\n",
      "32\n"
     ]
    }
   ],
   "source": [
    "with open(\"exm1.txt\", \"w\") as wf:\n",
    "    wf.write(\"Hello, I'm Abdallah\")\n",
    "    print(wf.tell())\n",
    "    wf.write(\"I'm a student\")\n",
    "    print(wf.tell())\n",
    "    wf.seek(19, 0)\n",
    "    wf.write(\".\\n\")"
   ]
  },
  {
   "cell_type": "code",
   "execution_count": 21,
   "id": "a4b85975",
   "metadata": {},
   "outputs": [
    {
     "name": "stdout",
     "output_type": "stream",
     "text": [
      "Hello, I'm Abdallah.\n",
      "I'm a student.\n",
      "35\n"
     ]
    }
   ],
   "source": [
    "with open(\"exm1.txt\", \"r\") as rf:\n",
    "    print(rf.read())\n",
    "#     rf.seek(20, 0)\n",
    "#     print(rf.read())\n",
    "    print(rf.tell())"
   ]
  },
  {
   "cell_type": "code",
   "execution_count": 97,
   "id": "6ddd4279",
   "metadata": {},
   "outputs": [
    {
     "name": "stdout",
     "output_type": "stream",
     "text": [
      "Hello, I'm Abdallah.\n",
      "I'm a student.\n",
      "Hello, I'm Abdallah.\n",
      "I'm a student.\n",
      "35\n"
     ]
    }
   ],
   "source": [
    "with open(\"exm1.txt\", \"r+\") as rwf:\n",
    "    print(rwf.read())\n",
    "    rwf.seek(21, 0)\n",
    "    rwf.write(\"I'm a student.\")\n",
    "    rwf.seek(0)\n",
    "    print(rwf.read())\n",
    "    print(rwf.tell())"
   ]
  },
  {
   "cell_type": "code",
   "execution_count": 19,
   "id": "d9019fe0",
   "metadata": {},
   "outputs": [],
   "source": [
    "with open(\"exm1.txt\", \"r\") as rf:\n",
    "    with open(\"exm2.txt\", \"w\") as wf:\n",
    "        for line in rf:\n",
    "            wf.write(line)"
   ]
  },
  {
   "cell_type": "code",
   "execution_count": 23,
   "id": "2c9685ff",
   "metadata": {
    "scrolled": true
   },
   "outputs": [
    {
     "name": "stdout",
     "output_type": "stream",
     "text": [
      "exm2.txt\n",
      "Hello, I'm Abdallah.\n",
      "I'm a student.\n",
      "36\n"
     ]
    }
   ],
   "source": [
    "with open(\"exm2.txt\", \"r\") as rf:\n",
    "    print(rf.name)\n",
    "    print(rf.read())\n",
    "    print(rf.tell())"
   ]
  },
  {
   "cell_type": "code",
   "execution_count": 28,
   "id": "742c3da9",
   "metadata": {},
   "outputs": [
    {
     "name": "stdout",
     "output_type": "stream",
     "text": [
      "yes 0\n",
      "yes 1\n",
      "no 2\n"
     ]
    }
   ],
   "source": [
    "line = [\"sjfowei no\", \"lsdjfioew fno\", \"fowejfoewi\"]\n",
    "for i, j in enumerate(line):\n",
    "    if \"no\" in line[i]:\n",
    "        print(\"yes\", i)\n",
    "    else:\n",
    "        print(\"no\", i)"
   ]
  }
 ],
 "metadata": {
  "kernelspec": {
   "display_name": "Python 3 (ipykernel)",
   "language": "python",
   "name": "python3"
  },
  "language_info": {
   "codemirror_mode": {
    "name": "ipython",
    "version": 3
   },
   "file_extension": ".py",
   "mimetype": "text/x-python",
   "name": "python",
   "nbconvert_exporter": "python",
   "pygments_lexer": "ipython3",
   "version": "3.9.16"
  }
 },
 "nbformat": 4,
 "nbformat_minor": 5
}
