{
 "cells": [
  {
   "cell_type": "markdown",
   "id": "4188fe85",
   "metadata": {},
   "source": [
    "# GUI"
   ]
  },
  {
   "cell_type": "code",
   "execution_count": 22,
   "id": "6549323f",
   "metadata": {},
   "outputs": [],
   "source": [
    "from tkinter import *"
   ]
  },
  {
   "cell_type": "code",
   "execution_count": 2,
   "id": "485f0e10",
   "metadata": {},
   "outputs": [],
   "source": [
    "def calc():\n",
    "    num1 = float(num1_entry.get())\n",
    "    num2 = float(num2_entry.get())\n",
    "    result = num1*num2\n",
    "    result_label.configure(text=f\"Result = {result:.2f}\")"
   ]
  },
  {
   "cell_type": "code",
   "execution_count": 23,
   "id": "facdf053",
   "metadata": {},
   "outputs": [],
   "source": [
    "root = Tk()"
   ]
  },
  {
   "cell_type": "code",
   "execution_count": 24,
   "id": "49e37a95",
   "metadata": {},
   "outputs": [],
   "source": [
    "root.title('calculator')\n",
    "root.geometry('400x200')"
   ]
  },
  {
   "cell_type": "code",
   "execution_count": 5,
   "id": "23494b33",
   "metadata": {},
   "outputs": [],
   "source": [
    "num1_label = Label(root, text='Enter the first number')\n",
    "num1_label.pack()\n",
    "num1_entry = Entry(root)\n",
    "num1_entry.pack()"
   ]
  },
  {
   "cell_type": "code",
   "execution_count": 6,
   "id": "3c6ca21a",
   "metadata": {},
   "outputs": [],
   "source": [
    "num2_label = Label(root, text='Enter the second number')\n",
    "num2_label.pack()\n",
    "num2_entry = Entry(root)\n",
    "num2_entry.pack()"
   ]
  },
  {
   "cell_type": "code",
   "execution_count": 7,
   "id": "0ef8a1ac",
   "metadata": {},
   "outputs": [],
   "source": [
    "btn1 = Button(root, text='Result', command = calc)\n",
    "btn1.pack()"
   ]
  },
  {
   "cell_type": "code",
   "execution_count": 8,
   "id": "ef60e48d",
   "metadata": {},
   "outputs": [],
   "source": [
    "result_label = Label(root)\n",
    "result_label.pack()"
   ]
  },
  {
   "cell_type": "code",
   "execution_count": 9,
   "id": "108f040b",
   "metadata": {},
   "outputs": [],
   "source": [
    "root.mainloop()"
   ]
  },
  {
   "cell_type": "markdown",
   "id": "2f069629",
   "metadata": {},
   "source": [
    "<hr>"
   ]
  },
  {
   "cell_type": "markdown",
   "id": "04da90a6",
   "metadata": {},
   "source": [
    "## Sum calculator"
   ]
  },
  {
   "cell_type": "code",
   "execution_count": 42,
   "id": "37ee385b",
   "metadata": {},
   "outputs": [],
   "source": [
    "from tkinter import *"
   ]
  },
  {
   "cell_type": "code",
   "execution_count": 43,
   "id": "e6320c07",
   "metadata": {},
   "outputs": [],
   "source": [
    "root = Tk()"
   ]
  },
  {
   "cell_type": "code",
   "execution_count": 44,
   "id": "dbd8c963",
   "metadata": {},
   "outputs": [],
   "source": [
    "root.title('Sum calculator')\n",
    "root.geometry('600x600')"
   ]
  },
  {
   "cell_type": "code",
   "execution_count": 45,
   "id": "69e36c18",
   "metadata": {},
   "outputs": [],
   "source": [
    "def clcsum():\n",
    "    x = float(num1.get())\n",
    "    y = float(num2.get())\n",
    "    summ = x + y\n",
    "    summl.configure(text= f\"Sum = {summ : .2f}\")"
   ]
  },
  {
   "cell_type": "code",
   "execution_count": 46,
   "id": "e78d0558",
   "metadata": {},
   "outputs": [],
   "source": [
    "num1l = Label(root, text= 'Enter the first number')\n",
    "num1l.pack()\n",
    "num1 = Entry(root)\n",
    "num1.pack()"
   ]
  },
  {
   "cell_type": "code",
   "execution_count": 47,
   "id": "949c9671",
   "metadata": {},
   "outputs": [],
   "source": [
    "num2l = Label(root, text= 'Enter the second number')\n",
    "num2l.pack()\n",
    "num2 = Entry(root)\n",
    "num2.pack()"
   ]
  },
  {
   "cell_type": "code",
   "execution_count": 48,
   "id": "9e2b346b",
   "metadata": {},
   "outputs": [],
   "source": [
    "btnn = Button(root, text= 'Result', command = clcsum)\n",
    "btnn.pack()"
   ]
  },
  {
   "cell_type": "code",
   "execution_count": 49,
   "id": "01cf4b14",
   "metadata": {},
   "outputs": [],
   "source": [
    "summl = Label(root)\n",
    "summl.pack()"
   ]
  },
  {
   "cell_type": "code",
   "execution_count": 50,
   "id": "9193ed42",
   "metadata": {},
   "outputs": [],
   "source": [
    "root.mainloop()"
   ]
  },
  {
   "cell_type": "markdown",
   "id": "f5bc589c",
   "metadata": {},
   "source": [
    "<hr>"
   ]
  },
  {
   "cell_type": "code",
   "execution_count": 22,
   "id": "78a2ddc3",
   "metadata": {},
   "outputs": [],
   "source": [
    "import tkinter as tk"
   ]
  },
  {
   "cell_type": "code",
   "execution_count": 23,
   "id": "09350912",
   "metadata": {},
   "outputs": [
    {
     "data": {
      "text/plain": [
       "''"
      ]
     },
     "execution_count": 23,
     "metadata": {},
     "output_type": "execute_result"
    }
   ],
   "source": [
    "root = tk.Tk()\n",
    "root.title('Temperature converter')\n",
    "root.geometry('400x400')"
   ]
  },
  {
   "cell_type": "code",
   "execution_count": 24,
   "id": "eb78f2b2",
   "metadata": {},
   "outputs": [],
   "source": [
    "def temp():\n",
    "    ctemp = float(entry.get())\n",
    "    ftemp = float(9/5 * ctemp + 32)\n",
    "    result.configure(root, text = f\"Result = {ftemp}\")"
   ]
  },
  {
   "cell_type": "code",
   "execution_count": 25,
   "id": "6a1cd03e",
   "metadata": {},
   "outputs": [
    {
     "ename": "ValueError",
     "evalue": "could not convert string to float: ''",
     "output_type": "error",
     "traceback": [
      "\u001b[1;31m---------------------------------------------------------------------------\u001b[0m",
      "\u001b[1;31mValueError\u001b[0m                                Traceback (most recent call last)",
      "Cell \u001b[1;32mIn[25], line 5\u001b[0m\n\u001b[0;32m      3\u001b[0m entry \u001b[38;5;241m=\u001b[39m tk\u001b[38;5;241m.\u001b[39mEntry(root)\n\u001b[0;32m      4\u001b[0m entry\u001b[38;5;241m.\u001b[39mpack()\n\u001b[1;32m----> 5\u001b[0m btn \u001b[38;5;241m=\u001b[39m tk\u001b[38;5;241m.\u001b[39mButton(root, text \u001b[38;5;241m=\u001b[39m \u001b[38;5;124m'\u001b[39m\u001b[38;5;124mConvert\u001b[39m\u001b[38;5;124m'\u001b[39m, command \u001b[38;5;241m=\u001b[39m \u001b[43mtemp\u001b[49m\u001b[43m(\u001b[49m\u001b[43m)\u001b[49m)\n\u001b[0;32m      6\u001b[0m btn\u001b[38;5;241m.\u001b[39mpack()\n\u001b[0;32m      7\u001b[0m result \u001b[38;5;241m=\u001b[39m tk\u001b[38;5;241m.\u001b[39mLabel(root)\n",
      "Cell \u001b[1;32mIn[24], line 2\u001b[0m, in \u001b[0;36mtemp\u001b[1;34m()\u001b[0m\n\u001b[0;32m      1\u001b[0m \u001b[38;5;28;01mdef\u001b[39;00m \u001b[38;5;21mtemp\u001b[39m():\n\u001b[1;32m----> 2\u001b[0m     ctemp \u001b[38;5;241m=\u001b[39m \u001b[38;5;28;43mfloat\u001b[39;49m\u001b[43m(\u001b[49m\u001b[43mentry\u001b[49m\u001b[38;5;241;43m.\u001b[39;49m\u001b[43mget\u001b[49m\u001b[43m(\u001b[49m\u001b[43m)\u001b[49m\u001b[43m)\u001b[49m\n\u001b[0;32m      3\u001b[0m     ftemp \u001b[38;5;241m=\u001b[39m \u001b[38;5;28mfloat\u001b[39m(\u001b[38;5;241m9\u001b[39m\u001b[38;5;241m/\u001b[39m\u001b[38;5;241m5\u001b[39m \u001b[38;5;241m*\u001b[39m ctemp \u001b[38;5;241m+\u001b[39m \u001b[38;5;241m32\u001b[39m)\n\u001b[0;32m      4\u001b[0m     result\u001b[38;5;241m.\u001b[39mconfigure(root, text \u001b[38;5;241m=\u001b[39m \u001b[38;5;124mf\u001b[39m\u001b[38;5;124m\"\u001b[39m\u001b[38;5;124mResult = \u001b[39m\u001b[38;5;132;01m{\u001b[39;00mftemp\u001b[38;5;132;01m}\u001b[39;00m\u001b[38;5;124m\"\u001b[39m)\n",
      "\u001b[1;31mValueError\u001b[0m: could not convert string to float: ''"
     ]
    }
   ],
   "source": [
    "label = tk.Label(root, text = 'Celsius')\n",
    "label.pack()\n",
    "entry = tk.Entry(root)\n",
    "entry.pack()\n",
    "btn = tk.Button(root, text = 'Convert', command = temp())\n",
    "btn.pack()\n",
    "result = tk.Label(root)\n",
    "result.pack()\n",
    "root.mainloop()"
   ]
  },
  {
   "cell_type": "code",
   "execution_count": null,
   "id": "50e68b3f",
   "metadata": {},
   "outputs": [],
   "source": []
  }
 ],
 "metadata": {
  "kernelspec": {
   "display_name": "Python 3 (ipykernel)",
   "language": "python",
   "name": "python3"
  },
  "language_info": {
   "codemirror_mode": {
    "name": "ipython",
    "version": 3
   },
   "file_extension": ".py",
   "mimetype": "text/x-python",
   "name": "python",
   "nbconvert_exporter": "python",
   "pygments_lexer": "ipython3",
   "version": "3.9.16"
  }
 },
 "nbformat": 4,
 "nbformat_minor": 5
}
