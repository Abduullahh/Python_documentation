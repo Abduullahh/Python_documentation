{
 "cells": [
  {
   "cell_type": "markdown",
   "id": "2225b48f",
   "metadata": {},
   "source": [
    "# Python basics"
   ]
  },
  {
   "cell_type": "markdown",
   "id": "4492022d",
   "metadata": {},
   "source": [
    "### print() method"
   ]
  },
  {
   "cell_type": "code",
   "execution_count": 1,
   "id": "13e96d7b",
   "metadata": {},
   "outputs": [
    {
     "name": "stdout",
     "output_type": "stream",
     "text": [
      "Hello, Python!\n"
     ]
    }
   ],
   "source": [
    "# Try your first Python output\n",
    "\n",
    "print('Hello, Python!')"
   ]
  },
  {
   "cell_type": "markdown",
   "id": "e31aaa69",
   "metadata": {},
   "source": [
    "<hr/>\n",
    "<div class=\"alert alert-success alertsuccess\" style=\"margin-top: 20px\">\n",
    "    [Tip:] <code>print()</code> is a function. You passed the string <code>'Hello, Python!'</code> as an argument to instruct Python on what to print.\n",
    "</div>\n",
    "<hr/>\n"
   ]
  },
  {
   "cell_type": "markdown",
   "id": "3bc2977d",
   "metadata": {},
   "source": [
    "<h3 id=\"comments\">Writing comments in Python</h3>\n"
   ]
  },
  {
   "cell_type": "markdown",
   "id": "2a06e38f",
   "metadata": {},
   "source": [
    "<p>\n",
    "    In addition to writing code, note that it's always a good idea to add comments to your code. It will help others understand what you were trying to accomplish (the reason why you wrote a given snippet of code). Not only does this help <strong>other people</strong> understand your code, it can also serve as a reminder <strong>to you</strong> when you come back to it weeks or months later.</p>\n",
    "\n",
    "<p>\n",
    "    To write comments in Python, use the number symbol <code>#</code> before writing your comment. When you run your code, Python will ignore everything past the <code>#</code> on a given line.\n",
    "</p>\n"
   ]
  },
  {
   "cell_type": "code",
   "execution_count": 2,
   "id": "49f232c2",
   "metadata": {},
   "outputs": [
    {
     "name": "stdout",
     "output_type": "stream",
     "text": [
      "Hello, Python!\n"
     ]
    }
   ],
   "source": [
    "# Practice on writing comments\n",
    "\n",
    "print('Hello, Python!') # This line prints a string\n",
    "# print('Hi')"
   ]
  },
  {
   "cell_type": "markdown",
   "id": "94af9d75",
   "metadata": {},
   "source": [
    "<p>\n",
    "    After executing the cell above, you should notice that <code>This line prints a string</code> did not appear in the output, because it was a comment (and thus ignored by Python).\n",
    "</p>\n",
    "<p>\n",
    "    The second line was also not executed because <code>print('Hi')</code> was preceded by the number sign (<code>#</code>) as well! Since this isn't an explanatory comment from the programmer, but an actual line of code, we might say that the programmer <em>commented out</em> that second line of code.\n",
    "</p>\n"
   ]
  },
  {
   "cell_type": "markdown",
   "id": "5f1f5e0d",
   "metadata": {},
   "source": [
    "<hr>\n"
   ]
  },
  {
   "cell_type": "markdown",
   "id": "bfb1813d",
   "metadata": {},
   "source": [
    "<h2 id=\"types_objects\" align=\"center\">Types of objects in Python</h2>\n"
   ]
  },
  {
   "cell_type": "markdown",
   "id": "997d5f27",
   "metadata": {},
   "source": [
    "<p>Python is an object-oriented language. There are many different types of objects in Python. Let's start with the most common object types: <i>strings</i>, <i>integers</i> and <i>floats</i>. Anytime you write words (text) in Python, you're using <i>character strings</i> (strings for short). The most common numbers, on the other hand, are <i>integers</i> (e.g. -1, 0, 100) and <i>floats</i>, which represent real numbers (e.g. 3.14, -42.0).</p>\n"
   ]
  },
  {
   "cell_type": "markdown",
   "id": "7687bc00",
   "metadata": {},
   "source": [
    "<a align=\"center\">\n",
    "    <img src=\"https://cf-courses-data.s3.us.cloud-object-storage.appdomain.cloud/IBMDeveloperSkillsNetwork-PY0101EN-SkillsNetwork/labs/Module%201/images/TypesObjects.png\" width=\"600\">\n",
    "</a>\n"
   ]
  },
  {
   "cell_type": "markdown",
   "id": "4304d3e3",
   "metadata": {},
   "source": [
    "<p>The following code cells contain some examples.</p>\n"
   ]
  },
  {
   "cell_type": "code",
   "execution_count": 3,
   "id": "941bca8d",
   "metadata": {},
   "outputs": [
    {
     "data": {
      "text/plain": [
       "11"
      ]
     },
     "execution_count": 3,
     "metadata": {},
     "output_type": "execute_result"
    }
   ],
   "source": [
    "# Integer\n",
    "\n",
    "11"
   ]
  },
  {
   "cell_type": "code",
   "execution_count": 4,
   "id": "8a38b79a",
   "metadata": {},
   "outputs": [
    {
     "data": {
      "text/plain": [
       "2.14"
      ]
     },
     "execution_count": 4,
     "metadata": {},
     "output_type": "execute_result"
    }
   ],
   "source": [
    "# Float\n",
    "\n",
    "2.14"
   ]
  },
  {
   "cell_type": "code",
   "execution_count": 5,
   "id": "0ae5a1f3",
   "metadata": {},
   "outputs": [
    {
     "data": {
      "text/plain": [
       "'Hello, Python 101!'"
      ]
     },
     "execution_count": 5,
     "metadata": {},
     "output_type": "execute_result"
    }
   ],
   "source": [
    "# String\n",
    "\n",
    "\"Hello, Python 101!\""
   ]
  },
  {
   "cell_type": "markdown",
   "id": "c2f46dcf",
   "metadata": {},
   "source": [
    "<p>You can get Python to tell you the type of an expression by using the built-in <code>type()</code> function. You'll notice that Python refers to integers as <code>int</code>, floats as <code>float</code>, and character strings as <code>str</code>.</p>\n"
   ]
  },
  {
   "cell_type": "code",
   "execution_count": 6,
   "id": "1697e162",
   "metadata": {},
   "outputs": [
    {
     "data": {
      "text/plain": [
       "int"
      ]
     },
     "execution_count": 6,
     "metadata": {},
     "output_type": "execute_result"
    }
   ],
   "source": [
    "# Type of 12\n",
    "\n",
    "type(12)"
   ]
  },
  {
   "cell_type": "code",
   "execution_count": 7,
   "id": "febbd0c0",
   "metadata": {},
   "outputs": [
    {
     "data": {
      "text/plain": [
       "float"
      ]
     },
     "execution_count": 7,
     "metadata": {},
     "output_type": "execute_result"
    }
   ],
   "source": [
    "# Type of 2.14\n",
    "\n",
    "type(2.14)"
   ]
  },
  {
   "cell_type": "code",
   "execution_count": 8,
   "id": "13a98a42",
   "metadata": {},
   "outputs": [
    {
     "data": {
      "text/plain": [
       "str"
      ]
     },
     "execution_count": 8,
     "metadata": {},
     "output_type": "execute_result"
    }
   ],
   "source": [
    "# Type of \"Hello, Python 101!\"\n",
    "\n",
    "type(\"Hello, Python 101!\")"
   ]
  },
  {
   "cell_type": "markdown",
   "id": "d219c5c5",
   "metadata": {},
   "source": [
    "<p>In the code cell below, use the <code>type()</code> function to check the object type of <code>12.0</code>.\n"
   ]
  },
  {
   "cell_type": "code",
   "execution_count": 9,
   "id": "c6f993ec",
   "metadata": {},
   "outputs": [
    {
     "data": {
      "text/plain": [
       "float"
      ]
     },
     "execution_count": 9,
     "metadata": {},
     "output_type": "execute_result"
    }
   ],
   "source": [
    "# Write your code below. Don't forget to press Shift+Enter to execute the cell\n",
    "type(12.0)"
   ]
  },
  {
   "cell_type": "markdown",
   "id": "c40b327e",
   "metadata": {},
   "source": [
    "<details><summary>Click here for the solution</summary>\n",
    "\n",
    "```python\n",
    "type(12.0)\n",
    "\n",
    "```\n",
    "\n",
    "</details>\n"
   ]
  },
  {
   "cell_type": "markdown",
   "id": "4e61508d",
   "metadata": {},
   "source": [
    "<h3 id=\"int\">Integers</h3>\n"
   ]
  },
  {
   "cell_type": "markdown",
   "id": "391d63ae",
   "metadata": {},
   "source": [
    "<p>Here are some examples of integers. Integers can be negative or positive numbers:</p>\n"
   ]
  },
  {
   "cell_type": "markdown",
   "id": "80466f5f",
   "metadata": {},
   "source": [
    "<a align=\"center\">\n",
    "    <img src=\"https://cf-courses-data.s3.us.cloud-object-storage.appdomain.cloud/IBMDeveloperSkillsNetwork-PY0101EN-SkillsNetwork/labs/Module%201/images/TypesInt.png\" width=\"600\">\n",
    "</a>\n"
   ]
  },
  {
   "cell_type": "markdown",
   "id": "ffa565dc",
   "metadata": {},
   "source": [
    "<p>We can verify this is the case by using, you guessed it, the <code>type()</code> function:\n"
   ]
  },
  {
   "cell_type": "code",
   "execution_count": 10,
   "id": "166f4730",
   "metadata": {},
   "outputs": [
    {
     "data": {
      "text/plain": [
       "int"
      ]
     },
     "execution_count": 10,
     "metadata": {},
     "output_type": "execute_result"
    }
   ],
   "source": [
    "# Print the type of -1\n",
    "\n",
    "type(-1)"
   ]
  },
  {
   "cell_type": "code",
   "execution_count": 11,
   "id": "efa7cf3a",
   "metadata": {},
   "outputs": [
    {
     "data": {
      "text/plain": [
       "int"
      ]
     },
     "execution_count": 11,
     "metadata": {},
     "output_type": "execute_result"
    }
   ],
   "source": [
    "# Print the type of 4\n",
    "\n",
    "type(4)"
   ]
  },
  {
   "cell_type": "code",
   "execution_count": 12,
   "id": "e47c2257",
   "metadata": {},
   "outputs": [
    {
     "data": {
      "text/plain": [
       "int"
      ]
     },
     "execution_count": 12,
     "metadata": {},
     "output_type": "execute_result"
    }
   ],
   "source": [
    "# Print the type of 0\n",
    "\n",
    "type(0)"
   ]
  },
  {
   "cell_type": "markdown",
   "id": "df0e6a3a",
   "metadata": {},
   "source": [
    "<h3 id=\"float\">Floats</h3> \n"
   ]
  },
  {
   "cell_type": "markdown",
   "id": "19397c54",
   "metadata": {},
   "source": [
    "<p>Floats represent real numbers; they are a superset of integer numbers but also include \"numbers with decimals\". There are some limitations when it comes to machines representing real numbers, but floating point numbers are a good representation in most cases. You can learn more about the specifics of floats for your runtime environment, by checking the value of <code>sys.float_info</code>. This will also tell you what's the largest and smallest number that can be represented with them.</p>\n",
    "\n",
    "<p>Once again, can test some examples with the <code>type()</code> function:\n"
   ]
  },
  {
   "cell_type": "code",
   "execution_count": 13,
   "id": "46fd093e",
   "metadata": {},
   "outputs": [
    {
     "data": {
      "text/plain": [
       "float"
      ]
     },
     "execution_count": 13,
     "metadata": {},
     "output_type": "execute_result"
    }
   ],
   "source": [
    "# Print the type of 1.0\n",
    "\n",
    "type(1.0) # Notice that 1 is an int, and 1.0 is a float"
   ]
  },
  {
   "cell_type": "code",
   "execution_count": 14,
   "id": "16c83204",
   "metadata": {},
   "outputs": [
    {
     "data": {
      "text/plain": [
       "float"
      ]
     },
     "execution_count": 14,
     "metadata": {},
     "output_type": "execute_result"
    }
   ],
   "source": [
    "# Print the type of 0.5\n",
    "\n",
    "type(0.5)"
   ]
  },
  {
   "cell_type": "code",
   "execution_count": 15,
   "id": "5d38cda6",
   "metadata": {},
   "outputs": [
    {
     "data": {
      "text/plain": [
       "float"
      ]
     },
     "execution_count": 15,
     "metadata": {},
     "output_type": "execute_result"
    }
   ],
   "source": [
    "# Print the type of 0.56\n",
    "\n",
    "type(0.56)"
   ]
  },
  {
   "cell_type": "markdown",
   "id": "a15f17d2",
   "metadata": {},
   "source": [
    "<h3 id=\"convert\">Converting from one object type to a different object type</h3>\n"
   ]
  },
  {
   "cell_type": "markdown",
   "id": "56309707",
   "metadata": {},
   "source": [
    "<p>You can change the type of the object in Python; this is called typecasting. For example, you can convert an <i>integer</i> into a <i>float</i> (e.g. 2 to 2.0).</p>\n",
    "<p>Let's try it:</p>\n"
   ]
  },
  {
   "cell_type": "code",
   "execution_count": 16,
   "id": "331f2e7f",
   "metadata": {},
   "outputs": [
    {
     "data": {
      "text/plain": [
       "int"
      ]
     },
     "execution_count": 16,
     "metadata": {},
     "output_type": "execute_result"
    }
   ],
   "source": [
    "# Verify that this is an integer\n",
    "\n",
    "type(2)"
   ]
  },
  {
   "cell_type": "markdown",
   "id": "2b95b376",
   "metadata": {},
   "source": [
    "<h4>Converting integers to floats</h4>\n",
    "<p>Let's cast integer 2 to float:</p>\n"
   ]
  },
  {
   "cell_type": "code",
   "execution_count": 17,
   "id": "aaea4b2a",
   "metadata": {},
   "outputs": [
    {
     "data": {
      "text/plain": [
       "2.0"
      ]
     },
     "execution_count": 17,
     "metadata": {},
     "output_type": "execute_result"
    }
   ],
   "source": [
    "# Convert 2 to a float\n",
    "\n",
    "float(2)"
   ]
  },
  {
   "cell_type": "code",
   "execution_count": 18,
   "id": "4ffea914",
   "metadata": {},
   "outputs": [
    {
     "data": {
      "text/plain": [
       "float"
      ]
     },
     "execution_count": 18,
     "metadata": {},
     "output_type": "execute_result"
    }
   ],
   "source": [
    "# Convert integer 2 to a float and check its type\n",
    "\n",
    "type(float(2))"
   ]
  },
  {
   "cell_type": "markdown",
   "id": "0d1916d8",
   "metadata": {},
   "source": [
    "<p>When we convert an integer into a float, we don't really change the value (i.e., the significand) of the number. However, if we cast a float into an integer, we could potentially lose some information. For example, if we cast the float 1.1 to integer we will get 1 and lose the decimal information (i.e., 0.1):</p>\n"
   ]
  },
  {
   "cell_type": "code",
   "execution_count": 19,
   "id": "01f57149",
   "metadata": {},
   "outputs": [
    {
     "data": {
      "text/plain": [
       "1"
      ]
     },
     "execution_count": 19,
     "metadata": {},
     "output_type": "execute_result"
    }
   ],
   "source": [
    "# Casting 1.1 to integer will result in loss of information\n",
    "\n",
    "int(1.1)"
   ]
  },
  {
   "cell_type": "markdown",
   "id": "7b6e598d",
   "metadata": {},
   "source": [
    "<h4>Converting from strings to integers or floats</h4>\n"
   ]
  },
  {
   "cell_type": "markdown",
   "id": "1d8a257c",
   "metadata": {},
   "source": [
    "<p>Sometimes, we can have a string that contains a number within it. If this is the case, we can cast that string that represents a number into an integer using <code>int()</code>:</p>\n"
   ]
  },
  {
   "cell_type": "code",
   "execution_count": 20,
   "id": "79134517",
   "metadata": {},
   "outputs": [
    {
     "data": {
      "text/plain": [
       "1"
      ]
     },
     "execution_count": 20,
     "metadata": {},
     "output_type": "execute_result"
    }
   ],
   "source": [
    "# Convert a string into an integer\n",
    "\n",
    "int('1')"
   ]
  },
  {
   "cell_type": "markdown",
   "id": "c539359e",
   "metadata": {},
   "source": [
    "<p>But if you try to do so with a string that is not a perfect match for a number, you'll get an error. Try the following:</p>\n"
   ]
  },
  {
   "cell_type": "code",
   "execution_count": 21,
   "id": "f4b61cd3",
   "metadata": {},
   "outputs": [
    {
     "ename": "ValueError",
     "evalue": "invalid literal for int() with base 10: '1 or 2 people'",
     "output_type": "error",
     "traceback": [
      "\u001b[1;31m---------------------------------------------------------------------------\u001b[0m",
      "\u001b[1;31mValueError\u001b[0m                                Traceback (most recent call last)",
      "Cell \u001b[1;32mIn[21], line 3\u001b[0m\n\u001b[0;32m      1\u001b[0m \u001b[38;5;66;03m# Convert a string into an integer with error\u001b[39;00m\n\u001b[1;32m----> 3\u001b[0m \u001b[38;5;28;43mint\u001b[39;49m\u001b[43m(\u001b[49m\u001b[38;5;124;43m'\u001b[39;49m\u001b[38;5;124;43m1 or 2 people\u001b[39;49m\u001b[38;5;124;43m'\u001b[39;49m\u001b[43m)\u001b[49m\n",
      "\u001b[1;31mValueError\u001b[0m: invalid literal for int() with base 10: '1 or 2 people'"
     ]
    }
   ],
   "source": [
    "# Convert a string into an integer with error\n",
    "\n",
    "int('1 or 2 people')"
   ]
  },
  {
   "cell_type": "markdown",
   "id": "ad62fdcd",
   "metadata": {},
   "source": [
    "<p>You can also convert strings containing floating point numbers into <i>float</i> objects:</p>\n"
   ]
  },
  {
   "cell_type": "code",
   "execution_count": null,
   "id": "ddab2e51",
   "metadata": {},
   "outputs": [],
   "source": [
    "# Convert the string \"1.2\" into a float\n",
    "\n",
    "float('1.2')"
   ]
  },
  {
   "cell_type": "markdown",
   "id": "db2a5820",
   "metadata": {},
   "source": [
    "<hr/>\n",
    "<div class=\"alert alert-success alertsuccess\" style=\"margin-top: 20px\">\n",
    "    [Tip:] Note that strings can be represented with single quotes (<code>'1.2'</code>) or double quotes (<code>\"1.2\"</code>), but you can't mix both (e.g., <code>\"1.2'</code>).\n",
    "</div>\n",
    "<hr/>\n"
   ]
  },
  {
   "cell_type": "markdown",
   "id": "f55b2172",
   "metadata": {},
   "source": [
    "<h4>Converting numbers to strings</h4>\n"
   ]
  },
  {
   "cell_type": "markdown",
   "id": "1fe4ceb7",
   "metadata": {},
   "source": [
    "<p>If we can convert strings to numbers, it is only natural to assume that we can convert numbers to strings, right?</p>\n"
   ]
  },
  {
   "cell_type": "code",
   "execution_count": null,
   "id": "1a5e1121",
   "metadata": {},
   "outputs": [],
   "source": [
    "# Convert an integer to a string\n",
    "\n",
    "str(1)\n"
   ]
  },
  {
   "cell_type": "markdown",
   "id": "b65ee5b9",
   "metadata": {},
   "source": [
    "<p>And there is no reason why we shouldn't be able to make floats into strings as well:</p> \n"
   ]
  },
  {
   "cell_type": "code",
   "execution_count": null,
   "id": "7ca6adf3",
   "metadata": {},
   "outputs": [],
   "source": [
    "# Convert a float to a string\n",
    "\n",
    "str(1.2)"
   ]
  },
  {
   "cell_type": "markdown",
   "id": "3dce13c7",
   "metadata": {},
   "source": [
    "<h3 id=\"bool\">Boolean data type</h3>\n"
   ]
  },
  {
   "cell_type": "markdown",
   "id": "7af1d849",
   "metadata": {},
   "source": [
    "<p><i>Boolean</i> is another important type in Python. An object of type <i>Boolean</i> can take on one of two values: <code>True</code> or <code>False</code>:</p>\n"
   ]
  },
  {
   "cell_type": "code",
   "execution_count": null,
   "id": "c2fb3de7",
   "metadata": {},
   "outputs": [],
   "source": [
    "# Value true\n",
    "\n",
    "True"
   ]
  },
  {
   "cell_type": "markdown",
   "id": "1b15a9c5",
   "metadata": {},
   "source": [
    "<p>Notice that the value <code>True</code> has an uppercase \"T\". The same is true for <code>False</code> (i.e. you must use the uppercase \"F\").</p>\n"
   ]
  },
  {
   "cell_type": "code",
   "execution_count": null,
   "id": "1ead2064",
   "metadata": {},
   "outputs": [],
   "source": [
    "# Value false\n",
    "\n",
    "False"
   ]
  },
  {
   "cell_type": "markdown",
   "id": "f8cb843d",
   "metadata": {},
   "source": [
    "<p>When you ask Python to display the type of a boolean object it will show <code>bool</code> which stands for <i>boolean</i>:</p> \n"
   ]
  },
  {
   "cell_type": "code",
   "execution_count": null,
   "id": "dc3381ce",
   "metadata": {},
   "outputs": [],
   "source": [
    "# Type of True\n",
    "\n",
    "type(True)"
   ]
  },
  {
   "cell_type": "code",
   "execution_count": null,
   "id": "7510a8b5",
   "metadata": {},
   "outputs": [],
   "source": [
    "# Type of False\n",
    "\n",
    "type(False)"
   ]
  },
  {
   "cell_type": "markdown",
   "id": "b0931b5d",
   "metadata": {},
   "source": [
    "<p>We can cast boolean objects to other data types. If we cast a boolean with a value of <code>True</code> to an integer or float we will get a one. If we cast a boolean with a value of <code>False</code> to an integer or float we will get a zero. Similarly, if we cast a 1 to a Boolean, you get a <code>True</code>. And if we cast a 0 to a Boolean we will get a <code>False</code>. Let's give it a try:</p> \n"
   ]
  },
  {
   "cell_type": "code",
   "execution_count": null,
   "id": "3de16494",
   "metadata": {},
   "outputs": [],
   "source": [
    "# Convert True to int\n",
    "\n",
    "int(True)"
   ]
  },
  {
   "cell_type": "code",
   "execution_count": null,
   "id": "9e847131",
   "metadata": {},
   "outputs": [],
   "source": [
    "# Convert 1 to boolean\n",
    "\n",
    "bool(1)"
   ]
  },
  {
   "cell_type": "code",
   "execution_count": null,
   "id": "018fd0ef",
   "metadata": {},
   "outputs": [],
   "source": [
    "# Convert 0 to boolean\n",
    "\n",
    "bool(0)"
   ]
  },
  {
   "cell_type": "code",
   "execution_count": null,
   "id": "e5b32df0",
   "metadata": {},
   "outputs": [],
   "source": [
    "# Convert True to float\n",
    "\n",
    "float(True)"
   ]
  },
  {
   "cell_type": "markdown",
   "id": "09919917",
   "metadata": {},
   "source": [
    "<h3 id=\"exer_type\">Exercise: Types</h3>\n"
   ]
  },
  {
   "cell_type": "markdown",
   "id": "3d3b6dae",
   "metadata": {},
   "source": [
    "<p>What is the data type of the result of: <code>6 / 2</code>?</p>\n"
   ]
  },
  {
   "cell_type": "code",
   "execution_count": null,
   "id": "f3c8b5d4",
   "metadata": {},
   "outputs": [],
   "source": [
    "# Write your code below. Don't forget to press Shift+Enter to execute the cell\n",
    "type(6/2)"
   ]
  },
  {
   "cell_type": "markdown",
   "id": "9225dab6",
   "metadata": {},
   "source": [
    "<details><summary>Click here for the solution</summary>\n",
    "\n",
    "```python\n",
    "type(6/2) # float\n",
    "\n",
    "```\n",
    "\n",
    "</details>\n"
   ]
  },
  {
   "cell_type": "markdown",
   "id": "379954fe",
   "metadata": {},
   "source": [
    "<p>What is the type of the result of: <code>6 // 2</code>? (Note the double slash <code>//</code>.)</p>\n"
   ]
  },
  {
   "cell_type": "code",
   "execution_count": null,
   "id": "ffbbc32d",
   "metadata": {},
   "outputs": [],
   "source": [
    "# Write your code below. Don't forget to press Shift+Enter to execute the cell\n",
    "type(6//2)"
   ]
  },
  {
   "cell_type": "markdown",
   "id": "6b25d550",
   "metadata": {},
   "source": [
    "<details><summary>Click here for the solution</summary>\n",
    "\n",
    "```python\n",
    "type(6//2) # int, as the double slashes stand for integer division \n",
    "\n",
    "```\n",
    "\n",
    "</details>\n"
   ]
  },
  {
   "cell_type": "markdown",
   "id": "629ba084",
   "metadata": {},
   "source": [
    "<hr>\n"
   ]
  },
  {
   "cell_type": "markdown",
   "id": "7a90ef7c",
   "metadata": {},
   "source": [
    "<h2 id=\"expressions\">Expression and Variables</h2>\n"
   ]
  },
  {
   "cell_type": "markdown",
   "id": "a6eceb0e",
   "metadata": {},
   "source": [
    "<h3 id=\"exp\">Expressions</h3>\n"
   ]
  },
  {
   "cell_type": "markdown",
   "id": "47d03d1d",
   "metadata": {},
   "source": [
    "<p>Expressions in Python can include operations among compatible types (e.g., integers and floats). For example, basic arithmetic operations like adding multiple numbers:</p>\n"
   ]
  },
  {
   "cell_type": "code",
   "execution_count": null,
   "id": "ba0152e7",
   "metadata": {},
   "outputs": [],
   "source": [
    "# Addition operation expression\n",
    "\n",
    "43 + 60 + 16 + 41"
   ]
  },
  {
   "cell_type": "markdown",
   "id": "9448b44a",
   "metadata": {},
   "source": [
    "<p>We can perform subtraction operations using the minus operator. In this case the result is a negative number:</p>\n"
   ]
  },
  {
   "cell_type": "code",
   "execution_count": null,
   "id": "bb2375de",
   "metadata": {},
   "outputs": [],
   "source": [
    "# Subtraction operation expression\n",
    "\n",
    "50 - 60"
   ]
  },
  {
   "cell_type": "markdown",
   "id": "9545ac9d",
   "metadata": {},
   "source": [
    "<p>We can do multiplication using an asterisk:</p>\n"
   ]
  },
  {
   "cell_type": "code",
   "execution_count": null,
   "id": "db08f74c",
   "metadata": {},
   "outputs": [],
   "source": [
    "# Multiplication operation expression\n",
    "\n",
    "5 * 5"
   ]
  },
  {
   "cell_type": "markdown",
   "id": "af00287a",
   "metadata": {},
   "source": [
    "<p>We can also perform division with the forward slash:\n"
   ]
  },
  {
   "cell_type": "code",
   "execution_count": null,
   "id": "4cb96b73",
   "metadata": {},
   "outputs": [],
   "source": [
    "# Division operation expression\n",
    "\n",
    "25 / 5"
   ]
  },
  {
   "cell_type": "code",
   "execution_count": null,
   "id": "23187b9b",
   "metadata": {},
   "outputs": [],
   "source": [
    "# Division operation expression\n",
    "\n",
    "25 / 6"
   ]
  },
  {
   "cell_type": "markdown",
   "id": "eb4ff6b5",
   "metadata": {},
   "source": [
    "<p>As seen in the quiz above, we can use the double slash for integer division, where the result is rounded down to the nearest integer:\n"
   ]
  },
  {
   "cell_type": "code",
   "execution_count": null,
   "id": "40a8cfd7",
   "metadata": {},
   "outputs": [],
   "source": [
    "# Integer division operation expression\n",
    "\n",
    "25 // 5"
   ]
  },
  {
   "cell_type": "code",
   "execution_count": null,
   "id": "37414ec8",
   "metadata": {},
   "outputs": [],
   "source": [
    "# Integer division operation expression\n",
    "\n",
    "25 // 6"
   ]
  },
  {
   "cell_type": "markdown",
   "id": "d09d2061",
   "metadata": {},
   "source": [
    "<h3 id=\"exer_exp\">Exercise: Expression</h3>\n"
   ]
  },
  {
   "cell_type": "markdown",
   "id": "ccbed68e",
   "metadata": {},
   "source": [
    "<p>Let's write an expression that calculates how many hours there are in 160 minutes:\n"
   ]
  },
  {
   "cell_type": "code",
   "execution_count": null,
   "id": "8b5efbfb",
   "metadata": {},
   "outputs": [],
   "source": [
    "# Write your code below. Don't forget to press Shift+Enter to execute the cell\n",
    "160/60"
   ]
  },
  {
   "cell_type": "markdown",
   "id": "2818912b",
   "metadata": {},
   "source": [
    "<details><summary>Click here for the solution</summary>\n",
    "\n",
    "```python\n",
    "160/60 \n",
    "\n",
    "# Or \n",
    "\n",
    "160//60\n",
    "\n",
    "```\n",
    "\n",
    "</details>\n"
   ]
  },
  {
   "cell_type": "markdown",
   "id": "af76effb",
   "metadata": {},
   "source": [
    "<p>Python follows well accepted mathematical conventions when evaluating mathematical expressions. In the following example, Python adds 30 to the result of the multiplication (i.e., 120).\n"
   ]
  },
  {
   "cell_type": "code",
   "execution_count": null,
   "id": "660344ee",
   "metadata": {},
   "outputs": [],
   "source": [
    "# Mathematical expression\n",
    "\n",
    "30 + 2 * 60"
   ]
  },
  {
   "cell_type": "markdown",
   "id": "13638610",
   "metadata": {},
   "source": [
    "<p>And just like mathematics, expressions enclosed in parentheses have priority. So the following multiplies 32 by 60.\n"
   ]
  },
  {
   "cell_type": "code",
   "execution_count": null,
   "id": "2629da9c",
   "metadata": {},
   "outputs": [],
   "source": [
    "# Mathematical expression\n",
    "\n",
    "(30 + 2) * 60"
   ]
  },
  {
   "cell_type": "markdown",
   "id": "afcd4c6d",
   "metadata": {},
   "source": [
    "<h3 id=\"var\">Variables</h3>\n"
   ]
  },
  {
   "cell_type": "markdown",
   "id": "91e61d4b",
   "metadata": {},
   "source": [
    "<p>Just like with most programming languages, we can store values in <i>variables</i>, so we can use them later on. For example:</p>\n"
   ]
  },
  {
   "cell_type": "code",
   "execution_count": null,
   "id": "7ced6678",
   "metadata": {},
   "outputs": [],
   "source": [
    "# Store value into variable\n",
    "\n",
    "x = 43 + 60 + 16 + 41"
   ]
  },
  {
   "cell_type": "markdown",
   "id": "3e2c4b7b",
   "metadata": {},
   "source": [
    "<p>To see the value of <code>x</code> in a Notebook, we can simply place it on the last line of a cell:</p>\n"
   ]
  },
  {
   "cell_type": "code",
   "execution_count": null,
   "id": "aca5acfa",
   "metadata": {},
   "outputs": [],
   "source": [
    "# Print out the value in variable\n",
    "\n",
    "x"
   ]
  },
  {
   "cell_type": "markdown",
   "id": "a16d7429",
   "metadata": {},
   "source": [
    "<p>We can also perform operations on <code>x</code> and save the result to a new variable:</p>\n"
   ]
  },
  {
   "cell_type": "code",
   "execution_count": null,
   "id": "de0eefcf",
   "metadata": {},
   "outputs": [],
   "source": [
    "# Use another variable to store the result of the operation between variable and value\n",
    "\n",
    "y = x / 60\n",
    "y"
   ]
  },
  {
   "cell_type": "markdown",
   "id": "44c709d9",
   "metadata": {},
   "source": [
    "<p>If we save a value to an existing variable, the new value will overwrite the previous value:</p>\n"
   ]
  },
  {
   "cell_type": "code",
   "execution_count": null,
   "id": "c9b21071",
   "metadata": {},
   "outputs": [],
   "source": [
    "# Overwrite variable with new value\n",
    "\n",
    "x = x / 60\n",
    "x"
   ]
  },
  {
   "cell_type": "markdown",
   "id": "29f2c292",
   "metadata": {},
   "source": [
    "<p>It's a good practice to use meaningful variable names, so you and others can read the code and understand it more easily:</p>\n"
   ]
  },
  {
   "cell_type": "code",
   "execution_count": null,
   "id": "341f5cdf",
   "metadata": {},
   "outputs": [],
   "source": [
    "# Name the variables meaningfully\n",
    "\n",
    "total_min = 43 + 42 + 57 # Total length of albums in minutes\n",
    "total_min"
   ]
  },
  {
   "cell_type": "code",
   "execution_count": null,
   "id": "0e1636dc",
   "metadata": {},
   "outputs": [],
   "source": [
    "# Name the variables meaningfully\n",
    "\n",
    "total_hours = total_min / 60 # Total length of albums in hours \n",
    "total_hours"
   ]
  },
  {
   "cell_type": "markdown",
   "id": "855d87fd",
   "metadata": {},
   "source": [
    "<p>In the cells above we added the length of three albums in minutes and stored it in <code>total_min</code>. We then divided it by 60 to calculate total length <code>total_hours</code> in hours. You can also do it all at once in a single expression, as long as you use parenthesis to add the albums length before you divide, as shown below.</p>\n"
   ]
  },
  {
   "cell_type": "code",
   "execution_count": null,
   "id": "2d54cb74",
   "metadata": {},
   "outputs": [],
   "source": [
    "# Complicate expression\n",
    "\n",
    "total_hours = (43 + 42 + 57) / 60  # Total hours in a single expression\n",
    "total_hours"
   ]
  },
  {
   "cell_type": "markdown",
   "id": "d683ed95",
   "metadata": {},
   "source": [
    "<p>If you'd rather have total hours as an integer, you can of course replace the floating point division with integer division (i.e., <code>//</code>).</p>\n"
   ]
  },
  {
   "cell_type": "markdown",
   "id": "0bba37e4",
   "metadata": {},
   "source": [
    "<h3 id=\"exer_exp_var\">Exercise: Expression and Variables in Python</h3>\n"
   ]
  },
  {
   "cell_type": "markdown",
   "id": "8e9f41d5",
   "metadata": {},
   "source": [
    "<p>What is the value of <code>x</code> where <code>x = 3 + 2 * 2</code></p>\n"
   ]
  },
  {
   "cell_type": "code",
   "execution_count": null,
   "id": "cf9e7b7b",
   "metadata": {},
   "outputs": [],
   "source": [
    "# Write your code below. Don't forget to press Shift+Enter to execute the cell\n",
    "x = 3 + 2 * 2\n",
    "x"
   ]
  },
  {
   "cell_type": "markdown",
   "id": "4505e871",
   "metadata": {},
   "source": [
    "<details><summary>Click here for the solution</summary>\n",
    "\n",
    "```python\n",
    "7\n",
    "\n",
    "```\n",
    "\n",
    "</details>\n"
   ]
  },
  {
   "cell_type": "markdown",
   "id": "63a21f91",
   "metadata": {},
   "source": [
    "<p>What is the value of <code>y</code> where <code>y = (3 + 2) * 2</code>?</p>\n"
   ]
  },
  {
   "cell_type": "code",
   "execution_count": null,
   "id": "ae7501c4",
   "metadata": {},
   "outputs": [],
   "source": [
    "# Write your code below. Don't forget to press Shift+Enter to execute the cell\n",
    "y = (2 + 3) *2\n",
    "y"
   ]
  },
  {
   "cell_type": "markdown",
   "id": "984a2c1c",
   "metadata": {},
   "source": [
    "<details><summary>Click here for the solution</summary>\n",
    "\n",
    "```python\n",
    "10\n",
    "\n",
    "```\n",
    "\n",
    "</details>\n"
   ]
  },
  {
   "cell_type": "markdown",
   "id": "7166bf04",
   "metadata": {},
   "source": [
    "<p>What is the value of <code>z</code> where <code>z = x + y</code>?</p>\n"
   ]
  },
  {
   "cell_type": "code",
   "execution_count": null,
   "id": "969913e3",
   "metadata": {},
   "outputs": [],
   "source": [
    "# Write your code below. Don't forget to press Shift+Enter to execute the cell\n",
    "z = x + y\n",
    "z"
   ]
  },
  {
   "cell_type": "markdown",
   "id": "20645f0b",
   "metadata": {},
   "source": [
    "<details><summary>Click here for the solution</summary>\n",
    "\n",
    "```python\n",
    "17\n",
    "\n",
    "```\n",
    "\n",
    "</details>\n"
   ]
  },
  {
   "cell_type": "markdown",
   "id": "a022db71",
   "metadata": {},
   "source": [
    "<hr><br>"
   ]
  },
  {
   "cell_type": "markdown",
   "id": "2e51e9e5",
   "metadata": {},
   "source": [
    "<h2 id=\"strings\">What are Strings?</h2>\n"
   ]
  },
  {
   "cell_type": "markdown",
   "id": "ae84d011",
   "metadata": {},
   "source": [
    "The following example shows a string contained within 2 quotation marks:\n"
   ]
  },
  {
   "cell_type": "code",
   "execution_count": null,
   "id": "d7f6475e",
   "metadata": {},
   "outputs": [],
   "source": [
    "# Use quotation marks for defining string\n",
    "\n",
    "\"this is just a string\""
   ]
  },
  {
   "cell_type": "markdown",
   "id": "198fb61d",
   "metadata": {},
   "source": [
    "We can also use single quotation marks:\n"
   ]
  },
  {
   "cell_type": "code",
   "execution_count": null,
   "id": "17f9ad7b",
   "metadata": {},
   "outputs": [],
   "source": [
    "# Use single quotation marks for defining string\n",
    "\n",
    "'this is just a string'"
   ]
  },
  {
   "cell_type": "markdown",
   "id": "fcaf8bb2",
   "metadata": {},
   "source": [
    "A string can be a combination of spaces and digits:\n"
   ]
  },
  {
   "cell_type": "code",
   "execution_count": null,
   "id": "cc5ef02d",
   "metadata": {},
   "outputs": [],
   "source": [
    "# Digitals and spaces in string\n",
    "\n",
    "'1 2 3 4 5 6 '"
   ]
  },
  {
   "cell_type": "markdown",
   "id": "d1ce14af",
   "metadata": {},
   "source": [
    "A string can also be a combination of special characters :\n"
   ]
  },
  {
   "cell_type": "code",
   "execution_count": null,
   "id": "4bd20c1b",
   "metadata": {},
   "outputs": [],
   "source": [
    "# Special characters in string\n",
    "\n",
    "'@#2_#]&*^%$'"
   ]
  },
  {
   "cell_type": "markdown",
   "id": "dbc72144",
   "metadata": {},
   "source": [
    "We can print our string using the print statement:\n"
   ]
  },
  {
   "cell_type": "code",
   "execution_count": null,
   "id": "989d3dea",
   "metadata": {},
   "outputs": [],
   "source": [
    "# Print the string\n",
    "\n",
    "print(\"hello!\")"
   ]
  },
  {
   "cell_type": "markdown",
   "id": "7a6fe3c1",
   "metadata": {},
   "source": [
    "We can bind or assign a string to another variable:\n"
   ]
  },
  {
   "cell_type": "code",
   "execution_count": null,
   "id": "6c4be6da",
   "metadata": {},
   "outputs": [],
   "source": [
    "# Assign string to variable\n",
    "\n",
    "name = \"Abdallah Muhammad\"\n",
    "name"
   ]
  },
  {
   "cell_type": "markdown",
   "id": "5d1f611f",
   "metadata": {},
   "source": [
    "<hr>\n"
   ]
  },
  {
   "cell_type": "markdown",
   "id": "d80aae52",
   "metadata": {},
   "source": [
    "<h2 id=\"index\">Indexing</h2>\n"
   ]
  },
  {
   "cell_type": "markdown",
   "id": "5069d4cc",
   "metadata": {},
   "source": [
    "It is helpful to think of a string as an ordered sequence. Each element in the sequence can be accessed using an index represented by the array of numbers:\n"
   ]
  },
  {
   "cell_type": "markdown",
   "id": "8127d316",
   "metadata": {},
   "source": [
    "<img src=\"https://cf-courses-data.s3.us.cloud-object-storage.appdomain.cloud/IBMDeveloperSkillsNetwork-PY0101EN-SkillsNetwork/labs/Module%201/images/StringsIndex.png\" width=\"600\" align=\"center\">\n"
   ]
  },
  {
   "cell_type": "markdown",
   "id": "28fd3f18",
   "metadata": {},
   "source": [
    "The first index can be accessed as follows:\n"
   ]
  },
  {
   "cell_type": "markdown",
   "id": "fb70cf66",
   "metadata": {},
   "source": [
    "<hr/>\n",
    "<div class=\"alert alert-success alertsuccess\" style=\"margin-top: 20px\">\n",
    "[Tip]: Because indexing starts at 0, it means the first index is on the index 0.\n",
    "</div>\n",
    "<hr/>\n"
   ]
  },
  {
   "cell_type": "code",
   "execution_count": null,
   "id": "bb1daf02",
   "metadata": {},
   "outputs": [],
   "source": [
    "# Print the first element in the string\n",
    "\n",
    "print(name[0])"
   ]
  },
  {
   "cell_type": "markdown",
   "id": "b7287949",
   "metadata": {},
   "source": [
    "We can access index 6:\n"
   ]
  },
  {
   "cell_type": "code",
   "execution_count": null,
   "id": "7ad3548d",
   "metadata": {},
   "outputs": [],
   "source": [
    "# Print the element on index 6 in the string\n",
    "\n",
    "print(name[6])"
   ]
  },
  {
   "cell_type": "markdown",
   "id": "87b3a3cc",
   "metadata": {},
   "source": [
    "Moreover, we can access the 13th index:\n"
   ]
  },
  {
   "cell_type": "code",
   "execution_count": null,
   "id": "d1eb4328",
   "metadata": {},
   "outputs": [],
   "source": [
    "# Print the element on the 13th index in the string\n",
    "\n",
    "print(name[13])"
   ]
  },
  {
   "cell_type": "markdown",
   "id": "445ad7c7",
   "metadata": {},
   "source": [
    "<h3 id=\"neg\">Negative Indexing</h3>\n"
   ]
  },
  {
   "cell_type": "markdown",
   "id": "971c1f8f",
   "metadata": {},
   "source": [
    "We can also use negative indexing with strings:\n"
   ]
  },
  {
   "cell_type": "markdown",
   "id": "b006ad3f",
   "metadata": {},
   "source": [
    "<img src=\"https://cf-courses-data.s3.us.cloud-object-storage.appdomain.cloud/IBMDeveloperSkillsNetwork-PY0101EN-SkillsNetwork/labs/Module%201/images/StringsNeg.png\" width=\"600\" align=\"center\">\n"
   ]
  },
  {
   "cell_type": "markdown",
   "id": "a3c99b90",
   "metadata": {},
   "source": [
    "Negative index can help us to count the element from the end of the string.\n"
   ]
  },
  {
   "cell_type": "markdown",
   "id": "4088572b",
   "metadata": {},
   "source": [
    "The last element is given by the index -1:\n"
   ]
  },
  {
   "cell_type": "code",
   "execution_count": null,
   "id": "82bb02dc",
   "metadata": {},
   "outputs": [],
   "source": [
    "# Print the last element in the string\n",
    "\n",
    "print(name[-1])"
   ]
  },
  {
   "cell_type": "markdown",
   "id": "48611a91",
   "metadata": {},
   "source": [
    "The first element can be obtained by  index -15:\n"
   ]
  },
  {
   "cell_type": "code",
   "execution_count": null,
   "id": "f465f0d2",
   "metadata": {},
   "outputs": [],
   "source": [
    "# Print the first element in the string\n",
    "\n",
    "print(name[-15])"
   ]
  },
  {
   "cell_type": "markdown",
   "id": "41e4b30f",
   "metadata": {},
   "source": [
    "We can find the number of characters in a string by using <code>len</code>, short for length:\n"
   ]
  },
  {
   "cell_type": "code",
   "execution_count": null,
   "id": "2b8b456e",
   "metadata": {},
   "outputs": [],
   "source": [
    "# Find the length of string\n",
    "\n",
    "len(\"Michael Jackson\")"
   ]
  },
  {
   "cell_type": "markdown",
   "id": "40aae249",
   "metadata": {},
   "source": [
    "<h3 id=\"slice\">Slicing</h3>\n"
   ]
  },
  {
   "cell_type": "markdown",
   "id": "a921574a",
   "metadata": {},
   "source": [
    "We can obtain multiple characters from a string using slicing, we can obtain the 0 to 4th and 8th to the 12th element:\n"
   ]
  },
  {
   "cell_type": "markdown",
   "id": "d9c3b96f",
   "metadata": {},
   "source": [
    "<img src=\"https://cf-courses-data.s3.us.cloud-object-storage.appdomain.cloud/IBMDeveloperSkillsNetwork-PY0101EN-SkillsNetwork/labs/Module%201/images/StringsSlice.png\" width=\"600\" align=\"center\">\n"
   ]
  },
  {
   "cell_type": "markdown",
   "id": "e8122c6b",
   "metadata": {},
   "source": [
    "<hr/>\n",
    "<div class=\"alert alert-success alertsuccess\" style=\"margin-top: 20px\">\n",
    "[Tip]: When taking the slice, the first number means the index (start at 0), and the second number means the length from the index to the last element you want (start at 1)\n",
    "</div>\n",
    "<hr/>\n"
   ]
  },
  {
   "cell_type": "code",
   "execution_count": null,
   "id": "8e00e5cc",
   "metadata": {},
   "outputs": [],
   "source": [
    "# Take the slice on variable name with only index 0 to index 3\n",
    "\n",
    "name[0:4]"
   ]
  },
  {
   "cell_type": "code",
   "execution_count": null,
   "id": "6ecc90f1",
   "metadata": {},
   "outputs": [],
   "source": [
    "# Take the slice on variable name with only index 8 to index 11\n",
    "\n",
    "name[8:12]"
   ]
  },
  {
   "cell_type": "markdown",
   "id": "9e19c7bd",
   "metadata": {},
   "source": [
    "<h3 id=\"stride\">Stride</h3>\n"
   ]
  },
  {
   "cell_type": "markdown",
   "id": "7be35d49",
   "metadata": {},
   "source": [
    "We can also  input a stride value as follows, with the '2' indicating that we are selecting every second variable:\n"
   ]
  },
  {
   "cell_type": "markdown",
   "id": "33c23209",
   "metadata": {},
   "source": [
    "<img src=\"https://cf-courses-data.s3.us.cloud-object-storage.appdomain.cloud/IBMDeveloperSkillsNetwork-PY0101EN-SkillsNetwork/labs/Module%201/images/StringsStride.png\" width=\"600\" align=\"center\">\n"
   ]
  },
  {
   "cell_type": "code",
   "execution_count": null,
   "id": "4c1262c7",
   "metadata": {},
   "outputs": [],
   "source": [
    "# Get every second element. The elments on index 1, 3, 5 ...\n",
    "\n",
    "name[::2]"
   ]
  },
  {
   "cell_type": "markdown",
   "id": "c0fc7e73",
   "metadata": {},
   "source": [
    "We can also incorporate slicing  with the stride. In this case, we select the first five elements and then use the stride:\n"
   ]
  },
  {
   "cell_type": "code",
   "execution_count": null,
   "id": "601ad299",
   "metadata": {},
   "outputs": [],
   "source": [
    "# Get every second element in the range from index 0 to index 4\n",
    "\n",
    "name[0:5:2]"
   ]
  },
  {
   "cell_type": "markdown",
   "id": "5cdd0f41",
   "metadata": {},
   "source": [
    "<h3 id=\"concat\">Concatenate Strings</h3>\n"
   ]
  },
  {
   "cell_type": "markdown",
   "id": "115abb5e",
   "metadata": {},
   "source": [
    "We can concatenate or combine strings by using the addition symbols, and the result is a new string that is a combination of both:\n"
   ]
  },
  {
   "cell_type": "code",
   "execution_count": null,
   "id": "85171fe6",
   "metadata": {},
   "outputs": [],
   "source": [
    "# Concatenate two strings\n",
    "\n",
    "statement = name + \"is the best\"\n",
    "statement"
   ]
  },
  {
   "cell_type": "markdown",
   "id": "3cec07fd",
   "metadata": {},
   "source": [
    "To replicate values of a string we simply multiply the string by the number of times we would like to replicate it. In this case, the number is three. The result is a new string, and this new string consists of three copies of the original string:\n"
   ]
  },
  {
   "cell_type": "code",
   "execution_count": null,
   "id": "4a23d692",
   "metadata": {},
   "outputs": [],
   "source": [
    "# Print the string for 3 times\n",
    "\n",
    "3 * \"Michael Jackson\""
   ]
  },
  {
   "cell_type": "markdown",
   "id": "99a203cb",
   "metadata": {},
   "source": [
    "You can create a new string by setting it to the original variable. Concatenated  with a new string, the result is a new string that changes from Michael Jackson to “Michael Jackson is the best\".\n"
   ]
  },
  {
   "cell_type": "code",
   "execution_count": null,
   "id": "42e4c130",
   "metadata": {},
   "outputs": [],
   "source": [
    "# Concatenate strings\n",
    "\n",
    "name = \"Michael Jackson\"\n",
    "name = name + \" is the best\"\n",
    "name"
   ]
  },
  {
   "cell_type": "markdown",
   "id": "a58b3c72",
   "metadata": {},
   "source": [
    "<hr>\n"
   ]
  },
  {
   "cell_type": "markdown",
   "id": "8b1d9ea5",
   "metadata": {},
   "source": [
    "<h2 id=\"escape\">Escape Sequences</h2>\n"
   ]
  },
  {
   "cell_type": "markdown",
   "id": "43f7a88e",
   "metadata": {},
   "source": [
    "Back slashes represent the beginning  of escape sequences. Escape sequences represent strings that may be difficult to input. For example, back slash \"n\" represents a new line. The output is given by a new line after the back slash \"n\" is encountered:\n"
   ]
  },
  {
   "cell_type": "code",
   "execution_count": null,
   "id": "a031fc4a",
   "metadata": {},
   "outputs": [],
   "source": [
    "# New line escape sequence\n",
    "\n",
    "print(\" Michael Jackson \\n is the best\" )"
   ]
  },
  {
   "cell_type": "markdown",
   "id": "621bde25",
   "metadata": {},
   "source": [
    "Similarly, back slash  \"t\" represents a tab:\n"
   ]
  },
  {
   "cell_type": "code",
   "execution_count": null,
   "id": "784908d1",
   "metadata": {},
   "outputs": [],
   "source": [
    "# Tab escape sequence\n",
    "\n",
    "print(\" Michael Jackson \\t is the best\" )"
   ]
  },
  {
   "cell_type": "markdown",
   "id": "0f04fdb2",
   "metadata": {},
   "source": [
    "If you want to place a back slash in your string, use a double back slash:\n"
   ]
  },
  {
   "cell_type": "code",
   "execution_count": null,
   "id": "78b1ff00",
   "metadata": {},
   "outputs": [],
   "source": [
    "# Include back slash in string\n",
    "\n",
    "print(\" Michael Jackson \\\\ is the best\" )"
   ]
  },
  {
   "cell_type": "markdown",
   "id": "f4123ea2",
   "metadata": {},
   "source": [
    "We can also place an \"r\" before the string to display the backslash:\n"
   ]
  },
  {
   "cell_type": "code",
   "execution_count": null,
   "id": "43e690ab",
   "metadata": {},
   "outputs": [],
   "source": [
    "# r will tell python that string will be display as raw string\n",
    "\n",
    "print(r\" Michael Jackson \\ is the best\" )"
   ]
  },
  {
   "cell_type": "markdown",
   "id": "70e47e38",
   "metadata": {},
   "source": [
    "<hr>\n"
   ]
  },
  {
   "cell_type": "markdown",
   "id": "12354c2f",
   "metadata": {},
   "source": [
    "<h2 id=\"operations\">String Operations</h2>\n"
   ]
  },
  {
   "cell_type": "markdown",
   "id": "89ddda2d",
   "metadata": {},
   "source": [
    "There are many string operation methods in Python that can be used to manipulate the data. We are going to use some basic string operations on the data.\n"
   ]
  },
  {
   "cell_type": "markdown",
   "id": "0038d039",
   "metadata": {},
   "source": [
    "Let's try with the method <code>upper</code>; this method converts lower case characters to upper case characters:\n"
   ]
  },
  {
   "cell_type": "code",
   "execution_count": null,
   "id": "2ee712b0",
   "metadata": {},
   "outputs": [],
   "source": [
    "# Convert all the characters in string to upper case\n",
    "\n",
    "a = \"Thriller is the sixth studio album\"\n",
    "print(\"before upper:\", a)\n",
    "b = a.upper()\n",
    "print(\"After upper:\", b)"
   ]
  },
  {
   "cell_type": "markdown",
   "id": "a607b85a",
   "metadata": {},
   "source": [
    "Let's try with the method <code>lower</code>; this method converts upper case characters to lower case characters:\n"
   ]
  },
  {
   "cell_type": "code",
   "execution_count": null,
   "id": "3c2d8dfd",
   "metadata": {},
   "outputs": [],
   "source": [
    "# Convert all the characters in string to lower case\n",
    "a = \"MICHAEL JACKSON IS THE BEST\"\n",
    "print(\"Before lower:\", a)\n",
    "b = a.lower()\n",
    "print(\"After lower:\", b)"
   ]
  },
  {
   "cell_type": "markdown",
   "id": "3b52a064",
   "metadata": {},
   "source": [
    "The method <code>replace</code> replaces a segment of the string, i.e. a substring  with a new string. We input the part of the string we would like to change. The second argument is what we would like to exchange the segment with, and the result is a new string with the segment changed:\n"
   ]
  },
  {
   "cell_type": "code",
   "execution_count": null,
   "id": "b8cae6cc",
   "metadata": {},
   "outputs": [],
   "source": [
    "a = \"Michael Jackson is the best\"\n",
    "b = a.replace('Michael', 'Janet')\n",
    "b"
   ]
  },
  {
   "cell_type": "code",
   "execution_count": null,
   "id": "fb26a207",
   "metadata": {},
   "outputs": [],
   "source": [
    "# Replace the old substring with the new target substring by removing some punctuations.\n",
    "\n",
    "a = \"Hello! Michael Jackson has: 12 characters.\"\n",
    "print(a)\n",
    "b = a.replace('!','').replace(':','').replace('.','')\n",
    "print(b)"
   ]
  },
  {
   "cell_type": "markdown",
   "id": "8e5bea37",
   "metadata": {},
   "source": [
    "The method <code>find</code> finds a sub-string. The argument is the substring you would like to find, and the output is the first index of the sequence. We can find the sub-string <code>jack</code> or <code>el<code>.\n"
   ]
  },
  {
   "cell_type": "markdown",
   "id": "56804731",
   "metadata": {},
   "source": [
    "<img src=\"https://cf-courses-data.s3.us.cloud-object-storage.appdomain.cloud/IBMDeveloperSkillsNetwork-PY0101EN-SkillsNetwork/labs/Module%201/images/StringsFind.png\" width=\"600\" align=\"center\">\n"
   ]
  },
  {
   "cell_type": "code",
   "execution_count": null,
   "id": "5eb0aa2c",
   "metadata": {},
   "outputs": [],
   "source": [
    "# Find the substring in the string. Only the index of the first elment of substring in string will be the output\n",
    "\n",
    "name = \"Michael Jackson\"\n",
    "name.find('el')"
   ]
  },
  {
   "cell_type": "code",
   "execution_count": null,
   "id": "69245621",
   "metadata": {},
   "outputs": [],
   "source": [
    "# Find the substring in the string.\n",
    "\n",
    "name.find('Jack')"
   ]
  },
  {
   "cell_type": "markdown",
   "id": "aa06768c",
   "metadata": {},
   "source": [
    "If the  sub-string is not in the string then the output is a negative one. For example, the string 'Jasdfasdasdf' is not a substring:\n"
   ]
  },
  {
   "cell_type": "code",
   "execution_count": null,
   "id": "467a14db",
   "metadata": {},
   "outputs": [],
   "source": [
    "# If cannot find the substring in the string\n",
    "\n",
    "name.find('Jasdfasdasdf')"
   ]
  },
  {
   "cell_type": "markdown",
   "id": "f6c25ff4",
   "metadata": {},
   "source": [
    "The method <code>Split</code> splits the string at the specified separator, and returns a list:\n"
   ]
  },
  {
   "cell_type": "code",
   "execution_count": null,
   "id": "874b07fc",
   "metadata": {},
   "outputs": [],
   "source": [
    "#Split the substring into list\n",
    "name = \"Michael Jackson\"\n",
    "split_string = (name.split())\n",
    "split_string"
   ]
  },
  {
   "cell_type": "markdown",
   "id": "be24b6c2",
   "metadata": {},
   "source": [
    "## RegEx\n"
   ]
  },
  {
   "cell_type": "markdown",
   "id": "7d1d2774",
   "metadata": {},
   "source": [
    "In Python, RegEx (short for Regular Expression) is a tool for matching and handling strings. \n"
   ]
  },
  {
   "cell_type": "markdown",
   "id": "32642e2c",
   "metadata": {},
   "source": [
    "This RegEx module provides several functions for working with regular expressions, including <code>search, split, findall,</code> and <code>sub</code>. \n"
   ]
  },
  {
   "cell_type": "markdown",
   "id": "a78221d2",
   "metadata": {},
   "source": [
    "Python provides a built-in module called <code>re</code>, which allows you to work with regular expressions. \n",
    "First, import the <code>re</code> module\n"
   ]
  },
  {
   "cell_type": "code",
   "execution_count": null,
   "id": "28504685",
   "metadata": {},
   "outputs": [],
   "source": [
    "import re"
   ]
  },
  {
   "cell_type": "markdown",
   "id": "b07c1437",
   "metadata": {},
   "source": [
    "The search() function searches for specified patterns within a string. Here is an example that explains how to use the search() function to search for the word \"Jackson\" in the string \"Michael Jackson is the best\".\n"
   ]
  },
  {
   "cell_type": "code",
   "execution_count": null,
   "id": "b3e9a7d8",
   "metadata": {},
   "outputs": [],
   "source": [
    "s1 = \"Michael Jackson is the best\"\n",
    "\n",
    "# Define the pattern to search for\n",
    "pattern = r\"Jackson\"\n",
    "\n",
    "# Use the search() function to search for the pattern in the string\n",
    "result = re.search(pattern, s1)\n",
    "\n",
    "# Check if a match was found\n",
    "if result:\n",
    "    print(\"Match found!\")\n",
    "else:\n",
    "    print(\"Match not found.\")\n"
   ]
  },
  {
   "cell_type": "markdown",
   "id": "0fda3afd",
   "metadata": {},
   "source": [
    "Regular expressions (RegEx) are patterns used to match and manipulate strings of text. There are several special sequences in RegEx that can be used to match specific characters or patterns.\n",
    "\n",
    "| Special Sequence | Meaning                 | \tExample             |\n",
    "| -----------  | ----------------------- | ----------------------|\n",
    "| \\d|Matches any digit character (0-9)|\"123\" matches \"\\d\\d\\d\"|\n",
    "|\\D|Matches any non-digit character|\"hello\" matches \"\\D\\D\\D\\D\\D\"|\n",
    "|\\w|Matches any word character (a-z, A-Z, 0-9, and _)|\"hello_world\" matches \"\\w\\w\\w\\w\\w\\w\\w\\w\\w\"|\n",
    "|\\W|Matches any non-word character|\t\"@#$%\" matches \"\\W\\W\\W\\W\"|\n",
    "|\\s|Matches any whitespace character (space, tab, newline, etc.)|\"hello world\" matches \"\\w\\s\\w\\w\\w\\w\\w\"|\n",
    "|\\S|Matches any non-whitespace character|\"hello_world\" matches \"\\S\\S\\S\\S\\S\\S\\S\\S\\S\"|\n",
    "|\\b|Matches the boundary between a word character and a non-word character|\"cat\" matches \"\\bcat\\b\" in \"The cat sat on the mat\"|\n",
    "|\\B|Matches any position that is not a word boundary|\"cat\" matches \"\\Bcat\\B\" in \"category\" but not in \"The cat sat on the mat\"|\n"
   ]
  },
  {
   "cell_type": "markdown",
   "id": "9cefca0d",
   "metadata": {},
   "source": [
    "Special Sequence Examples:\n",
    "\n",
    "A simple example of using the <code>\\d</code> special sequence in a regular expression pattern with Python code:\n"
   ]
  },
  {
   "cell_type": "code",
   "execution_count": null,
   "id": "52282276",
   "metadata": {},
   "outputs": [],
   "source": [
    "pattern = r\"\\d\\d\\d\\d\\d\\d\\d\\d\\d\\d\"  # Matches any ten consecutive digits\n",
    "text = \"My Phone number is 1234567890\"\n",
    "match = re.search(pattern, text)\n",
    "\n",
    "if match:\n",
    "    print(\"Phone number found:\", match.group())\n",
    "else:\n",
    "    print(\"No match\")"
   ]
  },
  {
   "cell_type": "markdown",
   "id": "9c6677d5",
   "metadata": {},
   "source": [
    "The regular expression pattern is defined as r\"\\d\\d\\d\\d\\d\\d\\d\\d\\d\\d\", which uses the \\d special sequence to match any digit character (0-9), and the \\d sequence is repeated ten times to match ten consecutive digits\n"
   ]
  },
  {
   "cell_type": "markdown",
   "id": "9f89d1e9",
   "metadata": {},
   "source": [
    "A simple example of using the <code>\\W</code> special sequence in a regular expression pattern with Python code:\n"
   ]
  },
  {
   "cell_type": "code",
   "execution_count": null,
   "id": "983f90fd",
   "metadata": {},
   "outputs": [],
   "source": [
    "pattern = r\"\\W\"  # Matches any non-word character\n",
    "text = \"Hello, world!\"\n",
    "matches = re.findall(pattern, text)\n",
    "\n",
    "print(\"Matches:\", matches)"
   ]
  },
  {
   "cell_type": "markdown",
   "id": "d3131440",
   "metadata": {},
   "source": [
    "The regular expression pattern is defined as r\"\\W\", which uses the \\W special sequence to match any character that is not a word character (a-z, A-Z, 0-9, or _). The string we're searching for matches in is \"Hello, world!\".\n"
   ]
  },
  {
   "cell_type": "markdown",
   "id": "c93807b3",
   "metadata": {},
   "source": [
    "The <code>findall()</code> function finds all occurrences of a specified pattern within a string.\n"
   ]
  },
  {
   "cell_type": "code",
   "execution_count": null,
   "id": "a7755018",
   "metadata": {},
   "outputs": [],
   "source": [
    "s2 = \"Michael Jackson was a singer and known as the 'King of Pop'\"\n",
    "\n",
    "\n",
    "# Use the findall() function to find all occurrences of the \"as\" in the string\n",
    "result = re.findall(\"as\", s2)\n",
    "\n",
    "# Print out the list of matched words\n",
    "print(result)\n"
   ]
  },
  {
   "cell_type": "markdown",
   "id": "048da182",
   "metadata": {},
   "source": [
    "A regular expression's <code>split()</code> function splits a string into an array of substrings based on a specified pattern.\n"
   ]
  },
  {
   "cell_type": "code",
   "execution_count": null,
   "id": "2888a661",
   "metadata": {},
   "outputs": [],
   "source": [
    "# Use the split function to split the string by the \"\\s\"\n",
    "split_array = re.split(\"\\s\", s2)\n",
    "\n",
    "# The split_array contains all the substrings, split by whitespace characters\n",
    "print(split_array) "
   ]
  },
  {
   "cell_type": "markdown",
   "id": "5d1c838f",
   "metadata": {},
   "source": [
    "The <code>sub</code> function of a regular expression in Python is used to replace all occurrences of a pattern in a string with a specified replacement.\n"
   ]
  },
  {
   "cell_type": "code",
   "execution_count": null,
   "id": "a8371af9",
   "metadata": {},
   "outputs": [],
   "source": [
    "# Define the regular expression pattern to search for\n",
    "pattern = r\"King of Pop\"\n",
    "\n",
    "# Define the replacement string\n",
    "replacement = \"legend\"\n",
    "\n",
    "# Use the sub function to replace the pattern with the replacement string\n",
    "new_string = re.sub(pattern, replacement, s2, flags=re.IGNORECASE)\n",
    "\n",
    "# The new_string contains the original string with the pattern replaced by the replacement string\n",
    "print(new_string) "
   ]
  },
  {
   "cell_type": "markdown",
   "id": "cf149b12",
   "metadata": {},
   "source": [
    "<hr>\n"
   ]
  },
  {
   "cell_type": "markdown",
   "id": "9ed5f428",
   "metadata": {},
   "source": [
    "<h2 id=\"quiz\">Quiz on Strings</h2>\n"
   ]
  },
  {
   "cell_type": "markdown",
   "id": "64376141",
   "metadata": {},
   "source": [
    "What is the value of the variable <code>a</code> after the following code is executed?\n"
   ]
  },
  {
   "cell_type": "code",
   "execution_count": null,
   "id": "735b3546",
   "metadata": {},
   "outputs": [],
   "source": [
    "# Write your code below and press Shift+Enter to execute \n",
    "\n",
    "a = \"1\"\n",
    "a"
   ]
  },
  {
   "cell_type": "markdown",
   "id": "0c7e5f33",
   "metadata": {},
   "source": [
    "<details><summary>Click here for the solution</summary>\n",
    "\n",
    "```python\n",
    "\"1\"\n",
    "\n",
    "```\n",
    "\n",
    "</details>\n"
   ]
  },
  {
   "cell_type": "markdown",
   "id": "45f096fe",
   "metadata": {},
   "source": [
    "What is the value of the variable <code>b</code> after the following code is executed?\n"
   ]
  },
  {
   "cell_type": "code",
   "execution_count": null,
   "id": "3f4ae1db",
   "metadata": {},
   "outputs": [],
   "source": [
    "# Write your code below and press Shift+Enter to execute\n",
    "\n",
    "b = \"2\"\n",
    "b"
   ]
  },
  {
   "cell_type": "markdown",
   "id": "8b065a97",
   "metadata": {},
   "source": [
    "<details><summary>Click here for the solution</summary>\n",
    "\n",
    "```python\n",
    "\"2\"\n",
    "\n",
    "```\n",
    "\n",
    "</details>\n"
   ]
  },
  {
   "cell_type": "markdown",
   "id": "b67934a7",
   "metadata": {},
   "source": [
    "What is the value of the variable <code>c</code> after the following code is executed?\n"
   ]
  },
  {
   "cell_type": "code",
   "execution_count": null,
   "id": "c1ec205e",
   "metadata": {},
   "outputs": [],
   "source": [
    "# Write your code below and press Shift+Enter to execute \n",
    "\n",
    "c = a + b\n",
    "c"
   ]
  },
  {
   "cell_type": "markdown",
   "id": "c38d4b9a",
   "metadata": {},
   "source": [
    "<details><summary>Click here for the solution</summary>\n",
    "\n",
    "```python\n",
    "\"12\"\n",
    "\n",
    "```\n",
    "\n",
    "</details>\n"
   ]
  },
  {
   "cell_type": "markdown",
   "id": "460a5420",
   "metadata": {},
   "source": [
    "<hr>\n"
   ]
  },
  {
   "cell_type": "markdown",
   "id": "8c906512",
   "metadata": {},
   "source": [
    "Consider the variable <code>d</code> use slicing to print out the first three elements:\n"
   ]
  },
  {
   "cell_type": "code",
   "execution_count": null,
   "id": "7a88dc13",
   "metadata": {},
   "outputs": [],
   "source": [
    "# Write your code below and press Shift+Enter to execute\n",
    "\n",
    "d = \"ABCDEFG\"\n",
    "d[:3]"
   ]
  },
  {
   "cell_type": "markdown",
   "id": "4f0568de",
   "metadata": {},
   "source": [
    "<details><summary>Click here for the solution</summary>\n",
    "\n",
    "```python\n",
    "print(d[:3]) \n",
    "\n",
    "# or \n",
    "\n",
    "print(d[0:3])\n",
    "\n",
    "```\n",
    "\n",
    "</details>\n"
   ]
  },
  {
   "cell_type": "markdown",
   "id": "0563d11e",
   "metadata": {},
   "source": [
    "<hr>\n"
   ]
  },
  {
   "cell_type": "markdown",
   "id": "c458a119",
   "metadata": {},
   "source": [
    "Use a stride value of 2 to print out every second character of the string <code>e</code>:\n"
   ]
  },
  {
   "cell_type": "code",
   "execution_count": null,
   "id": "4e3bba1c",
   "metadata": {},
   "outputs": [],
   "source": [
    "# Write your code below and press Shift+Enter to execute\n",
    "\n",
    "e = 'clocrkr1e1c1t'\n",
    "e[::2]"
   ]
  },
  {
   "cell_type": "markdown",
   "id": "3d0008c8",
   "metadata": {},
   "source": [
    "<details><summary>Click here for the solution</summary>\n",
    "\n",
    "```python\n",
    "print(e[::2])\n",
    "\n",
    "```\n",
    "\n",
    "</details>\n"
   ]
  },
  {
   "cell_type": "markdown",
   "id": "817f409d",
   "metadata": {},
   "source": [
    "<hr>\n"
   ]
  },
  {
   "cell_type": "markdown",
   "id": "b4b676d1",
   "metadata": {},
   "source": [
    "Print out a backslash:\n"
   ]
  },
  {
   "cell_type": "code",
   "execution_count": null,
   "id": "280e1f61",
   "metadata": {},
   "outputs": [],
   "source": [
    "# Write your code below and press Shift+Enter to execute\n",
    "print(r\"\\ \")\n",
    "print(\"\\\\\\\\\\\\\")"
   ]
  },
  {
   "cell_type": "markdown",
   "id": "fb385537",
   "metadata": {},
   "source": [
    "<details><summary>Click here for the solution</summary>\n",
    "\n",
    "```python\n",
    "print(\"\\\\\\\\\\\\\")\n",
    "\n",
    "or\n",
    "\n",
    "print(r\"\\ \")\n",
    "\n",
    "```\n",
    "\n",
    "</details>\n"
   ]
  },
  {
   "cell_type": "markdown",
   "id": "0697a008",
   "metadata": {},
   "source": [
    "<hr>\n"
   ]
  },
  {
   "cell_type": "markdown",
   "id": "16ee07ac",
   "metadata": {},
   "source": [
    "Convert the variable <code>f</code> to uppercase:\n"
   ]
  },
  {
   "cell_type": "code",
   "execution_count": null,
   "id": "57170255",
   "metadata": {},
   "outputs": [],
   "source": [
    "# Write your code below and press Shift+Enter to execute\n",
    "\n",
    "f = \"You are wrong\"\n",
    "f.upper()"
   ]
  },
  {
   "cell_type": "markdown",
   "id": "d49d9b51",
   "metadata": {},
   "source": [
    "<details><summary>Click here for the solution</summary>\n",
    "\n",
    "```python\n",
    "f.upper()\n",
    "\n",
    "```\n",
    "\n",
    "</details>\n"
   ]
  },
  {
   "cell_type": "markdown",
   "id": "64efb17f",
   "metadata": {},
   "source": [
    "Convert the variable <code>f2</code> to lowercase:\n"
   ]
  },
  {
   "cell_type": "code",
   "execution_count": null,
   "id": "947f9ae3",
   "metadata": {},
   "outputs": [],
   "source": [
    "# Write your code below and press Shift+Enter to execute\n",
    "f2=\"YOU ARE RIGHT\"\n",
    "f.lower()"
   ]
  },
  {
   "cell_type": "markdown",
   "id": "05260488",
   "metadata": {},
   "source": [
    "<details><summary>Click here for the solution</summary>\n",
    "\n",
    "```python\n",
    "f2.lower()\n",
    "\n",
    "```\n",
    "\n",
    "</details>\n"
   ]
  },
  {
   "cell_type": "markdown",
   "id": "92f1cb84",
   "metadata": {},
   "source": [
    "<hr>\n"
   ]
  },
  {
   "cell_type": "markdown",
   "id": "8f6d5370",
   "metadata": {},
   "source": [
    "Consider the variable <code>g</code>, and find the first index of the sub-string <code>snow</code>:\n"
   ]
  },
  {
   "cell_type": "code",
   "execution_count": null,
   "id": "a42d9723",
   "metadata": {},
   "outputs": [],
   "source": [
    "# Write your code below and press Shift+Enter to execute\n",
    "\n",
    "g = \"Mary had a little lamb Little lamb, little lamb Mary had a little lamb \\\n",
    "Its fleece was white as snow And everywhere that Mary went Mary went, Mary went \\\n",
    "Everywhere that Mary went The lamb was sure to go\"\n",
    "g.find(r\"snow\")"
   ]
  },
  {
   "cell_type": "markdown",
   "id": "cc9b5f94",
   "metadata": {},
   "source": [
    "<details><summary>Click here for the solution</summary>\n",
    "\n",
    "```python\n",
    "g.find(\"snow\")\n",
    "\n",
    "```\n",
    "\n",
    "</details>\n"
   ]
  },
  {
   "cell_type": "markdown",
   "id": "1d3b7551",
   "metadata": {},
   "source": [
    "In the variable <code>g</code>, replace the sub-string <code>Mary</code> with <code>Bob</code>:\n"
   ]
  },
  {
   "cell_type": "code",
   "execution_count": null,
   "id": "614db61c",
   "metadata": {},
   "outputs": [],
   "source": [
    "# Write your code below and press Shift+Enter to execute\n",
    "g.replace(r\"Mary\", r\"Bob\")"
   ]
  },
  {
   "cell_type": "markdown",
   "id": "067b3838",
   "metadata": {},
   "source": [
    "<details><summary>Click here for the solution</summary>\n",
    "\n",
    "```python\n",
    "g.replace(\"Mary\", \"Bob\")\n",
    "\n",
    "```\n",
    "\n",
    "</details>\n"
   ]
  },
  {
   "cell_type": "markdown",
   "id": "cde586d4",
   "metadata": {},
   "source": [
    "In the variable <code>g</code>, replace the sub-string <code>,</code> with <code>.</code>:\n"
   ]
  },
  {
   "cell_type": "code",
   "execution_count": null,
   "id": "9a71f7fc",
   "metadata": {},
   "outputs": [],
   "source": [
    "# Write your code below and press Shift+Enter to execute"
   ]
  },
  {
   "cell_type": "markdown",
   "id": "c9bbe0a9",
   "metadata": {},
   "source": [
    "<details><summary>Click here for the solution</summary>\n",
    "\n",
    "```python\n",
    "g.replace(',','.')\n",
    "\n",
    "```\n",
    "\n",
    "</details>\n"
   ]
  },
  {
   "cell_type": "markdown",
   "id": "2b87c4be",
   "metadata": {},
   "source": [
    "In the variable <code>g</code>, split the substring to list:\n"
   ]
  },
  {
   "cell_type": "code",
   "execution_count": null,
   "id": "252a9de3",
   "metadata": {},
   "outputs": [],
   "source": [
    "# Write your code below and press Shift+Enter to execute\n",
    "g.split()"
   ]
  },
  {
   "cell_type": "markdown",
   "id": "ed0112d0",
   "metadata": {},
   "source": [
    "<details><summary>Click here for the solution</summary>\n",
    "\n",
    "```python\n",
    "g.split()\n",
    "\n",
    "```\n",
    "\n",
    "</details>\n"
   ]
  },
  {
   "cell_type": "markdown",
   "id": "a60c4229",
   "metadata": {},
   "source": [
    "In the string <code>s3</code>, find the four consicutive digit character using <code>\\d</code> and <code>search() </code>function:\n"
   ]
  },
  {
   "cell_type": "code",
   "execution_count": null,
   "id": "bf993ff8",
   "metadata": {},
   "outputs": [],
   "source": [
    "s3 = \"House number- 1105\"\n",
    "re.search(\"\\d\", s3)\n",
    "# Write your code below and press Shift+Enter to execute"
   ]
  },
  {
   "cell_type": "markdown",
   "id": "1575d536",
   "metadata": {},
   "source": [
    "<details><summary>Click here for the solution</summary>\n",
    "\n",
    "```python\n",
    "# Use the search() function to search for the \"\\d\" in the string\n",
    "result = re.search(\"\\d\", s3)\n",
    "\n",
    "# Check if a match was found\n",
    "if result:\n",
    "    print(\"Digit found\")\n",
    "else:\n",
    "    print(\"Digit not found.\")\n",
    "```\n",
    "\n",
    "</details>\n"
   ]
  },
  {
   "cell_type": "markdown",
   "id": "636ba2ea",
   "metadata": {},
   "source": [
    "In the string <code>str1</code>, replace the sub-string <code>fox</code> with <code>bear</code> using <code>sub() </code>function:\n"
   ]
  },
  {
   "cell_type": "code",
   "execution_count": null,
   "id": "c732a2ad",
   "metadata": {},
   "outputs": [],
   "source": [
    "str1= \"The quick brown fox jumps over the lazy dog.\"\n",
    "\n",
    "# Write your code below and press Shift+Enter to execute\n",
    "re.sub(r\"fox\", \"bear\", str1)"
   ]
  },
  {
   "cell_type": "markdown",
   "id": "ddf51ac3",
   "metadata": {},
   "source": [
    "<details><summary>Click here for the solution</summary>\n",
    "\n",
    "```python\n",
    "# Use re.sub() to replace \"fox\" with \"bear\"\n",
    "new_str1 = re.sub(r\"fox\", r\"bear\", str1)\n",
    "\n",
    "print(new_str1)\n",
    "```\n",
    "\n",
    "</details>\n"
   ]
  },
  {
   "cell_type": "markdown",
   "id": "d04fa7be",
   "metadata": {},
   "source": [
    "In the string <code>str2</code> find all the occurrences of <code>woo</code> using <code>findall()</code> function:\n"
   ]
  },
  {
   "cell_type": "code",
   "execution_count": null,
   "id": "27a4efbb",
   "metadata": {},
   "outputs": [],
   "source": [
    "str2= \"How much wood would a woodchuck chuck, if a woodchuck could chuck wood?\"\n",
    "\n",
    "# Write your code below and press Shift+Enter to execute\n",
    "re.findall(r\"woo\", str2)"
   ]
  },
  {
   "cell_type": "markdown",
   "id": "86212ee0",
   "metadata": {},
   "source": [
    "<details><summary>Click here for the solution</summary>\n",
    "\n",
    "```python\n",
    "# Use re.findall() to find all occurrences of \"woo\"\n",
    "matches = re.findall(r\"woo\", str2)\n",
    "\n",
    "print(matches)\n",
    "```\n",
    "\n",
    "</details>\n"
   ]
  },
  {
   "cell_type": "markdown",
   "id": "e68a19ce",
   "metadata": {},
   "source": [
    "<hr><br>"
   ]
  },
  {
   "cell_type": "markdown",
   "id": "813df3b2",
   "metadata": {},
   "source": [
    "<h2 id=\"list\">Lists</h2>\n"
   ]
  },
  {
   "cell_type": "markdown",
   "id": "2795f38b",
   "metadata": {},
   "source": [
    "<h3 id=\"index\">Indexing</h3>\n"
   ]
  },
  {
   "cell_type": "markdown",
   "id": "48777b11",
   "metadata": {},
   "source": [
    "We are going to take a look at lists in Python. A list is a sequenced collection of different objects such as integers, strings, and even other lists as well. The address of each element within a list is called an <b>index</b>. An index is used to access and refer to items within a list.\n"
   ]
  },
  {
   "cell_type": "markdown",
   "id": "079f76e6",
   "metadata": {},
   "source": [
    "<img src=\"https://cf-courses-data.s3.us.cloud-object-storage.appdomain.cloud/IBMDeveloperSkillsNetwork-PY0101EN-SkillsNetwork/labs/Module%202/images/ListsIndex.png\" width=\"1000\">\n"
   ]
  },
  {
   "cell_type": "markdown",
   "id": "12c653bd",
   "metadata": {},
   "source": [
    " To create a list, type the list within square brackets <b>[ ]</b>, with your content inside the parenthesis and separated by commas. Let’s try it!\n"
   ]
  },
  {
   "cell_type": "code",
   "execution_count": 5,
   "id": "3e796815",
   "metadata": {},
   "outputs": [
    {
     "data": {
      "text/plain": [
       "['Michael Jackson', 10.1, 1982]"
      ]
     },
     "execution_count": 5,
     "metadata": {},
     "output_type": "execute_result"
    }
   ],
   "source": [
    "# Create a list\n",
    "\n",
    "L = [\"Michael Jackson\", 10.1, 1982]\n",
    "L"
   ]
  },
  {
   "cell_type": "markdown",
   "id": "87ec9c5f",
   "metadata": {},
   "source": [
    "We can use negative and regular indexing with a list:\n"
   ]
  },
  {
   "cell_type": "markdown",
   "id": "2eb50d97",
   "metadata": {},
   "source": [
    "<img src=\"https://cf-courses-data.s3.us.cloud-object-storage.appdomain.cloud/IBMDeveloperSkillsNetwork-PY0101EN-SkillsNetwork/labs/Module%202/images/ListsNeg.png\" width=\"1000\">\n"
   ]
  },
  {
   "cell_type": "code",
   "execution_count": 7,
   "id": "5fbe443f",
   "metadata": {},
   "outputs": [
    {
     "name": "stdout",
     "output_type": "stream",
     "text": [
      "the same element using negative and positive indexing:\n",
      " Postive: Michael Jackson \n",
      " Negative: Michael Jackson\n",
      "the same element using negative and positive indexing:\n",
      " Postive: 10.1 \n",
      " Negative: 10.1\n",
      "the same element using negative and positive indexing:\n",
      " Postive: 1982 \n",
      " Negative: 1982\n"
     ]
    }
   ],
   "source": [
    "# Print the elements on each index\n",
    "\n",
    "print('the same element using negative and positive indexing:\\n Postive:',L[0],\n",
    "'\\n Negative:' , L[-3]  )\n",
    "print('the same element using negative and positive indexing:\\n Postive:',L[1],\n",
    "'\\n Negative:' , L[-2]  )\n",
    "print('the same element using negative and positive indexing:\\n Postive:',L[2],\n",
    "'\\n Negative:' , L[-1]  )"
   ]
  },
  {
   "cell_type": "markdown",
   "id": "ca0dcc27",
   "metadata": {},
   "source": [
    "<h3 id=\"content\">List Content</h3>\n"
   ]
  },
  {
   "cell_type": "markdown",
   "id": "4d8c959c",
   "metadata": {},
   "source": [
    "Lists can contain strings, floats, and integers. We can nest other lists, and we can also nest tuples and other data structures. The same indexing conventions apply for nesting:    \n"
   ]
  },
  {
   "cell_type": "code",
   "execution_count": 8,
   "id": "0d9bfe3c",
   "metadata": {},
   "outputs": [
    {
     "data": {
      "text/plain": [
       "['Michael Jackson', 10.1, 1982, [1, 2], ('A', 1)]"
      ]
     },
     "execution_count": 8,
     "metadata": {},
     "output_type": "execute_result"
    }
   ],
   "source": [
    "# Sample List\n",
    "\n",
    "[\"Michael Jackson\", 10.1, 1982, [1, 2], (\"A\", 1)]"
   ]
  },
  {
   "cell_type": "markdown",
   "id": "665f0b87",
   "metadata": {},
   "source": [
    "<h3 id=\"op\">List Operations</h3>\n"
   ]
  },
  {
   "cell_type": "markdown",
   "id": "31de53ca",
   "metadata": {},
   "source": [
    " We can also perform slicing in lists. For example, if we want the last two elements, we use the following command:\n"
   ]
  },
  {
   "cell_type": "code",
   "execution_count": 14,
   "id": "2013eed2",
   "metadata": {},
   "outputs": [
    {
     "data": {
      "text/plain": [
       "['MJ', 1]"
      ]
     },
     "execution_count": 14,
     "metadata": {},
     "output_type": "execute_result"
    }
   ],
   "source": [
    "# Sample List\n",
    "\n",
    "L = [\"Michael Jackson\", 10.1,1982,\"MJ\",1]\n",
    "L[3:5]"
   ]
  },
  {
   "cell_type": "markdown",
   "id": "a99735ea",
   "metadata": {},
   "source": [
    "<img src=\"https://cf-courses-data.s3.us.cloud-object-storage.appdomain.cloud/IBMDeveloperSkillsNetwork-PY0101EN-SkillsNetwork/labs/Module%202/images/ListsSlice.png\" width=\"1000\">\n"
   ]
  },
  {
   "cell_type": "code",
   "execution_count": 15,
   "id": "c3546e74",
   "metadata": {},
   "outputs": [
    {
     "data": {
      "text/plain": [
       "['MJ', 1]"
      ]
     },
     "execution_count": 15,
     "metadata": {},
     "output_type": "execute_result"
    }
   ],
   "source": [
    "# List slicing\n",
    "\n",
    "L[3:5]"
   ]
  },
  {
   "cell_type": "markdown",
   "id": "50e2d4e8",
   "metadata": {},
   "source": [
    "We can use the method <code>extend</code> to add new elements to the list:\n"
   ]
  },
  {
   "cell_type": "code",
   "execution_count": 16,
   "id": "c9ea62b2",
   "metadata": {},
   "outputs": [
    {
     "data": {
      "text/plain": [
       "['Michael Jackson', 10.2, 'pop', 10]"
      ]
     },
     "execution_count": 16,
     "metadata": {},
     "output_type": "execute_result"
    }
   ],
   "source": [
    "# Use extend to add elements to list\n",
    "\n",
    "L = [ \"Michael Jackson\", 10.2]\n",
    "L.extend(['pop', 10])\n",
    "L"
   ]
  },
  {
   "cell_type": "markdown",
   "id": "7286f5a7",
   "metadata": {},
   "source": [
    "Another similar method is <code>append</code>. If we apply <code>append</code> instead of <code>extend</code>, we add one element to the list:\n"
   ]
  },
  {
   "cell_type": "code",
   "execution_count": 17,
   "id": "f742e29d",
   "metadata": {},
   "outputs": [
    {
     "data": {
      "text/plain": [
       "['Michael Jackson', 10.2, ['pop', 10]]"
      ]
     },
     "execution_count": 17,
     "metadata": {},
     "output_type": "execute_result"
    }
   ],
   "source": [
    "# Use append to add elements to list\n",
    "\n",
    "L = [ \"Michael Jackson\", 10.2]\n",
    "L.append(['pop', 10])\n",
    "L"
   ]
  },
  {
   "cell_type": "markdown",
   "id": "68a6fe7e",
   "metadata": {},
   "source": [
    " Each time we apply a method, the list changes. If we apply <code>extend</code> we add two new elements to the list. The list <code>L</code> is then modified by adding two new elements:\n"
   ]
  },
  {
   "cell_type": "code",
   "execution_count": 18,
   "id": "416506ae",
   "metadata": {},
   "outputs": [
    {
     "data": {
      "text/plain": [
       "['Michael Jackson', 10.2, 'pop', 10]"
      ]
     },
     "execution_count": 18,
     "metadata": {},
     "output_type": "execute_result"
    }
   ],
   "source": [
    "# Use extend to add elements to list\n",
    "\n",
    "L = [ \"Michael Jackson\", 10.2]\n",
    "L.extend(['pop', 10])\n",
    "L"
   ]
  },
  {
   "cell_type": "markdown",
   "id": "57b575f2",
   "metadata": {},
   "source": [
    "If we append the list  <code>['a','b']</code> we have one new element consisting of a nested list:\n"
   ]
  },
  {
   "cell_type": "code",
   "execution_count": 19,
   "id": "d50a272e",
   "metadata": {},
   "outputs": [
    {
     "data": {
      "text/plain": [
       "['Michael Jackson', 10.2, 'pop', 10, ['a', 'b']]"
      ]
     },
     "execution_count": 19,
     "metadata": {},
     "output_type": "execute_result"
    }
   ],
   "source": [
    "# Use append to add elements to list\n",
    "\n",
    "L.append(['a','b'])\n",
    "L"
   ]
  },
  {
   "cell_type": "markdown",
   "id": "14e6080a",
   "metadata": {},
   "source": [
    "As lists are mutable, we can change them. For example, we can change the first element as follows:\n"
   ]
  },
  {
   "cell_type": "code",
   "execution_count": 20,
   "id": "5cc29f4a",
   "metadata": {},
   "outputs": [
    {
     "name": "stdout",
     "output_type": "stream",
     "text": [
      "Before change: ['disco', 10, 1.2]\n",
      "After change: ['hard rock', 10, 1.2]\n"
     ]
    }
   ],
   "source": [
    "# Change the element based on the index\n",
    "\n",
    "A = [\"disco\", 10, 1.2]\n",
    "print('Before change:', A)\n",
    "A[0] = 'hard rock'\n",
    "print('After change:', A)"
   ]
  },
  {
   "cell_type": "markdown",
   "id": "9710dbb5",
   "metadata": {},
   "source": [
    " We can also delete an element of a list using the <code>del</code> command:\n"
   ]
  },
  {
   "cell_type": "code",
   "execution_count": 21,
   "id": "87b395a3",
   "metadata": {},
   "outputs": [
    {
     "name": "stdout",
     "output_type": "stream",
     "text": [
      "Before change: ['hard rock', 10, 1.2]\n",
      "After change: [10, 1.2]\n"
     ]
    }
   ],
   "source": [
    "# Delete the element based on the index\n",
    "\n",
    "print('Before change:', A)\n",
    "del(A[0])\n",
    "print('After change:', A)"
   ]
  },
  {
   "cell_type": "markdown",
   "id": "6ea3e633",
   "metadata": {},
   "source": [
    "We can convert a string to a list using <code>split</code>.  For example, the method <code>split</code> translates every group of characters separated by a space into an element in a list:\n"
   ]
  },
  {
   "cell_type": "code",
   "execution_count": 22,
   "id": "98fb753c",
   "metadata": {},
   "outputs": [
    {
     "data": {
      "text/plain": [
       "['hard', 'rock']"
      ]
     },
     "execution_count": 22,
     "metadata": {},
     "output_type": "execute_result"
    }
   ],
   "source": [
    "# Split the string, default is by space\n",
    "\n",
    "'hard rock'.split()"
   ]
  },
  {
   "cell_type": "markdown",
   "id": "59a9d2ea",
   "metadata": {},
   "source": [
    "We can use the split function to separate strings on a specific character which we call a **delimiter**. We pass the character we would like to split on into the argument, which in this case is a comma.  The result is a list, and each element corresponds to a set of characters that have been separated by a comma: \n"
   ]
  },
  {
   "cell_type": "code",
   "execution_count": 23,
   "id": "b9cddfdf",
   "metadata": {},
   "outputs": [
    {
     "data": {
      "text/plain": [
       "['A', 'B', 'C', 'D']"
      ]
     },
     "execution_count": 23,
     "metadata": {},
     "output_type": "execute_result"
    }
   ],
   "source": [
    "# Split the string by comma\n",
    "\n",
    "'A,B,C,D'.split(',')"
   ]
  },
  {
   "cell_type": "markdown",
   "id": "ec9c4028",
   "metadata": {},
   "source": [
    "<h3 id=\"co\">Copy and Clone List</h3>\n"
   ]
  },
  {
   "cell_type": "markdown",
   "id": "fb4c6aa1",
   "metadata": {},
   "source": [
    "When we set one variable <b>B</b> equal to <b>A</b>, both <b>A</b> and <b>B</b> are referencing the same list in memory:\n"
   ]
  },
  {
   "cell_type": "code",
   "execution_count": 24,
   "id": "414089ab",
   "metadata": {},
   "outputs": [
    {
     "name": "stdout",
     "output_type": "stream",
     "text": [
      "A: ['hard rock', 10, 1.2]\n",
      "B: ['hard rock', 10, 1.2]\n"
     ]
    }
   ],
   "source": [
    "# Copy (copy by reference) the list A\n",
    "\n",
    "A = [\"hard rock\", 10, 1.2]\n",
    "B = A\n",
    "print('A:', A)\n",
    "print('B:', B)"
   ]
  },
  {
   "cell_type": "markdown",
   "id": "1bd3bda2",
   "metadata": {},
   "source": [
    "<img src=\"https://cf-courses-data.s3.us.cloud-object-storage.appdomain.cloud/IBMDeveloperSkillsNetwork-PY0101EN-SkillsNetwork/labs/Module%202/images/ListsRef.png\" width=\"1000\" align=\"center\">\n"
   ]
  },
  {
   "cell_type": "markdown",
   "id": "0b8e9a34",
   "metadata": {},
   "source": [
    "Initially, the value of the first element in <b>B</b> is set as \"hard rock\". If we change the first element in <b>A</b> to <b>\"banana\"</b>, we get an unexpected side effect.  As <b>A</b> and <b>B</b> are referencing the same list, if we change list <b>A</b>, then list <b>B</b> also changes. If we check the first element of <b>B</b> we get \"banana\" instead of \"hard rock\":\n"
   ]
  },
  {
   "cell_type": "code",
   "execution_count": 25,
   "id": "2d669fe7",
   "metadata": {},
   "outputs": [
    {
     "name": "stdout",
     "output_type": "stream",
     "text": [
      "B[0]: hard rock\n",
      "B[0]: banana\n"
     ]
    }
   ],
   "source": [
    "# Examine the copy by reference\n",
    "\n",
    "print('B[0]:', B[0])\n",
    "A[0] = \"banana\"\n",
    "print('B[0]:', B[0])"
   ]
  },
  {
   "cell_type": "markdown",
   "id": "2441b13a",
   "metadata": {},
   "source": [
    "This is demonstrated in the following figure: \n"
   ]
  },
  {
   "cell_type": "markdown",
   "id": "dcc5fc4c",
   "metadata": {},
   "source": [
    "<img src=\"https://cf-courses-data.s3.us.cloud-object-storage.appdomain.cloud/IBMDeveloperSkillsNetwork-PY0101EN-SkillsNetwork/labs/Module%202/images/ListsRefGif.gif\" width=\"1000\">\n"
   ]
  },
  {
   "cell_type": "markdown",
   "id": "a972f74a",
   "metadata": {},
   "source": [
    "You can clone list **A** by using  the following syntax:\n"
   ]
  },
  {
   "cell_type": "code",
   "execution_count": 26,
   "id": "a05d351e",
   "metadata": {},
   "outputs": [
    {
     "data": {
      "text/plain": [
       "['banana', 10, 1.2]"
      ]
     },
     "execution_count": 26,
     "metadata": {},
     "output_type": "execute_result"
    }
   ],
   "source": [
    "# Clone (clone by value) the list A\n",
    "\n",
    "B = A[:]\n",
    "B"
   ]
  },
  {
   "cell_type": "markdown",
   "id": "381fbbb6",
   "metadata": {},
   "source": [
    " Variable **B** references a new copy or clone of the original list. This is demonstrated in the following figure:\n"
   ]
  },
  {
   "cell_type": "markdown",
   "id": "99ebd959",
   "metadata": {},
   "source": [
    "<img src=\"https://cf-courses-data.s3.us.cloud-object-storage.appdomain.cloud/IBMDeveloperSkillsNetwork-PY0101EN-SkillsNetwork/labs/Module%202/images/ListsVal.gif\" width=\"1000\">\n"
   ]
  },
  {
   "cell_type": "markdown",
   "id": "33c1489f",
   "metadata": {},
   "source": [
    "Now if you change <b>A</b>, <b>B</b> will not change: \n"
   ]
  },
  {
   "cell_type": "code",
   "execution_count": 27,
   "id": "6615dce0",
   "metadata": {},
   "outputs": [
    {
     "name": "stdout",
     "output_type": "stream",
     "text": [
      "B[0]: banana\n",
      "B[0]: banana\n"
     ]
    }
   ],
   "source": [
    "print('B[0]:', B[0])\n",
    "A[0] = \"hard rock\"\n",
    "print('B[0]:', B[0])"
   ]
  },
  {
   "cell_type": "markdown",
   "id": "dba3ade1",
   "metadata": {},
   "source": [
    "<h2 id=\"quiz\">Quiz on List</h2>\n"
   ]
  },
  {
   "cell_type": "markdown",
   "id": "5ef64e4b",
   "metadata": {},
   "source": [
    "Create a list <code>a_list</code>, with the following elements <code>1</code>, <code>hello</code>, <code>[1,2,3]</code> and <code>True</code>. \n"
   ]
  },
  {
   "cell_type": "code",
   "execution_count": 30,
   "id": "feec8cba",
   "metadata": {},
   "outputs": [
    {
     "data": {
      "text/plain": [
       "[1, 'hello', [1, 2, 3], True]"
      ]
     },
     "execution_count": 30,
     "metadata": {},
     "output_type": "execute_result"
    }
   ],
   "source": [
    "# Write your code below and press Shift+Enter to execute\n",
    "a_list = [1, \"hello\", [1,2,3], True]\n",
    "a_list"
   ]
  },
  {
   "cell_type": "markdown",
   "id": "727cac43",
   "metadata": {},
   "source": [
    "<details><summary>Click here for the solution</summary>\n",
    "\n",
    "```python\n",
    "a_list = [1, 'hello', [1, 2, 3] , True]\n",
    "a_list\n",
    "\n",
    "```\n",
    "\n",
    "</details>\n"
   ]
  },
  {
   "cell_type": "markdown",
   "id": "26508236",
   "metadata": {},
   "source": [
    "Find the value stored at index 1 of <code>a_list</code>.\n"
   ]
  },
  {
   "cell_type": "code",
   "execution_count": 31,
   "id": "db0b4f36",
   "metadata": {},
   "outputs": [
    {
     "data": {
      "text/plain": [
       "'hello'"
      ]
     },
     "execution_count": 31,
     "metadata": {},
     "output_type": "execute_result"
    }
   ],
   "source": [
    "# Write your code below and press Shift+Enter to execute\n",
    "a_list[1]"
   ]
  },
  {
   "cell_type": "markdown",
   "id": "925925f5",
   "metadata": {},
   "source": [
    "<details><summary>Click here for the solution</summary>\n",
    "\n",
    "```python\n",
    "a_list[1]\n",
    "\n",
    "```\n",
    "\n",
    "</details>\n"
   ]
  },
  {
   "cell_type": "markdown",
   "id": "d7abbd5f",
   "metadata": {},
   "source": [
    "Retrieve the elements stored at index 1, 2 and 3 of <code>a_list</code>.\n"
   ]
  },
  {
   "cell_type": "code",
   "execution_count": 32,
   "id": "1fd17cda",
   "metadata": {},
   "outputs": [
    {
     "data": {
      "text/plain": [
       "['hello', [1, 2, 3], True]"
      ]
     },
     "execution_count": 32,
     "metadata": {},
     "output_type": "execute_result"
    }
   ],
   "source": [
    "# Write your code below and press Shift+Enter to execute\n",
    "a_list[1:4]"
   ]
  },
  {
   "cell_type": "markdown",
   "id": "98e6bf82",
   "metadata": {},
   "source": [
    "<details><summary>Click here for the solution</summary>\n",
    "\n",
    "```python\n",
    "a_list[1:4]\n",
    "\n",
    "```\n",
    "\n",
    "</details>\n"
   ]
  },
  {
   "cell_type": "markdown",
   "id": "7f77c30e",
   "metadata": {},
   "source": [
    "Concatenate the following lists <code>A = [1, 'a']</code> and <code>B = [2, 1, 'd']</code>:\n"
   ]
  },
  {
   "cell_type": "code",
   "execution_count": 35,
   "id": "a9675c42",
   "metadata": {},
   "outputs": [
    {
     "data": {
      "text/plain": [
       "[1, 'a', 2, 1, 'd']"
      ]
     },
     "execution_count": 35,
     "metadata": {},
     "output_type": "execute_result"
    }
   ],
   "source": [
    "# Write your code below and press Shift+Enter to execute\n",
    "A = [1, 'a']\n",
    "B = [2, 1, 'd']\n",
    "A + B"
   ]
  },
  {
   "cell_type": "markdown",
   "id": "94fa21d6",
   "metadata": {},
   "source": [
    "<details><summary>Click here for the solution</summary>\n",
    "\n",
    "```python\n",
    "A = [1, 'a'] \n",
    "B = [2, 1, 'd']\n",
    "A + B\n",
    "\n",
    "```\n",
    "\n",
    "</details>\n"
   ]
  },
  {
   "cell_type": "markdown",
   "id": "7570c59d",
   "metadata": {},
   "source": [
    "<hr>\n"
   ]
  },
  {
   "cell_type": "markdown",
   "id": "06cb411f",
   "metadata": {},
   "source": [
    "<h2 id=\"tuple\">Tuples</h2>\n"
   ]
  },
  {
   "cell_type": "markdown",
   "id": "d0a9e5ef",
   "metadata": {},
   "source": [
    "In Python, there are different data types: string, integer, and float. These data types can all be contained in a tuple as follows:\n"
   ]
  },
  {
   "cell_type": "markdown",
   "id": "a3be24e6",
   "metadata": {},
   "source": [
    "<img src=\"https://cf-courses-data.s3.us.cloud-object-storage.appdomain.cloud/IBMDeveloperSkillsNetwork-PY0101EN-SkillsNetwork/labs/Module%202/images/TuplesType.png\" width=\"750\" align=\"center\">\n"
   ]
  },
  {
   "cell_type": "markdown",
   "id": "34d84635",
   "metadata": {},
   "source": [
    "Now, let us create your first tuple with string, integer and float.\n"
   ]
  },
  {
   "cell_type": "code",
   "execution_count": 36,
   "id": "6961a962",
   "metadata": {},
   "outputs": [
    {
     "data": {
      "text/plain": [
       "('disco', 10, 1.2)"
      ]
     },
     "execution_count": 36,
     "metadata": {},
     "output_type": "execute_result"
    }
   ],
   "source": [
    "# Create your first tuple\n",
    "\n",
    "tuple1 = (\"disco\",10,1.2 )\n",
    "tuple1"
   ]
  },
  {
   "cell_type": "markdown",
   "id": "80fa0fdb",
   "metadata": {},
   "source": [
    "The type of variable is a **tuple**. \n"
   ]
  },
  {
   "cell_type": "code",
   "execution_count": 37,
   "id": "efdd3bdc",
   "metadata": {},
   "outputs": [
    {
     "data": {
      "text/plain": [
       "tuple"
      ]
     },
     "execution_count": 37,
     "metadata": {},
     "output_type": "execute_result"
    }
   ],
   "source": [
    "# Print the type of the tuple you created\n",
    "\n",
    "type(tuple1)"
   ]
  },
  {
   "cell_type": "markdown",
   "id": "f10d9097",
   "metadata": {},
   "source": [
    "<h3 id=\"index\">Indexing</h3>\n"
   ]
  },
  {
   "cell_type": "markdown",
   "id": "126976f2",
   "metadata": {},
   "source": [
    " Each element of a tuple can be accessed via an index. The following table represents the relationship between the index and the items in the tuple. Each element can be obtained by the name of the tuple followed by a square bracket with the index number:\n"
   ]
  },
  {
   "cell_type": "markdown",
   "id": "5a5cc7db",
   "metadata": {},
   "source": [
    "<img src=\"https://cf-courses-data.s3.us.cloud-object-storage.appdomain.cloud/IBMDeveloperSkillsNetwork-PY0101EN-SkillsNetwork/labs/Module%202/images/TuplesIndex.gif\" width=\"750\" align=\"center\">\n"
   ]
  },
  {
   "cell_type": "markdown",
   "id": "c6885d9c",
   "metadata": {},
   "source": [
    "We can print out each value in the tuple:\n"
   ]
  },
  {
   "cell_type": "code",
   "execution_count": 38,
   "id": "3ac7157e",
   "metadata": {},
   "outputs": [
    {
     "name": "stdout",
     "output_type": "stream",
     "text": [
      "disco\n",
      "10\n",
      "1.2\n"
     ]
    }
   ],
   "source": [
    "# Print the variable on each index\n",
    "\n",
    "print(tuple1[0])\n",
    "print(tuple1[1])\n",
    "print(tuple1[2])"
   ]
  },
  {
   "cell_type": "markdown",
   "id": "8070702f",
   "metadata": {},
   "source": [
    "We can print out the **type** of each value in the tuple:\n"
   ]
  },
  {
   "cell_type": "code",
   "execution_count": 39,
   "id": "008b792c",
   "metadata": {},
   "outputs": [
    {
     "name": "stdout",
     "output_type": "stream",
     "text": [
      "<class 'str'>\n",
      "<class 'int'>\n",
      "<class 'float'>\n"
     ]
    }
   ],
   "source": [
    "# Print the type of value on each index\n",
    "\n",
    "print(type(tuple1[0]))\n",
    "print(type(tuple1[1]))\n",
    "print(type(tuple1[2]))"
   ]
  },
  {
   "cell_type": "markdown",
   "id": "5f5b1de2",
   "metadata": {},
   "source": [
    "We can also use negative indexing. We use the same table above with corresponding negative values:\n"
   ]
  },
  {
   "cell_type": "markdown",
   "id": "65c98e2c",
   "metadata": {},
   "source": [
    "<img src=\"https://cf-courses-data.s3.us.cloud-object-storage.appdomain.cloud/IBMDeveloperSkillsNetwork-PY0101EN-SkillsNetwork/labs/Module%202/images/TuplesNeg.png\" width=\"750\" align=\"center\">\n"
   ]
  },
  {
   "cell_type": "markdown",
   "id": "628b99da",
   "metadata": {},
   "source": [
    "We can obtain the last element as follows (this time we will not use the print statement to display the values):\n"
   ]
  },
  {
   "cell_type": "code",
   "execution_count": 40,
   "id": "53a29626",
   "metadata": {},
   "outputs": [
    {
     "data": {
      "text/plain": [
       "1.2"
      ]
     },
     "execution_count": 40,
     "metadata": {},
     "output_type": "execute_result"
    }
   ],
   "source": [
    "# Use negative index to get the value of the last element\n",
    "\n",
    "tuple1[-1]"
   ]
  },
  {
   "cell_type": "markdown",
   "id": "e6e19162",
   "metadata": {},
   "source": [
    "We can display the next two elements as follows:\n"
   ]
  },
  {
   "cell_type": "code",
   "execution_count": 41,
   "id": "3ea2a21e",
   "metadata": {},
   "outputs": [
    {
     "data": {
      "text/plain": [
       "10"
      ]
     },
     "execution_count": 41,
     "metadata": {},
     "output_type": "execute_result"
    }
   ],
   "source": [
    "# Use negative index to get the value of the second last element\n",
    "\n",
    "tuple1[-2]"
   ]
  },
  {
   "cell_type": "code",
   "execution_count": 42,
   "id": "936bc2f8",
   "metadata": {},
   "outputs": [
    {
     "data": {
      "text/plain": [
       "'disco'"
      ]
     },
     "execution_count": 42,
     "metadata": {},
     "output_type": "execute_result"
    }
   ],
   "source": [
    "# Use negative index to get the value of the third last element\n",
    "\n",
    "tuple1[-3]"
   ]
  },
  {
   "cell_type": "markdown",
   "id": "478df3c9",
   "metadata": {},
   "source": [
    "<h3 id=\"concate\">Concatenate Tuples</h3>\n"
   ]
  },
  {
   "cell_type": "markdown",
   "id": "2eefdf5d",
   "metadata": {},
   "source": [
    "We can concatenate or combine tuples by using the **+** sign:\n"
   ]
  },
  {
   "cell_type": "code",
   "execution_count": 43,
   "id": "6d3ba5cf",
   "metadata": {},
   "outputs": [
    {
     "data": {
      "text/plain": [
       "('disco', 10, 1.2, 'hard rock', 10)"
      ]
     },
     "execution_count": 43,
     "metadata": {},
     "output_type": "execute_result"
    }
   ],
   "source": [
    "# Concatenate two tuples\n",
    "\n",
    "tuple2 = tuple1 + (\"hard rock\", 10)\n",
    "tuple2"
   ]
  },
  {
   "cell_type": "markdown",
   "id": "4f33ec79",
   "metadata": {},
   "source": [
    "We can slice tuples obtaining multiple values as demonstrated by the figure below:\n"
   ]
  },
  {
   "cell_type": "markdown",
   "id": "91bcc814",
   "metadata": {},
   "source": [
    "<img src=\"https://cf-courses-data.s3.us.cloud-object-storage.appdomain.cloud/IBMDeveloperSkillsNetwork-PY0101EN-SkillsNetwork/labs/Module%202/images/TuplesSlice.gif\" width=\"750\" align=\"center\">\n"
   ]
  },
  {
   "cell_type": "markdown",
   "id": "b23f1f07",
   "metadata": {},
   "source": [
    "<h3 id=\"slice\">Slicing</h3>\n"
   ]
  },
  {
   "cell_type": "markdown",
   "id": "d20f6793",
   "metadata": {},
   "source": [
    "We can slice tuples, obtaining new tuples with the corresponding elements: \n"
   ]
  },
  {
   "cell_type": "code",
   "execution_count": 44,
   "id": "d64b5142",
   "metadata": {},
   "outputs": [
    {
     "data": {
      "text/plain": [
       "('disco', 10, 1.2)"
      ]
     },
     "execution_count": 44,
     "metadata": {},
     "output_type": "execute_result"
    }
   ],
   "source": [
    "# Slice from index 0 to index 2\n",
    "\n",
    "tuple2[0:3]"
   ]
  },
  {
   "cell_type": "markdown",
   "id": "1ce30e8d",
   "metadata": {},
   "source": [
    "We can obtain the last two elements of the tuple:\n"
   ]
  },
  {
   "cell_type": "code",
   "execution_count": 45,
   "id": "953266f8",
   "metadata": {},
   "outputs": [
    {
     "data": {
      "text/plain": [
       "('hard rock', 10)"
      ]
     },
     "execution_count": 45,
     "metadata": {},
     "output_type": "execute_result"
    }
   ],
   "source": [
    "# Slice from index 3 to index 4\n",
    "\n",
    "tuple2[3:5]"
   ]
  },
  {
   "cell_type": "markdown",
   "id": "c737bb3e",
   "metadata": {},
   "source": [
    "We can obtain the length of a tuple using the length command: \n"
   ]
  },
  {
   "cell_type": "code",
   "execution_count": 46,
   "id": "af54bc14",
   "metadata": {},
   "outputs": [
    {
     "data": {
      "text/plain": [
       "5"
      ]
     },
     "execution_count": 46,
     "metadata": {},
     "output_type": "execute_result"
    }
   ],
   "source": [
    "# Get the length of tuple\n",
    "\n",
    "len(tuple2)"
   ]
  },
  {
   "cell_type": "markdown",
   "id": "ffde46ff",
   "metadata": {},
   "source": [
    "This figure shows the number of elements:\n"
   ]
  },
  {
   "cell_type": "markdown",
   "id": "a95dbbd5",
   "metadata": {},
   "source": [
    "<img src=\"https://cf-courses-data.s3.us.cloud-object-storage.appdomain.cloud/IBMDeveloperSkillsNetwork-PY0101EN-SkillsNetwork/labs/Module%202/images/TuplesElement.png\" width=\"750\" align=\"center\">\n"
   ]
  },
  {
   "cell_type": "markdown",
   "id": "4cb8f307",
   "metadata": {},
   "source": [
    "<h3 id=\"sort\">Sorting</h3>\n"
   ]
  },
  {
   "cell_type": "markdown",
   "id": "be3956d7",
   "metadata": {},
   "source": [
    " Consider the following tuple:\n"
   ]
  },
  {
   "cell_type": "code",
   "execution_count": 47,
   "id": "6623d056",
   "metadata": {
    "jupyter": {
     "outputs_hidden": true
    }
   },
   "outputs": [],
   "source": [
    "# A sample tuple\n",
    "\n",
    "Ratings = (0, 9, 6, 5, 10, 8, 9, 6, 2)"
   ]
  },
  {
   "cell_type": "markdown",
   "id": "38fd19cc",
   "metadata": {},
   "source": [
    "We can sort the values in a tuple and save it to a new tuple: \n"
   ]
  },
  {
   "cell_type": "code",
   "execution_count": 48,
   "id": "157a3a08",
   "metadata": {},
   "outputs": [
    {
     "data": {
      "text/plain": [
       "[0, 2, 5, 6, 6, 8, 9, 9, 10]"
      ]
     },
     "execution_count": 48,
     "metadata": {},
     "output_type": "execute_result"
    }
   ],
   "source": [
    "# Sort the tuple\n",
    "\n",
    "RatingsSorted = sorted(Ratings)\n",
    "RatingsSorted"
   ]
  },
  {
   "cell_type": "markdown",
   "id": "1700dccd",
   "metadata": {},
   "source": [
    "<h3 id=\"nest\">Nested Tuple</h3>\n"
   ]
  },
  {
   "cell_type": "markdown",
   "id": "7bc95a43",
   "metadata": {},
   "source": [
    "A tuple can contain another tuple as well as other more complex data types. This process is called 'nesting'. Consider the following tuple with several elements: \n"
   ]
  },
  {
   "cell_type": "code",
   "execution_count": 49,
   "id": "08e17e1f",
   "metadata": {
    "jupyter": {
     "outputs_hidden": true
    }
   },
   "outputs": [],
   "source": [
    "# Create a nest tuple\n",
    "\n",
    "NestedT =(1, 2, (\"pop\", \"rock\") ,(3,4),(\"disco\",(1,2)))"
   ]
  },
  {
   "cell_type": "markdown",
   "id": "ab86f64c",
   "metadata": {},
   "source": [
    "Each element in the tuple, including other tuples, can be obtained via an index as shown in the figure:\n"
   ]
  },
  {
   "cell_type": "markdown",
   "id": "744ea081",
   "metadata": {},
   "source": [
    "<img src=\"https://cf-courses-data.s3.us.cloud-object-storage.appdomain.cloud/IBMDeveloperSkillsNetwork-PY0101EN-SkillsNetwork/labs/Module%202/images/TuplesNestOne.png\" width=\"750\" align=\"center\">\n"
   ]
  },
  {
   "cell_type": "code",
   "execution_count": 50,
   "id": "01bde7b0",
   "metadata": {},
   "outputs": [
    {
     "name": "stdout",
     "output_type": "stream",
     "text": [
      "Element 0 of Tuple:  1\n",
      "Element 1 of Tuple:  2\n",
      "Element 2 of Tuple:  ('pop', 'rock')\n",
      "Element 3 of Tuple:  (3, 4)\n",
      "Element 4 of Tuple:  ('disco', (1, 2))\n"
     ]
    }
   ],
   "source": [
    "# Print element on each index\n",
    "\n",
    "print(\"Element 0 of Tuple: \", NestedT[0])\n",
    "print(\"Element 1 of Tuple: \", NestedT[1])\n",
    "print(\"Element 2 of Tuple: \", NestedT[2])\n",
    "print(\"Element 3 of Tuple: \", NestedT[3])\n",
    "print(\"Element 4 of Tuple: \", NestedT[4])"
   ]
  },
  {
   "cell_type": "markdown",
   "id": "043947d0",
   "metadata": {},
   "source": [
    "We can use the second index to access other tuples as demonstrated in the figure:\n"
   ]
  },
  {
   "cell_type": "markdown",
   "id": "b3e61cee",
   "metadata": {},
   "source": [
    "<img src=\"https://cf-courses-data.s3.us.cloud-object-storage.appdomain.cloud/IBMDeveloperSkillsNetwork-PY0101EN-SkillsNetwork/labs/Module%202/images/TuplesNestTwo.png\" width=\"750\" align=\"center\">\n"
   ]
  },
  {
   "cell_type": "markdown",
   "id": "8f703c5c",
   "metadata": {},
   "source": [
    " We can access the nested tuples:\n"
   ]
  },
  {
   "cell_type": "code",
   "execution_count": 51,
   "id": "e36d791c",
   "metadata": {},
   "outputs": [
    {
     "name": "stdout",
     "output_type": "stream",
     "text": [
      "Element 2, 0 of Tuple:  pop\n",
      "Element 2, 1 of Tuple:  rock\n",
      "Element 3, 0 of Tuple:  3\n",
      "Element 3, 1 of Tuple:  4\n",
      "Element 4, 0 of Tuple:  disco\n",
      "Element 4, 1 of Tuple:  (1, 2)\n"
     ]
    }
   ],
   "source": [
    "# Print element on each index, including nest indexes\n",
    "\n",
    "print(\"Element 2, 0 of Tuple: \",   NestedT[2][0])\n",
    "print(\"Element 2, 1 of Tuple: \",   NestedT[2][1])\n",
    "print(\"Element 3, 0 of Tuple: \",   NestedT[3][0])\n",
    "print(\"Element 3, 1 of Tuple: \",   NestedT[3][1])\n",
    "print(\"Element 4, 0 of Tuple: \",   NestedT[4][0])\n",
    "print(\"Element 4, 1 of Tuple: \",   NestedT[4][1])"
   ]
  },
  {
   "cell_type": "markdown",
   "id": "44eb0434",
   "metadata": {},
   "source": [
    "We can access strings in the second nested tuples using a third index:\n"
   ]
  },
  {
   "cell_type": "code",
   "execution_count": 52,
   "id": "02c54bf5",
   "metadata": {},
   "outputs": [
    {
     "data": {
      "text/plain": [
       "'r'"
      ]
     },
     "execution_count": 52,
     "metadata": {},
     "output_type": "execute_result"
    }
   ],
   "source": [
    "# Print the first element in the second nested tuples\n",
    "\n",
    "NestedT[2][1][0]"
   ]
  },
  {
   "cell_type": "code",
   "execution_count": 53,
   "id": "68d445a6",
   "metadata": {},
   "outputs": [
    {
     "data": {
      "text/plain": [
       "'o'"
      ]
     },
     "execution_count": 53,
     "metadata": {},
     "output_type": "execute_result"
    }
   ],
   "source": [
    "# Print the second element in the second nested tuples\n",
    "\n",
    "NestedT[2][1][1]"
   ]
  },
  {
   "cell_type": "markdown",
   "id": "c14b3bcc",
   "metadata": {},
   "source": [
    " We can use a tree to visualise the process. Each new index corresponds to a deeper level in the tree:\n"
   ]
  },
  {
   "cell_type": "markdown",
   "id": "5961cad4",
   "metadata": {},
   "source": [
    "<img src=\"https://cf-courses-data.s3.us.cloud-object-storage.appdomain.cloud/IBMDeveloperSkillsNetwork-PY0101EN-SkillsNetwork/labs/Module%202/images/TuplesNestThree.gif\" width=\"750\" align=\"center\">\n"
   ]
  },
  {
   "cell_type": "markdown",
   "id": "d3e98a0e",
   "metadata": {},
   "source": [
    "Similarly, we can access elements nested deeper in the tree with a third index:\n"
   ]
  },
  {
   "cell_type": "code",
   "execution_count": 54,
   "id": "e9080ee1",
   "metadata": {},
   "outputs": [
    {
     "data": {
      "text/plain": [
       "1"
      ]
     },
     "execution_count": 54,
     "metadata": {},
     "output_type": "execute_result"
    }
   ],
   "source": [
    "# Print the first element in the second nested tuples\n",
    "\n",
    "NestedT[4][1][0]"
   ]
  },
  {
   "cell_type": "code",
   "execution_count": 55,
   "id": "ecfce6cd",
   "metadata": {},
   "outputs": [
    {
     "data": {
      "text/plain": [
       "2"
      ]
     },
     "execution_count": 55,
     "metadata": {},
     "output_type": "execute_result"
    }
   ],
   "source": [
    "# Print the second element in the second nested tuples\n",
    "\n",
    "NestedT[4][1][1]"
   ]
  },
  {
   "cell_type": "markdown",
   "id": "0d7bb386",
   "metadata": {},
   "source": [
    "The following figure shows the relationship of the tree and the element <code>NestedT[4][1][1]</code>:\n"
   ]
  },
  {
   "cell_type": "markdown",
   "id": "a59cca85",
   "metadata": {},
   "source": [
    "<img src=\"https://cf-courses-data.s3.us.cloud-object-storage.appdomain.cloud/IBMDeveloperSkillsNetwork-PY0101EN-SkillsNetwork/labs/Module%202/images/TuplesNestFour.gif\" width=\"750\" align=\"center\">\n"
   ]
  },
  {
   "cell_type": "markdown",
   "id": "f514a854",
   "metadata": {},
   "source": [
    "<h2 id=\"quiz\">Quiz on Tuples</h2>\n"
   ]
  },
  {
   "cell_type": "markdown",
   "id": "3efa4a2c",
   "metadata": {},
   "source": [
    "Consider the following tuple:\n"
   ]
  },
  {
   "cell_type": "code",
   "execution_count": 56,
   "id": "0c0828b8",
   "metadata": {},
   "outputs": [
    {
     "data": {
      "text/plain": [
       "('pop',\n",
       " 'rock',\n",
       " 'soul',\n",
       " 'hard rock',\n",
       " 'soft rock',\n",
       " 'R&B',\n",
       " 'progressive rock',\n",
       " 'disco')"
      ]
     },
     "execution_count": 56,
     "metadata": {},
     "output_type": "execute_result"
    }
   ],
   "source": [
    "# sample tuple\n",
    "\n",
    "genres_tuple = (\"pop\", \"rock\", \"soul\", \"hard rock\", \"soft rock\", \\\n",
    "                \"R&B\", \"progressive rock\", \"disco\") \n",
    "genres_tuple"
   ]
  },
  {
   "cell_type": "markdown",
   "id": "97ab5b78",
   "metadata": {},
   "source": [
    "Find the length of the tuple, <code>genres_tuple</code>:\n"
   ]
  },
  {
   "cell_type": "code",
   "execution_count": 58,
   "id": "d1bffdfd",
   "metadata": {},
   "outputs": [
    {
     "data": {
      "text/plain": [
       "8"
      ]
     },
     "execution_count": 58,
     "metadata": {},
     "output_type": "execute_result"
    }
   ],
   "source": [
    "# Write your code below and press Shift+Enter to execute\n",
    "len(genres_tuple)"
   ]
  },
  {
   "cell_type": "markdown",
   "id": "d78d8df6",
   "metadata": {},
   "source": [
    "<img src=\"https://cf-courses-data.s3.us.cloud-object-storage.appdomain.cloud/IBMDeveloperSkillsNetwork-PY0101EN-SkillsNetwork/labs/Module%202/images/TuplesQuiz.png\" width=\"1100\" align=\"center\">\n"
   ]
  },
  {
   "cell_type": "markdown",
   "id": "62115187",
   "metadata": {},
   "source": [
    "<details><summary>Click here for the solution</summary>\n",
    "\n",
    "```python\n",
    "len(genres_tuple)\n",
    "```\n",
    "\n",
    "</details>\n"
   ]
  },
  {
   "cell_type": "markdown",
   "id": "3cc1d174",
   "metadata": {},
   "source": [
    "Access the element, with respect to index 3: \n"
   ]
  },
  {
   "cell_type": "code",
   "execution_count": 59,
   "id": "c58bfbf5",
   "metadata": {},
   "outputs": [
    {
     "data": {
      "text/plain": [
       "'hard rock'"
      ]
     },
     "execution_count": 59,
     "metadata": {},
     "output_type": "execute_result"
    }
   ],
   "source": [
    "# Write your code below and press Shift+Enter to execute\n",
    "genres_tuple[3]"
   ]
  },
  {
   "cell_type": "markdown",
   "id": "a9d099f9",
   "metadata": {},
   "source": [
    "<details><summary>Click here for the solution</summary>\n",
    "\n",
    "```python\n",
    "genres_tuple[3]\n",
    "\n",
    "```\n",
    "\n",
    "</details>\n"
   ]
  },
  {
   "cell_type": "markdown",
   "id": "2131958c",
   "metadata": {},
   "source": [
    "Use slicing to obtain indexes 3, 4 and 5:\n"
   ]
  },
  {
   "cell_type": "code",
   "execution_count": 60,
   "id": "0aa66ba4",
   "metadata": {},
   "outputs": [
    {
     "data": {
      "text/plain": [
       "('hard rock', 'soft rock', 'R&B')"
      ]
     },
     "execution_count": 60,
     "metadata": {},
     "output_type": "execute_result"
    }
   ],
   "source": [
    "# Write your code below and press Shift+Enter to execute\n",
    "genres_tuple[3:6]"
   ]
  },
  {
   "cell_type": "markdown",
   "id": "2f5cfd40",
   "metadata": {},
   "source": [
    "<details><summary>Click here for the solution</summary>\n",
    "\n",
    "```python\n",
    "genres_tuple[3:6]\n",
    "\n",
    "```\n",
    "\n",
    "</details>\n"
   ]
  },
  {
   "cell_type": "markdown",
   "id": "fb44c9e3",
   "metadata": {},
   "source": [
    "Find the first two elements of the tuple <code>genres_tuple</code>:\n"
   ]
  },
  {
   "cell_type": "code",
   "execution_count": 64,
   "id": "292c3c09",
   "metadata": {},
   "outputs": [
    {
     "data": {
      "text/plain": [
       "('pop', 'rock')"
      ]
     },
     "execution_count": 64,
     "metadata": {},
     "output_type": "execute_result"
    }
   ],
   "source": [
    "# Write your code below and press Shift+Enter to execute\n",
    "genres_tuple[:2]"
   ]
  },
  {
   "cell_type": "markdown",
   "id": "6f01e6a6",
   "metadata": {},
   "source": [
    "<details><summary>Click here for the solution</summary>\n",
    "\n",
    "```python\n",
    "genres_tuple[0:2]\n",
    "\n",
    "```\n",
    "\n",
    "</details>\n"
   ]
  },
  {
   "cell_type": "markdown",
   "id": "69aebc48",
   "metadata": {},
   "source": [
    "Find the first index of <code>\"disco\"</code>:\n"
   ]
  },
  {
   "cell_type": "code",
   "execution_count": 65,
   "id": "605042f0",
   "metadata": {},
   "outputs": [
    {
     "data": {
      "text/plain": [
       "7"
      ]
     },
     "execution_count": 65,
     "metadata": {},
     "output_type": "execute_result"
    }
   ],
   "source": [
    "# Write your code below and press Shift+Enter to execute\n",
    "genres_tuple.index(\"disco\")"
   ]
  },
  {
   "cell_type": "markdown",
   "id": "d8717a3f",
   "metadata": {},
   "source": [
    "<details><summary>Click here for the solution</summary>\n",
    "\n",
    "```python\n",
    "genres_tuple.index(\"disco\")\n",
    "\n",
    "```\n",
    "\n",
    "</details>\n"
   ]
  },
  {
   "cell_type": "markdown",
   "id": "e04d0a15",
   "metadata": {},
   "source": [
    "Generate a sorted List from the Tuple <code>C_tuple=(-5, 1, -3)</code>:\n"
   ]
  },
  {
   "cell_type": "code",
   "execution_count": 70,
   "id": "caa0e97a",
   "metadata": {},
   "outputs": [
    {
     "data": {
      "text/plain": [
       "[-5, -3, 1]"
      ]
     },
     "execution_count": 70,
     "metadata": {},
     "output_type": "execute_result"
    }
   ],
   "source": [
    "# Write your code below and press Shift+Enter to execute\n",
    "C_tuple = [-5, 1, -3]\n",
    "C_sorted= sorted(C_tuple)\n",
    "C_sorted"
   ]
  },
  {
   "cell_type": "markdown",
   "id": "76e79949",
   "metadata": {},
   "source": [
    "<details><summary>Click here for the solution</summary>\n",
    "\n",
    "```python\n",
    "C_tuple = (-5, 1, -3)\n",
    "C_list = sorted(C_tuple)\n",
    "C_list\n",
    "\n",
    "```\n",
    "\n",
    "</details>\n"
   ]
  }
 ],
 "metadata": {
  "kernelspec": {
   "display_name": "Python 3 (ipykernel)",
   "language": "python",
   "name": "python3"
  },
  "language_info": {
   "codemirror_mode": {
    "name": "ipython",
    "version": 3
   },
   "file_extension": ".py",
   "mimetype": "text/x-python",
   "name": "python",
   "nbconvert_exporter": "python",
   "pygments_lexer": "ipython3",
   "version": "3.9.16"
  }
 },
 "nbformat": 4,
 "nbformat_minor": 5
}
