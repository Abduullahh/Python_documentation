{
 "cells": [
  {
   "cell_type": "markdown",
   "id": "2225b48f",
   "metadata": {},
   "source": [
    "# Python basics"
   ]
  },
  {
   "cell_type": "markdown",
   "id": "4492022d",
   "metadata": {},
   "source": [
    "### print() method"
   ]
  },
  {
   "cell_type": "code",
   "execution_count": 1,
   "id": "13e96d7b",
   "metadata": {},
   "outputs": [
    {
     "name": "stdout",
     "output_type": "stream",
     "text": [
      "Hello, Python!\n"
     ]
    }
   ],
   "source": [
    "# Try your first Python output\n",
    "\n",
    "print('Hello, Python!')"
   ]
  },
  {
   "cell_type": "markdown",
   "id": "e31aaa69",
   "metadata": {},
   "source": [
    "<hr/>\n",
    "<div class=\"alert alert-success alertsuccess\" style=\"margin-top: 20px\">\n",
    "    [Tip:] <code>print()</code> is a function. You passed the string <code>'Hello, Python!'</code> as an argument to instruct Python on what to print.\n",
    "</div>\n",
    "<hr/>\n"
   ]
  },
  {
   "cell_type": "markdown",
   "id": "3bc2977d",
   "metadata": {},
   "source": [
    "<h3 id=\"comments\">Writing comments in Python</h3>\n"
   ]
  },
  {
   "cell_type": "markdown",
   "id": "2a06e38f",
   "metadata": {},
   "source": [
    "<p>\n",
    "    In addition to writing code, note that it's always a good idea to add comments to your code. It will help others understand what you were trying to accomplish (the reason why you wrote a given snippet of code). Not only does this help <strong>other people</strong> understand your code, it can also serve as a reminder <strong>to you</strong> when you come back to it weeks or months later.</p>\n",
    "\n",
    "<p>\n",
    "    To write comments in Python, use the number symbol <code>#</code> before writing your comment. When you run your code, Python will ignore everything past the <code>#</code> on a given line.\n",
    "</p>\n"
   ]
  },
  {
   "cell_type": "code",
   "execution_count": 2,
   "id": "49f232c2",
   "metadata": {},
   "outputs": [
    {
     "name": "stdout",
     "output_type": "stream",
     "text": [
      "Hello, Python!\n"
     ]
    }
   ],
   "source": [
    "# Practice on writing comments\n",
    "\n",
    "print('Hello, Python!') # This line prints a string\n",
    "# print('Hi')"
   ]
  },
  {
   "cell_type": "markdown",
   "id": "94af9d75",
   "metadata": {},
   "source": [
    "<p>\n",
    "    After executing the cell above, you should notice that <code>This line prints a string</code> did not appear in the output, because it was a comment (and thus ignored by Python).\n",
    "</p>\n",
    "<p>\n",
    "    The second line was also not executed because <code>print('Hi')</code> was preceded by the number sign (<code>#</code>) as well! Since this isn't an explanatory comment from the programmer, but an actual line of code, we might say that the programmer <em>commented out</em> that second line of code.\n",
    "</p>\n"
   ]
  },
  {
   "cell_type": "markdown",
   "id": "5f1f5e0d",
   "metadata": {},
   "source": [
    "<hr>\n"
   ]
  },
  {
   "cell_type": "markdown",
   "id": "bfb1813d",
   "metadata": {},
   "source": [
    "<h2 id=\"types_objects\" align=\"center\">Types of objects in Python</h2>\n"
   ]
  },
  {
   "cell_type": "markdown",
   "id": "997d5f27",
   "metadata": {},
   "source": [
    "<p>Python is an object-oriented language. There are many different types of objects in Python. Let's start with the most common object types: <i>strings</i>, <i>integers</i> and <i>floats</i>. Anytime you write words (text) in Python, you're using <i>character strings</i> (strings for short). The most common numbers, on the other hand, are <i>integers</i> (e.g. -1, 0, 100) and <i>floats</i>, which represent real numbers (e.g. 3.14, -42.0).</p>\n"
   ]
  },
  {
   "cell_type": "markdown",
   "id": "7687bc00",
   "metadata": {},
   "source": [
    "<a align=\"center\">\n",
    "    <img src=\"https://cf-courses-data.s3.us.cloud-object-storage.appdomain.cloud/IBMDeveloperSkillsNetwork-PY0101EN-SkillsNetwork/labs/Module%201/images/TypesObjects.png\" width=\"600\">\n",
    "</a>\n"
   ]
  },
  {
   "cell_type": "markdown",
   "id": "4304d3e3",
   "metadata": {},
   "source": [
    "<p>The following code cells contain some examples.</p>\n"
   ]
  },
  {
   "cell_type": "code",
   "execution_count": 3,
   "id": "941bca8d",
   "metadata": {},
   "outputs": [
    {
     "data": {
      "text/plain": [
       "11"
      ]
     },
     "execution_count": 3,
     "metadata": {},
     "output_type": "execute_result"
    }
   ],
   "source": [
    "# Integer\n",
    "\n",
    "11"
   ]
  },
  {
   "cell_type": "code",
   "execution_count": 4,
   "id": "8a38b79a",
   "metadata": {},
   "outputs": [
    {
     "data": {
      "text/plain": [
       "2.14"
      ]
     },
     "execution_count": 4,
     "metadata": {},
     "output_type": "execute_result"
    }
   ],
   "source": [
    "# Float\n",
    "\n",
    "2.14"
   ]
  },
  {
   "cell_type": "code",
   "execution_count": 5,
   "id": "0ae5a1f3",
   "metadata": {},
   "outputs": [
    {
     "data": {
      "text/plain": [
       "'Hello, Python 101!'"
      ]
     },
     "execution_count": 5,
     "metadata": {},
     "output_type": "execute_result"
    }
   ],
   "source": [
    "# String\n",
    "\n",
    "\"Hello, Python 101!\""
   ]
  },
  {
   "cell_type": "markdown",
   "id": "c2f46dcf",
   "metadata": {},
   "source": [
    "<p>You can get Python to tell you the type of an expression by using the built-in <code>type()</code> function. You'll notice that Python refers to integers as <code>int</code>, floats as <code>float</code>, and character strings as <code>str</code>.</p>\n"
   ]
  },
  {
   "cell_type": "code",
   "execution_count": 6,
   "id": "1697e162",
   "metadata": {},
   "outputs": [
    {
     "data": {
      "text/plain": [
       "int"
      ]
     },
     "execution_count": 6,
     "metadata": {},
     "output_type": "execute_result"
    }
   ],
   "source": [
    "# Type of 12\n",
    "\n",
    "type(12)"
   ]
  },
  {
   "cell_type": "code",
   "execution_count": 7,
   "id": "febbd0c0",
   "metadata": {},
   "outputs": [
    {
     "data": {
      "text/plain": [
       "float"
      ]
     },
     "execution_count": 7,
     "metadata": {},
     "output_type": "execute_result"
    }
   ],
   "source": [
    "# Type of 2.14\n",
    "\n",
    "type(2.14)"
   ]
  },
  {
   "cell_type": "code",
   "execution_count": 8,
   "id": "13a98a42",
   "metadata": {},
   "outputs": [
    {
     "data": {
      "text/plain": [
       "str"
      ]
     },
     "execution_count": 8,
     "metadata": {},
     "output_type": "execute_result"
    }
   ],
   "source": [
    "# Type of \"Hello, Python 101!\"\n",
    "\n",
    "type(\"Hello, Python 101!\")"
   ]
  },
  {
   "cell_type": "markdown",
   "id": "d219c5c5",
   "metadata": {},
   "source": [
    "<p>In the code cell below, use the <code>type()</code> function to check the object type of <code>12.0</code>.\n"
   ]
  },
  {
   "cell_type": "code",
   "execution_count": 9,
   "id": "c6f993ec",
   "metadata": {},
   "outputs": [
    {
     "data": {
      "text/plain": [
       "float"
      ]
     },
     "execution_count": 9,
     "metadata": {},
     "output_type": "execute_result"
    }
   ],
   "source": [
    "# Write your code below. Don't forget to press Shift+Enter to execute the cell\n",
    "type(12.0)"
   ]
  },
  {
   "cell_type": "markdown",
   "id": "c40b327e",
   "metadata": {},
   "source": [
    "<details><summary>Click here for the solution</summary>\n",
    "\n",
    "```python\n",
    "type(12.0)\n",
    "\n",
    "```\n",
    "\n",
    "</details>\n"
   ]
  },
  {
   "cell_type": "markdown",
   "id": "4e61508d",
   "metadata": {},
   "source": [
    "<h3 id=\"int\">Integers</h3>\n"
   ]
  },
  {
   "cell_type": "markdown",
   "id": "391d63ae",
   "metadata": {},
   "source": [
    "<p>Here are some examples of integers. Integers can be negative or positive numbers:</p>\n"
   ]
  },
  {
   "cell_type": "markdown",
   "id": "80466f5f",
   "metadata": {},
   "source": [
    "<a align=\"center\">\n",
    "    <img src=\"https://cf-courses-data.s3.us.cloud-object-storage.appdomain.cloud/IBMDeveloperSkillsNetwork-PY0101EN-SkillsNetwork/labs/Module%201/images/TypesInt.png\" width=\"600\">\n",
    "</a>\n"
   ]
  },
  {
   "cell_type": "markdown",
   "id": "ffa565dc",
   "metadata": {},
   "source": [
    "<p>We can verify this is the case by using, you guessed it, the <code>type()</code> function:\n"
   ]
  },
  {
   "cell_type": "code",
   "execution_count": 10,
   "id": "166f4730",
   "metadata": {},
   "outputs": [
    {
     "data": {
      "text/plain": [
       "int"
      ]
     },
     "execution_count": 10,
     "metadata": {},
     "output_type": "execute_result"
    }
   ],
   "source": [
    "# Print the type of -1\n",
    "\n",
    "type(-1)"
   ]
  },
  {
   "cell_type": "code",
   "execution_count": 11,
   "id": "efa7cf3a",
   "metadata": {},
   "outputs": [
    {
     "data": {
      "text/plain": [
       "int"
      ]
     },
     "execution_count": 11,
     "metadata": {},
     "output_type": "execute_result"
    }
   ],
   "source": [
    "# Print the type of 4\n",
    "\n",
    "type(4)"
   ]
  },
  {
   "cell_type": "code",
   "execution_count": 12,
   "id": "e47c2257",
   "metadata": {},
   "outputs": [
    {
     "data": {
      "text/plain": [
       "int"
      ]
     },
     "execution_count": 12,
     "metadata": {},
     "output_type": "execute_result"
    }
   ],
   "source": [
    "# Print the type of 0\n",
    "\n",
    "type(0)"
   ]
  },
  {
   "cell_type": "markdown",
   "id": "df0e6a3a",
   "metadata": {},
   "source": [
    "<h3 id=\"float\">Floats</h3> \n"
   ]
  },
  {
   "cell_type": "markdown",
   "id": "19397c54",
   "metadata": {},
   "source": [
    "<p>Floats represent real numbers; they are a superset of integer numbers but also include \"numbers with decimals\". There are some limitations when it comes to machines representing real numbers, but floating point numbers are a good representation in most cases. You can learn more about the specifics of floats for your runtime environment, by checking the value of <code>sys.float_info</code>. This will also tell you what's the largest and smallest number that can be represented with them.</p>\n",
    "\n",
    "<p>Once again, can test some examples with the <code>type()</code> function:\n"
   ]
  },
  {
   "cell_type": "code",
   "execution_count": 13,
   "id": "46fd093e",
   "metadata": {},
   "outputs": [
    {
     "data": {
      "text/plain": [
       "float"
      ]
     },
     "execution_count": 13,
     "metadata": {},
     "output_type": "execute_result"
    }
   ],
   "source": [
    "# Print the type of 1.0\n",
    "\n",
    "type(1.0) # Notice that 1 is an int, and 1.0 is a float"
   ]
  },
  {
   "cell_type": "code",
   "execution_count": 14,
   "id": "16c83204",
   "metadata": {},
   "outputs": [
    {
     "data": {
      "text/plain": [
       "float"
      ]
     },
     "execution_count": 14,
     "metadata": {},
     "output_type": "execute_result"
    }
   ],
   "source": [
    "# Print the type of 0.5\n",
    "\n",
    "type(0.5)"
   ]
  },
  {
   "cell_type": "code",
   "execution_count": 15,
   "id": "5d38cda6",
   "metadata": {},
   "outputs": [
    {
     "data": {
      "text/plain": [
       "float"
      ]
     },
     "execution_count": 15,
     "metadata": {},
     "output_type": "execute_result"
    }
   ],
   "source": [
    "# Print the type of 0.56\n",
    "\n",
    "type(0.56)"
   ]
  },
  {
   "cell_type": "markdown",
   "id": "a15f17d2",
   "metadata": {},
   "source": [
    "<h3 id=\"convert\">Converting from one object type to a different object type</h3>\n"
   ]
  },
  {
   "cell_type": "markdown",
   "id": "56309707",
   "metadata": {},
   "source": [
    "<p>You can change the type of the object in Python; this is called typecasting. For example, you can convert an <i>integer</i> into a <i>float</i> (e.g. 2 to 2.0).</p>\n",
    "<p>Let's try it:</p>\n"
   ]
  },
  {
   "cell_type": "code",
   "execution_count": 16,
   "id": "331f2e7f",
   "metadata": {},
   "outputs": [
    {
     "data": {
      "text/plain": [
       "int"
      ]
     },
     "execution_count": 16,
     "metadata": {},
     "output_type": "execute_result"
    }
   ],
   "source": [
    "# Verify that this is an integer\n",
    "\n",
    "type(2)"
   ]
  },
  {
   "cell_type": "markdown",
   "id": "2b95b376",
   "metadata": {},
   "source": [
    "<h4>Converting integers to floats</h4>\n",
    "<p>Let's cast integer 2 to float:</p>\n"
   ]
  },
  {
   "cell_type": "code",
   "execution_count": 17,
   "id": "aaea4b2a",
   "metadata": {},
   "outputs": [
    {
     "data": {
      "text/plain": [
       "2.0"
      ]
     },
     "execution_count": 17,
     "metadata": {},
     "output_type": "execute_result"
    }
   ],
   "source": [
    "# Convert 2 to a float\n",
    "\n",
    "float(2)"
   ]
  },
  {
   "cell_type": "code",
   "execution_count": 18,
   "id": "4ffea914",
   "metadata": {},
   "outputs": [
    {
     "data": {
      "text/plain": [
       "float"
      ]
     },
     "execution_count": 18,
     "metadata": {},
     "output_type": "execute_result"
    }
   ],
   "source": [
    "# Convert integer 2 to a float and check its type\n",
    "\n",
    "type(float(2))"
   ]
  },
  {
   "cell_type": "markdown",
   "id": "0d1916d8",
   "metadata": {},
   "source": [
    "<p>When we convert an integer into a float, we don't really change the value (i.e., the significand) of the number. However, if we cast a float into an integer, we could potentially lose some information. For example, if we cast the float 1.1 to integer we will get 1 and lose the decimal information (i.e., 0.1):</p>\n"
   ]
  },
  {
   "cell_type": "code",
   "execution_count": 19,
   "id": "01f57149",
   "metadata": {},
   "outputs": [
    {
     "data": {
      "text/plain": [
       "1"
      ]
     },
     "execution_count": 19,
     "metadata": {},
     "output_type": "execute_result"
    }
   ],
   "source": [
    "# Casting 1.1 to integer will result in loss of information\n",
    "\n",
    "int(1.1)"
   ]
  },
  {
   "cell_type": "markdown",
   "id": "7b6e598d",
   "metadata": {},
   "source": [
    "<h4>Converting from strings to integers or floats</h4>\n"
   ]
  },
  {
   "cell_type": "markdown",
   "id": "1d8a257c",
   "metadata": {},
   "source": [
    "<p>Sometimes, we can have a string that contains a number within it. If this is the case, we can cast that string that represents a number into an integer using <code>int()</code>:</p>\n"
   ]
  },
  {
   "cell_type": "code",
   "execution_count": 20,
   "id": "79134517",
   "metadata": {},
   "outputs": [
    {
     "data": {
      "text/plain": [
       "1"
      ]
     },
     "execution_count": 20,
     "metadata": {},
     "output_type": "execute_result"
    }
   ],
   "source": [
    "# Convert a string into an integer\n",
    "\n",
    "int('1')"
   ]
  },
  {
   "cell_type": "markdown",
   "id": "c539359e",
   "metadata": {},
   "source": [
    "<p>But if you try to do so with a string that is not a perfect match for a number, you'll get an error. Try the following:</p>\n"
   ]
  },
  {
   "cell_type": "code",
   "execution_count": 21,
   "id": "f4b61cd3",
   "metadata": {},
   "outputs": [
    {
     "ename": "ValueError",
     "evalue": "invalid literal for int() with base 10: '1 or 2 people'",
     "output_type": "error",
     "traceback": [
      "\u001b[1;31m---------------------------------------------------------------------------\u001b[0m",
      "\u001b[1;31mValueError\u001b[0m                                Traceback (most recent call last)",
      "Cell \u001b[1;32mIn[21], line 3\u001b[0m\n\u001b[0;32m      1\u001b[0m \u001b[38;5;66;03m# Convert a string into an integer with error\u001b[39;00m\n\u001b[1;32m----> 3\u001b[0m \u001b[38;5;28;43mint\u001b[39;49m\u001b[43m(\u001b[49m\u001b[38;5;124;43m'\u001b[39;49m\u001b[38;5;124;43m1 or 2 people\u001b[39;49m\u001b[38;5;124;43m'\u001b[39;49m\u001b[43m)\u001b[49m\n",
      "\u001b[1;31mValueError\u001b[0m: invalid literal for int() with base 10: '1 or 2 people'"
     ]
    }
   ],
   "source": [
    "# Convert a string into an integer with error\n",
    "\n",
    "int('1 or 2 people')"
   ]
  },
  {
   "cell_type": "markdown",
   "id": "ad62fdcd",
   "metadata": {},
   "source": [
    "<p>You can also convert strings containing floating point numbers into <i>float</i> objects:</p>\n"
   ]
  },
  {
   "cell_type": "code",
   "execution_count": null,
   "id": "ddab2e51",
   "metadata": {},
   "outputs": [],
   "source": [
    "# Convert the string \"1.2\" into a float\n",
    "\n",
    "float('1.2')"
   ]
  },
  {
   "cell_type": "markdown",
   "id": "db2a5820",
   "metadata": {},
   "source": [
    "<hr/>\n",
    "<div class=\"alert alert-success alertsuccess\" style=\"margin-top: 20px\">\n",
    "    [Tip:] Note that strings can be represented with single quotes (<code>'1.2'</code>) or double quotes (<code>\"1.2\"</code>), but you can't mix both (e.g., <code>\"1.2'</code>).\n",
    "</div>\n",
    "<hr/>\n"
   ]
  },
  {
   "cell_type": "markdown",
   "id": "f55b2172",
   "metadata": {},
   "source": [
    "<h4>Converting numbers to strings</h4>\n"
   ]
  },
  {
   "cell_type": "markdown",
   "id": "1fe4ceb7",
   "metadata": {},
   "source": [
    "<p>If we can convert strings to numbers, it is only natural to assume that we can convert numbers to strings, right?</p>\n"
   ]
  },
  {
   "cell_type": "code",
   "execution_count": null,
   "id": "1a5e1121",
   "metadata": {},
   "outputs": [],
   "source": [
    "# Convert an integer to a string\n",
    "\n",
    "str(1)\n"
   ]
  },
  {
   "cell_type": "markdown",
   "id": "b65ee5b9",
   "metadata": {},
   "source": [
    "<p>And there is no reason why we shouldn't be able to make floats into strings as well:</p> \n"
   ]
  },
  {
   "cell_type": "code",
   "execution_count": null,
   "id": "7ca6adf3",
   "metadata": {},
   "outputs": [],
   "source": [
    "# Convert a float to a string\n",
    "\n",
    "str(1.2)"
   ]
  },
  {
   "cell_type": "markdown",
   "id": "3dce13c7",
   "metadata": {},
   "source": [
    "<h3 id=\"bool\">Boolean data type</h3>\n"
   ]
  },
  {
   "cell_type": "markdown",
   "id": "7af1d849",
   "metadata": {},
   "source": [
    "<p><i>Boolean</i> is another important type in Python. An object of type <i>Boolean</i> can take on one of two values: <code>True</code> or <code>False</code>:</p>\n"
   ]
  },
  {
   "cell_type": "code",
   "execution_count": null,
   "id": "c2fb3de7",
   "metadata": {},
   "outputs": [],
   "source": [
    "# Value true\n",
    "\n",
    "True"
   ]
  },
  {
   "cell_type": "markdown",
   "id": "1b15a9c5",
   "metadata": {},
   "source": [
    "<p>Notice that the value <code>True</code> has an uppercase \"T\". The same is true for <code>False</code> (i.e. you must use the uppercase \"F\").</p>\n"
   ]
  },
  {
   "cell_type": "code",
   "execution_count": null,
   "id": "1ead2064",
   "metadata": {},
   "outputs": [],
   "source": [
    "# Value false\n",
    "\n",
    "False"
   ]
  },
  {
   "cell_type": "markdown",
   "id": "f8cb843d",
   "metadata": {},
   "source": [
    "<p>When you ask Python to display the type of a boolean object it will show <code>bool</code> which stands for <i>boolean</i>:</p> \n"
   ]
  },
  {
   "cell_type": "code",
   "execution_count": null,
   "id": "dc3381ce",
   "metadata": {},
   "outputs": [],
   "source": [
    "# Type of True\n",
    "\n",
    "type(True)"
   ]
  },
  {
   "cell_type": "code",
   "execution_count": null,
   "id": "7510a8b5",
   "metadata": {},
   "outputs": [],
   "source": [
    "# Type of False\n",
    "\n",
    "type(False)"
   ]
  },
  {
   "cell_type": "markdown",
   "id": "b0931b5d",
   "metadata": {},
   "source": [
    "<p>We can cast boolean objects to other data types. If we cast a boolean with a value of <code>True</code> to an integer or float we will get a one. If we cast a boolean with a value of <code>False</code> to an integer or float we will get a zero. Similarly, if we cast a 1 to a Boolean, you get a <code>True</code>. And if we cast a 0 to a Boolean we will get a <code>False</code>. Let's give it a try:</p> \n"
   ]
  },
  {
   "cell_type": "code",
   "execution_count": null,
   "id": "3de16494",
   "metadata": {},
   "outputs": [],
   "source": [
    "# Convert True to int\n",
    "\n",
    "int(True)"
   ]
  },
  {
   "cell_type": "code",
   "execution_count": null,
   "id": "9e847131",
   "metadata": {},
   "outputs": [],
   "source": [
    "# Convert 1 to boolean\n",
    "\n",
    "bool(1)"
   ]
  },
  {
   "cell_type": "code",
   "execution_count": null,
   "id": "018fd0ef",
   "metadata": {},
   "outputs": [],
   "source": [
    "# Convert 0 to boolean\n",
    "\n",
    "bool(0)"
   ]
  },
  {
   "cell_type": "code",
   "execution_count": null,
   "id": "e5b32df0",
   "metadata": {},
   "outputs": [],
   "source": [
    "# Convert True to float\n",
    "\n",
    "float(True)"
   ]
  },
  {
   "cell_type": "markdown",
   "id": "09919917",
   "metadata": {},
   "source": [
    "<h3 id=\"exer_type\">Exercise: Types</h3>\n"
   ]
  },
  {
   "cell_type": "markdown",
   "id": "3d3b6dae",
   "metadata": {},
   "source": [
    "<p>What is the data type of the result of: <code>6 / 2</code>?</p>\n"
   ]
  },
  {
   "cell_type": "code",
   "execution_count": null,
   "id": "f3c8b5d4",
   "metadata": {},
   "outputs": [],
   "source": [
    "# Write your code below. Don't forget to press Shift+Enter to execute the cell\n",
    "type(6/2)"
   ]
  },
  {
   "cell_type": "markdown",
   "id": "9225dab6",
   "metadata": {},
   "source": [
    "<details><summary>Click here for the solution</summary>\n",
    "\n",
    "```python\n",
    "type(6/2) # float\n",
    "\n",
    "```\n",
    "\n",
    "</details>\n"
   ]
  },
  {
   "cell_type": "markdown",
   "id": "379954fe",
   "metadata": {},
   "source": [
    "<p>What is the type of the result of: <code>6 // 2</code>? (Note the double slash <code>//</code>.)</p>\n"
   ]
  },
  {
   "cell_type": "code",
   "execution_count": null,
   "id": "ffbbc32d",
   "metadata": {},
   "outputs": [],
   "source": [
    "# Write your code below. Don't forget to press Shift+Enter to execute the cell\n",
    "type(6//2)"
   ]
  },
  {
   "cell_type": "markdown",
   "id": "6b25d550",
   "metadata": {},
   "source": [
    "<details><summary>Click here for the solution</summary>\n",
    "\n",
    "```python\n",
    "type(6//2) # int, as the double slashes stand for integer division \n",
    "\n",
    "```\n",
    "\n",
    "</details>\n"
   ]
  },
  {
   "cell_type": "markdown",
   "id": "629ba084",
   "metadata": {},
   "source": [
    "<hr>\n"
   ]
  },
  {
   "cell_type": "markdown",
   "id": "7a90ef7c",
   "metadata": {},
   "source": [
    "<h2 id=\"expressions\">Expression and Variables</h2>\n"
   ]
  },
  {
   "cell_type": "markdown",
   "id": "a6eceb0e",
   "metadata": {},
   "source": [
    "<h3 id=\"exp\">Expressions</h3>\n"
   ]
  },
  {
   "cell_type": "markdown",
   "id": "47d03d1d",
   "metadata": {},
   "source": [
    "<p>Expressions in Python can include operations among compatible types (e.g., integers and floats). For example, basic arithmetic operations like adding multiple numbers:</p>\n"
   ]
  },
  {
   "cell_type": "code",
   "execution_count": null,
   "id": "ba0152e7",
   "metadata": {},
   "outputs": [],
   "source": [
    "# Addition operation expression\n",
    "\n",
    "43 + 60 + 16 + 41"
   ]
  },
  {
   "cell_type": "markdown",
   "id": "9448b44a",
   "metadata": {},
   "source": [
    "<p>We can perform subtraction operations using the minus operator. In this case the result is a negative number:</p>\n"
   ]
  },
  {
   "cell_type": "code",
   "execution_count": null,
   "id": "bb2375de",
   "metadata": {},
   "outputs": [],
   "source": [
    "# Subtraction operation expression\n",
    "\n",
    "50 - 60"
   ]
  },
  {
   "cell_type": "markdown",
   "id": "9545ac9d",
   "metadata": {},
   "source": [
    "<p>We can do multiplication using an asterisk:</p>\n"
   ]
  },
  {
   "cell_type": "code",
   "execution_count": null,
   "id": "db08f74c",
   "metadata": {},
   "outputs": [],
   "source": [
    "# Multiplication operation expression\n",
    "\n",
    "5 * 5"
   ]
  },
  {
   "cell_type": "markdown",
   "id": "af00287a",
   "metadata": {},
   "source": [
    "<p>We can also perform division with the forward slash:\n"
   ]
  },
  {
   "cell_type": "code",
   "execution_count": null,
   "id": "4cb96b73",
   "metadata": {},
   "outputs": [],
   "source": [
    "# Division operation expression\n",
    "\n",
    "25 / 5"
   ]
  },
  {
   "cell_type": "code",
   "execution_count": null,
   "id": "23187b9b",
   "metadata": {},
   "outputs": [],
   "source": [
    "# Division operation expression\n",
    "\n",
    "25 / 6"
   ]
  },
  {
   "cell_type": "markdown",
   "id": "eb4ff6b5",
   "metadata": {},
   "source": [
    "<p>As seen in the quiz above, we can use the double slash for integer division, where the result is rounded down to the nearest integer:\n"
   ]
  },
  {
   "cell_type": "code",
   "execution_count": null,
   "id": "40a8cfd7",
   "metadata": {},
   "outputs": [],
   "source": [
    "# Integer division operation expression\n",
    "\n",
    "25 // 5"
   ]
  },
  {
   "cell_type": "code",
   "execution_count": null,
   "id": "37414ec8",
   "metadata": {},
   "outputs": [],
   "source": [
    "# Integer division operation expression\n",
    "\n",
    "25 // 6"
   ]
  },
  {
   "cell_type": "markdown",
   "id": "d09d2061",
   "metadata": {},
   "source": [
    "<h3 id=\"exer_exp\">Exercise: Expression</h3>\n"
   ]
  },
  {
   "cell_type": "markdown",
   "id": "ccbed68e",
   "metadata": {},
   "source": [
    "<p>Let's write an expression that calculates how many hours there are in 160 minutes:\n"
   ]
  },
  {
   "cell_type": "code",
   "execution_count": null,
   "id": "8b5efbfb",
   "metadata": {},
   "outputs": [],
   "source": [
    "# Write your code below. Don't forget to press Shift+Enter to execute the cell\n",
    "160/60"
   ]
  },
  {
   "cell_type": "markdown",
   "id": "2818912b",
   "metadata": {},
   "source": [
    "<details><summary>Click here for the solution</summary>\n",
    "\n",
    "```python\n",
    "160/60 \n",
    "\n",
    "# Or \n",
    "\n",
    "160//60\n",
    "\n",
    "```\n",
    "\n",
    "</details>\n"
   ]
  },
  {
   "cell_type": "markdown",
   "id": "af76effb",
   "metadata": {},
   "source": [
    "<p>Python follows well accepted mathematical conventions when evaluating mathematical expressions. In the following example, Python adds 30 to the result of the multiplication (i.e., 120).\n"
   ]
  },
  {
   "cell_type": "code",
   "execution_count": null,
   "id": "660344ee",
   "metadata": {},
   "outputs": [],
   "source": [
    "# Mathematical expression\n",
    "\n",
    "30 + 2 * 60"
   ]
  },
  {
   "cell_type": "markdown",
   "id": "13638610",
   "metadata": {},
   "source": [
    "<p>And just like mathematics, expressions enclosed in parentheses have priority. So the following multiplies 32 by 60.\n"
   ]
  },
  {
   "cell_type": "code",
   "execution_count": null,
   "id": "2629da9c",
   "metadata": {},
   "outputs": [],
   "source": [
    "# Mathematical expression\n",
    "\n",
    "(30 + 2) * 60"
   ]
  },
  {
   "cell_type": "markdown",
   "id": "afcd4c6d",
   "metadata": {},
   "source": [
    "<h3 id=\"var\">Variables</h3>\n"
   ]
  },
  {
   "cell_type": "markdown",
   "id": "91e61d4b",
   "metadata": {},
   "source": [
    "<p>Just like with most programming languages, we can store values in <i>variables</i>, so we can use them later on. For example:</p>\n"
   ]
  },
  {
   "cell_type": "code",
   "execution_count": null,
   "id": "7ced6678",
   "metadata": {},
   "outputs": [],
   "source": [
    "# Store value into variable\n",
    "\n",
    "x = 43 + 60 + 16 + 41"
   ]
  },
  {
   "cell_type": "markdown",
   "id": "3e2c4b7b",
   "metadata": {},
   "source": [
    "<p>To see the value of <code>x</code> in a Notebook, we can simply place it on the last line of a cell:</p>\n"
   ]
  },
  {
   "cell_type": "code",
   "execution_count": null,
   "id": "aca5acfa",
   "metadata": {},
   "outputs": [],
   "source": [
    "# Print out the value in variable\n",
    "\n",
    "x"
   ]
  },
  {
   "cell_type": "markdown",
   "id": "a16d7429",
   "metadata": {},
   "source": [
    "<p>We can also perform operations on <code>x</code> and save the result to a new variable:</p>\n"
   ]
  },
  {
   "cell_type": "code",
   "execution_count": null,
   "id": "de0eefcf",
   "metadata": {},
   "outputs": [],
   "source": [
    "# Use another variable to store the result of the operation between variable and value\n",
    "\n",
    "y = x / 60\n",
    "y"
   ]
  },
  {
   "cell_type": "markdown",
   "id": "44c709d9",
   "metadata": {},
   "source": [
    "<p>If we save a value to an existing variable, the new value will overwrite the previous value:</p>\n"
   ]
  },
  {
   "cell_type": "code",
   "execution_count": null,
   "id": "c9b21071",
   "metadata": {},
   "outputs": [],
   "source": [
    "# Overwrite variable with new value\n",
    "\n",
    "x = x / 60\n",
    "x"
   ]
  },
  {
   "cell_type": "code",
   "execution_count": null,
   "id": "e9e9f6bf",
   "metadata": {},
   "outputs": [],
   "source": [
    "type(x)"
   ]
  },
  {
   "cell_type": "markdown",
   "id": "29f2c292",
   "metadata": {},
   "source": [
    "<p>It's a good practice to use meaningful variable names, so you and others can read the code and understand it more easily:</p>\n"
   ]
  },
  {
   "cell_type": "code",
   "execution_count": null,
   "id": "341f5cdf",
   "metadata": {},
   "outputs": [],
   "source": [
    "# Name the variables meaningfully\n",
    "\n",
    "total_min = 43 + 42 + 57 # Total length of albums in minutes\n",
    "total_min"
   ]
  },
  {
   "cell_type": "code",
   "execution_count": null,
   "id": "0e1636dc",
   "metadata": {},
   "outputs": [],
   "source": [
    "# Name the variables meaningfully\n",
    "\n",
    "total_hours = total_min / 60 # Total length of albums in hours \n",
    "total_hours"
   ]
  },
  {
   "cell_type": "markdown",
   "id": "855d87fd",
   "metadata": {},
   "source": [
    "<p>In the cells above we added the length of three albums in minutes and stored it in <code>total_min</code>. We then divided it by 60 to calculate total length <code>total_hours</code> in hours. You can also do it all at once in a single expression, as long as you use parenthesis to add the albums length before you divide, as shown below.</p>\n"
   ]
  },
  {
   "cell_type": "code",
   "execution_count": null,
   "id": "2d54cb74",
   "metadata": {},
   "outputs": [],
   "source": [
    "# Complicate expression\n",
    "\n",
    "total_hours = (43 + 42 + 57) / 60  # Total hours in a single expression\n",
    "total_hours"
   ]
  },
  {
   "cell_type": "markdown",
   "id": "d683ed95",
   "metadata": {},
   "source": [
    "<p>If you'd rather have total hours as an integer, you can of course replace the floating point division with integer division (i.e., <code>//</code>).</p>\n"
   ]
  },
  {
   "cell_type": "markdown",
   "id": "0bba37e4",
   "metadata": {},
   "source": [
    "<h3 id=\"exer_exp_var\">Exercise: Expression and Variables in Python</h3>\n"
   ]
  },
  {
   "cell_type": "markdown",
   "id": "8e9f41d5",
   "metadata": {},
   "source": [
    "<p>What is the value of <code>x</code> where <code>x = 3 + 2 * 2</code></p>\n"
   ]
  },
  {
   "cell_type": "code",
   "execution_count": null,
   "id": "cf9e7b7b",
   "metadata": {},
   "outputs": [],
   "source": [
    "# Write your code below. Don't forget to press Shift+Enter to execute the cell\n",
    "x = 3 + 2 * 2\n",
    "x"
   ]
  },
  {
   "cell_type": "markdown",
   "id": "4505e871",
   "metadata": {},
   "source": [
    "<details><summary>Click here for the solution</summary>\n",
    "\n",
    "```python\n",
    "7\n",
    "\n",
    "```\n",
    "\n",
    "</details>\n"
   ]
  },
  {
   "cell_type": "markdown",
   "id": "63a21f91",
   "metadata": {},
   "source": [
    "<p>What is the value of <code>y</code> where <code>y = (3 + 2) * 2</code>?</p>\n"
   ]
  },
  {
   "cell_type": "code",
   "execution_count": null,
   "id": "ae7501c4",
   "metadata": {},
   "outputs": [],
   "source": [
    "# Write your code below. Don't forget to press Shift+Enter to execute the cell\n",
    "y = (2 + 3) *2\n",
    "y"
   ]
  },
  {
   "cell_type": "markdown",
   "id": "984a2c1c",
   "metadata": {},
   "source": [
    "<details><summary>Click here for the solution</summary>\n",
    "\n",
    "```python\n",
    "10\n",
    "\n",
    "```\n",
    "\n",
    "</details>\n"
   ]
  },
  {
   "cell_type": "markdown",
   "id": "7166bf04",
   "metadata": {},
   "source": [
    "<p>What is the value of <code>z</code> where <code>z = x + y</code>?</p>\n"
   ]
  },
  {
   "cell_type": "code",
   "execution_count": null,
   "id": "969913e3",
   "metadata": {},
   "outputs": [],
   "source": [
    "# Write your code below. Don't forget to press Shift+Enter to execute the cell\n",
    "z = x + y\n",
    "z"
   ]
  },
  {
   "cell_type": "markdown",
   "id": "20645f0b",
   "metadata": {},
   "source": [
    "<details><summary>Click here for the solution</summary>\n",
    "\n",
    "```python\n",
    "17\n",
    "\n",
    "```\n",
    "\n",
    "</details>\n"
   ]
  },
  {
   "cell_type": "markdown",
   "id": "a022db71",
   "metadata": {},
   "source": [
    "<hr><br>"
   ]
  },
  {
   "cell_type": "markdown",
   "id": "2e51e9e5",
   "metadata": {},
   "source": [
    "<h2 id=\"strings\">What are Strings?</h2>\n"
   ]
  },
  {
   "cell_type": "markdown",
   "id": "ae84d011",
   "metadata": {},
   "source": [
    "The following example shows a string contained within 2 quotation marks:\n"
   ]
  },
  {
   "cell_type": "code",
   "execution_count": 1,
   "id": "d7f6475e",
   "metadata": {},
   "outputs": [
    {
     "data": {
      "text/plain": [
       "'this is just a string'"
      ]
     },
     "execution_count": 1,
     "metadata": {},
     "output_type": "execute_result"
    }
   ],
   "source": [
    "# Use quotation marks for defining string\n",
    "\n",
    "\"this is just a string\""
   ]
  },
  {
   "cell_type": "markdown",
   "id": "198fb61d",
   "metadata": {},
   "source": [
    "We can also use single quotation marks:\n"
   ]
  },
  {
   "cell_type": "code",
   "execution_count": 2,
   "id": "17f9ad7b",
   "metadata": {},
   "outputs": [
    {
     "data": {
      "text/plain": [
       "'this is just a string'"
      ]
     },
     "execution_count": 2,
     "metadata": {},
     "output_type": "execute_result"
    }
   ],
   "source": [
    "# Use single quotation marks for defining string\n",
    "\n",
    "'this is just a string'"
   ]
  },
  {
   "cell_type": "markdown",
   "id": "fcaf8bb2",
   "metadata": {},
   "source": [
    "A string can be a combination of spaces and digits:\n"
   ]
  },
  {
   "cell_type": "code",
   "execution_count": 3,
   "id": "cc5ef02d",
   "metadata": {},
   "outputs": [
    {
     "data": {
      "text/plain": [
       "'1 2 3 4 5 6 '"
      ]
     },
     "execution_count": 3,
     "metadata": {},
     "output_type": "execute_result"
    }
   ],
   "source": [
    "# Digitals and spaces in string\n",
    "\n",
    "'1 2 3 4 5 6 '"
   ]
  },
  {
   "cell_type": "markdown",
   "id": "d1ce14af",
   "metadata": {},
   "source": [
    "A string can also be a combination of special characters :\n"
   ]
  },
  {
   "cell_type": "code",
   "execution_count": 4,
   "id": "4bd20c1b",
   "metadata": {},
   "outputs": [
    {
     "data": {
      "text/plain": [
       "'@#2_#]&*^%$'"
      ]
     },
     "execution_count": 4,
     "metadata": {},
     "output_type": "execute_result"
    }
   ],
   "source": [
    "# Special characters in string\n",
    "\n",
    "'@#2_#]&*^%$'"
   ]
  },
  {
   "cell_type": "markdown",
   "id": "dbc72144",
   "metadata": {},
   "source": [
    "We can print our string using the print statement:\n"
   ]
  },
  {
   "cell_type": "code",
   "execution_count": 5,
   "id": "989d3dea",
   "metadata": {},
   "outputs": [
    {
     "name": "stdout",
     "output_type": "stream",
     "text": [
      "hello!\n"
     ]
    }
   ],
   "source": [
    "# Print the string\n",
    "\n",
    "print(\"hello!\")"
   ]
  },
  {
   "cell_type": "markdown",
   "id": "7a6fe3c1",
   "metadata": {},
   "source": [
    "We can bind or assign a string to another variable:\n"
   ]
  },
  {
   "cell_type": "code",
   "execution_count": 6,
   "id": "6c4be6da",
   "metadata": {},
   "outputs": [
    {
     "data": {
      "text/plain": [
       "'Abdallah Muhammad'"
      ]
     },
     "execution_count": 6,
     "metadata": {},
     "output_type": "execute_result"
    }
   ],
   "source": [
    "# Assign string to variable\n",
    "\n",
    "name = \"Abdallah Muhammad\"\n",
    "name"
   ]
  },
  {
   "cell_type": "markdown",
   "id": "5d1f611f",
   "metadata": {},
   "source": [
    "<hr>\n"
   ]
  },
  {
   "cell_type": "markdown",
   "id": "d80aae52",
   "metadata": {},
   "source": [
    "<h2 id=\"index\">Indexing</h2>\n"
   ]
  },
  {
   "cell_type": "markdown",
   "id": "5069d4cc",
   "metadata": {},
   "source": [
    "It is helpful to think of a string as an ordered sequence. Each element in the sequence can be accessed using an index represented by the array of numbers:\n"
   ]
  },
  {
   "cell_type": "markdown",
   "id": "8127d316",
   "metadata": {},
   "source": [
    "<img src=\"https://cf-courses-data.s3.us.cloud-object-storage.appdomain.cloud/IBMDeveloperSkillsNetwork-PY0101EN-SkillsNetwork/labs/Module%201/images/StringsIndex.png\" width=\"600\" align=\"center\">\n"
   ]
  },
  {
   "cell_type": "markdown",
   "id": "28fd3f18",
   "metadata": {},
   "source": [
    "The first index can be accessed as follows:\n"
   ]
  },
  {
   "cell_type": "markdown",
   "id": "fb70cf66",
   "metadata": {},
   "source": [
    "<hr/>\n",
    "<div class=\"alert alert-success alertsuccess\" style=\"margin-top: 20px\">\n",
    "[Tip]: Because indexing starts at 0, it means the first index is on the index 0.\n",
    "</div>\n",
    "<hr/>\n"
   ]
  },
  {
   "cell_type": "code",
   "execution_count": 7,
   "id": "bb1daf02",
   "metadata": {},
   "outputs": [
    {
     "name": "stdout",
     "output_type": "stream",
     "text": [
      "A\n"
     ]
    }
   ],
   "source": [
    "# Print the first element in the string\n",
    "\n",
    "print(name[0])"
   ]
  },
  {
   "cell_type": "markdown",
   "id": "b7287949",
   "metadata": {},
   "source": [
    "We can access index 6:\n"
   ]
  },
  {
   "cell_type": "code",
   "execution_count": 8,
   "id": "7ad3548d",
   "metadata": {},
   "outputs": [
    {
     "name": "stdout",
     "output_type": "stream",
     "text": [
      "a\n"
     ]
    }
   ],
   "source": [
    "# Print the element on index 6 in the string\n",
    "\n",
    "print(name[6])"
   ]
  },
  {
   "cell_type": "markdown",
   "id": "87b3a3cc",
   "metadata": {},
   "source": [
    "Moreover, we can access the 13th index:\n"
   ]
  },
  {
   "cell_type": "code",
   "execution_count": 9,
   "id": "d1eb4328",
   "metadata": {},
   "outputs": [
    {
     "name": "stdout",
     "output_type": "stream",
     "text": [
      "m\n"
     ]
    }
   ],
   "source": [
    "# Print the element on the 13th index in the string\n",
    "\n",
    "print(name[13])"
   ]
  },
  {
   "cell_type": "markdown",
   "id": "445ad7c7",
   "metadata": {},
   "source": [
    "<h3 id=\"neg\">Negative Indexing</h3>\n"
   ]
  },
  {
   "cell_type": "markdown",
   "id": "971c1f8f",
   "metadata": {},
   "source": [
    "We can also use negative indexing with strings:\n"
   ]
  },
  {
   "cell_type": "markdown",
   "id": "b006ad3f",
   "metadata": {},
   "source": [
    "<img src=\"https://cf-courses-data.s3.us.cloud-object-storage.appdomain.cloud/IBMDeveloperSkillsNetwork-PY0101EN-SkillsNetwork/labs/Module%201/images/StringsNeg.png\" width=\"600\" align=\"center\">\n"
   ]
  },
  {
   "cell_type": "markdown",
   "id": "a3c99b90",
   "metadata": {},
   "source": [
    "Negative index can help us to count the element from the end of the string.\n"
   ]
  },
  {
   "cell_type": "markdown",
   "id": "4088572b",
   "metadata": {},
   "source": [
    "The last element is given by the index -1:\n"
   ]
  },
  {
   "cell_type": "code",
   "execution_count": 10,
   "id": "82bb02dc",
   "metadata": {},
   "outputs": [
    {
     "name": "stdout",
     "output_type": "stream",
     "text": [
      "d\n"
     ]
    }
   ],
   "source": [
    "# Print the last element in the string\n",
    "\n",
    "print(name[-1])"
   ]
  },
  {
   "cell_type": "markdown",
   "id": "48611a91",
   "metadata": {},
   "source": [
    "The first element can be obtained by  index -15:\n"
   ]
  },
  {
   "cell_type": "code",
   "execution_count": 11,
   "id": "f465f0d2",
   "metadata": {},
   "outputs": [
    {
     "name": "stdout",
     "output_type": "stream",
     "text": [
      "d\n"
     ]
    }
   ],
   "source": [
    "# Print the first element in the string\n",
    "\n",
    "print(name[-15])"
   ]
  },
  {
   "cell_type": "markdown",
   "id": "41e4b30f",
   "metadata": {},
   "source": [
    "We can find the number of characters in a string by using <code>len</code>, short for length:\n"
   ]
  },
  {
   "cell_type": "code",
   "execution_count": 12,
   "id": "2b8b456e",
   "metadata": {},
   "outputs": [
    {
     "data": {
      "text/plain": [
       "15"
      ]
     },
     "execution_count": 12,
     "metadata": {},
     "output_type": "execute_result"
    }
   ],
   "source": [
    "# Find the length of string\n",
    "\n",
    "len(\"Michael Jackson\")"
   ]
  },
  {
   "cell_type": "markdown",
   "id": "40aae249",
   "metadata": {},
   "source": [
    "<h3 id=\"slice\">Slicing</h3>\n"
   ]
  },
  {
   "cell_type": "markdown",
   "id": "a921574a",
   "metadata": {},
   "source": [
    "We can obtain multiple characters from a string using slicing, we can obtain the 0 to 4th and 8th to the 12th element:\n"
   ]
  },
  {
   "cell_type": "markdown",
   "id": "d9c3b96f",
   "metadata": {},
   "source": [
    "<img src=\"https://cf-courses-data.s3.us.cloud-object-storage.appdomain.cloud/IBMDeveloperSkillsNetwork-PY0101EN-SkillsNetwork/labs/Module%201/images/StringsSlice.png\" width=\"600\" align=\"center\">\n"
   ]
  },
  {
   "cell_type": "markdown",
   "id": "e8122c6b",
   "metadata": {},
   "source": [
    "<hr/>\n",
    "<div class=\"alert alert-success alertsuccess\" style=\"margin-top: 20px\">\n",
    "[Tip]: When taking the slice, the first number means the index (start at 0), and the second number means the length from the index to the last element you want (start at 1)\n",
    "</div>\n",
    "<hr/>\n"
   ]
  },
  {
   "cell_type": "code",
   "execution_count": 13,
   "id": "8e00e5cc",
   "metadata": {},
   "outputs": [
    {
     "data": {
      "text/plain": [
       "'Abda'"
      ]
     },
     "execution_count": 13,
     "metadata": {},
     "output_type": "execute_result"
    }
   ],
   "source": [
    "# Take the slice on variable name with only index 0 to index 3\n",
    "\n",
    "name[0:4]"
   ]
  },
  {
   "cell_type": "code",
   "execution_count": 14,
   "id": "6ecc90f1",
   "metadata": {},
   "outputs": [
    {
     "data": {
      "text/plain": [
       "' Muh'"
      ]
     },
     "execution_count": 14,
     "metadata": {},
     "output_type": "execute_result"
    }
   ],
   "source": [
    "# Take the slice on variable name with only index 8 to index 11\n",
    "\n",
    "name[8:12]"
   ]
  },
  {
   "cell_type": "markdown",
   "id": "9e19c7bd",
   "metadata": {},
   "source": [
    "<h3 id=\"stride\">Stride</h3>\n"
   ]
  },
  {
   "cell_type": "markdown",
   "id": "7be35d49",
   "metadata": {},
   "source": [
    "We can also  input a stride value as follows, with the '2' indicating that we are selecting every second variable:\n"
   ]
  },
  {
   "cell_type": "markdown",
   "id": "33c23209",
   "metadata": {},
   "source": [
    "<img src=\"https://cf-courses-data.s3.us.cloud-object-storage.appdomain.cloud/IBMDeveloperSkillsNetwork-PY0101EN-SkillsNetwork/labs/Module%201/images/StringsStride.png\" width=\"600\" align=\"center\">\n"
   ]
  },
  {
   "cell_type": "code",
   "execution_count": 15,
   "id": "4c1262c7",
   "metadata": {},
   "outputs": [
    {
     "data": {
      "text/plain": [
       "'Adla uamd'"
      ]
     },
     "execution_count": 15,
     "metadata": {},
     "output_type": "execute_result"
    }
   ],
   "source": [
    "# Get every second element. The elments on index 1, 3, 5 ...\n",
    "\n",
    "name[::2]"
   ]
  },
  {
   "cell_type": "markdown",
   "id": "c0fc7e73",
   "metadata": {},
   "source": [
    "We can also incorporate slicing  with the stride. In this case, we select the first five elements and then use the stride:\n"
   ]
  },
  {
   "cell_type": "code",
   "execution_count": 16,
   "id": "601ad299",
   "metadata": {},
   "outputs": [
    {
     "data": {
      "text/plain": [
       "'Adl'"
      ]
     },
     "execution_count": 16,
     "metadata": {},
     "output_type": "execute_result"
    }
   ],
   "source": [
    "# Get every second element in the range from index 0 to index 4\n",
    "\n",
    "name[0:5:2]"
   ]
  },
  {
   "cell_type": "markdown",
   "id": "5cdd0f41",
   "metadata": {},
   "source": [
    "<h3 id=\"concat\">Concatenate Strings</h3>\n"
   ]
  },
  {
   "cell_type": "markdown",
   "id": "115abb5e",
   "metadata": {},
   "source": [
    "We can concatenate or combine strings by using the addition symbols, and the result is a new string that is a combination of both:\n"
   ]
  },
  {
   "cell_type": "code",
   "execution_count": 17,
   "id": "85171fe6",
   "metadata": {},
   "outputs": [
    {
     "data": {
      "text/plain": [
       "'Abdallah Muhammadis the best'"
      ]
     },
     "execution_count": 17,
     "metadata": {},
     "output_type": "execute_result"
    }
   ],
   "source": [
    "# Concatenate two strings\n",
    "\n",
    "statement = name + \"is the best\"\n",
    "statement"
   ]
  },
  {
   "cell_type": "markdown",
   "id": "3cec07fd",
   "metadata": {},
   "source": [
    "To replicate values of a string we simply multiply the string by the number of times we would like to replicate it. In this case, the number is three. The result is a new string, and this new string consists of three copies of the original string:\n"
   ]
  },
  {
   "cell_type": "code",
   "execution_count": 18,
   "id": "4a23d692",
   "metadata": {},
   "outputs": [
    {
     "data": {
      "text/plain": [
       "'Michael JacksonMichael JacksonMichael Jackson'"
      ]
     },
     "execution_count": 18,
     "metadata": {},
     "output_type": "execute_result"
    }
   ],
   "source": [
    "# Print the string for 3 times\n",
    "\n",
    "3 * \"Michael Jackson\""
   ]
  },
  {
   "cell_type": "markdown",
   "id": "99a203cb",
   "metadata": {},
   "source": [
    "You can create a new string by setting it to the original variable. Concatenated  with a new string, the result is a new string that changes from Michael Jackson to “Michael Jackson is the best\".\n"
   ]
  },
  {
   "cell_type": "code",
   "execution_count": 19,
   "id": "42e4c130",
   "metadata": {},
   "outputs": [
    {
     "data": {
      "text/plain": [
       "'Michael Jackson is the best'"
      ]
     },
     "execution_count": 19,
     "metadata": {},
     "output_type": "execute_result"
    }
   ],
   "source": [
    "# Concatenate strings\n",
    "\n",
    "name = \"Michael Jackson\"\n",
    "name = name + \" is the best\"\n",
    "name"
   ]
  },
  {
   "cell_type": "markdown",
   "id": "a58b3c72",
   "metadata": {},
   "source": [
    "<hr>\n"
   ]
  },
  {
   "cell_type": "markdown",
   "id": "8b1d9ea5",
   "metadata": {},
   "source": [
    "<h2 id=\"escape\">Escape Sequences</h2>\n"
   ]
  },
  {
   "cell_type": "markdown",
   "id": "43f7a88e",
   "metadata": {},
   "source": [
    "Back slashes represent the beginning  of escape sequences. Escape sequences represent strings that may be difficult to input. For example, back slash \"n\" represents a new line. The output is given by a new line after the back slash \"n\" is encountered:\n"
   ]
  },
  {
   "cell_type": "code",
   "execution_count": 20,
   "id": "a031fc4a",
   "metadata": {},
   "outputs": [
    {
     "name": "stdout",
     "output_type": "stream",
     "text": [
      " Michael Jackson \n",
      " is the best\n"
     ]
    }
   ],
   "source": [
    "# New line escape sequence\n",
    "\n",
    "print(\" Michael Jackson \\n is the best\" )"
   ]
  },
  {
   "cell_type": "markdown",
   "id": "621bde25",
   "metadata": {},
   "source": [
    "Similarly, back slash  \"t\" represents a tab:\n"
   ]
  },
  {
   "cell_type": "code",
   "execution_count": 21,
   "id": "784908d1",
   "metadata": {},
   "outputs": [
    {
     "name": "stdout",
     "output_type": "stream",
     "text": [
      " Michael Jackson \t is the best\n"
     ]
    }
   ],
   "source": [
    "# Tab escape sequence\n",
    "\n",
    "print(\" Michael Jackson \\t is the best\" )"
   ]
  },
  {
   "cell_type": "markdown",
   "id": "0f04fdb2",
   "metadata": {},
   "source": [
    "If you want to place a back slash in your string, use a double back slash:\n"
   ]
  },
  {
   "cell_type": "code",
   "execution_count": 22,
   "id": "78b1ff00",
   "metadata": {},
   "outputs": [
    {
     "name": "stdout",
     "output_type": "stream",
     "text": [
      " Michael Jackson \\ is the best\n"
     ]
    }
   ],
   "source": [
    "# Include back slash in string\n",
    "\n",
    "print(\" Michael Jackson \\\\ is the best\" )"
   ]
  },
  {
   "cell_type": "markdown",
   "id": "f4123ea2",
   "metadata": {},
   "source": [
    "We can also place an \"r\" before the string to display the backslash:\n"
   ]
  },
  {
   "cell_type": "code",
   "execution_count": 23,
   "id": "43e690ab",
   "metadata": {},
   "outputs": [
    {
     "name": "stdout",
     "output_type": "stream",
     "text": [
      " Michael Jackson \\ is the best\n"
     ]
    }
   ],
   "source": [
    "# r will tell python that string will be display as raw string\n",
    "\n",
    "print(r\" Michael Jackson \\ is the best\" )"
   ]
  },
  {
   "cell_type": "markdown",
   "id": "70e47e38",
   "metadata": {},
   "source": [
    "<hr>\n"
   ]
  },
  {
   "cell_type": "markdown",
   "id": "12354c2f",
   "metadata": {},
   "source": [
    "<h2 id=\"operations\">String Operations</h2>\n"
   ]
  },
  {
   "cell_type": "markdown",
   "id": "89ddda2d",
   "metadata": {},
   "source": [
    "There are many string operation methods in Python that can be used to manipulate the data. We are going to use some basic string operations on the data.\n"
   ]
  },
  {
   "cell_type": "markdown",
   "id": "0038d039",
   "metadata": {},
   "source": [
    "Let's try with the method <code>upper</code>; this method converts lower case characters to upper case characters:\n"
   ]
  },
  {
   "cell_type": "code",
   "execution_count": 24,
   "id": "2ee712b0",
   "metadata": {},
   "outputs": [
    {
     "name": "stdout",
     "output_type": "stream",
     "text": [
      "before upper: Thriller is the sixth studio album\n",
      "After upper: THRILLER IS THE SIXTH STUDIO ALBUM\n"
     ]
    }
   ],
   "source": [
    "# Convert all the characters in string to upper case\n",
    "\n",
    "a = \"Thriller is the sixth studio album\"\n",
    "print(\"before upper:\", a)\n",
    "b = a.upper()\n",
    "print(\"After upper:\", b)"
   ]
  },
  {
   "cell_type": "markdown",
   "id": "a607b85a",
   "metadata": {},
   "source": [
    "Let's try with the method <code>lower</code>; this method converts upper case characters to lower case characters:\n"
   ]
  },
  {
   "cell_type": "code",
   "execution_count": 25,
   "id": "3c2d8dfd",
   "metadata": {},
   "outputs": [
    {
     "name": "stdout",
     "output_type": "stream",
     "text": [
      "Before lower: MICHAEL JACKSON IS THE BEST\n",
      "After lower: michael jackson is the best\n"
     ]
    }
   ],
   "source": [
    "# Convert all the characters in string to lower case\n",
    "a = \"MICHAEL JACKSON IS THE BEST\"\n",
    "print(\"Before lower:\", a)\n",
    "b = a.lower()\n",
    "print(\"After lower:\", b)"
   ]
  },
  {
   "cell_type": "markdown",
   "id": "3b52a064",
   "metadata": {},
   "source": [
    "The method <code>replace</code> replaces a segment of the string, i.e. a substring  with a new string. We input the part of the string we would like to change. The second argument is what we would like to exchange the segment with, and the result is a new string with the segment changed:\n"
   ]
  },
  {
   "cell_type": "code",
   "execution_count": 26,
   "id": "b8cae6cc",
   "metadata": {},
   "outputs": [
    {
     "data": {
      "text/plain": [
       "'Janet Jackson is the best'"
      ]
     },
     "execution_count": 26,
     "metadata": {},
     "output_type": "execute_result"
    }
   ],
   "source": [
    "a = \"Michael Jackson is the best\"\n",
    "b = a.replace('Michael', 'Janet')\n",
    "b"
   ]
  },
  {
   "cell_type": "code",
   "execution_count": 27,
   "id": "fb26a207",
   "metadata": {},
   "outputs": [
    {
     "name": "stdout",
     "output_type": "stream",
     "text": [
      "Hello! Michael Jackson has: 12 characters.\n",
      "Hello Michael Jackson has 12 characters\n"
     ]
    }
   ],
   "source": [
    "# Replace the old substring with the new target substring by removing some punctuations.\n",
    "\n",
    "a = \"Hello! Michael Jackson has: 12 characters.\"\n",
    "print(a)\n",
    "b = a.replace('!','').replace(':','').replace('.','')\n",
    "print(b)"
   ]
  },
  {
   "cell_type": "markdown",
   "id": "8e5bea37",
   "metadata": {},
   "source": [
    "The method <code>find</code> finds a sub-string. The argument is the substring you would like to find, and the output is the first index of the sequence. We can find the sub-string <code>jack</code> or <code>el<code>.\n"
   ]
  },
  {
   "cell_type": "markdown",
   "id": "56804731",
   "metadata": {},
   "source": [
    "<img src=\"https://cf-courses-data.s3.us.cloud-object-storage.appdomain.cloud/IBMDeveloperSkillsNetwork-PY0101EN-SkillsNetwork/labs/Module%201/images/StringsFind.png\" width=\"600\" align=\"center\">\n"
   ]
  },
  {
   "cell_type": "code",
   "execution_count": 28,
   "id": "5eb0aa2c",
   "metadata": {},
   "outputs": [
    {
     "data": {
      "text/plain": [
       "5"
      ]
     },
     "execution_count": 28,
     "metadata": {},
     "output_type": "execute_result"
    }
   ],
   "source": [
    "# Find the substring in the string. Only the index of the first elment of substring in string will be the output\n",
    "\n",
    "name = \"Michael Jackson\"\n",
    "name.find('el')"
   ]
  },
  {
   "cell_type": "code",
   "execution_count": 29,
   "id": "69245621",
   "metadata": {},
   "outputs": [
    {
     "data": {
      "text/plain": [
       "8"
      ]
     },
     "execution_count": 29,
     "metadata": {},
     "output_type": "execute_result"
    }
   ],
   "source": [
    "# Find the substring in the string.\n",
    "\n",
    "name.find('Jack')"
   ]
  },
  {
   "cell_type": "markdown",
   "id": "aa06768c",
   "metadata": {},
   "source": [
    "If the  sub-string is not in the string then the output is a negative one. For example, the string 'Jasdfasdasdf' is not a substring:\n"
   ]
  },
  {
   "cell_type": "code",
   "execution_count": 30,
   "id": "467a14db",
   "metadata": {},
   "outputs": [
    {
     "data": {
      "text/plain": [
       "-1"
      ]
     },
     "execution_count": 30,
     "metadata": {},
     "output_type": "execute_result"
    }
   ],
   "source": [
    "# If cannot find the substring in the string\n",
    "\n",
    "name.find('Jasdfasdasdf')"
   ]
  },
  {
   "cell_type": "markdown",
   "id": "f6c25ff4",
   "metadata": {},
   "source": [
    "The method <code>Split</code> splits the string at the specified separator, and returns a list:\n"
   ]
  },
  {
   "cell_type": "code",
   "execution_count": 31,
   "id": "874b07fc",
   "metadata": {},
   "outputs": [
    {
     "data": {
      "text/plain": [
       "['Michael', 'Jackson']"
      ]
     },
     "execution_count": 31,
     "metadata": {},
     "output_type": "execute_result"
    }
   ],
   "source": [
    "#Split the substring into list\n",
    "name = \"Michael Jackson\"\n",
    "split_string = (name.split())\n",
    "split_string"
   ]
  },
  {
   "cell_type": "markdown",
   "id": "be24b6c2",
   "metadata": {},
   "source": [
    "## RegEx\n"
   ]
  },
  {
   "cell_type": "markdown",
   "id": "7d1d2774",
   "metadata": {},
   "source": [
    "In Python, RegEx (short for Regular Expression) is a tool for matching and handling strings. \n"
   ]
  },
  {
   "cell_type": "markdown",
   "id": "32642e2c",
   "metadata": {},
   "source": [
    "This RegEx module provides several functions for working with regular expressions, including <code>search, split, findall,</code> and <code>sub</code>. \n"
   ]
  },
  {
   "cell_type": "markdown",
   "id": "a78221d2",
   "metadata": {},
   "source": [
    "Python provides a built-in module called <code>re</code>, which allows you to work with regular expressions. \n",
    "First, import the <code>re</code> module\n"
   ]
  },
  {
   "cell_type": "code",
   "execution_count": null,
   "id": "28504685",
   "metadata": {},
   "outputs": [],
   "source": [
    "import re"
   ]
  },
  {
   "cell_type": "markdown",
   "id": "b07c1437",
   "metadata": {},
   "source": [
    "The search() function searches for specified patterns within a string. Here is an example that explains how to use the search() function to search for the word \"Jackson\" in the string \"Michael Jackson is the best\".\n"
   ]
  },
  {
   "cell_type": "code",
   "execution_count": null,
   "id": "b3e9a7d8",
   "metadata": {},
   "outputs": [],
   "source": [
    "s1 = \"Michael Jackson is the best\"\n",
    "\n",
    "# Define the pattern to search for\n",
    "pattern = r\"Jackson\"\n",
    "\n",
    "# Use the search() function to search for the pattern in the string\n",
    "result = re.search(pattern, s1)\n",
    "\n",
    "# Check if a match was found\n",
    "if result:\n",
    "    print(\"Match found!\")\n",
    "else:\n",
    "    print(\"Match not found.\")\n"
   ]
  },
  {
   "cell_type": "markdown",
   "id": "0fda3afd",
   "metadata": {},
   "source": [
    "Regular expressions (RegEx) are patterns used to match and manipulate strings of text. There are several special sequences in RegEx that can be used to match specific characters or patterns.\n",
    "\n",
    "| Special Sequence | Meaning                 | \tExample             |\n",
    "| -----------  | ----------------------- | ----------------------|\n",
    "| \\d|Matches any digit character (0-9)|\"123\" matches \"\\d\\d\\d\"|\n",
    "|\\D|Matches any non-digit character|\"hello\" matches \"\\D\\D\\D\\D\\D\"|\n",
    "|\\w|Matches any word character (a-z, A-Z, 0-9, and _)|\"hello_world\" matches \"\\w\\w\\w\\w\\w\\w\\w\\w\\w\"|\n",
    "|\\W|Matches any non-word character|\t\"@#$%\" matches \"\\W\\W\\W\\W\"|\n",
    "|\\s|Matches any whitespace character (space, tab, newline, etc.)|\"hello world\" matches \"\\w\\s\\w\\w\\w\\w\\w\"|\n",
    "|\\S|Matches any non-whitespace character|\"hello_world\" matches \"\\S\\S\\S\\S\\S\\S\\S\\S\\S\"|\n",
    "|\\b|Matches the boundary between a word character and a non-word character|\"cat\" matches \"\\bcat\\b\" in \"The cat sat on the mat\"|\n",
    "|\\B|Matches any position that is not a word boundary|\"cat\" matches \"\\Bcat\\B\" in \"category\" but not in \"The cat sat on the mat\"|\n"
   ]
  },
  {
   "cell_type": "markdown",
   "id": "9cefca0d",
   "metadata": {},
   "source": [
    "Special Sequence Examples:\n",
    "\n",
    "A simple example of using the <code>\\d</code> special sequence in a regular expression pattern with Python code:\n"
   ]
  },
  {
   "cell_type": "code",
   "execution_count": null,
   "id": "52282276",
   "metadata": {},
   "outputs": [],
   "source": [
    "pattern = r\"\\d\\d\\d\\d\\d\\d\\d\\d\\d\\d\"  # Matches any ten consecutive digits\n",
    "text = \"My Phone number is 1234567890\"\n",
    "match = re.search(pattern, text)\n",
    "\n",
    "if match:\n",
    "    print(\"Phone number found:\", match.group())\n",
    "else:\n",
    "    print(\"No match\")"
   ]
  },
  {
   "cell_type": "markdown",
   "id": "9c6677d5",
   "metadata": {},
   "source": [
    "The regular expression pattern is defined as r\"\\d\\d\\d\\d\\d\\d\\d\\d\\d\\d\", which uses the \\d special sequence to match any digit character (0-9), and the \\d sequence is repeated ten times to match ten consecutive digits\n"
   ]
  },
  {
   "cell_type": "markdown",
   "id": "9f89d1e9",
   "metadata": {},
   "source": [
    "A simple example of using the <code>\\W</code> special sequence in a regular expression pattern with Python code:\n"
   ]
  },
  {
   "cell_type": "code",
   "execution_count": null,
   "id": "983f90fd",
   "metadata": {},
   "outputs": [],
   "source": [
    "pattern = r\"\\W\"  # Matches any non-word character\n",
    "text = \"Hello, world!\"\n",
    "matches = re.findall(pattern, text)\n",
    "\n",
    "print(\"Matches:\", matches)"
   ]
  },
  {
   "cell_type": "markdown",
   "id": "d3131440",
   "metadata": {},
   "source": [
    "The regular expression pattern is defined as r\"\\W\", which uses the \\W special sequence to match any character that is not a word character (a-z, A-Z, 0-9, or _). The string we're searching for matches in is \"Hello, world!\".\n"
   ]
  },
  {
   "cell_type": "markdown",
   "id": "c93807b3",
   "metadata": {},
   "source": [
    "The <code>findall()</code> function finds all occurrences of a specified pattern within a string.\n"
   ]
  },
  {
   "cell_type": "code",
   "execution_count": null,
   "id": "a7755018",
   "metadata": {},
   "outputs": [],
   "source": [
    "s2 = \"Michael Jackson was a singer and known as the 'King of Pop'\"\n",
    "\n",
    "\n",
    "# Use the findall() function to find all occurrences of the \"as\" in the string\n",
    "result = re.findall(\"as\", s2)\n",
    "\n",
    "# Print out the list of matched words\n",
    "print(result)\n"
   ]
  },
  {
   "cell_type": "markdown",
   "id": "048da182",
   "metadata": {},
   "source": [
    "A regular expression's <code>split()</code> function splits a string into an array of substrings based on a specified pattern.\n"
   ]
  },
  {
   "cell_type": "code",
   "execution_count": null,
   "id": "2888a661",
   "metadata": {},
   "outputs": [],
   "source": [
    "# Use the split function to split the string by the \"\\s\"\n",
    "split_array = re.split(\"\\s\", s2)\n",
    "\n",
    "# The split_array contains all the substrings, split by whitespace characters\n",
    "print(split_array) "
   ]
  },
  {
   "cell_type": "markdown",
   "id": "5d1c838f",
   "metadata": {},
   "source": [
    "The <code>sub</code> function of a regular expression in Python is used to replace all occurrences of a pattern in a string with a specified replacement.\n"
   ]
  },
  {
   "cell_type": "code",
   "execution_count": null,
   "id": "a8371af9",
   "metadata": {},
   "outputs": [],
   "source": [
    "# Define the regular expression pattern to search for\n",
    "pattern = r\"King of Pop\"\n",
    "\n",
    "# Define the replacement string\n",
    "replacement = \"legend\"\n",
    "\n",
    "# Use the sub function to replace the pattern with the replacement string\n",
    "new_string = re.sub(pattern, replacement, s2, flags=re.IGNORECASE)\n",
    "\n",
    "# The new_string contains the original string with the pattern replaced by the replacement string\n",
    "print(new_string) "
   ]
  },
  {
   "cell_type": "markdown",
   "id": "cf149b12",
   "metadata": {},
   "source": [
    "<hr>\n"
   ]
  },
  {
   "cell_type": "markdown",
   "id": "9ed5f428",
   "metadata": {},
   "source": [
    "<h2 id=\"quiz\">Quiz on Strings</h2>\n"
   ]
  },
  {
   "cell_type": "markdown",
   "id": "64376141",
   "metadata": {},
   "source": [
    "What is the value of the variable <code>a</code> after the following code is executed?\n"
   ]
  },
  {
   "cell_type": "code",
   "execution_count": 32,
   "id": "735b3546",
   "metadata": {},
   "outputs": [
    {
     "data": {
      "text/plain": [
       "'1'"
      ]
     },
     "execution_count": 32,
     "metadata": {},
     "output_type": "execute_result"
    }
   ],
   "source": [
    "# Write your code below and press Shift+Enter to execute \n",
    "\n",
    "a = \"1\"\n",
    "a"
   ]
  },
  {
   "cell_type": "markdown",
   "id": "0c7e5f33",
   "metadata": {},
   "source": [
    "<details><summary>Click here for the solution</summary>\n",
    "\n",
    "```python\n",
    "\"1\"\n",
    "\n",
    "```\n",
    "\n",
    "</details>\n"
   ]
  },
  {
   "cell_type": "markdown",
   "id": "45f096fe",
   "metadata": {},
   "source": [
    "What is the value of the variable <code>b</code> after the following code is executed?\n"
   ]
  },
  {
   "cell_type": "code",
   "execution_count": 33,
   "id": "3f4ae1db",
   "metadata": {},
   "outputs": [
    {
     "data": {
      "text/plain": [
       "'2'"
      ]
     },
     "execution_count": 33,
     "metadata": {},
     "output_type": "execute_result"
    }
   ],
   "source": [
    "# Write your code below and press Shift+Enter to execute\n",
    "\n",
    "b = \"2\"\n",
    "b"
   ]
  },
  {
   "cell_type": "markdown",
   "id": "8b065a97",
   "metadata": {},
   "source": [
    "<details><summary>Click here for the solution</summary>\n",
    "\n",
    "```python\n",
    "\"2\"\n",
    "\n",
    "```\n",
    "\n",
    "</details>\n"
   ]
  },
  {
   "cell_type": "markdown",
   "id": "b67934a7",
   "metadata": {},
   "source": [
    "What is the value of the variable <code>c</code> after the following code is executed?\n"
   ]
  },
  {
   "cell_type": "code",
   "execution_count": 34,
   "id": "c1ec205e",
   "metadata": {},
   "outputs": [
    {
     "data": {
      "text/plain": [
       "'12'"
      ]
     },
     "execution_count": 34,
     "metadata": {},
     "output_type": "execute_result"
    }
   ],
   "source": [
    "# Write your code below and press Shift+Enter to execute \n",
    "\n",
    "c = a + b\n",
    "c"
   ]
  },
  {
   "cell_type": "markdown",
   "id": "c38d4b9a",
   "metadata": {},
   "source": [
    "<details><summary>Click here for the solution</summary>\n",
    "\n",
    "```python\n",
    "\"12\"\n",
    "\n",
    "```\n",
    "\n",
    "</details>\n"
   ]
  },
  {
   "cell_type": "markdown",
   "id": "460a5420",
   "metadata": {},
   "source": [
    "<hr>\n"
   ]
  },
  {
   "cell_type": "markdown",
   "id": "8c906512",
   "metadata": {},
   "source": [
    "Consider the variable <code>d</code> use slicing to print out the first three elements:\n"
   ]
  },
  {
   "cell_type": "code",
   "execution_count": 35,
   "id": "7a88dc13",
   "metadata": {},
   "outputs": [
    {
     "data": {
      "text/plain": [
       "'ABC'"
      ]
     },
     "execution_count": 35,
     "metadata": {},
     "output_type": "execute_result"
    }
   ],
   "source": [
    "# Write your code below and press Shift+Enter to execute\n",
    "\n",
    "d = \"ABCDEFG\"\n",
    "d[:3]"
   ]
  },
  {
   "cell_type": "markdown",
   "id": "4f0568de",
   "metadata": {},
   "source": [
    "<details><summary>Click here for the solution</summary>\n",
    "\n",
    "```python\n",
    "print(d[:3]) \n",
    "\n",
    "# or \n",
    "\n",
    "print(d[0:3])\n",
    "\n",
    "```\n",
    "\n",
    "</details>\n"
   ]
  },
  {
   "cell_type": "markdown",
   "id": "0563d11e",
   "metadata": {},
   "source": [
    "<hr>\n"
   ]
  },
  {
   "cell_type": "markdown",
   "id": "c458a119",
   "metadata": {},
   "source": [
    "Use a stride value of 2 to print out every second character of the string <code>e</code>:\n"
   ]
  },
  {
   "cell_type": "code",
   "execution_count": 36,
   "id": "4e3bba1c",
   "metadata": {},
   "outputs": [
    {
     "data": {
      "text/plain": [
       "'correct'"
      ]
     },
     "execution_count": 36,
     "metadata": {},
     "output_type": "execute_result"
    }
   ],
   "source": [
    "# Write your code below and press Shift+Enter to execute\n",
    "\n",
    "e = 'clocrkr1e1c1t'\n",
    "e[::2]"
   ]
  },
  {
   "cell_type": "markdown",
   "id": "3d0008c8",
   "metadata": {},
   "source": [
    "<details><summary>Click here for the solution</summary>\n",
    "\n",
    "```python\n",
    "print(e[::2])\n",
    "\n",
    "```\n",
    "\n",
    "</details>\n"
   ]
  },
  {
   "cell_type": "markdown",
   "id": "817f409d",
   "metadata": {},
   "source": [
    "<hr>\n"
   ]
  },
  {
   "cell_type": "markdown",
   "id": "b4b676d1",
   "metadata": {},
   "source": [
    "Print out a backslash:\n"
   ]
  },
  {
   "cell_type": "code",
   "execution_count": 37,
   "id": "280e1f61",
   "metadata": {},
   "outputs": [
    {
     "name": "stdout",
     "output_type": "stream",
     "text": [
      "\\ \n",
      "\\\\\\\n"
     ]
    }
   ],
   "source": [
    "# Write your code below and press Shift+Enter to execute\n",
    "print(r\"\\ \")\n",
    "print(\"\\\\\\\\\\\\\")"
   ]
  },
  {
   "cell_type": "markdown",
   "id": "fb385537",
   "metadata": {},
   "source": [
    "<details><summary>Click here for the solution</summary>\n",
    "\n",
    "```python\n",
    "print(\"\\\\\\\\\\\\\")\n",
    "\n",
    "or\n",
    "\n",
    "print(r\"\\ \")\n",
    "\n",
    "```\n",
    "\n",
    "</details>\n"
   ]
  },
  {
   "cell_type": "markdown",
   "id": "0697a008",
   "metadata": {},
   "source": [
    "<hr>\n"
   ]
  },
  {
   "cell_type": "markdown",
   "id": "16ee07ac",
   "metadata": {},
   "source": [
    "Convert the variable <code>f</code> to uppercase:\n"
   ]
  },
  {
   "cell_type": "code",
   "execution_count": 38,
   "id": "57170255",
   "metadata": {},
   "outputs": [
    {
     "data": {
      "text/plain": [
       "'YOU ARE WRONG'"
      ]
     },
     "execution_count": 38,
     "metadata": {},
     "output_type": "execute_result"
    }
   ],
   "source": [
    "# Write your code below and press Shift+Enter to execute\n",
    "\n",
    "f = \"You are wrong\"\n",
    "f.upper()"
   ]
  },
  {
   "cell_type": "markdown",
   "id": "d49d9b51",
   "metadata": {},
   "source": [
    "<details><summary>Click here for the solution</summary>\n",
    "\n",
    "```python\n",
    "f.upper()\n",
    "\n",
    "```\n",
    "\n",
    "</details>\n"
   ]
  },
  {
   "cell_type": "markdown",
   "id": "64efb17f",
   "metadata": {},
   "source": [
    "Convert the variable <code>f2</code> to lowercase:\n"
   ]
  },
  {
   "cell_type": "code",
   "execution_count": 39,
   "id": "947f9ae3",
   "metadata": {},
   "outputs": [
    {
     "data": {
      "text/plain": [
       "'you are wrong'"
      ]
     },
     "execution_count": 39,
     "metadata": {},
     "output_type": "execute_result"
    }
   ],
   "source": [
    "# Write your code below and press Shift+Enter to execute\n",
    "f2=\"YOU ARE RIGHT\"\n",
    "f.lower()"
   ]
  },
  {
   "cell_type": "markdown",
   "id": "05260488",
   "metadata": {},
   "source": [
    "<details><summary>Click here for the solution</summary>\n",
    "\n",
    "```python\n",
    "f2.lower()\n",
    "\n",
    "```\n",
    "\n",
    "</details>\n"
   ]
  },
  {
   "cell_type": "markdown",
   "id": "92f1cb84",
   "metadata": {},
   "source": [
    "<hr>\n"
   ]
  },
  {
   "cell_type": "markdown",
   "id": "8f6d5370",
   "metadata": {},
   "source": [
    "Consider the variable <code>g</code>, and find the first index of the sub-string <code>snow</code>:\n"
   ]
  },
  {
   "cell_type": "code",
   "execution_count": 40,
   "id": "a42d9723",
   "metadata": {},
   "outputs": [
    {
     "data": {
      "text/plain": [
       "95"
      ]
     },
     "execution_count": 40,
     "metadata": {},
     "output_type": "execute_result"
    }
   ],
   "source": [
    "# Write your code below and press Shift+Enter to execute\n",
    "\n",
    "g = \"Mary had a little lamb Little lamb, little lamb Mary had a little lamb \\\n",
    "Its fleece was white as snow And everywhere that Mary went Mary went, Mary went \\\n",
    "Everywhere that Mary went The lamb was sure to go\"\n",
    "g.find(r\"snow\")"
   ]
  },
  {
   "cell_type": "markdown",
   "id": "cc9b5f94",
   "metadata": {},
   "source": [
    "<details><summary>Click here for the solution</summary>\n",
    "\n",
    "```python\n",
    "g.find(\"snow\")\n",
    "\n",
    "```\n",
    "\n",
    "</details>\n"
   ]
  },
  {
   "cell_type": "markdown",
   "id": "1d3b7551",
   "metadata": {},
   "source": [
    "In the variable <code>g</code>, replace the sub-string <code>Mary</code> with <code>Bob</code>:\n"
   ]
  },
  {
   "cell_type": "code",
   "execution_count": 41,
   "id": "614db61c",
   "metadata": {},
   "outputs": [
    {
     "data": {
      "text/plain": [
       "'Bob had a little lamb Little lamb, little lamb Bob had a little lamb Its fleece was white as snow And everywhere that Bob went Bob went, Bob went Everywhere that Bob went The lamb was sure to go'"
      ]
     },
     "execution_count": 41,
     "metadata": {},
     "output_type": "execute_result"
    }
   ],
   "source": [
    "# Write your code below and press Shift+Enter to execute\n",
    "g.replace(r\"Mary\", r\"Bob\")"
   ]
  },
  {
   "cell_type": "markdown",
   "id": "067b3838",
   "metadata": {},
   "source": [
    "<details><summary>Click here for the solution</summary>\n",
    "\n",
    "```python\n",
    "g.replace(\"Mary\", \"Bob\")\n",
    "\n",
    "```\n",
    "\n",
    "</details>\n"
   ]
  },
  {
   "cell_type": "markdown",
   "id": "cde586d4",
   "metadata": {},
   "source": [
    "In the variable <code>g</code>, replace the sub-string <code>,</code> with <code>.</code>:\n"
   ]
  },
  {
   "cell_type": "code",
   "execution_count": 42,
   "id": "9a71f7fc",
   "metadata": {},
   "outputs": [],
   "source": [
    "# Write your code below and press Shift+Enter to execute"
   ]
  },
  {
   "cell_type": "markdown",
   "id": "c9bbe0a9",
   "metadata": {},
   "source": [
    "<details><summary>Click here for the solution</summary>\n",
    "\n",
    "```python\n",
    "g.replace(',','.')\n",
    "\n",
    "```\n",
    "\n",
    "</details>\n"
   ]
  },
  {
   "cell_type": "markdown",
   "id": "2b87c4be",
   "metadata": {},
   "source": [
    "In the variable <code>g</code>, split the substring to list:\n"
   ]
  },
  {
   "cell_type": "code",
   "execution_count": 43,
   "id": "252a9de3",
   "metadata": {},
   "outputs": [
    {
     "data": {
      "text/plain": [
       "['Mary',\n",
       " 'had',\n",
       " 'a',\n",
       " 'little',\n",
       " 'lamb',\n",
       " 'Little',\n",
       " 'lamb,',\n",
       " 'little',\n",
       " 'lamb',\n",
       " 'Mary',\n",
       " 'had',\n",
       " 'a',\n",
       " 'little',\n",
       " 'lamb',\n",
       " 'Its',\n",
       " 'fleece',\n",
       " 'was',\n",
       " 'white',\n",
       " 'as',\n",
       " 'snow',\n",
       " 'And',\n",
       " 'everywhere',\n",
       " 'that',\n",
       " 'Mary',\n",
       " 'went',\n",
       " 'Mary',\n",
       " 'went,',\n",
       " 'Mary',\n",
       " 'went',\n",
       " 'Everywhere',\n",
       " 'that',\n",
       " 'Mary',\n",
       " 'went',\n",
       " 'The',\n",
       " 'lamb',\n",
       " 'was',\n",
       " 'sure',\n",
       " 'to',\n",
       " 'go']"
      ]
     },
     "execution_count": 43,
     "metadata": {},
     "output_type": "execute_result"
    }
   ],
   "source": [
    "# Write your code below and press Shift+Enter to execute\n",
    "g.split()"
   ]
  },
  {
   "cell_type": "markdown",
   "id": "ed0112d0",
   "metadata": {},
   "source": [
    "<details><summary>Click here for the solution</summary>\n",
    "\n",
    "```python\n",
    "g.split()\n",
    "\n",
    "```\n",
    "\n",
    "</details>\n"
   ]
  },
  {
   "cell_type": "markdown",
   "id": "a60c4229",
   "metadata": {},
   "source": [
    "In the string <code>s3</code>, find the four consicutive digit character using <code>\\d</code> and <code>search() </code>function:\n"
   ]
  },
  {
   "cell_type": "code",
   "execution_count": 44,
   "id": "bf993ff8",
   "metadata": {},
   "outputs": [
    {
     "ename": "NameError",
     "evalue": "name 're' is not defined",
     "output_type": "error",
     "traceback": [
      "\u001b[1;31m---------------------------------------------------------------------------\u001b[0m",
      "\u001b[1;31mNameError\u001b[0m                                 Traceback (most recent call last)",
      "Cell \u001b[1;32mIn[44], line 2\u001b[0m\n\u001b[0;32m      1\u001b[0m s3 \u001b[38;5;241m=\u001b[39m \u001b[38;5;124m\"\u001b[39m\u001b[38;5;124mHouse number- 1105\u001b[39m\u001b[38;5;124m\"\u001b[39m\n\u001b[1;32m----> 2\u001b[0m \u001b[43mre\u001b[49m\u001b[38;5;241m.\u001b[39msearch(\u001b[38;5;124m\"\u001b[39m\u001b[38;5;124m\\\u001b[39m\u001b[38;5;124md\u001b[39m\u001b[38;5;124m\"\u001b[39m, s3)\n",
      "\u001b[1;31mNameError\u001b[0m: name 're' is not defined"
     ]
    }
   ],
   "source": [
    "s3 = \"House number- 1105\"\n",
    "re.search(\"\\d\", s3)\n",
    "# Write your code below and press Shift+Enter to execute"
   ]
  },
  {
   "cell_type": "markdown",
   "id": "1575d536",
   "metadata": {},
   "source": [
    "<details><summary>Click here for the solution</summary>\n",
    "\n",
    "```python\n",
    "# Use the search() function to search for the \"\\d\" in the string\n",
    "result = re.search(\"\\d\", s3)\n",
    "\n",
    "# Check if a match was found\n",
    "if result:\n",
    "    print(\"Digit found\")\n",
    "else:\n",
    "    print(\"Digit not found.\")\n",
    "```\n",
    "\n",
    "</details>\n"
   ]
  },
  {
   "cell_type": "markdown",
   "id": "636ba2ea",
   "metadata": {},
   "source": [
    "In the string <code>str1</code>, replace the sub-string <code>fox</code> with <code>bear</code> using <code>sub() </code>function:\n"
   ]
  },
  {
   "cell_type": "code",
   "execution_count": null,
   "id": "c732a2ad",
   "metadata": {},
   "outputs": [],
   "source": [
    "str1= \"The quick brown fox jumps over the lazy dog.\"\n",
    "\n",
    "# Write your code below and press Shift+Enter to execute\n",
    "re.sub(r\"fox\", \"bear\", str1)"
   ]
  },
  {
   "cell_type": "markdown",
   "id": "ddf51ac3",
   "metadata": {},
   "source": [
    "<details><summary>Click here for the solution</summary>\n",
    "\n",
    "```python\n",
    "# Use re.sub() to replace \"fox\" with \"bear\"\n",
    "new_str1 = re.sub(r\"fox\", r\"bear\", str1)\n",
    "\n",
    "print(new_str1)\n",
    "```\n",
    "\n",
    "</details>\n"
   ]
  },
  {
   "cell_type": "markdown",
   "id": "d04fa7be",
   "metadata": {},
   "source": [
    "In the string <code>str2</code> find all the occurrences of <code>woo</code> using <code>findall()</code> function:\n"
   ]
  },
  {
   "cell_type": "code",
   "execution_count": 45,
   "id": "27a4efbb",
   "metadata": {},
   "outputs": [
    {
     "ename": "NameError",
     "evalue": "name 're' is not defined",
     "output_type": "error",
     "traceback": [
      "\u001b[1;31m---------------------------------------------------------------------------\u001b[0m",
      "\u001b[1;31mNameError\u001b[0m                                 Traceback (most recent call last)",
      "Cell \u001b[1;32mIn[45], line 4\u001b[0m\n\u001b[0;32m      1\u001b[0m str2\u001b[38;5;241m=\u001b[39m \u001b[38;5;124m\"\u001b[39m\u001b[38;5;124mHow much wood would a woodchuck chuck, if a woodchuck could chuck wood?\u001b[39m\u001b[38;5;124m\"\u001b[39m\n\u001b[0;32m      3\u001b[0m \u001b[38;5;66;03m# Write your code below and press Shift+Enter to execute\u001b[39;00m\n\u001b[1;32m----> 4\u001b[0m \u001b[43mre\u001b[49m\u001b[38;5;241m.\u001b[39mfindall(\u001b[38;5;124mr\u001b[39m\u001b[38;5;124m\"\u001b[39m\u001b[38;5;124mwoo\u001b[39m\u001b[38;5;124m\"\u001b[39m, str2)\n",
      "\u001b[1;31mNameError\u001b[0m: name 're' is not defined"
     ]
    }
   ],
   "source": [
    "str2= \"How much wood would a woodchuck chuck, if a woodchuck could chuck wood?\"\n",
    "\n",
    "# Write your code below and press Shift+Enter to execute\n",
    "re.findall(r\"woo\", str2)"
   ]
  },
  {
   "cell_type": "markdown",
   "id": "86212ee0",
   "metadata": {},
   "source": [
    "<details><summary>Click here for the solution</summary>\n",
    "\n",
    "```python\n",
    "# Use re.findall() to find all occurrences of \"woo\"\n",
    "matches = re.findall(r\"woo\", str2)\n",
    "\n",
    "print(matches)\n",
    "```\n",
    "\n",
    "</details>\n"
   ]
  },
  {
   "cell_type": "markdown",
   "id": "e68a19ce",
   "metadata": {},
   "source": [
    "<hr><br>"
   ]
  },
  {
   "cell_type": "markdown",
   "id": "813df3b2",
   "metadata": {},
   "source": [
    "<h2 id=\"list\">Lists</h2>\n"
   ]
  },
  {
   "cell_type": "markdown",
   "id": "2795f38b",
   "metadata": {},
   "source": [
    "<h3 id=\"index\">Indexing</h3>\n"
   ]
  },
  {
   "cell_type": "markdown",
   "id": "48777b11",
   "metadata": {},
   "source": [
    "We are going to take a look at lists in Python. A list is a sequenced collection of different objects such as integers, strings, and even other lists as well. The address of each element within a list is called an <b>index</b>. An index is used to access and refer to items within a list.\n"
   ]
  },
  {
   "cell_type": "markdown",
   "id": "079f76e6",
   "metadata": {},
   "source": [
    "<img src=\"https://cf-courses-data.s3.us.cloud-object-storage.appdomain.cloud/IBMDeveloperSkillsNetwork-PY0101EN-SkillsNetwork/labs/Module%202/images/ListsIndex.png\" width=\"1000\">\n"
   ]
  },
  {
   "cell_type": "markdown",
   "id": "12c653bd",
   "metadata": {},
   "source": [
    " To create a list, type the list within square brackets <b>[ ]</b>, with your content inside the parenthesis and separated by commas. Let’s try it!\n"
   ]
  },
  {
   "cell_type": "code",
   "execution_count": 46,
   "id": "3e796815",
   "metadata": {},
   "outputs": [
    {
     "data": {
      "text/plain": [
       "['Michael Jackson', 10.1, 1982]"
      ]
     },
     "execution_count": 46,
     "metadata": {},
     "output_type": "execute_result"
    }
   ],
   "source": [
    "# Create a list\n",
    "\n",
    "L = [\"Michael Jackson\", 10.1, 1982]\n",
    "L"
   ]
  },
  {
   "cell_type": "markdown",
   "id": "87ec9c5f",
   "metadata": {},
   "source": [
    "We can use negative and regular indexing with a list:\n"
   ]
  },
  {
   "cell_type": "markdown",
   "id": "2eb50d97",
   "metadata": {},
   "source": [
    "<img src=\"https://cf-courses-data.s3.us.cloud-object-storage.appdomain.cloud/IBMDeveloperSkillsNetwork-PY0101EN-SkillsNetwork/labs/Module%202/images/ListsNeg.png\" width=\"1000\">\n"
   ]
  },
  {
   "cell_type": "code",
   "execution_count": 47,
   "id": "5fbe443f",
   "metadata": {},
   "outputs": [
    {
     "name": "stdout",
     "output_type": "stream",
     "text": [
      "the same element using negative and positive indexing:\n",
      " Postive: Michael Jackson \n",
      " Negative: Michael Jackson\n",
      "the same element using negative and positive indexing:\n",
      " Postive: 10.1 \n",
      " Negative: 10.1\n",
      "the same element using negative and positive indexing:\n",
      " Postive: 1982 \n",
      " Negative: 1982\n"
     ]
    }
   ],
   "source": [
    "# Print the elements on each index\n",
    "\n",
    "print('the same element using negative and positive indexing:\\n Postive:',L[0],\n",
    "'\\n Negative:' , L[-3]  )\n",
    "print('the same element using negative and positive indexing:\\n Postive:',L[1],\n",
    "'\\n Negative:' , L[-2]  )\n",
    "print('the same element using negative and positive indexing:\\n Postive:',L[2],\n",
    "'\\n Negative:' , L[-1]  )"
   ]
  },
  {
   "cell_type": "markdown",
   "id": "ca0dcc27",
   "metadata": {},
   "source": [
    "<h3 id=\"content\">List Content</h3>\n"
   ]
  },
  {
   "cell_type": "markdown",
   "id": "4d8c959c",
   "metadata": {},
   "source": [
    "Lists can contain strings, floats, and integers. We can nest other lists, and we can also nest tuples and other data structures. The same indexing conventions apply for nesting:    \n"
   ]
  },
  {
   "cell_type": "code",
   "execution_count": 48,
   "id": "0d9bfe3c",
   "metadata": {},
   "outputs": [
    {
     "data": {
      "text/plain": [
       "['Michael Jackson', 10.1, 1982, [1, 2], ('A', 1)]"
      ]
     },
     "execution_count": 48,
     "metadata": {},
     "output_type": "execute_result"
    }
   ],
   "source": [
    "# Sample List\n",
    "\n",
    "[\"Michael Jackson\", 10.1, 1982, [1, 2], (\"A\", 1)]"
   ]
  },
  {
   "cell_type": "markdown",
   "id": "665f0b87",
   "metadata": {},
   "source": [
    "<h3 id=\"op\">List Operations</h3>\n"
   ]
  },
  {
   "cell_type": "markdown",
   "id": "31de53ca",
   "metadata": {},
   "source": [
    " We can also perform slicing in lists. For example, if we want the last two elements, we use the following command:\n"
   ]
  },
  {
   "cell_type": "code",
   "execution_count": 49,
   "id": "2013eed2",
   "metadata": {},
   "outputs": [
    {
     "data": {
      "text/plain": [
       "['MJ', 1]"
      ]
     },
     "execution_count": 49,
     "metadata": {},
     "output_type": "execute_result"
    }
   ],
   "source": [
    "# Sample List\n",
    "\n",
    "L = [\"Michael Jackson\", 10.1,1982,\"MJ\",1]\n",
    "L[3:5]"
   ]
  },
  {
   "cell_type": "markdown",
   "id": "a99735ea",
   "metadata": {},
   "source": [
    "<img src=\"https://cf-courses-data.s3.us.cloud-object-storage.appdomain.cloud/IBMDeveloperSkillsNetwork-PY0101EN-SkillsNetwork/labs/Module%202/images/ListsSlice.png\" width=\"1000\">\n"
   ]
  },
  {
   "cell_type": "code",
   "execution_count": 50,
   "id": "c3546e74",
   "metadata": {},
   "outputs": [
    {
     "data": {
      "text/plain": [
       "['MJ', 1]"
      ]
     },
     "execution_count": 50,
     "metadata": {},
     "output_type": "execute_result"
    }
   ],
   "source": [
    "# List slicing\n",
    "\n",
    "L[3:5]"
   ]
  },
  {
   "cell_type": "markdown",
   "id": "50e2d4e8",
   "metadata": {},
   "source": [
    "We can use the method <code>extend</code> to add new elements to the list:\n"
   ]
  },
  {
   "cell_type": "code",
   "execution_count": 51,
   "id": "c9ea62b2",
   "metadata": {},
   "outputs": [
    {
     "data": {
      "text/plain": [
       "['Michael Jackson', 10.2, 'pop', 10]"
      ]
     },
     "execution_count": 51,
     "metadata": {},
     "output_type": "execute_result"
    }
   ],
   "source": [
    "# Use extend to add elements to list\n",
    "\n",
    "L = [ \"Michael Jackson\", 10.2]\n",
    "L.extend(['pop', 10])\n",
    "L"
   ]
  },
  {
   "cell_type": "markdown",
   "id": "7286f5a7",
   "metadata": {},
   "source": [
    "Another similar method is <code>append</code>. If we apply <code>append</code> instead of <code>extend</code>, we add one element to the list:\n"
   ]
  },
  {
   "cell_type": "code",
   "execution_count": 52,
   "id": "f742e29d",
   "metadata": {},
   "outputs": [
    {
     "data": {
      "text/plain": [
       "['Michael Jackson', 10.2, ['pop', 10]]"
      ]
     },
     "execution_count": 52,
     "metadata": {},
     "output_type": "execute_result"
    }
   ],
   "source": [
    "# Use append to add elements to list\n",
    "\n",
    "L = [ \"Michael Jackson\", 10.2]\n",
    "L.append(['pop', 10])\n",
    "L"
   ]
  },
  {
   "cell_type": "markdown",
   "id": "68a6fe7e",
   "metadata": {},
   "source": [
    " Each time we apply a method, the list changes. If we apply <code>extend</code> we add two new elements to the list. The list <code>L</code> is then modified by adding two new elements:\n"
   ]
  },
  {
   "cell_type": "code",
   "execution_count": 53,
   "id": "416506ae",
   "metadata": {},
   "outputs": [
    {
     "data": {
      "text/plain": [
       "['Michael Jackson', 10.2, 'pop', 10]"
      ]
     },
     "execution_count": 53,
     "metadata": {},
     "output_type": "execute_result"
    }
   ],
   "source": [
    "# Use extend to add elements to list\n",
    "\n",
    "L = [ \"Michael Jackson\", 10.2]\n",
    "L.extend(['pop', 10])\n",
    "L"
   ]
  },
  {
   "cell_type": "markdown",
   "id": "57b575f2",
   "metadata": {},
   "source": [
    "If we append the list  <code>['a','b']</code> we have one new element consisting of a nested list:\n"
   ]
  },
  {
   "cell_type": "code",
   "execution_count": 54,
   "id": "d50a272e",
   "metadata": {},
   "outputs": [
    {
     "data": {
      "text/plain": [
       "['Michael Jackson', 10.2, 'pop', 10, ['a', 'b']]"
      ]
     },
     "execution_count": 54,
     "metadata": {},
     "output_type": "execute_result"
    }
   ],
   "source": [
    "# Use append to add elements to list\n",
    "\n",
    "L.append(['a','b'])\n",
    "L"
   ]
  },
  {
   "cell_type": "markdown",
   "id": "1083ba4d",
   "metadata": {},
   "source": [
    "Another way to add elements to a list is by using the <code>insert()</code> method"
   ]
  },
  {
   "cell_type": "code",
   "execution_count": 55,
   "id": "95697569",
   "metadata": {},
   "outputs": [
    {
     "data": {
      "text/plain": [
       "['Hi', 'Michael Jackson', 10.2, 'pop', 10, ['a', 'b']]"
      ]
     },
     "execution_count": 55,
     "metadata": {},
     "output_type": "execute_result"
    }
   ],
   "source": [
    "L.insert(0, \"Hi\")\n",
    "L"
   ]
  },
  {
   "cell_type": "markdown",
   "id": "14e6080a",
   "metadata": {},
   "source": [
    "As lists are mutable, we can change them. For example, we can change the first element as follows:\n"
   ]
  },
  {
   "cell_type": "code",
   "execution_count": 56,
   "id": "5cc29f4a",
   "metadata": {},
   "outputs": [
    {
     "name": "stdout",
     "output_type": "stream",
     "text": [
      "Before change: ['disco', 10, 1.2]\n",
      "After change: ['hard rock', 10, 1.2]\n"
     ]
    }
   ],
   "source": [
    "# Change the element based on the index\n",
    "\n",
    "A = [\"disco\", 10, 1.2]\n",
    "print('Before change:', A)\n",
    "A[0] = 'hard rock'\n",
    "print('After change:', A)"
   ]
  },
  {
   "cell_type": "markdown",
   "id": "9710dbb5",
   "metadata": {},
   "source": [
    " We can also delete an element of a list using the <code>del</code> command:\n"
   ]
  },
  {
   "cell_type": "code",
   "execution_count": 57,
   "id": "87b395a3",
   "metadata": {},
   "outputs": [
    {
     "name": "stdout",
     "output_type": "stream",
     "text": [
      "Before change: ['hard rock', 10, 1.2]\n",
      "After change: [10, 1.2]\n"
     ]
    }
   ],
   "source": [
    "# Delete the element based on the index\n",
    "\n",
    "print('Before change:', A)\n",
    "del(A[0])\n",
    "print('After change:', A)"
   ]
  },
  {
   "cell_type": "markdown",
   "id": "7ebf7184",
   "metadata": {},
   "source": [
    " We can also delete an element of a list using the <code>remove</code> method"
   ]
  },
  {
   "cell_type": "code",
   "execution_count": 58,
   "id": "0bce0e49",
   "metadata": {},
   "outputs": [
    {
     "data": {
      "text/plain": [
       "[1, 2, 4, 5]"
      ]
     },
     "execution_count": 58,
     "metadata": {},
     "output_type": "execute_result"
    }
   ],
   "source": [
    "C = [1, 2, 3, 4, 5]\n",
    "C.remove(3)\n",
    "C"
   ]
  },
  {
   "cell_type": "markdown",
   "id": "6ea3e633",
   "metadata": {},
   "source": [
    "We can convert a string to a list using <code>split</code>.  For example, the method <code>split</code> translates every group of characters separated by a space into an element in a list:\n"
   ]
  },
  {
   "cell_type": "code",
   "execution_count": 59,
   "id": "98fb753c",
   "metadata": {},
   "outputs": [
    {
     "data": {
      "text/plain": [
       "['hard', 'rock']"
      ]
     },
     "execution_count": 59,
     "metadata": {},
     "output_type": "execute_result"
    }
   ],
   "source": [
    "# Split the string, default is by space\n",
    "\n",
    "'hard rock'.split()"
   ]
  },
  {
   "cell_type": "markdown",
   "id": "59a9d2ea",
   "metadata": {},
   "source": [
    "We can use the split function to separate strings on a specific character which we call a **delimiter**. We pass the character we would like to split on into the argument, which in this case is a comma.  The result is a list, and each element corresponds to a set of characters that have been separated by a comma: \n"
   ]
  },
  {
   "cell_type": "code",
   "execution_count": 60,
   "id": "b9cddfdf",
   "metadata": {},
   "outputs": [
    {
     "data": {
      "text/plain": [
       "['A', 'B', 'C', 'D']"
      ]
     },
     "execution_count": 60,
     "metadata": {},
     "output_type": "execute_result"
    }
   ],
   "source": [
    "# Split the string by comma\n",
    "\n",
    "'A,B,C,D'.split(',')"
   ]
  },
  {
   "cell_type": "code",
   "execution_count": 63,
   "id": "52eb598f",
   "metadata": {},
   "outputs": [
    {
     "name": "stdout",
     "output_type": "stream",
     "text": [
      "['Hello', 'this', 'is Abdallah']\n",
      "\n",
      "['Hello', 'this', 'is Abdallah']\n"
     ]
    }
   ],
   "source": [
    "s = \"Hello this is Abdallah\"\n",
    "print(s.split(sep=None, maxsplit=2))\n",
    "print()\n",
    "print(s.split(\" \", 2))"
   ]
  },
  {
   "cell_type": "markdown",
   "id": "ec9c4028",
   "metadata": {},
   "source": [
    "<h3 id=\"co\">Copy and Clone List</h3>\n"
   ]
  },
  {
   "cell_type": "markdown",
   "id": "fb4c6aa1",
   "metadata": {},
   "source": [
    "When we set one variable <b>B</b> equal to <b>A</b>, both <b>A</b> and <b>B</b> are referencing the same list in memory:\n"
   ]
  },
  {
   "cell_type": "code",
   "execution_count": 64,
   "id": "414089ab",
   "metadata": {},
   "outputs": [
    {
     "name": "stdout",
     "output_type": "stream",
     "text": [
      "A: ['hard rock', 10, 1.2]\n",
      "B: ['hard rock', 10, 1.2]\n"
     ]
    }
   ],
   "source": [
    "# Copy (copy by reference) the list A\n",
    "\n",
    "A = [\"hard rock\", 10, 1.2]\n",
    "B = A\n",
    "print('A:', A)\n",
    "print('B:', B)"
   ]
  },
  {
   "cell_type": "markdown",
   "id": "1bd3bda2",
   "metadata": {},
   "source": [
    "<img src=\"https://cf-courses-data.s3.us.cloud-object-storage.appdomain.cloud/IBMDeveloperSkillsNetwork-PY0101EN-SkillsNetwork/labs/Module%202/images/ListsRef.png\" width=\"1000\" align=\"center\">\n"
   ]
  },
  {
   "cell_type": "markdown",
   "id": "0b8e9a34",
   "metadata": {},
   "source": [
    "Initially, the value of the first element in <b>B</b> is set as \"hard rock\". If we change the first element in <b>A</b> to <b>\"banana\"</b>, we get an unexpected side effect.  As <b>A</b> and <b>B</b> are referencing the same list, if we change list <b>A</b>, then list <b>B</b> also changes. If we check the first element of <b>B</b> we get \"banana\" instead of \"hard rock\":\n"
   ]
  },
  {
   "cell_type": "code",
   "execution_count": 65,
   "id": "2d669fe7",
   "metadata": {},
   "outputs": [
    {
     "name": "stdout",
     "output_type": "stream",
     "text": [
      "B[0]: hard rock\n",
      "B[0]: banana\n"
     ]
    }
   ],
   "source": [
    "# Examine the copy by reference\n",
    "\n",
    "print('B[0]:', B[0])\n",
    "A[0] = \"banana\"\n",
    "print('B[0]:', B[0])"
   ]
  },
  {
   "cell_type": "markdown",
   "id": "2441b13a",
   "metadata": {},
   "source": [
    "This is demonstrated in the following figure: \n"
   ]
  },
  {
   "cell_type": "markdown",
   "id": "dcc5fc4c",
   "metadata": {},
   "source": [
    "<img src=\"https://cf-courses-data.s3.us.cloud-object-storage.appdomain.cloud/IBMDeveloperSkillsNetwork-PY0101EN-SkillsNetwork/labs/Module%202/images/ListsRefGif.gif\" width=\"1000\">\n"
   ]
  },
  {
   "cell_type": "markdown",
   "id": "a972f74a",
   "metadata": {},
   "source": [
    "You can clone list **A** by using  the following syntax:\n"
   ]
  },
  {
   "cell_type": "code",
   "execution_count": 66,
   "id": "a05d351e",
   "metadata": {},
   "outputs": [
    {
     "data": {
      "text/plain": [
       "['banana', 10, 1.2]"
      ]
     },
     "execution_count": 66,
     "metadata": {},
     "output_type": "execute_result"
    }
   ],
   "source": [
    "# Clone (clone by value) the list A\n",
    "\n",
    "B = A[:]\n",
    "B"
   ]
  },
  {
   "cell_type": "markdown",
   "id": "381fbbb6",
   "metadata": {},
   "source": [
    " Variable **B** references a new copy or clone of the original list. This is demonstrated in the following figure:\n"
   ]
  },
  {
   "cell_type": "markdown",
   "id": "99ebd959",
   "metadata": {},
   "source": [
    "<img src=\"https://cf-courses-data.s3.us.cloud-object-storage.appdomain.cloud/IBMDeveloperSkillsNetwork-PY0101EN-SkillsNetwork/labs/Module%202/images/ListsVal.gif\" width=\"1000\">\n"
   ]
  },
  {
   "cell_type": "markdown",
   "id": "33c1489f",
   "metadata": {},
   "source": [
    "Now if you change <b>A</b>, <b>B</b> will not change: \n"
   ]
  },
  {
   "cell_type": "code",
   "execution_count": 67,
   "id": "6615dce0",
   "metadata": {},
   "outputs": [
    {
     "name": "stdout",
     "output_type": "stream",
     "text": [
      "B[0]: banana\n",
      "B[0]: banana\n"
     ]
    }
   ],
   "source": [
    "print('B[0]:', B[0])\n",
    "A[0] = \"hard rock\"\n",
    "print('B[0]:', B[0])"
   ]
  },
  {
   "cell_type": "markdown",
   "id": "dba3ade1",
   "metadata": {},
   "source": [
    "<h2 id=\"quiz\">Quiz on List</h2>\n"
   ]
  },
  {
   "cell_type": "markdown",
   "id": "5ef64e4b",
   "metadata": {},
   "source": [
    "Create a list <code>a_list</code>, with the following elements <code>1</code>, <code>hello</code>, <code>[1,2,3]</code> and <code>True</code>. \n"
   ]
  },
  {
   "cell_type": "code",
   "execution_count": 68,
   "id": "feec8cba",
   "metadata": {},
   "outputs": [
    {
     "data": {
      "text/plain": [
       "[1, 'hello', [1, 2, 3], True]"
      ]
     },
     "execution_count": 68,
     "metadata": {},
     "output_type": "execute_result"
    }
   ],
   "source": [
    "# Write your code below and press Shift+Enter to execute\n",
    "a_list = [1, \"hello\", [1,2,3], True]\n",
    "a_list"
   ]
  },
  {
   "cell_type": "markdown",
   "id": "727cac43",
   "metadata": {},
   "source": [
    "<details><summary>Click here for the solution</summary>\n",
    "\n",
    "```python\n",
    "a_list = [1, 'hello', [1, 2, 3] , True]\n",
    "a_list\n",
    "\n",
    "```\n",
    "\n",
    "</details>\n"
   ]
  },
  {
   "cell_type": "markdown",
   "id": "26508236",
   "metadata": {},
   "source": [
    "Find the value stored at index 1 of <code>a_list</code>.\n"
   ]
  },
  {
   "cell_type": "code",
   "execution_count": 69,
   "id": "db0b4f36",
   "metadata": {},
   "outputs": [
    {
     "data": {
      "text/plain": [
       "'hello'"
      ]
     },
     "execution_count": 69,
     "metadata": {},
     "output_type": "execute_result"
    }
   ],
   "source": [
    "# Write your code below and press Shift+Enter to execute\n",
    "a_list[1]"
   ]
  },
  {
   "cell_type": "markdown",
   "id": "925925f5",
   "metadata": {},
   "source": [
    "<details><summary>Click here for the solution</summary>\n",
    "\n",
    "```python\n",
    "a_list[1]\n",
    "\n",
    "```\n",
    "\n",
    "</details>\n"
   ]
  },
  {
   "cell_type": "markdown",
   "id": "d7abbd5f",
   "metadata": {},
   "source": [
    "Retrieve the elements stored at index 1, 2 and 3 of <code>a_list</code>.\n"
   ]
  },
  {
   "cell_type": "code",
   "execution_count": 70,
   "id": "1fd17cda",
   "metadata": {},
   "outputs": [
    {
     "data": {
      "text/plain": [
       "['hello', [1, 2, 3], True]"
      ]
     },
     "execution_count": 70,
     "metadata": {},
     "output_type": "execute_result"
    }
   ],
   "source": [
    "# Write your code below and press Shift+Enter to execute\n",
    "a_list[1:4]"
   ]
  },
  {
   "cell_type": "markdown",
   "id": "98e6bf82",
   "metadata": {},
   "source": [
    "<details><summary>Click here for the solution</summary>\n",
    "\n",
    "```python\n",
    "a_list[1:4]\n",
    "\n",
    "```\n",
    "\n",
    "</details>\n"
   ]
  },
  {
   "cell_type": "markdown",
   "id": "7f77c30e",
   "metadata": {},
   "source": [
    "Concatenate the following lists <code>A = [1, 'a']</code> and <code>B = [2, 1, 'd']</code>:\n"
   ]
  },
  {
   "cell_type": "code",
   "execution_count": 71,
   "id": "a9675c42",
   "metadata": {},
   "outputs": [
    {
     "data": {
      "text/plain": [
       "[1, 'a', 2, 1, 'd']"
      ]
     },
     "execution_count": 71,
     "metadata": {},
     "output_type": "execute_result"
    }
   ],
   "source": [
    "# Write your code below and press Shift+Enter to execute\n",
    "A = [1, 'a']\n",
    "B = [2, 1, 'd']\n",
    "A + B"
   ]
  },
  {
   "cell_type": "markdown",
   "id": "94fa21d6",
   "metadata": {},
   "source": [
    "<details><summary>Click here for the solution</summary>\n",
    "\n",
    "```python\n",
    "A = [1, 'a'] \n",
    "B = [2, 1, 'd']\n",
    "A + B\n",
    "\n",
    "```\n",
    "\n",
    "</details>\n"
   ]
  },
  {
   "cell_type": "markdown",
   "id": "9e24d241",
   "metadata": {},
   "source": [
    "### List iterate"
   ]
  },
  {
   "cell_type": "code",
   "execution_count": 72,
   "id": "cd2fc7cb",
   "metadata": {},
   "outputs": [
    {
     "name": "stdout",
     "output_type": "stream",
     "text": [
      "2, 1, d, \n",
      "\n",
      "2 1 d "
     ]
    }
   ],
   "source": [
    "for item in B:\n",
    "    print(item, end= \", \")\n",
    "print(\"\\n\")\n",
    "for item in B:\n",
    "    print(item, end= \" \")"
   ]
  },
  {
   "cell_type": "code",
   "execution_count": 73,
   "id": "2059f2a7",
   "metadata": {},
   "outputs": [
    {
     "name": "stdout",
     "output_type": "stream",
     "text": [
      "[[0, 1], [100, 200], [200, 300]]\n",
      "\n",
      "0 1 100 200 200 300 "
     ]
    }
   ],
   "source": [
    "coordinates = [[0, 1], [100, 200], [200, 300]]\n",
    "print(coordinates)\n",
    "print()\n",
    "for i in coordinates:\n",
    "    for j in i:\n",
    "        print(j, end=\" \")"
   ]
  },
  {
   "cell_type": "code",
   "execution_count": 74,
   "id": "1de0ab76",
   "metadata": {},
   "outputs": [
    {
     "name": "stdout",
     "output_type": "stream",
     "text": [
      "1 2 3\n",
      "4 5 6\n",
      "7 8 9 10\n",
      "\n",
      "1 2 3 4 5 6 7 8 9 10 "
     ]
    }
   ],
   "source": [
    "ys = [[1, 2, 3], [4, 5, 6], [7, 8, 9, 10]]\n",
    "for xs in ys:\n",
    "    print(\" \".join(map(str, xs)))\n",
    "print()\n",
    "for xs in ys:\n",
    "    print(\" \".join(map(str, xs)), end=\" \")"
   ]
  },
  {
   "cell_type": "markdown",
   "id": "7570c59d",
   "metadata": {},
   "source": [
    "<hr>\n"
   ]
  },
  {
   "cell_type": "markdown",
   "id": "06cb411f",
   "metadata": {},
   "source": [
    "<h2 id=\"tuple\">Tuples</h2>\n"
   ]
  },
  {
   "cell_type": "markdown",
   "id": "d0a9e5ef",
   "metadata": {},
   "source": [
    "In Python, there are different data types: string, integer, and float. These data types can all be contained in a tuple as follows:\n"
   ]
  },
  {
   "cell_type": "markdown",
   "id": "a3be24e6",
   "metadata": {},
   "source": [
    "<img src=\"https://cf-courses-data.s3.us.cloud-object-storage.appdomain.cloud/IBMDeveloperSkillsNetwork-PY0101EN-SkillsNetwork/labs/Module%202/images/TuplesType.png\" width=\"750\" align=\"center\">\n"
   ]
  },
  {
   "cell_type": "markdown",
   "id": "34d84635",
   "metadata": {},
   "source": [
    "Now, let us create your first tuple with string, integer and float.\n"
   ]
  },
  {
   "cell_type": "code",
   "execution_count": 1,
   "id": "6961a962",
   "metadata": {},
   "outputs": [
    {
     "data": {
      "text/plain": [
       "('disco', 10, 1.2)"
      ]
     },
     "execution_count": 1,
     "metadata": {},
     "output_type": "execute_result"
    }
   ],
   "source": [
    "# Create your first tuple\n",
    "\n",
    "tuple1 = (\"disco\",10,1.2 )\n",
    "tuple1"
   ]
  },
  {
   "cell_type": "markdown",
   "id": "80fa0fdb",
   "metadata": {},
   "source": [
    "The type of variable is a **tuple**. \n"
   ]
  },
  {
   "cell_type": "code",
   "execution_count": 2,
   "id": "efdd3bdc",
   "metadata": {},
   "outputs": [
    {
     "data": {
      "text/plain": [
       "tuple"
      ]
     },
     "execution_count": 2,
     "metadata": {},
     "output_type": "execute_result"
    }
   ],
   "source": [
    "# Print the type of the tuple you created\n",
    "\n",
    "type(tuple1)"
   ]
  },
  {
   "cell_type": "markdown",
   "id": "f10d9097",
   "metadata": {},
   "source": [
    "<h3 id=\"index\">Indexing</h3>\n"
   ]
  },
  {
   "cell_type": "markdown",
   "id": "126976f2",
   "metadata": {},
   "source": [
    " Each element of a tuple can be accessed via an index. The following table represents the relationship between the index and the items in the tuple. Each element can be obtained by the name of the tuple followed by a square bracket with the index number:\n"
   ]
  },
  {
   "cell_type": "markdown",
   "id": "5a5cc7db",
   "metadata": {},
   "source": [
    "<img src=\"https://cf-courses-data.s3.us.cloud-object-storage.appdomain.cloud/IBMDeveloperSkillsNetwork-PY0101EN-SkillsNetwork/labs/Module%202/images/TuplesIndex.gif\" width=\"750\" align=\"center\">\n"
   ]
  },
  {
   "cell_type": "markdown",
   "id": "c6885d9c",
   "metadata": {},
   "source": [
    "We can print out each value in the tuple:\n"
   ]
  },
  {
   "cell_type": "code",
   "execution_count": 3,
   "id": "3ac7157e",
   "metadata": {},
   "outputs": [
    {
     "name": "stdout",
     "output_type": "stream",
     "text": [
      "disco\n",
      "10\n",
      "1.2\n"
     ]
    }
   ],
   "source": [
    "# Print the variable on each index\n",
    "\n",
    "print(tuple1[0])\n",
    "print(tuple1[1])\n",
    "print(tuple1[2])"
   ]
  },
  {
   "cell_type": "markdown",
   "id": "8070702f",
   "metadata": {},
   "source": [
    "We can print out the **type** of each value in the tuple:\n"
   ]
  },
  {
   "cell_type": "code",
   "execution_count": 4,
   "id": "008b792c",
   "metadata": {},
   "outputs": [
    {
     "name": "stdout",
     "output_type": "stream",
     "text": [
      "<class 'str'>\n",
      "<class 'int'>\n",
      "<class 'float'>\n"
     ]
    }
   ],
   "source": [
    "# Print the type of value on each index\n",
    "\n",
    "print(type(tuple1[0]))\n",
    "print(type(tuple1[1]))\n",
    "print(type(tuple1[2]))"
   ]
  },
  {
   "cell_type": "markdown",
   "id": "5f5b1de2",
   "metadata": {},
   "source": [
    "We can also use negative indexing. We use the same table above with corresponding negative values:\n"
   ]
  },
  {
   "cell_type": "markdown",
   "id": "65c98e2c",
   "metadata": {},
   "source": [
    "<img src=\"https://cf-courses-data.s3.us.cloud-object-storage.appdomain.cloud/IBMDeveloperSkillsNetwork-PY0101EN-SkillsNetwork/labs/Module%202/images/TuplesNeg.png\" width=\"750\" align=\"center\">\n"
   ]
  },
  {
   "cell_type": "markdown",
   "id": "628b99da",
   "metadata": {},
   "source": [
    "We can obtain the last element as follows (this time we will not use the print statement to display the values):\n"
   ]
  },
  {
   "cell_type": "code",
   "execution_count": 5,
   "id": "53a29626",
   "metadata": {},
   "outputs": [
    {
     "data": {
      "text/plain": [
       "1.2"
      ]
     },
     "execution_count": 5,
     "metadata": {},
     "output_type": "execute_result"
    }
   ],
   "source": [
    "# Use negative index to get the value of the last element\n",
    "\n",
    "tuple1[-1]"
   ]
  },
  {
   "cell_type": "markdown",
   "id": "e6e19162",
   "metadata": {},
   "source": [
    "We can display the next two elements as follows:\n"
   ]
  },
  {
   "cell_type": "code",
   "execution_count": 6,
   "id": "3ea2a21e",
   "metadata": {},
   "outputs": [
    {
     "data": {
      "text/plain": [
       "10"
      ]
     },
     "execution_count": 6,
     "metadata": {},
     "output_type": "execute_result"
    }
   ],
   "source": [
    "# Use negative index to get the value of the second last element\n",
    "\n",
    "tuple1[-2]"
   ]
  },
  {
   "cell_type": "code",
   "execution_count": 7,
   "id": "936bc2f8",
   "metadata": {},
   "outputs": [
    {
     "data": {
      "text/plain": [
       "'disco'"
      ]
     },
     "execution_count": 7,
     "metadata": {},
     "output_type": "execute_result"
    }
   ],
   "source": [
    "# Use negative index to get the value of the third last element\n",
    "\n",
    "tuple1[-3]"
   ]
  },
  {
   "cell_type": "markdown",
   "id": "478df3c9",
   "metadata": {},
   "source": [
    "<h3 id=\"concate\">Concatenate Tuples</h3>\n"
   ]
  },
  {
   "cell_type": "markdown",
   "id": "2eefdf5d",
   "metadata": {},
   "source": [
    "We can concatenate or combine tuples by using the **+** sign:\n"
   ]
  },
  {
   "cell_type": "code",
   "execution_count": 8,
   "id": "6d3ba5cf",
   "metadata": {},
   "outputs": [
    {
     "data": {
      "text/plain": [
       "('disco', 10, 1.2, 'hard rock', 10)"
      ]
     },
     "execution_count": 8,
     "metadata": {},
     "output_type": "execute_result"
    }
   ],
   "source": [
    "# Concatenate two tuples\n",
    "\n",
    "tuple2 = tuple1 + (\"hard rock\", 10)\n",
    "tuple2"
   ]
  },
  {
   "cell_type": "markdown",
   "id": "4f33ec79",
   "metadata": {},
   "source": [
    "We can slice tuples obtaining multiple values as demonstrated by the figure below:\n"
   ]
  },
  {
   "cell_type": "markdown",
   "id": "91bcc814",
   "metadata": {},
   "source": [
    "<img src=\"https://cf-courses-data.s3.us.cloud-object-storage.appdomain.cloud/IBMDeveloperSkillsNetwork-PY0101EN-SkillsNetwork/labs/Module%202/images/TuplesSlice.gif\" width=\"750\" align=\"center\">\n"
   ]
  },
  {
   "cell_type": "markdown",
   "id": "b23f1f07",
   "metadata": {},
   "source": [
    "<h3 id=\"slice\">Slicing</h3>\n"
   ]
  },
  {
   "cell_type": "markdown",
   "id": "d20f6793",
   "metadata": {},
   "source": [
    "We can slice tuples, obtaining new tuples with the corresponding elements: \n"
   ]
  },
  {
   "cell_type": "code",
   "execution_count": 9,
   "id": "d64b5142",
   "metadata": {},
   "outputs": [
    {
     "data": {
      "text/plain": [
       "('disco', 10, 1.2)"
      ]
     },
     "execution_count": 9,
     "metadata": {},
     "output_type": "execute_result"
    }
   ],
   "source": [
    "# Slice from index 0 to index 2\n",
    "\n",
    "tuple2[0:3]"
   ]
  },
  {
   "cell_type": "markdown",
   "id": "1ce30e8d",
   "metadata": {},
   "source": [
    "We can obtain the last two elements of the tuple:\n"
   ]
  },
  {
   "cell_type": "code",
   "execution_count": 10,
   "id": "953266f8",
   "metadata": {},
   "outputs": [
    {
     "data": {
      "text/plain": [
       "('hard rock', 10)"
      ]
     },
     "execution_count": 10,
     "metadata": {},
     "output_type": "execute_result"
    }
   ],
   "source": [
    "# Slice from index 3 to index 4\n",
    "\n",
    "tuple2[3:5]"
   ]
  },
  {
   "cell_type": "markdown",
   "id": "c737bb3e",
   "metadata": {},
   "source": [
    "We can obtain the length of a tuple using the length command: \n"
   ]
  },
  {
   "cell_type": "code",
   "execution_count": 11,
   "id": "af54bc14",
   "metadata": {},
   "outputs": [
    {
     "data": {
      "text/plain": [
       "5"
      ]
     },
     "execution_count": 11,
     "metadata": {},
     "output_type": "execute_result"
    }
   ],
   "source": [
    "# Get the length of tuple\n",
    "\n",
    "len(tuple2)"
   ]
  },
  {
   "cell_type": "markdown",
   "id": "ffde46ff",
   "metadata": {},
   "source": [
    "This figure shows the number of elements:\n"
   ]
  },
  {
   "cell_type": "markdown",
   "id": "a95dbbd5",
   "metadata": {},
   "source": [
    "<img src=\"https://cf-courses-data.s3.us.cloud-object-storage.appdomain.cloud/IBMDeveloperSkillsNetwork-PY0101EN-SkillsNetwork/labs/Module%202/images/TuplesElement.png\" width=\"750\" align=\"center\">\n"
   ]
  },
  {
   "cell_type": "markdown",
   "id": "4cb8f307",
   "metadata": {},
   "source": [
    "<h3 id=\"sort\">Sorting</h3>\n"
   ]
  },
  {
   "cell_type": "markdown",
   "id": "be3956d7",
   "metadata": {},
   "source": [
    " Consider the following tuple:\n"
   ]
  },
  {
   "cell_type": "code",
   "execution_count": 12,
   "id": "6623d056",
   "metadata": {
    "jupyter": {
     "outputs_hidden": true
    }
   },
   "outputs": [],
   "source": [
    "# A sample tuple\n",
    "\n",
    "Ratings = (0, 9, 6, 5, 10, 8, 9, 6, 2)"
   ]
  },
  {
   "cell_type": "markdown",
   "id": "38fd19cc",
   "metadata": {},
   "source": [
    "We can sort the values in a tuple and save it to a new tuple: \n"
   ]
  },
  {
   "cell_type": "code",
   "execution_count": 13,
   "id": "157a3a08",
   "metadata": {},
   "outputs": [
    {
     "data": {
      "text/plain": [
       "[0, 2, 5, 6, 6, 8, 9, 9, 10]"
      ]
     },
     "execution_count": 13,
     "metadata": {},
     "output_type": "execute_result"
    }
   ],
   "source": [
    "# Sort the tuple\n",
    "\n",
    "RatingsSorted = sorted(Ratings)\n",
    "RatingsSorted"
   ]
  },
  {
   "cell_type": "markdown",
   "id": "1700dccd",
   "metadata": {},
   "source": [
    "<h3 id=\"nest\">Nested Tuple</h3>\n"
   ]
  },
  {
   "cell_type": "markdown",
   "id": "7bc95a43",
   "metadata": {},
   "source": [
    "A tuple can contain another tuple as well as other more complex data types. This process is called 'nesting'. Consider the following tuple with several elements: \n"
   ]
  },
  {
   "cell_type": "code",
   "execution_count": 14,
   "id": "08e17e1f",
   "metadata": {
    "jupyter": {
     "outputs_hidden": true
    }
   },
   "outputs": [],
   "source": [
    "# Create a nest tuple\n",
    "\n",
    "NestedT =(1, 2, (\"pop\", \"rock\") ,(3,4),(\"disco\",(1,2)))"
   ]
  },
  {
   "cell_type": "markdown",
   "id": "ab86f64c",
   "metadata": {},
   "source": [
    "Each element in the tuple, including other tuples, can be obtained via an index as shown in the figure:\n"
   ]
  },
  {
   "cell_type": "markdown",
   "id": "744ea081",
   "metadata": {},
   "source": [
    "<img src=\"https://cf-courses-data.s3.us.cloud-object-storage.appdomain.cloud/IBMDeveloperSkillsNetwork-PY0101EN-SkillsNetwork/labs/Module%202/images/TuplesNestOne.png\" width=\"750\" align=\"center\">\n"
   ]
  },
  {
   "cell_type": "code",
   "execution_count": 15,
   "id": "01bde7b0",
   "metadata": {},
   "outputs": [
    {
     "name": "stdout",
     "output_type": "stream",
     "text": [
      "Element 0 of Tuple:  1\n",
      "Element 1 of Tuple:  2\n",
      "Element 2 of Tuple:  ('pop', 'rock')\n",
      "Element 3 of Tuple:  (3, 4)\n",
      "Element 4 of Tuple:  ('disco', (1, 2))\n"
     ]
    }
   ],
   "source": [
    "# Print element on each index\n",
    "\n",
    "print(\"Element 0 of Tuple: \", NestedT[0])\n",
    "print(\"Element 1 of Tuple: \", NestedT[1])\n",
    "print(\"Element 2 of Tuple: \", NestedT[2])\n",
    "print(\"Element 3 of Tuple: \", NestedT[3])\n",
    "print(\"Element 4 of Tuple: \", NestedT[4])"
   ]
  },
  {
   "cell_type": "markdown",
   "id": "043947d0",
   "metadata": {},
   "source": [
    "We can use the second index to access other tuples as demonstrated in the figure:\n"
   ]
  },
  {
   "cell_type": "markdown",
   "id": "b3e61cee",
   "metadata": {},
   "source": [
    "<img src=\"https://cf-courses-data.s3.us.cloud-object-storage.appdomain.cloud/IBMDeveloperSkillsNetwork-PY0101EN-SkillsNetwork/labs/Module%202/images/TuplesNestTwo.png\" width=\"750\" align=\"center\">\n"
   ]
  },
  {
   "cell_type": "markdown",
   "id": "8f703c5c",
   "metadata": {},
   "source": [
    " We can access the nested tuples:\n"
   ]
  },
  {
   "cell_type": "code",
   "execution_count": 16,
   "id": "e36d791c",
   "metadata": {},
   "outputs": [
    {
     "name": "stdout",
     "output_type": "stream",
     "text": [
      "Element 2, 0 of Tuple:  pop\n",
      "Element 2, 1 of Tuple:  rock\n",
      "Element 3, 0 of Tuple:  3\n",
      "Element 3, 1 of Tuple:  4\n",
      "Element 4, 0 of Tuple:  disco\n",
      "Element 4, 1 of Tuple:  (1, 2)\n"
     ]
    }
   ],
   "source": [
    "# Print element on each index, including nest indexes\n",
    "\n",
    "print(\"Element 2, 0 of Tuple: \",   NestedT[2][0])\n",
    "print(\"Element 2, 1 of Tuple: \",   NestedT[2][1])\n",
    "print(\"Element 3, 0 of Tuple: \",   NestedT[3][0])\n",
    "print(\"Element 3, 1 of Tuple: \",   NestedT[3][1])\n",
    "print(\"Element 4, 0 of Tuple: \",   NestedT[4][0])\n",
    "print(\"Element 4, 1 of Tuple: \",   NestedT[4][1])"
   ]
  },
  {
   "cell_type": "markdown",
   "id": "44eb0434",
   "metadata": {},
   "source": [
    "We can access strings in the second nested tuples using a third index:\n"
   ]
  },
  {
   "cell_type": "code",
   "execution_count": 17,
   "id": "02c54bf5",
   "metadata": {},
   "outputs": [
    {
     "data": {
      "text/plain": [
       "'r'"
      ]
     },
     "execution_count": 17,
     "metadata": {},
     "output_type": "execute_result"
    }
   ],
   "source": [
    "# Print the first element in the second nested tuples\n",
    "\n",
    "NestedT[2][1][0]"
   ]
  },
  {
   "cell_type": "code",
   "execution_count": 18,
   "id": "68d445a6",
   "metadata": {},
   "outputs": [
    {
     "data": {
      "text/plain": [
       "'o'"
      ]
     },
     "execution_count": 18,
     "metadata": {},
     "output_type": "execute_result"
    }
   ],
   "source": [
    "# Print the second element in the second nested tuples\n",
    "\n",
    "NestedT[2][1][1]"
   ]
  },
  {
   "cell_type": "markdown",
   "id": "c14b3bcc",
   "metadata": {},
   "source": [
    " We can use a tree to visualise the process. Each new index corresponds to a deeper level in the tree:\n"
   ]
  },
  {
   "cell_type": "markdown",
   "id": "5961cad4",
   "metadata": {},
   "source": [
    "<img src=\"https://cf-courses-data.s3.us.cloud-object-storage.appdomain.cloud/IBMDeveloperSkillsNetwork-PY0101EN-SkillsNetwork/labs/Module%202/images/TuplesNestThree.gif\" width=\"750\" align=\"center\">\n"
   ]
  },
  {
   "cell_type": "markdown",
   "id": "d3e98a0e",
   "metadata": {},
   "source": [
    "Similarly, we can access elements nested deeper in the tree with a third index:\n"
   ]
  },
  {
   "cell_type": "code",
   "execution_count": 19,
   "id": "e9080ee1",
   "metadata": {},
   "outputs": [
    {
     "data": {
      "text/plain": [
       "1"
      ]
     },
     "execution_count": 19,
     "metadata": {},
     "output_type": "execute_result"
    }
   ],
   "source": [
    "# Print the first element in the second nested tuples\n",
    "\n",
    "NestedT[4][1][0]"
   ]
  },
  {
   "cell_type": "code",
   "execution_count": 20,
   "id": "ecfce6cd",
   "metadata": {},
   "outputs": [
    {
     "data": {
      "text/plain": [
       "2"
      ]
     },
     "execution_count": 20,
     "metadata": {},
     "output_type": "execute_result"
    }
   ],
   "source": [
    "# Print the second element in the second nested tuples\n",
    "\n",
    "NestedT[4][1][1]"
   ]
  },
  {
   "cell_type": "markdown",
   "id": "0d7bb386",
   "metadata": {},
   "source": [
    "The following figure shows the relationship of the tree and the element <code>NestedT[4][1][1]</code>:\n"
   ]
  },
  {
   "cell_type": "markdown",
   "id": "a59cca85",
   "metadata": {},
   "source": [
    "<img src=\"https://cf-courses-data.s3.us.cloud-object-storage.appdomain.cloud/IBMDeveloperSkillsNetwork-PY0101EN-SkillsNetwork/labs/Module%202/images/TuplesNestFour.gif\" width=\"750\" align=\"center\">\n"
   ]
  },
  {
   "cell_type": "markdown",
   "id": "f514a854",
   "metadata": {},
   "source": [
    "<h2 id=\"quiz\">Quiz on Tuples</h2>\n"
   ]
  },
  {
   "cell_type": "markdown",
   "id": "3efa4a2c",
   "metadata": {},
   "source": [
    "Consider the following tuple:\n"
   ]
  },
  {
   "cell_type": "code",
   "execution_count": null,
   "id": "0c0828b8",
   "metadata": {},
   "outputs": [],
   "source": [
    "# sample tuple\n",
    "\n",
    "genres_tuple = (\"pop\", \"rock\", \"soul\", \"hard rock\", \"soft rock\", \\\n",
    "                \"R&B\", \"progressive rock\", \"disco\") \n",
    "genres_tuple"
   ]
  },
  {
   "cell_type": "markdown",
   "id": "97ab5b78",
   "metadata": {},
   "source": [
    "Find the length of the tuple, <code>genres_tuple</code>:\n"
   ]
  },
  {
   "cell_type": "code",
   "execution_count": null,
   "id": "d1bffdfd",
   "metadata": {},
   "outputs": [],
   "source": [
    "# Write your code below and press Shift+Enter to execute\n",
    "len(genres_tuple)"
   ]
  },
  {
   "cell_type": "markdown",
   "id": "d78d8df6",
   "metadata": {},
   "source": [
    "<img src=\"https://cf-courses-data.s3.us.cloud-object-storage.appdomain.cloud/IBMDeveloperSkillsNetwork-PY0101EN-SkillsNetwork/labs/Module%202/images/TuplesQuiz.png\" width=\"1100\" align=\"center\">\n"
   ]
  },
  {
   "cell_type": "markdown",
   "id": "62115187",
   "metadata": {},
   "source": [
    "<details><summary>Click here for the solution</summary>\n",
    "\n",
    "```python\n",
    "len(genres_tuple)\n",
    "```\n",
    "\n",
    "</details>\n"
   ]
  },
  {
   "cell_type": "markdown",
   "id": "3cc1d174",
   "metadata": {},
   "source": [
    "Access the element, with respect to index 3: \n"
   ]
  },
  {
   "cell_type": "code",
   "execution_count": null,
   "id": "c58bfbf5",
   "metadata": {},
   "outputs": [],
   "source": [
    "# Write your code below and press Shift+Enter to execute\n",
    "genres_tuple[3]"
   ]
  },
  {
   "cell_type": "markdown",
   "id": "a9d099f9",
   "metadata": {},
   "source": [
    "<details><summary>Click here for the solution</summary>\n",
    "\n",
    "```python\n",
    "genres_tuple[3]\n",
    "\n",
    "```\n",
    "\n",
    "</details>\n"
   ]
  },
  {
   "cell_type": "markdown",
   "id": "2131958c",
   "metadata": {},
   "source": [
    "Use slicing to obtain indexes 3, 4 and 5:\n"
   ]
  },
  {
   "cell_type": "code",
   "execution_count": null,
   "id": "0aa66ba4",
   "metadata": {},
   "outputs": [],
   "source": [
    "# Write your code below and press Shift+Enter to execute\n",
    "genres_tuple[3:6]"
   ]
  },
  {
   "cell_type": "markdown",
   "id": "2f5cfd40",
   "metadata": {},
   "source": [
    "<details><summary>Click here for the solution</summary>\n",
    "\n",
    "```python\n",
    "genres_tuple[3:6]\n",
    "\n",
    "```\n",
    "\n",
    "</details>\n"
   ]
  },
  {
   "cell_type": "markdown",
   "id": "fb44c9e3",
   "metadata": {},
   "source": [
    "Find the first two elements of the tuple <code>genres_tuple</code>:\n"
   ]
  },
  {
   "cell_type": "code",
   "execution_count": null,
   "id": "292c3c09",
   "metadata": {},
   "outputs": [],
   "source": [
    "# Write your code below and press Shift+Enter to execute\n",
    "genres_tuple[:2]"
   ]
  },
  {
   "cell_type": "markdown",
   "id": "6f01e6a6",
   "metadata": {},
   "source": [
    "<details><summary>Click here for the solution</summary>\n",
    "\n",
    "```python\n",
    "genres_tuple[0:2]\n",
    "\n",
    "```\n",
    "\n",
    "</details>\n"
   ]
  },
  {
   "cell_type": "markdown",
   "id": "69aebc48",
   "metadata": {},
   "source": [
    "Find the first index of <code>\"disco\"</code>:\n"
   ]
  },
  {
   "cell_type": "code",
   "execution_count": null,
   "id": "605042f0",
   "metadata": {},
   "outputs": [],
   "source": [
    "# Write your code below and press Shift+Enter to execute\n",
    "genres_tuple.index(\"disco\")"
   ]
  },
  {
   "cell_type": "markdown",
   "id": "d8717a3f",
   "metadata": {},
   "source": [
    "<details><summary>Click here for the solution</summary>\n",
    "\n",
    "```python\n",
    "genres_tuple.index(\"disco\")\n",
    "\n",
    "```\n",
    "\n",
    "</details>\n"
   ]
  },
  {
   "cell_type": "markdown",
   "id": "e04d0a15",
   "metadata": {},
   "source": [
    "Generate a sorted List from the Tuple <code>C_tuple=(-5, 1, -3)</code>:\n"
   ]
  },
  {
   "cell_type": "code",
   "execution_count": null,
   "id": "caa0e97a",
   "metadata": {},
   "outputs": [],
   "source": [
    "# Write your code below and press Shift+Enter to execute\n",
    "C_tuple = [-5, 1, -3]\n",
    "C_sorted= sorted(C_tuple)\n",
    "C_sorted"
   ]
  },
  {
   "cell_type": "markdown",
   "id": "76e79949",
   "metadata": {},
   "source": [
    "<details><summary>Click here for the solution</summary>\n",
    "\n",
    "```python\n",
    "C_tuple = (-5, 1, -3)\n",
    "C_list = sorted(C_tuple)\n",
    "C_list\n",
    "\n",
    "```\n",
    "\n",
    "</details>\n"
   ]
  },
  {
   "cell_type": "code",
   "execution_count": null,
   "id": "08dae67e",
   "metadata": {},
   "outputs": [],
   "source": [
    "t = (1, 2, 3)\n",
    "t.append(4, 5)\n",
    "t"
   ]
  },
  {
   "cell_type": "markdown",
   "id": "013ca7f2",
   "metadata": {},
   "source": [
    "<hr><br>"
   ]
  },
  {
   "cell_type": "markdown",
   "id": "3be2d3ab",
   "metadata": {},
   "source": [
    "<h2 id=\"Dic\">Dictionaries</h2>\n"
   ]
  },
  {
   "cell_type": "markdown",
   "id": "521e4caf",
   "metadata": {},
   "source": [
    "<h3 id=\"content\">What are Dictionaries?</h3>\n"
   ]
  },
  {
   "cell_type": "markdown",
   "id": "85173a26",
   "metadata": {},
   "source": [
    "A dictionary consists of keys and values. It is helpful to compare a dictionary to a list. Instead of being indexed numerically like a list, dictionaries have keys. These keys are the keys that are used to access values within a dictionary.\n"
   ]
  },
  {
   "cell_type": "markdown",
   "id": "c39c0da2",
   "metadata": {},
   "source": [
    "<img src=\"https://cf-courses-data.s3.us.cloud-object-storage.appdomain.cloud/IBMDeveloperSkillsNetwork-PY0101EN-SkillsNetwork/labs/Module%202/images/DictsList.png\" width=\"650\">\n"
   ]
  },
  {
   "cell_type": "markdown",
   "id": "757a8dac",
   "metadata": {},
   "source": [
    "An example of a Dictionary <code>Dict</code>:\n"
   ]
  },
  {
   "cell_type": "code",
   "execution_count": 21,
   "id": "9bca83de",
   "metadata": {
    "jupyter": {
     "outputs_hidden": false
    }
   },
   "outputs": [
    {
     "data": {
      "text/plain": [
       "{'key1': 1,\n",
       " 'key2': '2',\n",
       " 'key3': [3, 3, 3],\n",
       " 'key4': (4, 4, 4),\n",
       " 'key5': 5,\n",
       " (0, 1): 6}"
      ]
     },
     "execution_count": 21,
     "metadata": {},
     "output_type": "execute_result"
    }
   ],
   "source": [
    "# Create the dictionary\n",
    "\n",
    "Dict = {\"key1\": 1, \"key2\": \"2\", \"key3\": [3, 3, 3], \"key4\": (4, 4, 4), ('key5'): 5, (0, 1): 6}\n",
    "Dict"
   ]
  },
  {
   "cell_type": "markdown",
   "id": "a99487fd",
   "metadata": {},
   "source": [
    "The keys can be strings:\n"
   ]
  },
  {
   "cell_type": "code",
   "execution_count": 22,
   "id": "fea77764",
   "metadata": {
    "jupyter": {
     "outputs_hidden": false
    }
   },
   "outputs": [
    {
     "data": {
      "text/plain": [
       "1"
      ]
     },
     "execution_count": 22,
     "metadata": {},
     "output_type": "execute_result"
    }
   ],
   "source": [
    "# Access to the value by the key\n",
    "\n",
    "Dict[\"key1\"]"
   ]
  },
  {
   "cell_type": "markdown",
   "id": "262b159f",
   "metadata": {},
   "source": [
    "Keys can also be any immutable object such as a tuple: \n"
   ]
  },
  {
   "cell_type": "code",
   "execution_count": 23,
   "id": "a9de4fb1",
   "metadata": {
    "jupyter": {
     "outputs_hidden": false
    }
   },
   "outputs": [
    {
     "data": {
      "text/plain": [
       "6"
      ]
     },
     "execution_count": 23,
     "metadata": {},
     "output_type": "execute_result"
    }
   ],
   "source": [
    "# Access to the value by the key\n",
    "\n",
    "Dict[(0, 1)]"
   ]
  },
  {
   "cell_type": "markdown",
   "id": "264a94a1",
   "metadata": {},
   "source": [
    " Each key is separated from its value by a colon \"<code>:</code>\".  Commas separate the items, and the whole dictionary is enclosed in curly braces. An empty dictionary without any items is written with just two curly braces, like this  \"<code>{}</code>\".\n"
   ]
  },
  {
   "cell_type": "code",
   "execution_count": 24,
   "id": "92e86e2d",
   "metadata": {
    "jupyter": {
     "outputs_hidden": false
    }
   },
   "outputs": [
    {
     "data": {
      "text/plain": [
       "{'Thriller': '1982',\n",
       " 'Back in Black': '1980',\n",
       " 'The Dark Side of the Moon': '1973',\n",
       " 'The Bodyguard': '1992',\n",
       " 'Bat Out of Hell': '1977',\n",
       " 'Their Greatest Hits (1971-1975)': '1976',\n",
       " 'Saturday Night Fever': '1977',\n",
       " 'Rumours': '1977'}"
      ]
     },
     "execution_count": 24,
     "metadata": {},
     "output_type": "execute_result"
    }
   ],
   "source": [
    "# Create a sample dictionary\n",
    "\n",
    "release_year_dict = {\"Thriller\": \"1982\", \"Back in Black\": \"1980\", \\\n",
    "                    \"The Dark Side of the Moon\": \"1973\", \"The Bodyguard\": \"1992\", \\\n",
    "                    \"Bat Out of Hell\": \"1977\", \"Their Greatest Hits (1971-1975)\": \"1976\", \\\n",
    "                    \"Saturday Night Fever\": \"1977\", \"Rumours\": \"1977\"}\n",
    "release_year_dict"
   ]
  },
  {
   "cell_type": "markdown",
   "id": "8d9608dd",
   "metadata": {},
   "source": [
    "In summary, like a list, a dictionary holds a sequence of elements. Each element is represented by a key and its corresponding value. Dictionaries are created with two curly braces containing keys and values separated by a colon. For every key, there can only be one single value, however,  multiple keys can hold the same value. Keys can only be strings, numbers, or tuples, but values can be any data type.\n"
   ]
  },
  {
   "cell_type": "markdown",
   "id": "5f38f4bd",
   "metadata": {},
   "source": [
    "It is helpful to visualize the dictionary as a table, as in the following image. The first column represents the keys, the second column represents the values.\n"
   ]
  },
  {
   "cell_type": "markdown",
   "id": "1b624962",
   "metadata": {},
   "source": [
    "<img src=\"https://cf-courses-data.s3.us.cloud-object-storage.appdomain.cloud/IBMDeveloperSkillsNetwork-PY0101EN-SkillsNetwork/labs/Module%202/images/DictsStructure.png\" width=\"650\">\n"
   ]
  },
  {
   "cell_type": "markdown",
   "id": "cfd0221c",
   "metadata": {},
   "source": [
    "<h3 id=\"key\">Keys</h3>\n"
   ]
  },
  {
   "cell_type": "markdown",
   "id": "e61ac14b",
   "metadata": {},
   "source": [
    "You can retrieve the values based on the names:\n"
   ]
  },
  {
   "cell_type": "code",
   "execution_count": 25,
   "id": "5efb3f9b",
   "metadata": {
    "jupyter": {
     "outputs_hidden": false
    }
   },
   "outputs": [
    {
     "data": {
      "text/plain": [
       "'1982'"
      ]
     },
     "execution_count": 25,
     "metadata": {},
     "output_type": "execute_result"
    }
   ],
   "source": [
    "# Get value by keys\n",
    "\n",
    "release_year_dict['Thriller'] "
   ]
  },
  {
   "cell_type": "markdown",
   "id": "0bd3365e",
   "metadata": {},
   "source": [
    "This corresponds to: \n"
   ]
  },
  {
   "cell_type": "markdown",
   "id": "c956f986",
   "metadata": {},
   "source": [
    "<img src=\"https://cf-courses-data.s3.us.cloud-object-storage.appdomain.cloud/IBMDeveloperSkillsNetwork-PY0101EN-SkillsNetwork/labs/Module%202/images/DictsKeyOne.png\" width=\"500\">\n"
   ]
  },
  {
   "cell_type": "markdown",
   "id": "dff1b896",
   "metadata": {},
   "source": [
    "Similarly for <b>The Bodyguard</b>\n"
   ]
  },
  {
   "cell_type": "code",
   "execution_count": 26,
   "id": "7b0128ed",
   "metadata": {
    "jupyter": {
     "outputs_hidden": false
    }
   },
   "outputs": [
    {
     "data": {
      "text/plain": [
       "'1992'"
      ]
     },
     "execution_count": 26,
     "metadata": {},
     "output_type": "execute_result"
    }
   ],
   "source": [
    "# Get value by key\n",
    "\n",
    "release_year_dict['The Bodyguard'] "
   ]
  },
  {
   "cell_type": "markdown",
   "id": "b31ae13a",
   "metadata": {},
   "source": [
    "<img src=\"https://cf-courses-data.s3.us.cloud-object-storage.appdomain.cloud/IBMDeveloperSkillsNetwork-PY0101EN-SkillsNetwork/labs/Module%202/images/DictsKeyTwo.png\" width=\"500\">\n"
   ]
  },
  {
   "cell_type": "markdown",
   "id": "f537091f",
   "metadata": {},
   "source": [
    "Now let us retrieve the keys of the dictionary using the method <code>keys()</code>:\n"
   ]
  },
  {
   "cell_type": "code",
   "execution_count": 27,
   "id": "55995366",
   "metadata": {
    "jupyter": {
     "outputs_hidden": false
    }
   },
   "outputs": [
    {
     "data": {
      "text/plain": [
       "dict_keys(['Thriller', 'Back in Black', 'The Dark Side of the Moon', 'The Bodyguard', 'Bat Out of Hell', 'Their Greatest Hits (1971-1975)', 'Saturday Night Fever', 'Rumours'])"
      ]
     },
     "execution_count": 27,
     "metadata": {},
     "output_type": "execute_result"
    }
   ],
   "source": [
    "# Get all the keys in dictionary\n",
    "\n",
    "release_year_dict.keys() "
   ]
  },
  {
   "cell_type": "markdown",
   "id": "93cbf95c",
   "metadata": {},
   "source": [
    "You can retrieve the values using the method  <code>values()</code>:\n"
   ]
  },
  {
   "cell_type": "code",
   "execution_count": 28,
   "id": "1d9476db",
   "metadata": {
    "jupyter": {
     "outputs_hidden": false
    }
   },
   "outputs": [
    {
     "data": {
      "text/plain": [
       "dict_values(['1982', '1980', '1973', '1992', '1977', '1976', '1977', '1977'])"
      ]
     },
     "execution_count": 28,
     "metadata": {},
     "output_type": "execute_result"
    }
   ],
   "source": [
    "# Get all the values in dictionary\n",
    "\n",
    "release_year_dict.values() "
   ]
  },
  {
   "cell_type": "markdown",
   "id": "05480a80",
   "metadata": {},
   "source": [
    "We can add an entry:\n"
   ]
  },
  {
   "cell_type": "code",
   "execution_count": 29,
   "id": "c4745da5",
   "metadata": {
    "jupyter": {
     "outputs_hidden": false
    }
   },
   "outputs": [
    {
     "data": {
      "text/plain": [
       "{'Thriller': '1982',\n",
       " 'Back in Black': '1980',\n",
       " 'The Dark Side of the Moon': '1973',\n",
       " 'The Bodyguard': '1992',\n",
       " 'Bat Out of Hell': '1977',\n",
       " 'Their Greatest Hits (1971-1975)': '1976',\n",
       " 'Saturday Night Fever': '1977',\n",
       " 'Rumours': '1977',\n",
       " 'Graduation': '2007'}"
      ]
     },
     "execution_count": 29,
     "metadata": {},
     "output_type": "execute_result"
    }
   ],
   "source": [
    "# Append value with key into dictionary\n",
    "\n",
    "release_year_dict['Graduation'] = '2007'\n",
    "release_year_dict"
   ]
  },
  {
   "cell_type": "markdown",
   "id": "3eccfc15",
   "metadata": {},
   "source": [
    "We can delete an entry:   \n"
   ]
  },
  {
   "cell_type": "code",
   "execution_count": 30,
   "id": "52f0bf79",
   "metadata": {
    "jupyter": {
     "outputs_hidden": false
    }
   },
   "outputs": [
    {
     "data": {
      "text/plain": [
       "{'Back in Black': '1980',\n",
       " 'The Dark Side of the Moon': '1973',\n",
       " 'The Bodyguard': '1992',\n",
       " 'Bat Out of Hell': '1977',\n",
       " 'Their Greatest Hits (1971-1975)': '1976',\n",
       " 'Saturday Night Fever': '1977',\n",
       " 'Rumours': '1977'}"
      ]
     },
     "execution_count": 30,
     "metadata": {},
     "output_type": "execute_result"
    }
   ],
   "source": [
    "# Delete entries by key\n",
    "\n",
    "del(release_year_dict['Thriller'])\n",
    "del(release_year_dict['Graduation'])\n",
    "release_year_dict"
   ]
  },
  {
   "cell_type": "markdown",
   "id": "b0a4ca58",
   "metadata": {},
   "source": [
    " We can verify if an element is in the dictionary: \n"
   ]
  },
  {
   "cell_type": "code",
   "execution_count": 31,
   "id": "7d5f9517",
   "metadata": {
    "jupyter": {
     "outputs_hidden": false
    }
   },
   "outputs": [
    {
     "data": {
      "text/plain": [
       "True"
      ]
     },
     "execution_count": 31,
     "metadata": {},
     "output_type": "execute_result"
    }
   ],
   "source": [
    "# Verify the key is in the dictionary\n",
    "\n",
    "'The Bodyguard' in release_year_dict"
   ]
  },
  {
   "cell_type": "markdown",
   "id": "d8bb7835",
   "metadata": {},
   "source": [
    "### Dictionary iterate"
   ]
  },
  {
   "cell_type": "code",
   "execution_count": 32,
   "id": "d4b33c37",
   "metadata": {
    "scrolled": true
   },
   "outputs": [
    {
     "name": "stdout",
     "output_type": "stream",
     "text": [
      "Back in Black : 1980\n",
      "The Dark Side of the Moon : 1973\n",
      "The Bodyguard : 1992\n",
      "Bat Out of Hell : 1977\n",
      "Their Greatest Hits (1971-1975) : 1976\n",
      "Saturday Night Fever : 1977\n",
      "Rumours : 1977\n"
     ]
    }
   ],
   "source": [
    "for i in release_year_dict:\n",
    "    print(i,\":\", release_year_dict[i])"
   ]
  },
  {
   "cell_type": "code",
   "execution_count": 33,
   "id": "46ce3e01",
   "metadata": {},
   "outputs": [
    {
     "name": "stdout",
     "output_type": "stream",
     "text": [
      "0 Back in Black\n",
      "1 The Dark Side of the Moon\n",
      "2 The Bodyguard\n",
      "3 Bat Out of Hell\n",
      "4 Their Greatest Hits (1971-1975)\n",
      "5 Saturday Night Fever\n",
      "6 Rumours\n"
     ]
    }
   ],
   "source": [
    "for i, j in enumerate(release_year_dict):\n",
    "    print(i, j)"
   ]
  },
  {
   "cell_type": "markdown",
   "id": "706d5605",
   "metadata": {},
   "source": [
    "### some dictionary operations"
   ]
  },
  {
   "cell_type": "code",
   "execution_count": 34,
   "id": "e0840fb3",
   "metadata": {},
   "outputs": [
    {
     "name": "stdout",
     "output_type": "stream",
     "text": [
      "name : Abdallah\n",
      "age : 21\n",
      "major : CS\n",
      "before using the clear function ->  {'name': 'Abdallah', 'age': 21, 'major': 'CS'}\n",
      "after using the clear function ->  {}\n",
      "\n",
      "Porche\n",
      "2022\n",
      "sport\n",
      "Porche\n",
      "\n",
      "True\n",
      "False\n",
      "\n"
     ]
    },
    {
     "data": {
      "text/plain": [
       "{'model': 'Porche', 'year': 2022}"
      ]
     },
     "execution_count": 34,
     "metadata": {},
     "output_type": "execute_result"
    }
   ],
   "source": [
    "## some dictionary operations & methods\n",
    "\n",
    "#### we can pass a **kwargs and this is a special symbol for an argument as a dictionary\n",
    "\n",
    "def dct(**kwargs):\n",
    "    for i, j in kwargs.items():\n",
    "        print(i, \":\", j)\n",
    "    print(\"before using the clear function -> \", kwargs)\n",
    "    kwargs.clear()\n",
    "    print(\"after using the clear function -> \", kwargs)\n",
    "    return None\n",
    "\n",
    "dct(name = \"Abdallah\", age = 21, major = \"CS\")\n",
    "print()\n",
    "#### use get method to get a certain dictionary value based on the key passed to the method\n",
    "\n",
    "dctt = {\"model\" : \"Porche\", \"year\" : 2022, \"model_type\" : \"sport\"}\n",
    "for i in dctt:\n",
    "    print(dctt[i])\n",
    "print(dctt.get(\"model\"))\n",
    "print()\n",
    "#### to check if certain key exists in a dictionary\n",
    "\n",
    "print(\"model\" in dctt)\n",
    "print(\"number\" in dctt)\n",
    "# there is this method has_key() but it's been removed in Python 3 it used to do the same thing \n",
    "print()\n",
    "#### use pop() method to remove certain key and its value from the dictionary\n",
    "\n",
    "dctt.pop(\"model_type\")\n",
    "dctt"
   ]
  },
  {
   "cell_type": "markdown",
   "id": "3c3a5645",
   "metadata": {},
   "source": [
    "<hr>\n"
   ]
  },
  {
   "cell_type": "markdown",
   "id": "26d7435a",
   "metadata": {},
   "source": [
    "<h2 id=\"quiz\">Quiz on Dictionaries</h2>\n"
   ]
  },
  {
   "cell_type": "markdown",
   "id": "84ee824f",
   "metadata": {},
   "source": [
    "<b>You will need this dictionary for the next two questions:</b>\n"
   ]
  },
  {
   "cell_type": "code",
   "execution_count": null,
   "id": "4584fade",
   "metadata": {},
   "outputs": [],
   "source": [
    "# Question sample dictionary\n",
    "\n",
    "soundtrack_dic = {\"The Bodyguard\":\"1992\", \"Saturday Night Fever\":\"1977\"}\n",
    "soundtrack_dic "
   ]
  },
  {
   "cell_type": "markdown",
   "id": "df4083bc",
   "metadata": {},
   "source": [
    "a) In the dictionary <code>soundtrack_dic</code> what are the keys ?\n"
   ]
  },
  {
   "cell_type": "code",
   "execution_count": null,
   "id": "aecd3986",
   "metadata": {},
   "outputs": [],
   "source": [
    "# Write your code below and press Shift+Enter to execute\n",
    "soundtrack_dic.keys()"
   ]
  },
  {
   "cell_type": "markdown",
   "id": "51684fd3",
   "metadata": {},
   "source": [
    "<details><summary>Click here for the solution</summary>\n",
    "\n",
    "```python\n",
    "soundtrack_dic.keys() # The Keys \"The Bodyguard\" and \"Saturday Night Fever\" \n",
    "\n",
    "```\n",
    "\n",
    "</details>\n"
   ]
  },
  {
   "cell_type": "markdown",
   "id": "dcd6edd5",
   "metadata": {},
   "source": [
    "b) In the dictionary <code>soundtrack_dic</code> what are the values ?\n"
   ]
  },
  {
   "cell_type": "code",
   "execution_count": null,
   "id": "a3f64b5b",
   "metadata": {},
   "outputs": [],
   "source": [
    "# Write your code below and press Shift+Enter to execute\n",
    "soundtrack_dic.values()"
   ]
  },
  {
   "cell_type": "markdown",
   "id": "fe81d846",
   "metadata": {},
   "source": [
    "<details><summary>Click here for the solution</summary>\n",
    "\n",
    "```python\n",
    "soundtrack_dic.values() # The values are \"1992\" and \"1977\"\n",
    "\n",
    "```\n",
    "\n",
    "</details>\n"
   ]
  },
  {
   "cell_type": "markdown",
   "id": "f40639ef",
   "metadata": {},
   "source": [
    "<hr>\n"
   ]
  },
  {
   "cell_type": "markdown",
   "id": "f446b1ba",
   "metadata": {},
   "source": [
    "<b>You will need this dictionary for the following questions:</b>\n"
   ]
  },
  {
   "cell_type": "markdown",
   "id": "22580b15",
   "metadata": {},
   "source": [
    "The Albums <b>Back in Black</b>, <b>The Bodyguard</b> and <b>Thriller</b> have the following music recording sales in millions 50, 50 and 65 respectively:\n"
   ]
  },
  {
   "cell_type": "markdown",
   "id": "9ddc942f",
   "metadata": {},
   "source": [
    "a) Create a dictionary <code>album_sales_dict</code> where the keys are the album name and the sales in millions are the values. \n"
   ]
  },
  {
   "cell_type": "code",
   "execution_count": null,
   "id": "34cd92cd",
   "metadata": {},
   "outputs": [],
   "source": [
    "# Write your code below and press Shift+Enter to execute\n",
    "album_sales_dict = {\"back in black\":\"50M\", \"the bodyguard\":\"50M\", \"thriller\":\"65M\"}\n",
    "album_sales_dict"
   ]
  },
  {
   "cell_type": "markdown",
   "id": "b45451dc",
   "metadata": {},
   "source": [
    "<details><summary>Click here for the solution</summary>\n",
    "\n",
    "```python\n",
    "album_sales_dict = {\"The Bodyguard\":50, \"Back in Black\":50, \"Thriller\":65}\n",
    "\n",
    "```\n",
    "\n",
    "</details>\n"
   ]
  },
  {
   "cell_type": "markdown",
   "id": "21b266a3",
   "metadata": {},
   "source": [
    "b) Use the dictionary to find the total sales of <b>Thriller</b>:\n"
   ]
  },
  {
   "cell_type": "code",
   "execution_count": null,
   "id": "6ecc3382",
   "metadata": {
    "jupyter": {
     "outputs_hidden": false
    }
   },
   "outputs": [],
   "source": [
    "# Write your code below and press Shift+Enter to execute\n",
    "album_sales_dict[\"thriller\"]"
   ]
  },
  {
   "cell_type": "markdown",
   "id": "758dbd0b",
   "metadata": {},
   "source": [
    "<details><summary>Click here for the solution</summary>\n",
    "\n",
    "```python\n",
    "album_sales_dict[\"Thriller\"]\n",
    "\n",
    "```\n",
    "\n",
    "</details>\n"
   ]
  },
  {
   "cell_type": "markdown",
   "id": "511034bb",
   "metadata": {},
   "source": [
    "c) Find the names of the albums from the dictionary using the method <code>keys()</code>:\n"
   ]
  },
  {
   "cell_type": "code",
   "execution_count": null,
   "id": "e13737ae",
   "metadata": {
    "jupyter": {
     "outputs_hidden": false
    }
   },
   "outputs": [],
   "source": [
    "# Write your code below and press Shift+Enter to execute\n",
    "album_sales_dict.keys()"
   ]
  },
  {
   "cell_type": "markdown",
   "id": "79215158",
   "metadata": {},
   "source": [
    "<details><summary>Click here for the solution</summary>\n",
    "\n",
    "```python\n",
    "album_sales_dict.keys()\n",
    "\n",
    "```\n",
    "\n",
    "</details>\n"
   ]
  },
  {
   "cell_type": "markdown",
   "id": "22585a47",
   "metadata": {},
   "source": [
    "d) Find the values of the recording sales from the dictionary using the method <code>values</code>:\n"
   ]
  },
  {
   "cell_type": "code",
   "execution_count": null,
   "id": "9524f8b0",
   "metadata": {
    "jupyter": {
     "outputs_hidden": false
    }
   },
   "outputs": [],
   "source": [
    "# Write your code below and press Shift+Enter to execute\n",
    "album_sales_dict.values()"
   ]
  },
  {
   "cell_type": "markdown",
   "id": "4460d068",
   "metadata": {},
   "source": [
    "<details><summary>Click here for the solution</summary>\n",
    "\n",
    "```python\n",
    "album_sales_dict.values()\n",
    "\n",
    "```\n",
    "\n",
    "</details>\n"
   ]
  },
  {
   "cell_type": "markdown",
   "id": "1743ee74",
   "metadata": {},
   "source": [
    "<hr><br>"
   ]
  },
  {
   "cell_type": "markdown",
   "id": "40dfa1e5",
   "metadata": {},
   "source": [
    "<h2 id=\"set\">Sets</h2>\n"
   ]
  },
  {
   "cell_type": "markdown",
   "id": "43a3b7fc",
   "metadata": {},
   "source": [
    "<h3 id=\"content\">Set Content</h3>\n"
   ]
  },
  {
   "cell_type": "markdown",
   "id": "c97b75a4",
   "metadata": {},
   "source": [
    "A set is a unique collection of objects in Python. You can denote a set with a pair of curly brackets <b>{}</b>. Python will automatically remove duplicate items:\n"
   ]
  },
  {
   "cell_type": "code",
   "execution_count": null,
   "id": "38da366e",
   "metadata": {},
   "outputs": [],
   "source": [
    "# Create a set\n",
    "\n",
    "set1 = {\"pop\", \"rock\", \"soul\", \"hard rock\", \"rock\", \"R&B\", \"rock\", \"disco\"}\n",
    "set1"
   ]
  },
  {
   "cell_type": "markdown",
   "id": "9de6d896",
   "metadata": {},
   "source": [
    "The process of mapping is illustrated in the figure:\n"
   ]
  },
  {
   "cell_type": "markdown",
   "id": "6bf1989b",
   "metadata": {},
   "source": [
    "<img src=\"https://cf-courses-data.s3.us.cloud-object-storage.appdomain.cloud/IBMDeveloperSkillsNetwork-PY0101EN-SkillsNetwork/labs/Module%202/images/SetsUnique.png\" width=\"1100\">\n"
   ]
  },
  {
   "cell_type": "markdown",
   "id": "348118b8",
   "metadata": {},
   "source": [
    " You can also  create a set from a list as follows:\n"
   ]
  },
  {
   "cell_type": "code",
   "execution_count": null,
   "id": "00c3d43a",
   "metadata": {
    "scrolled": true
   },
   "outputs": [],
   "source": [
    "# Convert list to set\n",
    "\n",
    "album_list = [ \"Michael Jackson\", \"Thriller\", 1982, \"00:42:19\", \\\n",
    "              \"Pop, Rock, R&B\", 46.0, 65, \"30-Nov-82\", None, 10.0]\n",
    "album_set = set(album_list)             \n",
    "album_set"
   ]
  },
  {
   "cell_type": "markdown",
   "id": "ee3bf45b",
   "metadata": {},
   "source": [
    "Now let us create a set of  genres:\n"
   ]
  },
  {
   "cell_type": "code",
   "execution_count": null,
   "id": "036ccb5d",
   "metadata": {},
   "outputs": [],
   "source": [
    "# Convert list to set\n",
    "\n",
    "music_genres = set([\"pop\", \"pop\", \"rock\", \"folk rock\", \"hard rock\", \"soul\", \\\n",
    "                    \"progressive rock\", \"soft rock\", \"R&B\", \"disco\"])\n",
    "music_genres"
   ]
  },
  {
   "cell_type": "markdown",
   "id": "d280b278",
   "metadata": {},
   "source": [
    "<h3 id=\"op\">Set Operations</h3> \n"
   ]
  },
  {
   "cell_type": "markdown",
   "id": "d89f5edb",
   "metadata": {},
   "source": [
    "Let us go over set operations, as these can be used to change the set. Consider the set <b>A</b>:\n"
   ]
  },
  {
   "cell_type": "code",
   "execution_count": null,
   "id": "5c3c9403",
   "metadata": {},
   "outputs": [],
   "source": [
    "# Sample set\n",
    "\n",
    "A = set([\"Thriller\", \"Back in Black\", \"AC/DC\"])\n",
    "A"
   ]
  },
  {
   "cell_type": "markdown",
   "id": "60d84302",
   "metadata": {},
   "source": [
    " We can add an element to a set using the <code>add()</code> method: \n"
   ]
  },
  {
   "cell_type": "code",
   "execution_count": null,
   "id": "a9236d4a",
   "metadata": {},
   "outputs": [],
   "source": [
    "# Add element to set\n",
    "\n",
    "A.add(\"NSYNC\")\n",
    "A"
   ]
  },
  {
   "cell_type": "markdown",
   "id": "a6b91967",
   "metadata": {},
   "source": [
    " If we add the same element twice, nothing will happen as there can be no duplicates in a set:\n"
   ]
  },
  {
   "cell_type": "code",
   "execution_count": null,
   "id": "e37b0c5b",
   "metadata": {},
   "outputs": [],
   "source": [
    "# Try to add duplicate element to the set\n",
    "\n",
    "A.add(\"NSYNC\")\n",
    "A"
   ]
  },
  {
   "cell_type": "markdown",
   "id": "20f43d21",
   "metadata": {},
   "source": [
    " We can remove an item from a set using the <code>remove</code> method:\n"
   ]
  },
  {
   "cell_type": "code",
   "execution_count": null,
   "id": "95defb2c",
   "metadata": {},
   "outputs": [],
   "source": [
    "# Remove the element from set\n",
    "\n",
    "A.remove(\"NSYNC\")\n",
    "A"
   ]
  },
  {
   "cell_type": "markdown",
   "id": "6d6165bc",
   "metadata": {},
   "source": [
    " We can verify if an element is in the set using the <code>in</code> command:\n"
   ]
  },
  {
   "cell_type": "code",
   "execution_count": null,
   "id": "83f8e6c3",
   "metadata": {},
   "outputs": [],
   "source": [
    "# Verify if the element is in the set\n",
    "\n",
    "\"AC/DC\" in A"
   ]
  },
  {
   "cell_type": "markdown",
   "id": "05a15ddb",
   "metadata": {},
   "source": [
    "<h3 id=\"logic\">Sets Logic Operations</h3>\n"
   ]
  },
  {
   "cell_type": "markdown",
   "id": "c7add604",
   "metadata": {},
   "source": [
    "Remember that with sets you can check the difference between sets, as well as the symmetric difference, intersection, and union:\n"
   ]
  },
  {
   "cell_type": "markdown",
   "id": "74323673",
   "metadata": {},
   "source": [
    " Consider the following two sets:\n"
   ]
  },
  {
   "cell_type": "code",
   "execution_count": null,
   "id": "38b4ce34",
   "metadata": {},
   "outputs": [],
   "source": [
    "# Sample Sets\n",
    "\n",
    "album_set1 = set([\"Thriller\", 'AC/DC', 'Back in Black'])\n",
    "album_set2 = set([ \"AC/DC\", \"Back in Black\", \"The Dark Side of the Moon\"])"
   ]
  },
  {
   "cell_type": "markdown",
   "id": "3a134523",
   "metadata": {},
   "source": [
    "<img src=\"https://cf-courses-data.s3.us.cloud-object-storage.appdomain.cloud/IBMDeveloperSkillsNetwork-PY0101EN-SkillsNetwork/labs/Module%202/images/SetsSamples.png\" width=\"650\">\n"
   ]
  },
  {
   "cell_type": "code",
   "execution_count": null,
   "id": "da761781",
   "metadata": {
    "scrolled": true
   },
   "outputs": [],
   "source": [
    "# Print two sets\n",
    "\n",
    "album_set1, album_set2"
   ]
  },
  {
   "cell_type": "markdown",
   "id": "42e499a6",
   "metadata": {},
   "source": [
    "As both sets contain <b>AC/DC</b> and <b>Back in Black</b> we represent these common elements with the intersection of two circles.\n"
   ]
  },
  {
   "cell_type": "markdown",
   "id": "7a9e70a3",
   "metadata": {},
   "source": [
    "<img src=\"https://cf-courses-data.s3.us.cloud-object-storage.appdomain.cloud/IBMDeveloperSkillsNetwork-PY0101EN-SkillsNetwork/labs/Module%202/images/SetsLogic.png\" width=\"650\">\n"
   ]
  },
  {
   "cell_type": "markdown",
   "id": "4aa2c1a4",
   "metadata": {},
   "source": [
    "You can find the intersect of two sets as follow using <code>&</code>:\n"
   ]
  },
  {
   "cell_type": "code",
   "execution_count": null,
   "id": "05c4bc7e",
   "metadata": {},
   "outputs": [],
   "source": [
    "# Find the intersections\n",
    "\n",
    "intersection = album_set1 & album_set2\n",
    "intersection"
   ]
  },
  {
   "cell_type": "markdown",
   "id": "742159c3",
   "metadata": {},
   "source": [
    "You can find all the elements that are only contained in <code>album_set1</code> using the <code>difference</code> method:\n"
   ]
  },
  {
   "cell_type": "code",
   "execution_count": null,
   "id": "9efacd38",
   "metadata": {},
   "outputs": [],
   "source": [
    "# Find the difference in set1 but not set2\n",
    "\n",
    "album_set1.difference(album_set2)  "
   ]
  },
  {
   "cell_type": "markdown",
   "id": "9ec13179",
   "metadata": {},
   "source": [
    "You only need to consider elements in <code>album_set1</code>; all the elements in <code>album_set2</code>, including the intersection, are not included.\n"
   ]
  },
  {
   "cell_type": "markdown",
   "id": "ada04ee3",
   "metadata": {},
   "source": [
    "<img src=\"https://cf-courses-data.s3.us.cloud-object-storage.appdomain.cloud/IBMDeveloperSkillsNetwork-PY0101EN-SkillsNetwork/labs/Module%202/images/SetsLeft.png\" width=\"650\">\n"
   ]
  },
  {
   "cell_type": "markdown",
   "id": "5531f463",
   "metadata": {},
   "source": [
    "The elements in <code>album_set2</code> but not in <code>album_set1</code> is given by:\n"
   ]
  },
  {
   "cell_type": "code",
   "execution_count": null,
   "id": "2e5c7e0b",
   "metadata": {},
   "outputs": [],
   "source": [
    "album_set2.difference(album_set1)  "
   ]
  },
  {
   "cell_type": "markdown",
   "id": "36dcc8c7",
   "metadata": {},
   "source": [
    "<img src=\"https://cf-courses-data.s3.us.cloud-object-storage.appdomain.cloud/IBMDeveloperSkillsNetwork-PY0101EN-SkillsNetwork/labs/Module%202/images/SetsRight.png\" width=\"650\">\n"
   ]
  },
  {
   "cell_type": "markdown",
   "id": "5973de3b",
   "metadata": {},
   "source": [
    "You can also find the intersection of <code>album_list1</code> and <code>album_list2</code>, using the <code>intersection</code> method:\n"
   ]
  },
  {
   "cell_type": "code",
   "execution_count": null,
   "id": "48e0148a",
   "metadata": {},
   "outputs": [],
   "source": [
    "# Use intersection method to find the intersection of album_list1 and album_list2\n",
    "\n",
    "album_set1.intersection(album_set2)   "
   ]
  },
  {
   "cell_type": "markdown",
   "id": "31dbdd60",
   "metadata": {},
   "source": [
    " This corresponds to the intersection of the two circles:\n"
   ]
  },
  {
   "cell_type": "markdown",
   "id": "95dda27c",
   "metadata": {},
   "source": [
    "<img src=\"https://cf-courses-data.s3.us.cloud-object-storage.appdomain.cloud/IBMDeveloperSkillsNetwork-PY0101EN-SkillsNetwork/labs/Module%202/images/SetsIntersect.png\" width=\"650\">\n"
   ]
  },
  {
   "cell_type": "markdown",
   "id": "67c9b0df",
   "metadata": {},
   "source": [
    "The union corresponds to all the elements in both sets, which is represented by coloring both circles:\n"
   ]
  },
  {
   "cell_type": "markdown",
   "id": "73d6a602",
   "metadata": {},
   "source": [
    "<img src=\"https://cf-courses-data.s3.us.cloud-object-storage.appdomain.cloud/IBMDeveloperSkillsNetwork-PY0101EN-SkillsNetwork/labs/Module%202/images/SetsUnion.png\" width=\"650\">\n"
   ]
  },
  {
   "cell_type": "markdown",
   "id": "9948d6cf",
   "metadata": {},
   "source": [
    " The union is given by:\n"
   ]
  },
  {
   "cell_type": "code",
   "execution_count": null,
   "id": "01849c86",
   "metadata": {
    "jupyter": {
     "outputs_hidden": true
    }
   },
   "outputs": [],
   "source": [
    "# Find the union of two sets\n",
    "\n",
    "album_set1.union(album_set2)"
   ]
  },
  {
   "cell_type": "markdown",
   "id": "3d4625f8",
   "metadata": {},
   "source": [
    "And you can check if a set is a superset or subset of another set, respectively, like this:\n"
   ]
  },
  {
   "cell_type": "code",
   "execution_count": null,
   "id": "7ac9f6da",
   "metadata": {},
   "outputs": [],
   "source": [
    "# Check if superset\n",
    "\n",
    "set(album_set1).issuperset(album_set2)   "
   ]
  },
  {
   "cell_type": "code",
   "execution_count": null,
   "id": "74b3e59b",
   "metadata": {},
   "outputs": [],
   "source": [
    "# Check if subset\n",
    "\n",
    "set(album_set2).issubset(album_set1)     "
   ]
  },
  {
   "cell_type": "markdown",
   "id": "929d2614",
   "metadata": {},
   "source": [
    "Here is an example where <code>issubset()</code> and <code>issuperset()</code> return true:\n"
   ]
  },
  {
   "cell_type": "code",
   "execution_count": null,
   "id": "554ff9be",
   "metadata": {},
   "outputs": [],
   "source": [
    "# Check if subset\n",
    "\n",
    "set({\"Back in Black\", \"AC/DC\"}).issubset(album_set1) "
   ]
  },
  {
   "cell_type": "code",
   "execution_count": null,
   "id": "e9d2927f",
   "metadata": {},
   "outputs": [],
   "source": [
    "# Check if superset\n",
    "\n",
    "album_set1.issuperset({\"Back in Black\", \"AC/DC\"})   "
   ]
  },
  {
   "cell_type": "markdown",
   "id": "b6e236bf",
   "metadata": {},
   "source": [
    "<hr>\n"
   ]
  },
  {
   "cell_type": "markdown",
   "id": "b2020608",
   "metadata": {},
   "source": [
    "<h2 id=\"quiz\">Quiz on Sets</h2>\n"
   ]
  },
  {
   "cell_type": "markdown",
   "id": "c8f30dd6",
   "metadata": {},
   "source": [
    "Convert the list <code>['rap','house','electronic music', 'rap']</code> to a set:\n"
   ]
  },
  {
   "cell_type": "code",
   "execution_count": null,
   "id": "a2c331e4",
   "metadata": {},
   "outputs": [],
   "source": [
    "# Write your code below and press Shift+Enter to execute\n",
    "st = set(['rap','house','electronic music', 'rap'])\n",
    "print(st)\n",
    "print(type(st))"
   ]
  },
  {
   "cell_type": "markdown",
   "id": "9c2f447c",
   "metadata": {},
   "source": [
    "<details><summary>Click here for the solution</summary>\n",
    "\n",
    "```python\n",
    "set(['rap','house','electronic music','rap'])\n",
    "\n",
    "```\n",
    "\n",
    "</details>\n"
   ]
  },
  {
   "cell_type": "markdown",
   "id": "47f59562",
   "metadata": {},
   "source": [
    "<hr>\n"
   ]
  },
  {
   "cell_type": "markdown",
   "id": "e2ad4f7d",
   "metadata": {},
   "source": [
    "Consider the list <code>A = [1, 2, 2, 1]</code> and set <code>B = set([1, 2, 2, 1])</code>, does <code>sum(A) == sum(B)</code>? \n"
   ]
  },
  {
   "cell_type": "code",
   "execution_count": null,
   "id": "5263a138",
   "metadata": {},
   "outputs": [],
   "source": [
    "# Write your code below and press Shift+Enter to execute\n",
    "A = [1, 2, 2, 1]\n",
    "B = set([1, 2, 2, 1])\n",
    "print(sum(A))\n",
    "print(sum(B))\n",
    "sum(A) != sum(B)"
   ]
  },
  {
   "cell_type": "markdown",
   "id": "10e3247b",
   "metadata": {},
   "source": [
    "<details><summary>Click here for the solution</summary>\n",
    "\n",
    "```python\n",
    "A = [1, 2, 2, 1]  \n",
    "B = set([1, 2, 2, 1])\n",
    "print(\"the sum of A is:\", sum(A))\n",
    "print(\"the sum of B is:\", sum(B))\n",
    "\n",
    "```\n",
    "\n",
    "</details>\n"
   ]
  },
  {
   "cell_type": "markdown",
   "id": "cde1e669",
   "metadata": {},
   "source": [
    "<hr>\n"
   ]
  },
  {
   "cell_type": "markdown",
   "id": "8cd64718",
   "metadata": {},
   "source": [
    "Create a new set <code>album_set3</code> that is the union of <code>album_set1</code> and <code>album_set2</code>:\n"
   ]
  },
  {
   "cell_type": "code",
   "execution_count": null,
   "id": "a95a37e1",
   "metadata": {},
   "outputs": [],
   "source": [
    "# Write your code below and press Shift+Enter to execute\n",
    "\n",
    "album_set1 = set([\"Thriller\", 'AC/DC', 'Back in Black'])\n",
    "album_set2 = set([ \"AC/DC\", \"Back in Black\", \"The Dark Side of the Moon\"])\n",
    "album_set3 = album_set1.union(album_set2)\n",
    "album_set3"
   ]
  },
  {
   "cell_type": "markdown",
   "id": "e0901869",
   "metadata": {},
   "source": [
    "<details><summary>Click here for the solution</summary>\n",
    "\n",
    "```python\n",
    "album_set3 = album_set1.union(album_set2)\n",
    "album_set3\n",
    "\n",
    "```\n",
    "\n",
    "</details>\n"
   ]
  },
  {
   "cell_type": "markdown",
   "id": "97130345",
   "metadata": {},
   "source": [
    "<hr>\n"
   ]
  },
  {
   "cell_type": "markdown",
   "id": "d4bb4d1c",
   "metadata": {},
   "source": [
    "Find out if <code>album_set1</code> is a subset of <code>album_set3</code>:\n"
   ]
  },
  {
   "cell_type": "code",
   "execution_count": null,
   "id": "e9b55a54",
   "metadata": {},
   "outputs": [],
   "source": [
    "# Write your code below and press Shift+Enter to execute\n",
    "album_set1.issubset(album_set3)"
   ]
  },
  {
   "cell_type": "markdown",
   "id": "f9448e25",
   "metadata": {},
   "source": [
    "<details><summary>Click here for the solution</summary>\n",
    "\n",
    "```python\n",
    "album_set1.issubset(album_set3)\n",
    "\n",
    "```\n",
    "\n",
    "</details>\n"
   ]
  },
  {
   "cell_type": "code",
   "execution_count": null,
   "id": "0061c7c2",
   "metadata": {},
   "outputs": [],
   "source": [
    "aa = {\"Hi\", \"my\", \"name\"}\n",
    "print(aa)\n",
    "aa.add(\"hello\")\n",
    "print(aa)\n",
    "aa.add(3)\n",
    "print(aa)\n",
    "aa.add(10000)\n",
    "print(aa)"
   ]
  },
  {
   "cell_type": "markdown",
   "id": "d27f4721",
   "metadata": {},
   "source": [
    "<hr>\n"
   ]
  },
  {
   "cell_type": "markdown",
   "id": "abbe1df1",
   "metadata": {},
   "source": [
    "<h2 id=\"cond\">Condition Statements</h2>\n"
   ]
  },
  {
   "cell_type": "markdown",
   "id": "13b25ef2",
   "metadata": {},
   "source": [
    "<h3 id=\"comp\">Comparison Operators</h3>\n"
   ]
  },
  {
   "cell_type": "markdown",
   "id": "1e65de85",
   "metadata": {},
   "source": [
    "Comparison operations compare some value or operand and based on a condition, produce a Boolean. When comparing two values you can use these operators:\n",
    "\n",
    "<ul>\n",
    "    <li>equal: <b>==</b></li>\n",
    "    <li>not equal: <b>!=</b></li>\n",
    "    <li>greater than: <b>></b></li>\n",
    "    <li>less than: <b>&lt;</b></li>\n",
    "    <li>greater than or equal to: <b>>=</b></li>\n",
    "    <li>less than or equal to: <b>&lt;=</b></li>\n",
    "</ul>\n"
   ]
  },
  {
   "cell_type": "markdown",
   "id": "e63ad944",
   "metadata": {},
   "source": [
    "Let's assign <code>a</code> a value of 5. Use the equality operator denoted with two equal <b>==</b> signs to determine if two values are equal. The case below compares the variable <code>a</code> with 6.\n"
   ]
  },
  {
   "cell_type": "code",
   "execution_count": null,
   "id": "571ff7a3",
   "metadata": {},
   "outputs": [],
   "source": [
    "# Condition Equal\n",
    "\n",
    "a = 5\n",
    "a == 6"
   ]
  },
  {
   "cell_type": "markdown",
   "id": "65de881e",
   "metadata": {},
   "source": [
    "The result is <b>False</b>, as 5 does not equal to 6.\n"
   ]
  },
  {
   "cell_type": "markdown",
   "id": "a0cd84ac",
   "metadata": {},
   "source": [
    "Consider the following equality comparison operator: <code>i > 5</code>. If the value of the left operand, in this case the variable <b>i</b>, is greater than the value of the right operand, in this case 5, then the statement is <b>True</b>. Otherwise, the statement is <b>False</b>.  If <b>i</b> is equal to 6, because 6 is larger than 5, the output is <b>True</b>.\n"
   ]
  },
  {
   "cell_type": "code",
   "execution_count": null,
   "id": "c4a3ffb2",
   "metadata": {},
   "outputs": [],
   "source": [
    "# Greater than Sign\n",
    "\n",
    "i = 6\n",
    "i > 5"
   ]
  },
  {
   "cell_type": "markdown",
   "id": "d594907c",
   "metadata": {},
   "source": [
    "Set <code>i = 2</code>. The statement is False as 2 is not greater than 5:\n"
   ]
  },
  {
   "cell_type": "code",
   "execution_count": null,
   "id": "bad2c7a7",
   "metadata": {},
   "outputs": [],
   "source": [
    "# Greater than Sign\n",
    "\n",
    "i = 2\n",
    "i > 5"
   ]
  },
  {
   "cell_type": "markdown",
   "id": "1df41eb4",
   "metadata": {},
   "source": [
    " Let's display some values for <code>i</code> in the figure. Set the values greater than 5 in green and the rest in red. The green region represents where the condition is **True**, the red where the statement is **False**. If the value of <code>i</code> is 2, we get **False** as the 2 falls in the red region. Similarly, if the value for <code>i</code> is 6 we get a **True** as the condition falls in the green region. \n"
   ]
  },
  {
   "cell_type": "markdown",
   "id": "ab749420",
   "metadata": {},
   "source": [
    "<img src=\"https://cf-courses-data.s3.us.cloud-object-storage.appdomain.cloud/IBMDeveloperSkillsNetwork-PY0101EN-SkillsNetwork/labs/Module%203/images/CondsGreater.gif\" width=\"650\">\n"
   ]
  },
  {
   "cell_type": "markdown",
   "id": "8acf3ff7",
   "metadata": {},
   "source": [
    "The inequality test uses an exclamation mark preceding the equal sign, if two operands are not equal then the condition becomes **True**.  For example, the following condition will produce **True** as long as the value of <code>i</code> is not equal to 6:\n"
   ]
  },
  {
   "cell_type": "code",
   "execution_count": null,
   "id": "7044ab3b",
   "metadata": {},
   "outputs": [],
   "source": [
    "# Inequality Sign\n",
    "\n",
    "i = 2\n",
    "i != 6"
   ]
  },
  {
   "cell_type": "markdown",
   "id": "54aca713",
   "metadata": {},
   "source": [
    "When <code>i</code> equals 6 the inequality expression produces <b>False</b>. \n"
   ]
  },
  {
   "cell_type": "code",
   "execution_count": null,
   "id": "3862e773",
   "metadata": {},
   "outputs": [],
   "source": [
    "# Inequality Sign\n",
    "\n",
    "i = 6\n",
    "i != 6"
   ]
  },
  {
   "cell_type": "markdown",
   "id": "464d5add",
   "metadata": {},
   "source": [
    "See the number line below. When the condition is **True**, the corresponding numbers are marked in green and for where the condition is **False** the corresponding number is marked in red.  If we set <code>i</code> equal to 2 the operator is true, since 2 is in the green region. If we set <code>i</code> equal to 6, we get a **False**, since the condition falls in the red region.\n"
   ]
  },
  {
   "cell_type": "markdown",
   "id": "ded4d8de",
   "metadata": {},
   "source": [
    "<img src=\"https://cf-courses-data.s3.us.cloud-object-storage.appdomain.cloud/IBMDeveloperSkillsNetwork-PY0101EN-SkillsNetwork/labs/Module%203/images/CondsIneq.gif\" width=\"650\">\n"
   ]
  },
  {
   "cell_type": "markdown",
   "id": "abb7a3cd",
   "metadata": {},
   "source": [
    " We can apply the same methods on strings. For example, we can use an equality operator on two different strings. As the strings are not equal, we get a **False**.\n"
   ]
  },
  {
   "cell_type": "code",
   "execution_count": null,
   "id": "2318ca42",
   "metadata": {},
   "outputs": [],
   "source": [
    "# Use Equality sign to compare the strings\n",
    "\n",
    "\"ACDC\" == \"Michael Jackson\""
   ]
  },
  {
   "cell_type": "markdown",
   "id": "086e4e48",
   "metadata": {},
   "source": [
    " If we use the inequality operator, the output is going to be **True** as the strings are not equal.\n"
   ]
  },
  {
   "cell_type": "code",
   "execution_count": null,
   "id": "d8a5efaa",
   "metadata": {},
   "outputs": [],
   "source": [
    "# Use Inequality sign to compare the strings\n",
    "\n",
    "\"ACDC\" != \"Michael Jackson\""
   ]
  },
  {
   "cell_type": "markdown",
   "id": "69403503",
   "metadata": {},
   "source": [
    "The inequality operation is also used to compare the letters/words/symbols according to the ASCII value of letters. The decimal value shown in the following table represents the order of the character:\n"
   ]
  },
  {
   "cell_type": "markdown",
   "id": "6166b9f0",
   "metadata": {},
   "source": [
    "\n",
    "<style type=\"text/css\">\n",
    ".tg  {border-collapse:collapse;border-spacing:0;}\n",
    ".tg td{border-color:black;border-style:solid;border-width:1px;font-family:Arial, sans-serif;font-size:14px;\n",
    "  overflow:hidden;padding:10px 5px;word-break:normal;}\n",
    ".tg th{border-color:black;border-style:solid;border-width:1px;font-family:Arial, sans-serif;font-size:14px;\n",
    "  font-weight:normal;overflow:hidden;padding:10px 5px;word-break:normal;}\n",
    ".tg .tg-baqh{text-align:center;vertical-align:top}\n",
    ".tg .tg-7geq{background-color:#ffffc7;text-align:center;vertical-align:top}\n",
    ".tg .tg-1cln{background-color:#ffcc67;font-size:100%;font-weight:bold;text-align:center;vertical-align:top}\n",
    ".tg .tg-xozw{background-color:#ffcc67;font-weight:bold;text-align:center;vertical-align:top}\n",
    "</style>\n",
    "<table class=\"tg\">\n",
    "<thead>\n",
    "  <tr>\n",
    "    <th class=\"tg-1cln\">Char.</th>\n",
    "    <th class=\"tg-xozw\">ASCII</th>\n",
    "    <th class=\"tg-xozw\">Char.</th>\n",
    "    <th class=\"tg-xozw\">ASCII</th>\n",
    "    <th class=\"tg-xozw\">Char.</th>\n",
    "    <th class=\"tg-xozw\">ASCII</th>\n",
    "    <th class=\"tg-xozw\">Char.</th>\n",
    "    <th class=\"tg-xozw\">ASCII</th>\n",
    "  </tr>\n",
    "</thead>\n",
    "<tbody>\n",
    "  <tr>\n",
    "    <td class=\"tg-7geq\">A</td>\n",
    "    <td class=\"tg-baqh\">65</td>\n",
    "    <td class=\"tg-7geq\">N</td>\n",
    "    <td class=\"tg-baqh\">78</td>\n",
    "    <td class=\"tg-7geq\">a</td>\n",
    "    <td class=\"tg-baqh\">97</td>\n",
    "    <td class=\"tg-7geq\">n</td>\n",
    "    <td class=\"tg-baqh\">110</td>\n",
    "  </tr>\n",
    "  <tr>\n",
    "    <td class=\"tg-7geq\">B</td>\n",
    "    <td class=\"tg-baqh\">66</td>\n",
    "    <td class=\"tg-7geq\">O</td>\n",
    "    <td class=\"tg-baqh\">79</td>\n",
    "    <td class=\"tg-7geq\">b</td>\n",
    "    <td class=\"tg-baqh\">98</td>\n",
    "    <td class=\"tg-7geq\">o</td>\n",
    "    <td class=\"tg-baqh\">111</td>\n",
    "  </tr>\n",
    "  <tr>\n",
    "    <td class=\"tg-7geq\">C</td>\n",
    "    <td class=\"tg-baqh\">67</td>\n",
    "    <td class=\"tg-7geq\">P</td>\n",
    "    <td class=\"tg-baqh\">80</td>\n",
    "    <td class=\"tg-7geq\">c</td>\n",
    "    <td class=\"tg-baqh\">99</td>\n",
    "    <td class=\"tg-7geq\">p</td>\n",
    "    <td class=\"tg-baqh\">112</td>\n",
    "  </tr>\n",
    "  <tr>\n",
    "    <td class=\"tg-7geq\">D</td>\n",
    "    <td class=\"tg-baqh\">68</td>\n",
    "    <td class=\"tg-7geq\">Q</td>\n",
    "    <td class=\"tg-baqh\">81</td>\n",
    "    <td class=\"tg-7geq\">d</td>\n",
    "    <td class=\"tg-baqh\">100</td>\n",
    "    <td class=\"tg-7geq\">q</td>\n",
    "    <td class=\"tg-baqh\">113</td>\n",
    "  </tr>\n",
    "  <tr>\n",
    "    <td class=\"tg-7geq\">E</td>\n",
    "    <td class=\"tg-baqh\">69</td>\n",
    "    <td class=\"tg-7geq\">R</td>\n",
    "    <td class=\"tg-baqh\">82</td>\n",
    "    <td class=\"tg-7geq\">e</td>\n",
    "    <td class=\"tg-baqh\">101</td>\n",
    "    <td class=\"tg-7geq\">r</td>\n",
    "    <td class=\"tg-baqh\">114</td>\n",
    "  </tr>\n",
    "  <tr>\n",
    "    <td class=\"tg-7geq\">F</td>\n",
    "    <td class=\"tg-baqh\">70</td>\n",
    "    <td class=\"tg-7geq\">S</td>\n",
    "    <td class=\"tg-baqh\">83</td>\n",
    "    <td class=\"tg-7geq\">f</td>\n",
    "    <td class=\"tg-baqh\">102</td>\n",
    "    <td class=\"tg-7geq\">s</td>\n",
    "    <td class=\"tg-baqh\">115</td>\n",
    "  </tr>\n",
    "  <tr>\n",
    "    <td class=\"tg-7geq\">G</td>\n",
    "    <td class=\"tg-baqh\">71</td>\n",
    "    <td class=\"tg-7geq\">T</td>\n",
    "    <td class=\"tg-baqh\">84</td>\n",
    "    <td class=\"tg-7geq\">g</td>\n",
    "    <td class=\"tg-baqh\">103</td>\n",
    "    <td class=\"tg-7geq\">t</td>\n",
    "    <td class=\"tg-baqh\">116</td>\n",
    "  </tr>\n",
    "  <tr>\n",
    "    <td class=\"tg-7geq\">H</td>\n",
    "    <td class=\"tg-baqh\">72</td>\n",
    "    <td class=\"tg-7geq\">U</td>\n",
    "    <td class=\"tg-baqh\">85</td>\n",
    "    <td class=\"tg-7geq\">h</td>\n",
    "    <td class=\"tg-baqh\">104</td>\n",
    "    <td class=\"tg-7geq\">u</td>\n",
    "    <td class=\"tg-baqh\">117</td>\n",
    "  </tr>\n",
    "  <tr>\n",
    "    <td class=\"tg-7geq\">I</td>\n",
    "    <td class=\"tg-baqh\">73</td>\n",
    "    <td class=\"tg-7geq\">V</td>\n",
    "    <td class=\"tg-baqh\">86</td>\n",
    "    <td class=\"tg-7geq\">i</td>\n",
    "    <td class=\"tg-baqh\">105</td>\n",
    "    <td class=\"tg-7geq\">v</td>\n",
    "    <td class=\"tg-baqh\">118</td>\n",
    "  </tr>\n",
    "  <tr>\n",
    "    <td class=\"tg-7geq\">J</td>\n",
    "    <td class=\"tg-baqh\">74</td>\n",
    "    <td class=\"tg-7geq\">W</td>\n",
    "    <td class=\"tg-baqh\">87</td>\n",
    "    <td class=\"tg-7geq\">j</td>\n",
    "    <td class=\"tg-baqh\">106</td>\n",
    "    <td class=\"tg-7geq\">w</td>\n",
    "    <td class=\"tg-baqh\">119</td>\n",
    "  </tr>\n",
    "  <tr>\n",
    "    <td class=\"tg-7geq\">K</td>\n",
    "    <td class=\"tg-baqh\">75</td>\n",
    "    <td class=\"tg-7geq\">X</td>\n",
    "    <td class=\"tg-baqh\">88</td>\n",
    "    <td class=\"tg-7geq\">k</td>\n",
    "    <td class=\"tg-baqh\">107</td>\n",
    "    <td class=\"tg-7geq\">x</td>\n",
    "    <td class=\"tg-baqh\">120</td>\n",
    "  </tr>\n",
    "  <tr>\n",
    "    <td class=\"tg-7geq\">L</td>\n",
    "    <td class=\"tg-baqh\">76</td>\n",
    "    <td class=\"tg-7geq\">Y</td>\n",
    "    <td class=\"tg-baqh\">89</td>\n",
    "    <td class=\"tg-7geq\">l</td>\n",
    "    <td class=\"tg-baqh\">108</td>\n",
    "    <td class=\"tg-7geq\">y</td>\n",
    "    <td class=\"tg-baqh\">121</td>\n",
    "  </tr>\n",
    "  <tr>\n",
    "    <td class=\"tg-7geq\">M</td>\n",
    "    <td class=\"tg-baqh\">77</td>\n",
    "    <td class=\"tg-7geq\">Z</td>\n",
    "    <td class=\"tg-baqh\">90</td>\n",
    "    <td class=\"tg-7geq\">m</td>\n",
    "    <td class=\"tg-baqh\">109</td>\n",
    "    <td class=\"tg-7geq\">z</td>\n",
    "    <td class=\"tg-baqh\">122</td>\n",
    "  </tr>\n",
    "</tbody>\n",
    "</table>\n"
   ]
  },
  {
   "cell_type": "markdown",
   "id": "bef3e657",
   "metadata": {},
   "source": [
    "For example, the ASCII code for <b>!</b> is 33, while the ASCII code for <b>+</b> is 43. Therefore <b>+</b> is larger than <b>!</b> as 43 is greater than 33.\n"
   ]
  },
  {
   "cell_type": "markdown",
   "id": "279b3445",
   "metadata": {},
   "source": [
    "Similarly, from the table above we see that the value for <b>A</b> is 65, and the value for <b>B</b> is 66, therefore:\n"
   ]
  },
  {
   "cell_type": "code",
   "execution_count": null,
   "id": "7a09ac16",
   "metadata": {},
   "outputs": [],
   "source": [
    "# Compare characters\n",
    "\n",
    "'B' > 'A'"
   ]
  },
  {
   "cell_type": "markdown",
   "id": "a4632067",
   "metadata": {},
   "source": [
    " When there are multiple letters, the first letter takes precedence in ordering:\n"
   ]
  },
  {
   "cell_type": "code",
   "execution_count": null,
   "id": "64529bd2",
   "metadata": {},
   "outputs": [],
   "source": [
    "# Compare characters\n",
    "\n",
    "'BA' > 'AB'"
   ]
  },
  {
   "cell_type": "markdown",
   "id": "f656a1ef",
   "metadata": {},
   "source": [
    "<b>Note</b>: Upper Case Letters have different ASCII code than Lower Case Letters, which means the comparison between the letters in Python is case-sensitive.\n"
   ]
  },
  {
   "cell_type": "markdown",
   "id": "1c4f0ad1",
   "metadata": {},
   "source": [
    "<h3 id=\"branch\">Branching</h3>\n"
   ]
  },
  {
   "cell_type": "markdown",
   "id": "e20f367e",
   "metadata": {},
   "source": [
    " Branching allows us to run different statements for different inputs. It is helpful to think of an **if statement** as a locked room, if the statement is **True** we can enter the room and your program will run some predefined tasks, but if the statement is **False** the program will ignore the task.\n"
   ]
  },
  {
   "cell_type": "markdown",
   "id": "9c9c102b",
   "metadata": {},
   "source": [
    "For example, consider the blue rectangle representing an ACDC concert. If the individual is older than 18, they can enter the ACDC concert. If they are 18 or younger, they cannot enter the concert.\n",
    "\n",
    "We can use the condition statements learned before as the conditions that need to be checked in the **if statement**. The syntax is as simple as <code> if <i>condition statement</i> :</code>, which contains a word <code>if</code>, any condition statement, and a colon at the end. Start your tasks which need to be executed under this condition in a new line with an indent. The lines of code after the colon and with an indent will only be executed when the **if statement** is **True**. The tasks will end when the line of code does not contain the indent.\n",
    "\n",
    "In the case below, the code <code>print(“you can enter”)</code> is executed only if the variable <code>age</code> is greater than 18 is a True case because this line of code has the indent. However, the execution of <code>print(“move on”)</code> will not be influenced by the if statement.\n"
   ]
  },
  {
   "cell_type": "code",
   "execution_count": null,
   "id": "c67b7df5",
   "metadata": {},
   "outputs": [],
   "source": [
    "# If statement example\n",
    "\n",
    "age = 19\n",
    "#age = 18\n",
    "\n",
    "#expression that can be true or false\n",
    "if age > 18:\n",
    "    \n",
    "    #within an indent, we have the expression that is run if the condition is true\n",
    "    print(\"you can enter\" )\n",
    "\n",
    "#The statements after the if statement will run regardless if the condition is true or false \n",
    "print(\"move on\")"
   ]
  },
  {
   "cell_type": "markdown",
   "id": "d3715673",
   "metadata": {},
   "source": [
    "<i>Try uncommenting the age variable</i>\n"
   ]
  },
  {
   "cell_type": "markdown",
   "id": "bc446ce7",
   "metadata": {},
   "source": [
    "It is helpful to use the following diagram to illustrate the process. On the left side, we see what happens when the condition is <b>True</b>.  The person enters the ACDC concert representing the code in the indent being executed; they then move on. On the right side, we see what happens when the condition is <b>False</b>; the person is not granted access, and the person moves on. In this case, the segment of code in the indent does not run, but the rest of the statements are run. \n"
   ]
  },
  {
   "cell_type": "markdown",
   "id": "f292f9e5",
   "metadata": {},
   "source": [
    "<img src=\"https://cf-courses-data.s3.us.cloud-object-storage.appdomain.cloud/IBMDeveloperSkillsNetwork-PY0101EN-SkillsNetwork/labs/Module%203/images/CondsIf.gif\" width=\"650\">\n"
   ]
  },
  {
   "cell_type": "markdown",
   "id": "8907b4f6",
   "metadata": {},
   "source": [
    "The <code>else</code> statement runs a block of code if none of the conditions are **True** before this <code>else</code> statement. Let's use the ACDC concert analogy again. If the user is 17 they cannot go to the ACDC concert,  but they can go to the Meatloaf concert.\n",
    "The syntax of the <code>else</code> statement is similar as the syntax of the <code>if</code> statement, as <code>else :</code>. Notice that, there is no condition statement for <code>else</code>.\n",
    "Try changing the values of <code>age</code> to see what happens:  \n"
   ]
  },
  {
   "cell_type": "code",
   "execution_count": null,
   "id": "3f1edcd7",
   "metadata": {},
   "outputs": [],
   "source": [
    "# Else statement example\n",
    "\n",
    "age = 18\n",
    "# age = 19\n",
    "\n",
    "if age > 18:\n",
    "    print(\"you can enter\" )\n",
    "else:\n",
    "    print(\"go see Meat Loaf\" )\n",
    "    \n",
    "print(\"move on\")"
   ]
  },
  {
   "cell_type": "markdown",
   "id": "64b4848c",
   "metadata": {},
   "source": [
    "The process is demonstrated below, where each of the possibilities is illustrated on each side of the image. On the left is the case where the age is 17, we set the variable age to 17, and this corresponds to the individual attending the Meatloaf concert. The right portion shows what happens when the individual is over 18, in this case 19, and the individual is granted access to the concert.\n"
   ]
  },
  {
   "cell_type": "markdown",
   "id": "0db692b3",
   "metadata": {},
   "source": [
    "<img src=\"https://cf-courses-data.s3.us.cloud-object-storage.appdomain.cloud/IBMDeveloperSkillsNetwork-PY0101EN-SkillsNetwork/labs/Module%203/images/CondsElse.gif\" width=\"650\">\n"
   ]
  },
  {
   "cell_type": "markdown",
   "id": "ddc6989e",
   "metadata": {},
   "source": [
    "The <code>elif</code> statement, short for else if, allows us to check additional conditions if the condition statements before it are <b>False</b>. If the condition for the <code>elif</code> statement is <b>True</b>, the alternate expressions will be run. Consider the concert example, where if the individual is 18 they will go to the Pink Floyd concert instead of attending the ACDC or Meat-loaf concert. A person that is 18 years of age enters the area, and as they are not older than 18 they can not see ACDC, but since they are 18 years of age, they attend  Pink Floyd. After seeing Pink Floyd, they move on. The syntax of the <code>elif</code> statement is similar in that we merely change the <code>if</code> in the <code>if</code> statement to <code>elif</code>.\n"
   ]
  },
  {
   "cell_type": "code",
   "execution_count": null,
   "id": "44feab8d",
   "metadata": {},
   "outputs": [],
   "source": [
    "# Elif statment example\n",
    "\n",
    "age = 18\n",
    "\n",
    "if age > 18:\n",
    "    print(\"you can enter\" )\n",
    "elif age == 18:\n",
    "    print(\"go see Pink Floyd\")\n",
    "else:\n",
    "    print(\"go see Meat Loaf\" )\n",
    "    \n",
    "print(\"move on\")"
   ]
  },
  {
   "cell_type": "markdown",
   "id": "84fb5b23",
   "metadata": {},
   "source": [
    "The three combinations are shown in the figure below.  The left-most region shows what happens when the individual is less than 18 years of age. The central component shows when the individual is exactly 18. The rightmost shows when the individual is over 18.\n"
   ]
  },
  {
   "cell_type": "markdown",
   "id": "7db104a0",
   "metadata": {},
   "source": [
    "<img src=\"https://cf-courses-data.s3.us.cloud-object-storage.appdomain.cloud/IBMDeveloperSkillsNetwork-PY0101EN-SkillsNetwork/labs/Module%203/images/CondsElif.gif\" width=\"650\">\n"
   ]
  },
  {
   "cell_type": "markdown",
   "id": "787a3085",
   "metadata": {},
   "source": [
    " Look at the following code:\n"
   ]
  },
  {
   "cell_type": "code",
   "execution_count": null,
   "id": "8fc3e888",
   "metadata": {},
   "outputs": [],
   "source": [
    "# Condition statement example\n",
    "\n",
    "album_year = 1983\n",
    "album_year = 1970\n",
    "\n",
    "if album_year > 1980:\n",
    "    print(\"Album year is greater than 1980\")\n",
    "    \n",
    "print('do something..')"
   ]
  },
  {
   "cell_type": "markdown",
   "id": "6b2b3879",
   "metadata": {},
   "source": [
    "Feel free to change <code>album_year</code> value to other values -- you'll see that the result changes!\n"
   ]
  },
  {
   "cell_type": "markdown",
   "id": "621cd4af",
   "metadata": {},
   "source": [
    "Notice that the code in the above <b>indented</b> block will only be executed if the results are <b>True</b>. \n"
   ]
  },
  {
   "cell_type": "markdown",
   "id": "fe78fcac",
   "metadata": {},
   "source": [
    "As before, we can add an <code>else</code> block to the <code>if</code> block. The code in the <code>else</code> block will only be executed if the result is <b>False</b>.\n",
    "\n",
    "\n",
    "<b>Syntax:</b> \n",
    "\n",
    "if (condition):\n",
    "    # do something\n",
    "else:\n",
    "    # do something else\n"
   ]
  },
  {
   "cell_type": "markdown",
   "id": "377046da",
   "metadata": {},
   "source": [
    "If the condition in the <code>if</code> statement is <b>False</b>, the statement after the <code>else</code> block will execute. This is demonstrated in the figure: \n"
   ]
  },
  {
   "cell_type": "markdown",
   "id": "c9709512",
   "metadata": {},
   "source": [
    "<img src=\"https://cf-courses-data.s3.us.cloud-object-storage.appdomain.cloud/IBMDeveloperSkillsNetwork-PY0101EN-SkillsNetwork/labs/Module%203/images/CondsLogicMap.png\" width=\"650\">\n"
   ]
  },
  {
   "cell_type": "code",
   "execution_count": null,
   "id": "51425be3",
   "metadata": {},
   "outputs": [],
   "source": [
    "# Condition statement example\n",
    "\n",
    "album_year = 1983\n",
    "#album_year = 1970\n",
    "\n",
    "if album_year > 1980:\n",
    "    print(\"Album year is greater than 1980\")\n",
    "else:\n",
    "    print(\"less than 1980\")\n",
    "\n",
    "print('do something..')"
   ]
  },
  {
   "cell_type": "markdown",
   "id": "1672c877",
   "metadata": {},
   "source": [
    "Feel free to change the <code>album_year</code> value to other values -- you'll see that the result changes based on it!\n"
   ]
  },
  {
   "cell_type": "markdown",
   "id": "836b909e",
   "metadata": {},
   "source": [
    "<h3 id=\"logic\">Logical operators</h3>\n"
   ]
  },
  {
   "cell_type": "markdown",
   "id": "100feab3",
   "metadata": {},
   "source": [
    "\n",
    "Sometimes you want to check more than one condition at once. For example, you might want to check if one condition and another condition are both **True**. Logical operators allow you to combine or modify conditions.\n",
    "<ul>\n",
    "    <li><code>and</code></li>\n",
    "    <li><code>or</code></li>\n",
    "    <li><code>not</code></li>\n",
    "</ul>\n",
    "\n",
    "These operators are summarized for two variables using the following truth tables:  \n"
   ]
  },
  {
   "cell_type": "markdown",
   "id": "6ecfe339",
   "metadata": {},
   "source": [
    "<img src=\"https://cf-courses-data.s3.us.cloud-object-storage.appdomain.cloud/IBMDeveloperSkillsNetwork-PY0101EN-SkillsNetwork/labs/Module%203/images/CondsTable.png\" width=\"650\">\n"
   ]
  },
  {
   "cell_type": "markdown",
   "id": "d168a517",
   "metadata": {},
   "source": [
    "The <code>and</code> statement is only **True** when both conditions are true. The <code>or</code> statement is True if one condition, or both are **True**. The <code>not</code> statement outputs the opposite truth value.\n"
   ]
  },
  {
   "cell_type": "markdown",
   "id": "7dbaa272",
   "metadata": {},
   "source": [
    "Let's see how to determine if an album was released after 1979 (1979 is not included) and before 1990 (1990 is not included). The time periods between 1980 and 1989 satisfy this condition. This is demonstrated in the figure below. The green on lines <strong>a</strong> and <strong>b</strong> represents periods where the statement is **True**. The green on line <strong>c</strong> represents where both conditions are **True**, this corresponds to where the green regions overlap. \n",
    "\n"
   ]
  },
  {
   "cell_type": "markdown",
   "id": "f8132f43",
   "metadata": {},
   "source": [
    "<img src=\"https://cf-courses-data.s3.us.cloud-object-storage.appdomain.cloud/IBMDeveloperSkillsNetwork-PY0101EN-SkillsNetwork/labs/Module%203/images/CondsEgOne.png\" width=\"650\">\n"
   ]
  },
  {
   "cell_type": "markdown",
   "id": "a91721d0",
   "metadata": {},
   "source": [
    " The block of code to perform this check is given by:\n"
   ]
  },
  {
   "cell_type": "code",
   "execution_count": null,
   "id": "06ee9719",
   "metadata": {},
   "outputs": [],
   "source": [
    "# Condition statement example\n",
    "\n",
    "album_year = 1980\n",
    "\n",
    "if(album_year > 1979) and (album_year < 1990):\n",
    "    print (\"Album year was in between 1980 and 1989\")\n",
    "    \n",
    "print(\"\")\n",
    "print(\"Do Stuff..\")"
   ]
  },
  {
   "cell_type": "markdown",
   "id": "16010826",
   "metadata": {},
   "source": [
    "To determine if an album was released before 1980 (1979 and earlier) or after 1989 (1990 and onward ), an or statement can be used. Periods before 1980 (1979 and earlier) or after 1989 (1990 and onward) satisfy this condition. This is demonstrated in the following figure, the color green in <strong>a</strong> and <strong>b</strong> represents periods where the statement is true. The color green in **c** represents where at least one of the conditions \n",
    "are true.  \n"
   ]
  },
  {
   "cell_type": "markdown",
   "id": "3df0bbd5",
   "metadata": {},
   "source": [
    "<img src=\"https://cf-courses-data.s3.us.cloud-object-storage.appdomain.cloud/IBMDeveloperSkillsNetwork-PY0101EN-SkillsNetwork/labs/Module%203/images/CondsEgTwo.png\" width=\"650\">\n"
   ]
  },
  {
   "cell_type": "markdown",
   "id": "b27f8d28",
   "metadata": {},
   "source": [
    "The block of code to perform this check is given by:\n"
   ]
  },
  {
   "cell_type": "code",
   "execution_count": null,
   "id": "c0cbeeab",
   "metadata": {},
   "outputs": [],
   "source": [
    "# Condition statement example\n",
    "\n",
    "album_year = 1990\n",
    "\n",
    "if(album_year < 1980) or (album_year > 1989):\n",
    "    print (\"Album was not made in the 1980's\")\n",
    "else:\n",
    "    print(\"The Album was made in the 1980's \")"
   ]
  },
  {
   "cell_type": "markdown",
   "id": "736ad691",
   "metadata": {},
   "source": [
    "The <code>not</code> statement checks if the statement is false:\n"
   ]
  },
  {
   "cell_type": "code",
   "execution_count": null,
   "id": "fc3f9972",
   "metadata": {},
   "outputs": [],
   "source": [
    "# Condition statement example\n",
    "\n",
    "album_year = 1983\n",
    "\n",
    "if not (album_year == 1984):\n",
    "    print (\"Album year is not 1984\")"
   ]
  },
  {
   "cell_type": "code",
   "execution_count": null,
   "id": "98a7c326",
   "metadata": {},
   "outputs": [],
   "source": [
    "album_year = 1983\n",
    "\n",
    "if album_year != 1984:\n",
    "    print (\"Album year is not 1984\")"
   ]
  },
  {
   "cell_type": "markdown",
   "id": "ddfcf326",
   "metadata": {},
   "source": [
    "<hr>\n"
   ]
  },
  {
   "cell_type": "markdown",
   "id": "a0845c45",
   "metadata": {},
   "source": [
    "<h2 id=\"quiz\">Quiz on Conditions</h2>\n"
   ]
  },
  {
   "cell_type": "markdown",
   "id": "d9acc32c",
   "metadata": {},
   "source": [
    "Write an if statement to determine if an album had a rating greater than 8. Test it using the rating for the album <b>“Back in Black”</b> that had a rating of 8.5. If the statement is true print \"This album is Amazing!\"\n"
   ]
  },
  {
   "cell_type": "code",
   "execution_count": null,
   "id": "6a15abc8",
   "metadata": {},
   "outputs": [],
   "source": [
    "# Write your code below and press Shift+Enter to execute\n",
    "rate = 8.5\n",
    "if(rate > 8):\n",
    "    print(\"This album is amazing\")"
   ]
  },
  {
   "cell_type": "markdown",
   "id": "59d6e057",
   "metadata": {},
   "source": [
    "<details><summary>Click here for the solution</summary>\n",
    "\n",
    "```python\n",
    "rating = 8.5\n",
    "if rating > 8:\n",
    "    print (\"This album is Amazing!\")\n",
    "```\n",
    "\n",
    "</details>\n"
   ]
  },
  {
   "cell_type": "markdown",
   "id": "382493f3",
   "metadata": {},
   "source": [
    "<hr>\n"
   ]
  },
  {
   "cell_type": "markdown",
   "id": "d65a73d2",
   "metadata": {},
   "source": [
    "Write an if-else statement that performs the following. If the rating is larger then eight print “this album is amazing”. If the rating is less than or equal to 8 print “this album is ok”.\n"
   ]
  },
  {
   "cell_type": "code",
   "execution_count": null,
   "id": "574c02b8",
   "metadata": {},
   "outputs": [],
   "source": [
    "# Write your code below and press Shift+Enter to execute\n",
    "rate = 8.5\n",
    "if rate > 8:\n",
    "    print(\"this album is amazing\")\n",
    "else:\n",
    "    print(\"this album is ok\")"
   ]
  },
  {
   "cell_type": "markdown",
   "id": "de5e2e54",
   "metadata": {},
   "source": [
    "<details><summary>Click here for the solution</summary>\n",
    "\n",
    "```python\n",
    "rating = 8.5\n",
    "if rating > 8:\n",
    "    print (\"this album is amazing\")\n",
    "else:\n",
    "    print (\"this album is ok\")\n",
    "    \n",
    "```\n",
    "\n",
    "</details>\n"
   ]
  },
  {
   "cell_type": "markdown",
   "id": "5b65a1e1",
   "metadata": {},
   "source": [
    "<hr>\n"
   ]
  },
  {
   "cell_type": "markdown",
   "id": "f120007d",
   "metadata": {},
   "source": [
    "Write an if statement to determine if an album came out before 1980 or in the years: 1991 or 1993. If the condition is true print out the year the album came out.\n"
   ]
  },
  {
   "cell_type": "code",
   "execution_count": null,
   "id": "da940c72",
   "metadata": {},
   "outputs": [],
   "source": [
    "# Write your code below and press Shift+Enter to execute\n",
    "album = 1993\n",
    "if album < 1980 or album == 1991 or album == 1993:\n",
    "    print(f\"the album came out in {album}\")"
   ]
  },
  {
   "cell_type": "markdown",
   "id": "c097a716",
   "metadata": {},
   "source": [
    "<details><summary>Click here for the solution</summary>\n",
    "\n",
    "```python\n",
    "album_year = 1979\n",
    "\n",
    "if album_year < 1980 or album_year == 1991 or album_year == 1993:\n",
    "    print(\"This album came out in year\", album_year)\n",
    "    \n",
    "```\n",
    "\n",
    "</details>\n"
   ]
  },
  {
   "cell_type": "markdown",
   "id": "1b2e45c1",
   "metadata": {},
   "source": [
    "<hr>\n"
   ]
  },
  {
   "cell_type": "markdown",
   "id": "f61af6c8",
   "metadata": {},
   "source": [
    "<h2 id=\"loop\">Loops</h2>\n"
   ]
  },
  {
   "cell_type": "markdown",
   "id": "dbc135ba",
   "metadata": {},
   "source": [
    "<h3 id=\"range\">Range</h3>\n"
   ]
  },
  {
   "cell_type": "markdown",
   "id": "f7c52105",
   "metadata": {},
   "source": [
    "Sometimes, you might want to repeat a given operation many times. Repeated executions like this are performed by <b>loops</b>. We will look at two types of loops, <code>for</code> loops and <code>while</code> loops.\n",
    "\n",
    "Before we discuss loops lets discuss the <code>range</code> object. It is helpful to think of the range object as an ordered list. For now, let's look at the simplest case. If we would like to generate an object that contains elements ordered from 0 to 2 we simply use the following command:\n"
   ]
  },
  {
   "cell_type": "code",
   "execution_count": null,
   "id": "b7043792",
   "metadata": {},
   "outputs": [],
   "source": [
    "# Use the range\n",
    "\n",
    "range(3)"
   ]
  },
  {
   "cell_type": "code",
   "execution_count": 35,
   "id": "cdc721d0",
   "metadata": {},
   "outputs": [
    {
     "name": "stdout",
     "output_type": "stream",
     "text": [
      "[0]\n",
      "[0, 1]\n",
      "[0, 1, 2]\n"
     ]
    },
    {
     "data": {
      "text/plain": [
       "[0, 1, 2]"
      ]
     },
     "execution_count": 35,
     "metadata": {},
     "output_type": "execute_result"
    }
   ],
   "source": [
    "lst = []\n",
    "for i in range(3):\n",
    "    lst.append(i)\n",
    "    print(lst)\n",
    "lst"
   ]
  },
  {
   "cell_type": "markdown",
   "id": "f8ca434d",
   "metadata": {},
   "source": [
    "<img src=\"https://cf-courses-data.s3.us.cloud-object-storage.appdomain.cloud/IBMDeveloperSkillsNetwork-PY0101EN-SkillsNetwork/labs/Module%203/images/range.PNG\" width=\"300\">\n"
   ]
  },
  {
   "cell_type": "markdown",
   "id": "635e1f29",
   "metadata": {},
   "source": [
    "<h3 id=\"for\">What is <code>for</code> loop?</h3>\n"
   ]
  },
  {
   "cell_type": "markdown",
   "id": "05b9dd3a",
   "metadata": {},
   "source": [
    "The <code>for</code> loop enables you to execute a code block multiple times. For example, you would use this if you would like to print out every element in a list.    \n",
    "Let's try to use a <code>for</code> loop to print all the years presented in the list <code>dates</code>:\n"
   ]
  },
  {
   "cell_type": "markdown",
   "id": "27bf8e20",
   "metadata": {},
   "source": [
    "This can be done as follows:\n"
   ]
  },
  {
   "cell_type": "code",
   "execution_count": null,
   "id": "d0ff358c",
   "metadata": {},
   "outputs": [],
   "source": [
    "# For loop example\n",
    "\n",
    "dates = [1982,1980,1973]\n",
    "N = len(dates)\n",
    "\n",
    "for i in range(N):\n",
    "    print(dates[i])     "
   ]
  },
  {
   "cell_type": "markdown",
   "id": "17f81b9b",
   "metadata": {},
   "source": [
    "The code in the indent is executed <code>N</code> times, each time the value of <code>i</code> is increased by 1 for every execution. The statement executed is to <code>print</code> out the value in the list at index <code>i</code> as shown here:\n"
   ]
  },
  {
   "cell_type": "markdown",
   "id": "7236efc6",
   "metadata": {},
   "source": [
    "<img src=\"https://cf-courses-data.s3.us.cloud-object-storage.appdomain.cloud/IBMDeveloperSkillsNetwork-PY0101EN-SkillsNetwork/labs/Module%203/images/LoopsForRange.gif\" width=\"800\">\n"
   ]
  },
  {
   "cell_type": "markdown",
   "id": "7ff11979",
   "metadata": {},
   "source": [
    "In this example we can print out a sequence of numbers from 0 to 7:\n"
   ]
  },
  {
   "cell_type": "code",
   "execution_count": null,
   "id": "0a453fa1",
   "metadata": {},
   "outputs": [],
   "source": [
    "# Example of for loop\n",
    "\n",
    "for i in range(0, 8):\n",
    "    print(i)"
   ]
  },
  {
   "cell_type": "markdown",
   "id": "c6bcf732",
   "metadata": {},
   "source": [
    "In Python we can directly access the elements in the list as follows: \n"
   ]
  },
  {
   "cell_type": "code",
   "execution_count": null,
   "id": "8f3df855",
   "metadata": {},
   "outputs": [],
   "source": [
    "# Exmaple of for loop, loop through list\n",
    "\n",
    "for year in dates:  \n",
    "    print(year)   "
   ]
  },
  {
   "cell_type": "markdown",
   "id": "5f7a72e4",
   "metadata": {},
   "source": [
    "For each iteration, the value of the variable <code>year</code> behaves like the value of <code>dates[i]</code> in the  first example:\n"
   ]
  },
  {
   "cell_type": "markdown",
   "id": "e6dae37c",
   "metadata": {},
   "source": [
    "<img src=\"https://cf-courses-data.s3.us.cloud-object-storage.appdomain.cloud/IBMDeveloperSkillsNetwork-PY0101EN-SkillsNetwork/labs/Module%203/images/LoopsForList.gif\" width=\"800\">\n"
   ]
  },
  {
   "cell_type": "markdown",
   "id": "58c35bf1",
   "metadata": {},
   "source": [
    "We can change the elements in a list:\n"
   ]
  },
  {
   "cell_type": "code",
   "execution_count": null,
   "id": "df29a2d8",
   "metadata": {},
   "outputs": [],
   "source": [
    "# Use for loop to change the elements in list\n",
    "\n",
    "squares = ['red', 'yellow', 'green', 'purple', 'blue']\n",
    "\n",
    "for i in range(0, 5):\n",
    "    print(\"Before square \", i, 'is',  squares[i])\n",
    "    squares[i] = 'white'\n",
    "    print(\"After square \", i, 'is',  squares[i])"
   ]
  },
  {
   "cell_type": "markdown",
   "id": "f4fff5d4",
   "metadata": {},
   "source": [
    " We can access the index and the elements of a list as follows: \n"
   ]
  },
  {
   "cell_type": "code",
   "execution_count": null,
   "id": "21c82d6e",
   "metadata": {},
   "outputs": [],
   "source": [
    "# Loop through the list and iterate on both index and element value\n",
    "\n",
    "squares=['red', 'yellow', 'green', 'purple', 'blue']\n",
    "\n",
    "for i, square in enumerate(squares):\n",
    "    print(i, square)"
   ]
  },
  {
   "cell_type": "markdown",
   "id": "1ca53df3",
   "metadata": {},
   "source": [
    "<h3 id=\"while\">What is <code>while</code> loop?</h3>\n"
   ]
  },
  {
   "cell_type": "markdown",
   "id": "6fdec6cf",
   "metadata": {},
   "source": [
    "As you can see, the <code>for</code> loop is used for a controlled flow of repetition. However, what if we don't know when we want to stop the loop? What if we want to keep executing a code block until a certain condition is met? The <code>while</code> loop exists as a tool for repeated execution based on a condition. The code block will keep being executed until the given logical condition returns a **False** boolean value.\n"
   ]
  },
  {
   "cell_type": "markdown",
   "id": "a0aef640",
   "metadata": {},
   "source": [
    "Let’s say we would like to iterate through list <code>dates</code> and stop at the year 1973, then print out the number of iterations. This can be done with the following block of code:\n"
   ]
  },
  {
   "cell_type": "code",
   "execution_count": null,
   "id": "923d10c0",
   "metadata": {},
   "outputs": [],
   "source": [
    "# While Loop Example\n",
    "\n",
    "dates = [1982, 1980, 1973, 2000]\n",
    "\n",
    "i = 0\n",
    "year = dates[0]\n",
    "\n",
    "while(year != 1973):    \n",
    "    print(year)\n",
    "    i = i + 1\n",
    "    year = dates[i]\n",
    "    \n",
    "\n",
    "print(\"It took \", i ,\"repetitions to get out of loop.\")"
   ]
  },
  {
   "cell_type": "markdown",
   "id": "7886acbc",
   "metadata": {},
   "source": [
    "A while loop iterates merely until the condition in the argument is not  met, as shown in the following figure:\n"
   ]
  },
  {
   "cell_type": "markdown",
   "id": "a0b799c9",
   "metadata": {},
   "source": [
    "<img src=\"https://cf-courses-data.s3.us.cloud-object-storage.appdomain.cloud/IBMDeveloperSkillsNetwork-PY0101EN-SkillsNetwork/labs/Module%203/images/LoopsWhile.gif\" width=\"650\">\n"
   ]
  },
  {
   "cell_type": "markdown",
   "id": "5a1a9e36",
   "metadata": {},
   "source": [
    "<hr>\n"
   ]
  },
  {
   "cell_type": "markdown",
   "id": "5e8a0c29",
   "metadata": {},
   "source": [
    "<h2 id=\"quiz\">Quiz on Loops</h2>\n"
   ]
  },
  {
   "cell_type": "markdown",
   "id": "8feadd91",
   "metadata": {},
   "source": [
    "Write a <code>for</code> loop the prints out all the element between <b>-5</b> and <b>5</b> using the range function.\n"
   ]
  },
  {
   "cell_type": "code",
   "execution_count": null,
   "id": "cb2133a7",
   "metadata": {},
   "outputs": [],
   "source": [
    "# Write your code below and press Shift+Enter to execute\n",
    "for i in range(-4, 5):\n",
    "    print(i)"
   ]
  },
  {
   "cell_type": "markdown",
   "id": "95df9fdc",
   "metadata": {},
   "source": [
    "<details><summary>Click here for the solution</summary>\n",
    "\n",
    "```python\n",
    "for i in range(-4, 5):\n",
    "    print(i)\n",
    "    \n",
    "```\n",
    "\n",
    "</details>\n"
   ]
  },
  {
   "cell_type": "markdown",
   "id": "4900146a",
   "metadata": {},
   "source": [
    "Print the elements of the following list:\n",
    "<code>Genres=[ 'rock', 'R&B', 'Soundtrack', 'R&B', 'soul', 'pop']</code>\n",
    "Make sure you follow Python conventions.\n"
   ]
  },
  {
   "cell_type": "code",
   "execution_count": null,
   "id": "ffb5fe71",
   "metadata": {},
   "outputs": [],
   "source": [
    "# Write your code below and press Shift+Enter to execute\n",
    "Genres=[ 'rock', 'R&B', 'Soundtrack', 'R&B', 'soul', 'pop']\n",
    "for i in Genres:\n",
    "    print(i)"
   ]
  },
  {
   "cell_type": "markdown",
   "id": "4f39cd6b",
   "metadata": {},
   "source": [
    "<details><summary>Click here for the solution</summary>\n",
    "\n",
    "```python\n",
    "Genres = ['rock', 'R&B', 'Soundtrack', 'R&B', 'soul', 'pop']\n",
    "for Genre in Genres:\n",
    "    print(Genre)\n",
    "    \n",
    "```\n",
    "\n",
    "</details>\n"
   ]
  },
  {
   "cell_type": "markdown",
   "id": "2f9b24fb",
   "metadata": {},
   "source": [
    "<hr>\n"
   ]
  },
  {
   "cell_type": "markdown",
   "id": "375e0655",
   "metadata": {},
   "source": [
    "Write a for loop that prints out the following list: <code>squares=['red', 'yellow', 'green', 'purple', 'blue']</code>\n"
   ]
  },
  {
   "cell_type": "code",
   "execution_count": null,
   "id": "06030a61",
   "metadata": {},
   "outputs": [],
   "source": [
    "# Write your code below and press Shift+Enter to execute\n",
    "squares=['red', 'yellow', 'green', 'purple', 'blue']\n",
    "for i in squares:\n",
    "    print(i)"
   ]
  },
  {
   "cell_type": "markdown",
   "id": "28cd86df",
   "metadata": {},
   "source": [
    "<details><summary>Click here for the solution</summary>\n",
    "\n",
    "```python\n",
    "squares=['red', 'yellow', 'green', 'purple', 'blue']\n",
    "for square in squares:\n",
    "    print(square)\n",
    "    \n",
    "```\n",
    "\n",
    "</details>\n"
   ]
  },
  {
   "cell_type": "markdown",
   "id": "293fa9b1",
   "metadata": {},
   "source": [
    "<hr>\n"
   ]
  },
  {
   "cell_type": "markdown",
   "id": "7322c9f1",
   "metadata": {},
   "source": [
    "Write a while loop to display the values of the Rating of an album playlist stored in the list <code>PlayListRatings</code>. If the score is less than 6, exit the loop. The list <code>PlayListRatings</code> is given by: <code>PlayListRatings = [10, 9.5, 10, 8, 7.5, 5, 10, 10]</code>\n"
   ]
  },
  {
   "cell_type": "code",
   "execution_count": null,
   "id": "46be49a8",
   "metadata": {
    "scrolled": true
   },
   "outputs": [],
   "source": [
    "# Write your code below and press Shift+Enter to execute\n",
    "PlayListRatings = [10, 9.5, 10, 8, 7.5, 5, 10, 10]\n",
    "i = 0\n",
    "while (i < len(PlayListRatings) and PlayListRatings[i] > 6) :\n",
    "    print(PlayListRatings[i])\n",
    "    i+=1\n",
    "# i < len(PlayListRatings) is for avoiding the infinite loop output."
   ]
  },
  {
   "cell_type": "markdown",
   "id": "294ae0fd",
   "metadata": {},
   "source": [
    "<details><summary>Click here for the solution</summary>\n",
    "\n",
    "```python\n",
    "PlayListRatings = [10, 9.5, 10, 8, 7.5, 5, 10, 10]\n",
    "i = 0\n",
    "rating = PlayListRatings[0]\n",
    "while(i < len(PlayListRatings) and rating >= 6):\n",
    "    print(rating)\n",
    "    i = i + 1 \n",
    "    rating = PlayListRatings[i]    \n",
    "```\n",
    "\n",
    "</details>\n"
   ]
  },
  {
   "cell_type": "markdown",
   "id": "d74f7474",
   "metadata": {},
   "source": [
    "Write a while loop to copy the strings <code>'orange'</code> of the list <code>squares</code> to the list <code>new_squares</code>. Stop and exit the loop if the value on the list is not <code>'orange'</code>:\n"
   ]
  },
  {
   "cell_type": "code",
   "execution_count": null,
   "id": "0fe474ed",
   "metadata": {},
   "outputs": [],
   "source": [
    "# Write your code below and press Shift+Enter to execute\n",
    "\n",
    "squares = ['orange', 'orange', 'purple', 'blue ', 'orange']\n",
    "new_squares = []\n",
    "i = 0\n",
    "while (i < len(squares) and squares[i] == \"orange\"):\n",
    "    new_squares.append(squares[i])\n",
    "    i+=1\n",
    "new_squares"
   ]
  },
  {
   "cell_type": "markdown",
   "id": "89a9b674",
   "metadata": {},
   "source": [
    "<details><summary>Click here for the solution</summary>\n",
    "\n",
    "```python\n",
    "squares = ['orange', 'orange', 'purple', 'blue ', 'orange']\n",
    "new_squares = []\n",
    "i = 0\n",
    "while(i < len(squares) and squares[i] == 'orange'):\n",
    "    new_squares.append(squares[i])\n",
    "    i = i + 1\n",
    "print (new_squares)\n",
    "    \n",
    "```\n",
    "\n",
    "</details>\n",
    " \n"
   ]
  },
  {
   "cell_type": "markdown",
   "id": "df57f9ef",
   "metadata": {},
   "source": [
    "<hr>\n"
   ]
  },
  {
   "cell_type": "markdown",
   "id": "9e3c1818",
   "metadata": {},
   "source": [
    "<h2 id=\"func\">Functions</h2>\n"
   ]
  },
  {
   "cell_type": "markdown",
   "id": "46d5570d",
   "metadata": {},
   "source": [
    "A function is a reusable block of code which performs operations specified in the function. They let you break down tasks and allow you to reuse your code in different programs.\n",
    "\n",
    "There are two types of functions :\n",
    "\n",
    "*   <b>Pre-defined functions</b>\n",
    "*   <b>User defined functions</b>\n"
   ]
  },
  {
   "cell_type": "markdown",
   "id": "4a62fc7d",
   "metadata": {},
   "source": [
    "<h3 id=\"content\">What is a Function?</h3>\n"
   ]
  },
  {
   "cell_type": "markdown",
   "id": "1222f69f",
   "metadata": {},
   "source": [
    "You can define functions to provide the required functionality. Here are simple rules to define a function in Python:\n",
    "\n",
    "*   Functions blocks begin <code>def</code> followed by the function <code>name</code> and parentheses <code>()</code>.\n",
    "*   There are input parameters or arguments that should be placed within these parentheses.\n",
    "*   You can also define parameters inside these parentheses.\n",
    "*   There is a body within every function that starts with a colon (<code>:</code>) and is indented.\n",
    "*   You can also place documentation before the body.\n",
    "*   The statement <code>return</code> exits a function, optionally passing back a value.\n",
    "\n",
    "An example of a function that adds on to the parameter <code>a</code> prints and returns the output as <code>b</code>:\n"
   ]
  },
  {
   "cell_type": "code",
   "execution_count": null,
   "id": "4356ffae",
   "metadata": {},
   "outputs": [],
   "source": [
    "# First function example: Add 1 to a and store as b\n",
    "\n",
    "def add(a):\n",
    "    \"\"\"\n",
    "    add 1 to a\n",
    "    \"\"\"\n",
    "    b = a + 1\n",
    "    print(a, \"if you add one\", b)\n",
    "    return(b)\n",
    "add(2)"
   ]
  },
  {
   "cell_type": "markdown",
   "id": "8d0a5d03",
   "metadata": {},
   "source": [
    "The figure below illustrates the terminology:\n"
   ]
  },
  {
   "cell_type": "markdown",
   "id": "67f2b8df",
   "metadata": {},
   "source": [
    "<img src=\"https://cf-courses-data.s3.us.cloud-object-storage.appdomain.cloud/IBMDeveloperSkillsNetwork-PY0101EN-SkillsNetwork/labs/Module%203/images/FuncsDefinition.png\" width=\"500\"> \n"
   ]
  },
  {
   "cell_type": "markdown",
   "id": "b4a3ec5f",
   "metadata": {},
   "source": [
    "We can obtain help about a function :\n"
   ]
  },
  {
   "cell_type": "code",
   "execution_count": null,
   "id": "70ad640e",
   "metadata": {},
   "outputs": [],
   "source": [
    "# Get a help on add function\n",
    "\n",
    "help(add)"
   ]
  },
  {
   "cell_type": "markdown",
   "id": "691f1e1e",
   "metadata": {},
   "source": [
    "We can call the function:\n"
   ]
  },
  {
   "cell_type": "code",
   "execution_count": null,
   "id": "0dde91de",
   "metadata": {},
   "outputs": [],
   "source": [
    "# Call the function add()\n",
    "\n",
    "add(1)"
   ]
  },
  {
   "cell_type": "markdown",
   "id": "57d1922c",
   "metadata": {},
   "source": [
    "If we call the function with a new input we get a new result:\n"
   ]
  },
  {
   "cell_type": "code",
   "execution_count": null,
   "id": "938499bc",
   "metadata": {},
   "outputs": [],
   "source": [
    "# Call the function add()\n",
    "\n",
    "add(2)"
   ]
  },
  {
   "cell_type": "markdown",
   "id": "2f8b6057",
   "metadata": {},
   "source": [
    "We can create different functions. For example, we can create a function that multiplies two numbers. The numbers will be represented by the variables <code>a</code> and <code>b</code>:\n"
   ]
  },
  {
   "cell_type": "code",
   "execution_count": null,
   "id": "666326fa",
   "metadata": {},
   "outputs": [],
   "source": [
    "# Define a function for multiple two numbers\n",
    "\n",
    "def Mult(a, b):\n",
    "    c = a * b\n",
    "    return(c)\n",
    "    print('This is not printed')\n",
    "    \n",
    "result = Mult(12,2)\n",
    "print(result)"
   ]
  },
  {
   "cell_type": "markdown",
   "id": "b22f7cf3",
   "metadata": {},
   "source": [
    "The same function can be used for different data types. For example, we can multiply two integers:\n"
   ]
  },
  {
   "cell_type": "code",
   "execution_count": null,
   "id": "76d88a3c",
   "metadata": {},
   "outputs": [],
   "source": [
    "# Use mult() multiply two integers\n",
    "\n",
    "Mult(2, 3)"
   ]
  },
  {
   "cell_type": "markdown",
   "id": "7d1bd337",
   "metadata": {},
   "source": [
    "Note how the function terminates at the <code> return </code> statement, while passing back a value. This value can be further assigned to a different variable as desired.\n",
    "\n",
    "<hr>\n",
    "The same function can be used for different data types. For example, we can multiply two integers:\n"
   ]
  },
  {
   "cell_type": "markdown",
   "id": "4fccd8a7",
   "metadata": {},
   "source": [
    "Two Floats:\n"
   ]
  },
  {
   "cell_type": "code",
   "execution_count": null,
   "id": "d1e2dc37",
   "metadata": {},
   "outputs": [],
   "source": [
    "# Use mult() multiply two floats\n",
    "\n",
    "Mult(10.0, 3.14)"
   ]
  },
  {
   "cell_type": "markdown",
   "id": "6e6a19b3",
   "metadata": {},
   "source": [
    "We can even replicate a string by multiplying with an integer:\n"
   ]
  },
  {
   "cell_type": "code",
   "execution_count": null,
   "id": "2f960235",
   "metadata": {},
   "outputs": [],
   "source": [
    "# Use mult() multiply two different type values together\n",
    "\n",
    "Mult(2, \"Michael Jackson \")"
   ]
  },
  {
   "cell_type": "markdown",
   "id": "835ce39e",
   "metadata": {},
   "source": [
    "<h3 id=\"var\">Variables</h3>\n"
   ]
  },
  {
   "cell_type": "markdown",
   "id": "9d623f31",
   "metadata": {},
   "source": [
    "The input to a function is called a formal parameter.\n",
    "\n",
    "A variable that is declared inside a function is called a  local variable. The parameter only exists within the function (i.e. the point where the function starts and stops).\n",
    "\n",
    "A variable that is declared outside a function definition is a global variable, and its value is accessible and modifiable throughout the program. We will discuss more about global variables at the end of the lab.\n"
   ]
  },
  {
   "cell_type": "code",
   "execution_count": null,
   "id": "7896fd16",
   "metadata": {},
   "outputs": [],
   "source": [
    "# Function Definition\n",
    "\n",
    "def square(a):\n",
    "    \n",
    "    # Local variable b\n",
    "    c = 1\n",
    "    b = a * a + c\n",
    "    print(a, \"if you square + 1\", b) \n",
    "    return(b)"
   ]
  },
  {
   "cell_type": "markdown",
   "id": "a5e0f6a0",
   "metadata": {},
   "source": [
    "The labels are displayed in the figure:\n"
   ]
  },
  {
   "cell_type": "markdown",
   "id": "9a44f7d5",
   "metadata": {},
   "source": [
    "<img src=\"https://cf-courses-data.s3.us.cloud-object-storage.appdomain.cloud/IBMDeveloperSkillsNetwork-PY0101EN-SkillsNetwork/labs/Module%203/images/FuncsVar.png\" width=\"500\">\n"
   ]
  },
  {
   "cell_type": "markdown",
   "id": "8f069bba",
   "metadata": {},
   "source": [
    "We can call the function  with an input of <b>3</b>:\n"
   ]
  },
  {
   "cell_type": "code",
   "execution_count": null,
   "id": "ad03e93c",
   "metadata": {},
   "outputs": [],
   "source": [
    "# Initializes Global variable  \n",
    "\n",
    "x = 3\n",
    "# Makes function call and return function a y\n",
    "y = square(x)\n",
    "y"
   ]
  },
  {
   "cell_type": "markdown",
   "id": "46a962b9",
   "metadata": {},
   "source": [
    "We can call the function  with an input of <b>2</b> in a different manner:\n"
   ]
  },
  {
   "cell_type": "code",
   "execution_count": null,
   "id": "d0bd93bc",
   "metadata": {},
   "outputs": [],
   "source": [
    "# Directly enter a number as parameter\n",
    "\n",
    "square(2)"
   ]
  },
  {
   "cell_type": "markdown",
   "id": "44797cf9",
   "metadata": {},
   "source": [
    "If there is no <code>return</code> statement, the function returns <code>None</code>. The following two functions are equivalent:\n"
   ]
  },
  {
   "cell_type": "code",
   "execution_count": null,
   "id": "db8374f6",
   "metadata": {},
   "outputs": [],
   "source": [
    "# Define functions, one with return value None and other without return value\n",
    "\n",
    "def MJ():\n",
    "    print('Michael Jackson')\n",
    "    \n",
    "def MJ1():\n",
    "    print('Michael Jackson')\n",
    "    return(None)"
   ]
  },
  {
   "cell_type": "code",
   "execution_count": null,
   "id": "824f1d9e",
   "metadata": {},
   "outputs": [],
   "source": [
    "# See the output\n",
    "\n",
    "MJ()"
   ]
  },
  {
   "cell_type": "code",
   "execution_count": null,
   "id": "091f9d00",
   "metadata": {},
   "outputs": [],
   "source": [
    "# See the output\n",
    "\n",
    "MJ1()"
   ]
  },
  {
   "cell_type": "markdown",
   "id": "af9ff7ce",
   "metadata": {},
   "source": [
    "Printing the function after a call reveals a **None** is the default return statement:\n"
   ]
  },
  {
   "cell_type": "code",
   "execution_count": null,
   "id": "645127b9",
   "metadata": {},
   "outputs": [],
   "source": [
    "# See what functions returns are\n",
    "\n",
    "print(MJ())\n",
    "print(MJ1())"
   ]
  },
  {
   "cell_type": "markdown",
   "id": "4f294352",
   "metadata": {},
   "source": [
    "Create a function <code>con</code> that  concatenates two strings using the addition operation:\n"
   ]
  },
  {
   "cell_type": "code",
   "execution_count": null,
   "id": "0f09b16f",
   "metadata": {},
   "outputs": [],
   "source": [
    "# Define the function for combining strings\n",
    "\n",
    "def con(a, b):\n",
    "    return(a + b)"
   ]
  },
  {
   "cell_type": "code",
   "execution_count": null,
   "id": "f0c6ebc0",
   "metadata": {},
   "outputs": [],
   "source": [
    "# Test on the con() function\n",
    "\n",
    "con(\"This \", \"is\")"
   ]
  },
  {
   "cell_type": "markdown",
   "id": "c07a1d23",
   "metadata": {},
   "source": [
    "<hr/>\n",
    "    <div class=\"alert alert-success alertsuccess\" style=\"margin-top: 20px\">\n",
    "        <h4> [Tip] How do I learn more about the pre-defined functions in Python? </h4>\n",
    "        <p>We will be introducing a variety of pre-defined functions to you as you learn more about Python. There are just too many functions, so there's no way we can teach them all in one sitting. But if you'd like to take a quick peek, here's a short reference card for some of the commonly-used pre-defined functions: <a href=\"https://cf-courses-data.s3.us.cloud-object-storage.appdomain.cloud/IBMDeveloperSkillsNetwork-PY0101EN-SkillsNetwork/labs/Module%203/Python_reference_sheet.pdf?utm_medium=Exinfluencer&utm_source=Exinfluencer&utm_content=000026UJ&utm_term=10006555&utm_id=NA-SkillsNetwork-Channel-SkillsNetworkCoursesIBMDeveloperSkillsNetworkPY0101ENSkillsNetwork19487395-2022-01-01\">Reference</a></p>\n",
    "    </div>\n",
    "<hr/>\n"
   ]
  },
  {
   "cell_type": "markdown",
   "id": "2c77d824",
   "metadata": {},
   "source": [
    "<h3 id=\"simple\">Functions Make Things Simple</h3>\n"
   ]
  },
  {
   "cell_type": "markdown",
   "id": "b0259c65",
   "metadata": {},
   "source": [
    "Consider the two lines of code in <b>Block 1</b> and <b>Block 2</b>: the procedure for each block is identical. The only thing that is different is the variable names and values.\n"
   ]
  },
  {
   "cell_type": "markdown",
   "id": "dff85d9e",
   "metadata": {},
   "source": [
    "<h4>Block 1:</h4>\n"
   ]
  },
  {
   "cell_type": "code",
   "execution_count": null,
   "id": "58eb00d0",
   "metadata": {},
   "outputs": [],
   "source": [
    "# a and b calculation block1\n",
    "\n",
    "a1 = 4\n",
    "b1 = 5\n",
    "c1 = a1 + b1 + 2 * a1 * b1 - 1\n",
    "if(c1 < 0):\n",
    "    c1 = 0 \n",
    "else:\n",
    "    c1 = 5\n",
    "c1   "
   ]
  },
  {
   "cell_type": "markdown",
   "id": "071543d7",
   "metadata": {},
   "source": [
    "<h4>Block 2:</h4>\n"
   ]
  },
  {
   "cell_type": "code",
   "execution_count": null,
   "id": "8e8b874e",
   "metadata": {},
   "outputs": [],
   "source": [
    "# a and b calculation block2\n",
    "\n",
    "a2 = 0\n",
    "b2 = 0\n",
    "c2 = a2 + b2 + 2 * a2 * b2 - 1\n",
    "if(c2 < 0):\n",
    "    c2 = 0 \n",
    "else:\n",
    "    c2 = 5\n",
    "c2   "
   ]
  },
  {
   "cell_type": "markdown",
   "id": "aabb28c9",
   "metadata": {},
   "source": [
    "We can replace the lines of code with a function. A function combines many instructions into a single line of code. Once a function is defined, it can be used repeatedly. You can invoke the same function many times in your program. You can save your function and use it in another program or use someone else’s function. The lines of code in code <b>Block 1</b> and code <b>Block 2</b> can be replaced by the following function:\n"
   ]
  },
  {
   "cell_type": "code",
   "execution_count": null,
   "id": "c9123514",
   "metadata": {},
   "outputs": [],
   "source": [
    "# Make a Function for the calculation above\n",
    "\n",
    "def Equation(a,b):\n",
    "    c = a + b + 2 * a * b - 1\n",
    "    if(c < 0):\n",
    "        c = 0 \n",
    "    else:\n",
    "        c = 5\n",
    "    return(c) "
   ]
  },
  {
   "cell_type": "markdown",
   "id": "6c6c5d94",
   "metadata": {},
   "source": [
    "This function takes two inputs, a and b, then applies several operations to return c.\n",
    "We simply define the function, replace the instructions with the function, and input the new values of <code>a1</code>, <code>b1</code> and <code>a2</code>, <code>b2</code> as inputs. The entire process is demonstrated in the figure:\n"
   ]
  },
  {
   "cell_type": "markdown",
   "id": "a1e2790f",
   "metadata": {},
   "source": [
    "<img src=\"https://cf-courses-data.s3.us.cloud-object-storage.appdomain.cloud/IBMDeveloperSkillsNetwork-PY0101EN-SkillsNetwork/labs/Module%203/images/FuncsPros.gif\" width=\"850\">\n"
   ]
  },
  {
   "cell_type": "markdown",
   "id": "ce1c6d8c",
   "metadata": {},
   "source": [
    "Code **Blocks 1** and **Block 2** can now be replaced with code **Block 3** and code **Block 4**.\n"
   ]
  },
  {
   "cell_type": "markdown",
   "id": "781d8b8b",
   "metadata": {},
   "source": [
    "<h4>Block 3:</h4>\n"
   ]
  },
  {
   "cell_type": "code",
   "execution_count": null,
   "id": "ff17154e",
   "metadata": {},
   "outputs": [],
   "source": [
    "a1 = 4\n",
    "b1 = 5\n",
    "c1 = Equation(a1, b1)\n",
    "c1"
   ]
  },
  {
   "cell_type": "markdown",
   "id": "c0acda1a",
   "metadata": {},
   "source": [
    "<h4>Block 4:</h4>\n"
   ]
  },
  {
   "cell_type": "code",
   "execution_count": null,
   "id": "9d087c8d",
   "metadata": {},
   "outputs": [],
   "source": [
    "a2 = 0\n",
    "b2 = 0\n",
    "c2 = Equation(a2, b2)\n",
    "c2"
   ]
  },
  {
   "cell_type": "markdown",
   "id": "e29a7071",
   "metadata": {},
   "source": [
    "<hr>\n"
   ]
  },
  {
   "cell_type": "markdown",
   "id": "c641a969",
   "metadata": {},
   "source": [
    "<h2 id=\"pre\">Pre-defined functions</h2>\n"
   ]
  },
  {
   "cell_type": "markdown",
   "id": "e15df934",
   "metadata": {},
   "source": [
    "There are many pre-defined functions in Python, so let's start with the simple ones.\n"
   ]
  },
  {
   "cell_type": "markdown",
   "id": "8117dba6",
   "metadata": {},
   "source": [
    "The <code>print()</code> function:\n"
   ]
  },
  {
   "cell_type": "code",
   "execution_count": null,
   "id": "d38adf26",
   "metadata": {},
   "outputs": [],
   "source": [
    "# Build-in function print()\n",
    "\n",
    "album_ratings = [10.0, 8.5, 9.5, 7.0, 7.0, 9.5, 9.0, 9.5] \n",
    "print(album_ratings)"
   ]
  },
  {
   "cell_type": "markdown",
   "id": "69d7e2e5",
   "metadata": {},
   "source": [
    "The <code>sum()</code> function adds all the  elements in a list or tuple:\n"
   ]
  },
  {
   "cell_type": "code",
   "execution_count": null,
   "id": "c2efe138",
   "metadata": {},
   "outputs": [],
   "source": [
    "# Use sum() to add every element in a list or tuple together\n",
    "\n",
    "sum(album_ratings)"
   ]
  },
  {
   "cell_type": "markdown",
   "id": "297aa66a",
   "metadata": {},
   "source": [
    "The <code>len()</code> function returns the length of a list or tuple:\n"
   ]
  },
  {
   "cell_type": "code",
   "execution_count": null,
   "id": "90b90fc9",
   "metadata": {},
   "outputs": [],
   "source": [
    "# Show the length of the list or tuple\n",
    "\n",
    "len(album_ratings)"
   ]
  },
  {
   "cell_type": "markdown",
   "id": "717a9769",
   "metadata": {},
   "source": [
    "<h2 id=\"if\">Using <code>if</code>/<code>else</code> Statements and Loops in Functions</h2>\n"
   ]
  },
  {
   "cell_type": "markdown",
   "id": "810bf189",
   "metadata": {},
   "source": [
    "The <code>return()</code> function is particularly useful if you have any IF statements in the function, when you want your output to be dependent on some condition:\n"
   ]
  },
  {
   "cell_type": "code",
   "execution_count": null,
   "id": "033e37a4",
   "metadata": {},
   "outputs": [],
   "source": [
    "# Function example\n",
    "\n",
    "def type_of_album(artist, album, year_released):\n",
    "    \n",
    "    print(artist, album, year_released)\n",
    "    if year_released > 1980:\n",
    "        return \"Modern\"\n",
    "    else:\n",
    "        return \"Oldie\"\n",
    "    \n",
    "x = type_of_album(\"Michael Jackson\", \"Thriller\", 1980)\n",
    "print(x)"
   ]
  },
  {
   "cell_type": "markdown",
   "id": "ada97a34",
   "metadata": {},
   "source": [
    "We can use a loop in a function. For example, we can <code>print</code> out each element in a list:\n"
   ]
  },
  {
   "cell_type": "code",
   "execution_count": null,
   "id": "38652822",
   "metadata": {},
   "outputs": [],
   "source": [
    "# Print the list using for loop\n",
    "\n",
    "def PrintList(the_list):\n",
    "    for element in the_list:\n",
    "        print(element)"
   ]
  },
  {
   "cell_type": "code",
   "execution_count": null,
   "id": "3dbe3258",
   "metadata": {},
   "outputs": [],
   "source": [
    "# Implement the printlist function\n",
    "\n",
    "PrintList(['1', 1, 'the man', \"abc\"])"
   ]
  },
  {
   "cell_type": "markdown",
   "id": "51ae1b3f",
   "metadata": {},
   "source": [
    "<h2 id=\"if\">String comparison in Functions</h2>\n"
   ]
  },
  {
   "cell_type": "markdown",
   "id": "8b84389a",
   "metadata": {},
   "source": [
    "The relational operators compare the Unicode values of the characters of the strings from the zeroth index till the end of the string. It then returns a boolean value according to the operator used.\n"
   ]
  },
  {
   "cell_type": "code",
   "execution_count": null,
   "id": "cc58784d",
   "metadata": {},
   "outputs": [],
   "source": [
    "#Compare Two Strings Directly using in operator\n",
    "# add string\n",
    "string= \"Michael Jackson is the best\"\n",
    "\n",
    "# Define a funtion\n",
    "def check_string(text):\n",
    "    \n",
    "# Use if else statement and 'in' operatore to compare the string\n",
    "    if text in string:\n",
    "        return 'String matched'\n",
    "    else:\n",
    "        return 'String not matched'\n",
    "\n",
    "check_string(\"Michael Jackson is the best\")"
   ]
  },
  {
   "cell_type": "markdown",
   "id": "b1d61b04",
   "metadata": {},
   "source": [
    "This program uses a user-defined function named compareStrings() to compare two strings. \n",
    "\n",
    "This function receives both strings as its argument and returns 1 if both strings are equal using == operator\n"
   ]
  },
  {
   "cell_type": "code",
   "execution_count": null,
   "id": "bf49c99c",
   "metadata": {},
   "outputs": [],
   "source": [
    "#Compare two strings using == operator and function\n",
    "def compareStrings(x, y):\n",
    "# Use if else statement to compare x and y\n",
    "    if x==y:\n",
    "        return 1\n",
    "    \n",
    "# Declare two different variables as string1 and string2 and pass string in it\n",
    "string1 = \"Michael Jackson is the best\"\n",
    "string2 = \"Michael Jackson is the best\"\n",
    "\n",
    "# Declare a variable to store result after comparing both the strings\n",
    "check = compareStrings(string1, string2)\n",
    "\n",
    "#Use if else statement to compare the string\n",
    "if check==1:\n",
    "    print(\"\\nString Matched\")\n",
    "else:\n",
    "    print(\"\\nString not Matched\")"
   ]
  },
  {
   "cell_type": "markdown",
   "id": "353b4847",
   "metadata": {},
   "source": [
    "**Count the Frequency of Words Appearing in a String Using a Dictionary.** \n",
    "\n",
    "Find the count of occurence of any word in our string using python. This is what we are going to do in this section, count the number of word in a given string and print it.\n",
    "\n",
    "Lets suppose we have a ‘string’ and the ‘word’ and we need to find the count of occurence of this word in our string using python. This is what we are going to do in this section, count the number of word in a given string and print it. \n",
    "\n",
    "The first thing, we will do is define a function and and then create a list that will be empty initially.\n",
    "\n",
    "Next, we will add a code to convert the string to a list. Python string has a split() method. It takes a string and some separator to return a list.\n",
    "\n",
    "Now we will declare an empty dictionary.\n",
    "\n",
    "Next we will add code using for loop to iterate the words and value will will count the frequency of each words in the string and store them to the dictionary.\n",
    "\n",
    "Finally we will print the dictionary.\n"
   ]
  },
  {
   "cell_type": "code",
   "execution_count": null,
   "id": "3e9b40d9",
   "metadata": {},
   "outputs": [],
   "source": [
    "# Python Program to Count words in a String using Dictionary\n",
    "def freq(string):\n",
    "    \n",
    "    #step1: A list variable is declared and initialized to an empty list.\n",
    "    words = []\n",
    "    \n",
    "    #step2: Break the string into list of words\n",
    "    words = string.split() # or string.lower().split()\n",
    "    \n",
    "    #step3: Declare a dictionary\n",
    "    Dict = {}\n",
    "    \n",
    "    #step4: Use for loop to iterate words and values to the dictionary\n",
    "    for key in words:\n",
    "        Dict[key] = words.count(key)\n",
    "        \n",
    "    #step5: Print the dictionary\n",
    "    print(\"The Frequency of words is:\",Dict)\n",
    "    \n",
    "#step6: Call function and pass string in it\n",
    "freq(\"Mary had a little lamb Little lamb, little lamb Mary had a little lamb.Its fleece was white as snow And everywhere that Mary went Mary went, Mary went \\\n",
    "Everywhere that Mary went The lamb was sure to go\")"
   ]
  },
  {
   "cell_type": "markdown",
   "id": "bc0cbbbe",
   "metadata": {},
   "source": [
    "<hr>\n"
   ]
  },
  {
   "cell_type": "markdown",
   "id": "43366e90",
   "metadata": {},
   "source": [
    "<h2 id=\"default\">Setting default argument values in your custom functions</h2>\n"
   ]
  },
  {
   "cell_type": "markdown",
   "id": "9525935d",
   "metadata": {},
   "source": [
    "You can set a default value for arguments in your function. For example, in the <code>isGoodRating()</code> function, what if we wanted to create a threshold for what we consider to be a good rating? Perhaps by default, we should have a default rating of 4:\n"
   ]
  },
  {
   "cell_type": "code",
   "execution_count": null,
   "id": "3b445bd4",
   "metadata": {},
   "outputs": [],
   "source": [
    "# Example for setting param with default value\n",
    "\n",
    "def isGoodRating(rating=4): \n",
    "    if(rating < 7):\n",
    "        print(\"this album sucks it's rating is\",rating)\n",
    "        \n",
    "    else:\n",
    "        print(\"this album is good its rating is\",rating)\n"
   ]
  },
  {
   "cell_type": "code",
   "execution_count": null,
   "id": "8354ebf8",
   "metadata": {},
   "outputs": [],
   "source": [
    "# Test the value with default value and with input\n",
    "\n",
    "isGoodRating()\n",
    "isGoodRating(10)"
   ]
  },
  {
   "cell_type": "markdown",
   "id": "919c8585",
   "metadata": {},
   "source": [
    "<hr>\n"
   ]
  },
  {
   "cell_type": "markdown",
   "id": "d8569f3a",
   "metadata": {},
   "source": [
    "<h2 id=\"global\">Global variables</h2>\n"
   ]
  },
  {
   "cell_type": "markdown",
   "id": "086ab557",
   "metadata": {},
   "source": [
    "So far, we've been creating variables within functions, but we have not discussed variables outside the function. These are called global variables. <br>\n",
    "Let's try to see what <code>printer1</code> returns:\n"
   ]
  },
  {
   "cell_type": "code",
   "execution_count": null,
   "id": "f5625efc",
   "metadata": {},
   "outputs": [],
   "source": [
    "# Example of global variable\n",
    "\n",
    "artist = \"Michael Jackson\"\n",
    "def printer1(artist):\n",
    "    internal_var1 = artist\n",
    "    print(artist, \"is an artist\")\n",
    "    \n",
    "printer1(artist)\n",
    "# try runningthe following code\n",
    "printer1(internal_var1) "
   ]
  },
  {
   "cell_type": "markdown",
   "id": "4ced1a1f",
   "metadata": {},
   "source": [
    "<b>We got a Name Error:  <code>name 'internal_var' is not defined</code>. Why?</b>\n",
    "\n",
    "It's because all the variables we create in the function is a <b>local variable</b>, meaning that the variable assignment does not persist outside the function.\n",
    "\n",
    "But there is a way to create <b>global variables</b> from within a function as follows:\n"
   ]
  },
  {
   "cell_type": "code",
   "execution_count": null,
   "id": "9b2e9bed",
   "metadata": {},
   "outputs": [],
   "source": [
    "artist = \"Michael Jackson\"\n",
    "\n",
    "def printer(artist):\n",
    "    global internal_var \n",
    "    internal_var= \"Whitney Houston\"\n",
    "    print(artist,\"is an artist\")\n",
    "\n",
    "printer(artist) \n",
    "printer(internal_var)"
   ]
  },
  {
   "cell_type": "markdown",
   "id": "52701316",
   "metadata": {},
   "source": [
    "<h2 id=\"scope\">Scope of a Variable</h2>\n"
   ]
  },
  {
   "cell_type": "markdown",
   "id": "796ac819",
   "metadata": {},
   "source": [
    "The scope of a variable is the part of that program where that variable is accessible. Variables that are declared outside of all function definitions, such as the <code>myFavouriteBand</code> variable in the code shown here, are accessible from anywhere within the program. As a result, such variables are said to have global scope, and are known as global variables. <code>myFavouriteBand</code> is a global variable, so it is accessible from within the <code>getBandRating</code> function, and we can use it to determine a band's rating. We can also use it outside of the function, such as when we pass it to the print function to display it:\n"
   ]
  },
  {
   "cell_type": "code",
   "execution_count": null,
   "id": "b134e50f",
   "metadata": {},
   "outputs": [],
   "source": [
    "# Example of global variable\n",
    "\n",
    "myFavouriteBand = \"AC/DC\"\n",
    "\n",
    "def getBandRating(bandname):\n",
    "    if bandname == myFavouriteBand:\n",
    "        return 10.0\n",
    "    else:\n",
    "        return 0.0\n",
    "\n",
    "print(\"AC/DC's rating is:\", getBandRating(\"AC/DC\"))\n",
    "print(\"Deep Purple's rating is:\",getBandRating(\"Deep Purple\"))\n",
    "print(\"My favourite band is:\", myFavouriteBand)"
   ]
  },
  {
   "cell_type": "markdown",
   "id": "dd345a94",
   "metadata": {},
   "source": [
    "Take a look at this modified version of our code. Now the <code>myFavouriteBand</code> variable is defined within the <code>getBandRating</code> function. A variable that is defined within a function is said to be a local variable of that function. That means that it is only accessible from within the function in which it is defined. Our <code>getBandRating</code> function will still work, because <code>myFavouriteBand</code> is still defined within the function. However, we can no longer print <code>myFavouriteBand</code> outside our function, because it is a local variable of our <code>getBandRating</code> function; it is only defined within the <code>getBandRating</code> function:\n"
   ]
  },
  {
   "cell_type": "code",
   "execution_count": null,
   "id": "2e66ed34",
   "metadata": {},
   "outputs": [],
   "source": [
    "# Deleting the variable \"myFavouriteBand\" from the previous example to demonstrate an example of a local variable \n",
    "\n",
    "del myFavouriteBand\n",
    "\n",
    "# Example of local variable\n",
    "\n",
    "def getBandRating(bandname):\n",
    "    myFavouriteBand = \"AC/DC\"\n",
    "    if bandname == myFavouriteBand:\n",
    "        return 10.0\n",
    "    else:\n",
    "        return 0.0\n",
    "\n",
    "print(\"AC/DC's rating is: \", getBandRating(\"AC/DC\"))\n",
    "print(\"Deep Purple's rating is: \", getBandRating(\"Deep Purple\"))\n",
    "print(\"My favourite band is\", myFavouriteBand)"
   ]
  },
  {
   "cell_type": "markdown",
   "id": "0beadea9",
   "metadata": {},
   "source": [
    "Finally, take a look at this example. We now have two <code>myFavouriteBand</code> variable definitions. The first one of these has a global scope, and the second of them is a local variable within the <code>getBandRating</code> function. Within the <code>getBandRating</code> function, the local variable takes precedence. **Deep Purple** will receive a rating of 10.0 when passed to the <code>getBandRating</code> function. However, outside of the <code>getBandRating</code> function, the <code>getBandRating</code> s local variable is not defined, so the <code>myFavouriteBand</code> variable we print is the global variable, which has a value of **AC/DC**:\n"
   ]
  },
  {
   "cell_type": "code",
   "execution_count": null,
   "id": "e37e52d8",
   "metadata": {},
   "outputs": [],
   "source": [
    "# Example of global variable and local variable with the same name\n",
    "\n",
    "myFavouriteBand = \"AC/DC\"\n",
    "\n",
    "def getBandRating(bandname):\n",
    "    myFavouriteBand = \"Deep Purple\"\n",
    "    if bandname == myFavouriteBand:\n",
    "        return 10.0\n",
    "    else:\n",
    "        return 0.0\n",
    "\n",
    "print(\"AC/DC's rating is:\",getBandRating(\"AC/DC\"))\n",
    "print(\"Deep Purple's rating is: \",getBandRating(\"Deep Purple\"))\n",
    "print(\"My favourite band is:\",myFavouriteBand)"
   ]
  },
  {
   "cell_type": "markdown",
   "id": "6c1cc266",
   "metadata": {},
   "source": [
    "<hr>\n",
    "<h2 id =\"collec\"> Collections and Functions</h2>\n"
   ]
  },
  {
   "cell_type": "markdown",
   "id": "ea46cad4",
   "metadata": {},
   "source": [
    "When the number of arguments  are unknown for a function, They can all be packed into a tuple as shown:\n"
   ]
  },
  {
   "cell_type": "code",
   "execution_count": null,
   "id": "ffa65801",
   "metadata": {},
   "outputs": [],
   "source": [
    "def printAll(*args): # All the arguments are 'packed' into args which can be treated like a tuple\n",
    "    print(\"No of arguments:\", len(args)) \n",
    "    for argument in args:\n",
    "        print(argument)\n",
    "#printAll with 3 arguments\n",
    "printAll('Horsefeather','Adonis','Bone')\n",
    "#printAll with 4 arguments\n",
    "printAll('Sidecar','Long Island','Mudslide','Carriage')"
   ]
  },
  {
   "cell_type": "markdown",
   "id": "12ede811",
   "metadata": {},
   "source": [
    "Similarly, The arguments can also be packed into a dictionary as shown:\n"
   ]
  },
  {
   "cell_type": "code",
   "execution_count": null,
   "id": "505b235a",
   "metadata": {},
   "outputs": [],
   "source": [
    "def printDictionary(**args):\n",
    "    for key in args:\n",
    "        print(key + \" : \" + args[key])\n",
    "\n",
    "printDictionary(Country='Canada',Province='Ontario',City='Toronto')\n",
    "    "
   ]
  },
  {
   "cell_type": "markdown",
   "id": "50bfd67b",
   "metadata": {},
   "source": [
    "Functions can be incredibly powerful and versatile. They can accept (and return) data types, objects and even other functions as arguements. Consider the example below:\n"
   ]
  },
  {
   "cell_type": "code",
   "execution_count": null,
   "id": "59f81021",
   "metadata": {},
   "outputs": [],
   "source": [
    "def addItems(list):\n",
    "    list.append(\"Three\")\n",
    "    list.append(\"Four\")\n",
    "\n",
    "myList = [\"One\",\"Two\"]\n",
    "\n",
    "addItems(myList)\n",
    "\n",
    "myList\n",
    "    "
   ]
  },
  {
   "cell_type": "markdown",
   "id": "134a5561",
   "metadata": {},
   "source": [
    "Note how the changes made to the list are not limited to the functions scope. This occurs as it is the lists **reference** that is passed to the function - Any changes made are on the orignal instance of the list. Therefore, one should be cautious when passing mutable objects into functions.\n",
    "\n",
    "<hr>\n"
   ]
  },
  {
   "cell_type": "markdown",
   "id": "6539dedd",
   "metadata": {},
   "source": [
    "<h2>Quiz on Functions</h2>\n"
   ]
  },
  {
   "cell_type": "markdown",
   "id": "a60d444e",
   "metadata": {},
   "source": [
    "Come up with a function that divides the first input by the second input:\n"
   ]
  },
  {
   "cell_type": "code",
   "execution_count": null,
   "id": "4f7298f1",
   "metadata": {},
   "outputs": [],
   "source": [
    "# Write your code below and press Shift+Enter to execute\n",
    "def dev(inp1, inp2):\n",
    "    res = inp1/inp2\n",
    "    return res\n",
    "dev(4, 2)"
   ]
  },
  {
   "cell_type": "markdown",
   "id": "42cac8ce",
   "metadata": {},
   "source": [
    "<details><summary>Click here for the solution</summary>\n",
    "\n",
    "```python\n",
    "def div(a, b):\n",
    "    return(a/b)\n",
    "    \n",
    "```\n",
    "\n",
    "</details>\n"
   ]
  },
  {
   "cell_type": "markdown",
   "id": "4b3fa724",
   "metadata": {},
   "source": [
    "<hr>\n"
   ]
  },
  {
   "cell_type": "markdown",
   "id": "afc94d90",
   "metadata": {},
   "source": [
    "Use the function <code>con</code> for the following question.\n"
   ]
  },
  {
   "cell_type": "code",
   "execution_count": null,
   "id": "2c3edb0e",
   "metadata": {},
   "outputs": [],
   "source": [
    "# Use the con function for the following question\n",
    "\n",
    "def con(a, b):\n",
    "    return(a + b)"
   ]
  },
  {
   "cell_type": "markdown",
   "id": "067f633d",
   "metadata": {},
   "source": [
    "Can the <code>con</code> function we defined before be used to add two integers or strings?\n"
   ]
  },
  {
   "cell_type": "code",
   "execution_count": null,
   "id": "36a5bf68",
   "metadata": {},
   "outputs": [],
   "source": [
    "# Write your code below and press Shift+Enter to execute\n",
    "print(con(2, 3))\n",
    "print(con(\"me\", \" student\"))"
   ]
  },
  {
   "cell_type": "markdown",
   "id": "32301728",
   "metadata": {},
   "source": [
    "<details><summary>Click here for the solution</summary>\n",
    "\n",
    "```python\n",
    "Yes, for example: \n",
    "con(2, 2)\n",
    "    \n",
    "```\n",
    "\n",
    "</details>\n"
   ]
  },
  {
   "cell_type": "markdown",
   "id": "57128782",
   "metadata": {},
   "source": [
    "<hr>\n"
   ]
  },
  {
   "cell_type": "markdown",
   "id": "dd8c3b60",
   "metadata": {},
   "source": [
    "Can the <code>con</code> function we defined before be used to concatenate lists or tuples?\n"
   ]
  },
  {
   "cell_type": "code",
   "execution_count": null,
   "id": "7b94b42e",
   "metadata": {},
   "outputs": [],
   "source": [
    "# Write your code below and press Shift+Enter to execute\n",
    "ls1 = [1, 2]\n",
    "ls2 = [3, 4]\n",
    "tpl1 = (5, 6)\n",
    "tpl2 = (7, 8)\n",
    "print(con(ls1, ls2))\n",
    "print(con(tpl1, tpl2))"
   ]
  },
  {
   "cell_type": "markdown",
   "id": "022ae8cb",
   "metadata": {},
   "source": [
    "<details><summary>Click here for the solution</summary>\n",
    "\n",
    "```python\n",
    "Yes, for example: \n",
    "con(['a', 1], ['b', 1])\n",
    "    \n",
    "```\n",
    "\n",
    "</details>\n"
   ]
  },
  {
   "cell_type": "markdown",
   "id": "cbc8f840",
   "metadata": {},
   "source": [
    "Write a function code to find total count of word `little` in the given string: \n",
    "`\"Mary had a little lamb Little lamb, little lamb Mary had a little lamb.Its fleece was white as snow And everywhere that Mary went Mary went, Mary went Everywhere that Mary went The lamb was sure to go\"**`\n"
   ]
  },
  {
   "cell_type": "code",
   "execution_count": null,
   "id": "8e64ac5c",
   "metadata": {},
   "outputs": [],
   "source": [
    "# Write your code below and press Shift+Enter to execute\n",
    "h = \"Mary had a little lamb Little lamb, little lamb Mary had a little lamb.Its fleece was white as snow And everywhere \\\n",
    "that Mary went Mary went, Mary went Everywhere that Mary went The lamb was sure to go\"\n",
    "def findtotal(txt):\n",
    "    lst1 = []\n",
    "    lst1 = txt.lower().split()\n",
    "    total = {}\n",
    "    for i in lst1:\n",
    "        if i == \"little\":\n",
    "            total[i] = lst1.count(i)\n",
    "    return total\n",
    "findtotal(h)"
   ]
  },
  {
   "cell_type": "markdown",
   "id": "b38fa8db",
   "metadata": {},
   "source": [
    "<details><summary>Click here for the solution</summary>\n",
    "\n",
    "```python\n",
    "# Python Program to Count words in a String using Dictionary\n",
    "def freq(string,passedkey):\n",
    "\n",
    "    #step1: A list variable is declared and initialized to an empty list.\n",
    "    words = []\n",
    "\n",
    "    #step2: Break the string into list of words\n",
    "    words = string.split() # or string.lower().split()\n",
    "\n",
    "    #step3: Declare a dictionary\n",
    "    Dict = {}\n",
    "\n",
    "    #step4: Use for loop to iterate words and values to the dictionary\n",
    "    for key in words:\n",
    "        if(key == passedkey):\n",
    "            Dict[key] = words.count(key)   \n",
    "    #step5: Print the dictionary\n",
    "    print(\"Total Count:\",Dict)\n",
    "\n",
    "#step6: Call function and pass string in it\n",
    "freq(\"Mary had a little lamb Little lamb, little lamb Mary had a little lamb.Its fleece was white as snow And everywhere that Mary went Mary went, Mary went \\\n",
    "Everywhere that Mary went The lamb was sure to go\",\"little\")\n",
    "    \n",
    "```\n",
    "\n",
    "</details>\n"
   ]
  },
  {
   "cell_type": "markdown",
   "id": "4f8c3f0e",
   "metadata": {},
   "source": [
    "----\n"
   ]
  },
  {
   "cell_type": "markdown",
   "id": "5b387ff1",
   "metadata": {},
   "source": [
    "## What is an Exception?\n"
   ]
  },
  {
   "cell_type": "markdown",
   "id": "805a46e0",
   "metadata": {},
   "source": [
    "In this section you will learn about what an exception is and see examples of them.\n"
   ]
  },
  {
   "cell_type": "markdown",
   "id": "f40fa859",
   "metadata": {},
   "source": [
    "### Definition\n"
   ]
  },
  {
   "cell_type": "markdown",
   "id": "dc541fcc",
   "metadata": {},
   "source": [
    "An exception is an error that occurs during the execution of code. This error causes the code to raise an exception and if not prepared to handle it will halt the execution of the code.\n"
   ]
  },
  {
   "cell_type": "markdown",
   "id": "4bf2fe93",
   "metadata": {},
   "source": [
    "### Examples\n"
   ]
  },
  {
   "cell_type": "markdown",
   "id": "b83e569e",
   "metadata": {},
   "source": [
    "Run each piece of code and observe the exception raised\n"
   ]
  },
  {
   "cell_type": "code",
   "execution_count": null,
   "id": "531013cb",
   "metadata": {},
   "outputs": [],
   "source": [
    "1/0"
   ]
  },
  {
   "cell_type": "markdown",
   "id": "7f1a9c55",
   "metadata": {},
   "source": [
    "<code>ZeroDivisionError</code> occurs when you try to divide by zero.\n"
   ]
  },
  {
   "cell_type": "code",
   "execution_count": null,
   "id": "17237230",
   "metadata": {},
   "outputs": [],
   "source": [
    "y = a + 5"
   ]
  },
  {
   "cell_type": "markdown",
   "id": "d51e9228",
   "metadata": {},
   "source": [
    "<code>NameError</code> -- in this case, it means that you tried to use the variable a when it was not defined.\n"
   ]
  },
  {
   "cell_type": "code",
   "execution_count": null,
   "id": "bb8a0737",
   "metadata": {},
   "outputs": [],
   "source": [
    "a = [1, 2, 3]\n",
    "a[10]"
   ]
  },
  {
   "cell_type": "markdown",
   "id": "5c699a3c",
   "metadata": {},
   "source": [
    "<code>IndexError</code> -- in this case, it occured because you tried to access data from a list using an index that does not exist for this list.\n"
   ]
  },
  {
   "cell_type": "markdown",
   "id": "db2b2821",
   "metadata": {},
   "source": [
    "There are many more exceptions that are built into Python, here is a list of them https://docs.python.org/3/library/exceptions.html\n"
   ]
  },
  {
   "cell_type": "markdown",
   "id": "92063889",
   "metadata": {},
   "source": [
    "## Exception Handling\n"
   ]
  },
  {
   "cell_type": "markdown",
   "id": "7c0bffb8",
   "metadata": {},
   "source": [
    "In this section you will learn how to handle exceptions. You will understand how to make your program perform specified tasks instead of halting code execution when an exception is encountered.\n"
   ]
  },
  {
   "cell_type": "markdown",
   "id": "f3d09c0a",
   "metadata": {},
   "source": [
    "### Try Except\n"
   ]
  },
  {
   "cell_type": "markdown",
   "id": "186cda41",
   "metadata": {},
   "source": [
    "A <code>try except</code> will allow you to execute code that might raise an exception and in the case of any exception or a specific one we can handle or catch the exception and execute specific code. This will allow us to continue the execution of our program even if there is an exception.\n",
    "\n",
    "Python tries to execute the code in the <code>try</code> block. In this case if there is any exception raised by the code in the <code>try</code> block, it will be caught and the code block in the <code>except</code> block will be executed. After that, the code that comes <em>after</em> the try except will be executed.\n"
   ]
  },
  {
   "cell_type": "code",
   "execution_count": null,
   "id": "6a427045",
   "metadata": {},
   "outputs": [],
   "source": [
    "# potential code before try catch\n",
    "\n",
    "try:\n",
    "    # code to try to execute\n",
    "except:\n",
    "    # code to execute if there is an exception\n",
    "    \n",
    "# code that will still execute if there is an exception"
   ]
  },
  {
   "cell_type": "markdown",
   "id": "4d7d2df8",
   "metadata": {},
   "source": [
    "### Try Except Example\n"
   ]
  },
  {
   "cell_type": "markdown",
   "id": "bea76b55",
   "metadata": {},
   "source": [
    "In this example we are trying to divide a number given by the user, save the outcome in the variable <code>a</code>, and then we would like to print the result of the operation. When taking user input and dividing a number by it there are a couple of exceptions that can be raised. For example if we divide by zero. Try running the following block of code with <code>b</code> as a number. An exception will only be raised if <code>b</code> is zero.\n"
   ]
  },
  {
   "cell_type": "code",
   "execution_count": null,
   "id": "bb374499",
   "metadata": {},
   "outputs": [],
   "source": [
    "a = 1\n",
    "\n",
    "try:\n",
    "    b = int(input(\"Please enter a number to divide a\"))\n",
    "    a = a/b\n",
    "    print(\"Success a=\",a)\n",
    "except:\n",
    "    print(\"There was an error\")\n",
    "        \n"
   ]
  },
  {
   "cell_type": "markdown",
   "id": "a8fbfa03",
   "metadata": {},
   "source": [
    "### Try Except Specific\n"
   ]
  },
  {
   "cell_type": "markdown",
   "id": "a4125116",
   "metadata": {},
   "source": [
    "A specific <code>try except</code> allows you to catch certain exceptions and also execute certain code depending on the exception. This is useful if you do not want to deal with some exceptions and the execution should halt. It can also help you find errors in your code that you might not be aware of. Furthermore, it can help you differentiate responses to different exceptions. In this case, the code after the try except might not run depending on the error.\n"
   ]
  },
  {
   "cell_type": "markdown",
   "id": "7fae8383",
   "metadata": {},
   "source": [
    "<b>Do not run, just to illustrate:</b>\n"
   ]
  },
  {
   "cell_type": "code",
   "execution_count": null,
   "id": "63e7f1c4",
   "metadata": {},
   "outputs": [],
   "source": [
    "# potential code before try catch\n",
    "\n",
    "try:\n",
    "    # code to try to execute\n",
    "except (ZeroDivisionError, NameError):\n",
    "    # code to execute if there is an exception of the given types\n",
    "    \n",
    "# code that will execute if there is no exception or a one that we are handling"
   ]
  },
  {
   "cell_type": "code",
   "execution_count": null,
   "id": "dc350e6f",
   "metadata": {},
   "outputs": [],
   "source": [
    "# potential code before try catch\n",
    "\n",
    "try:\n",
    "    # code to try to execute\n",
    "except ZeroDivisionError:\n",
    "    # code to execute if there is a ZeroDivisionError\n",
    "except NameError:\n",
    "    # code to execute if there is a NameError\n",
    "    \n",
    "# code that will execute if there is no exception or a one that we are handling"
   ]
  },
  {
   "cell_type": "markdown",
   "id": "5649080f",
   "metadata": {},
   "source": [
    "You can also have an empty <code>except</code> at the end to catch an unexpected exception:\n"
   ]
  },
  {
   "cell_type": "markdown",
   "id": "ef1518e4",
   "metadata": {},
   "source": [
    "<b>Do not run, just to illustrate:</b>\n"
   ]
  },
  {
   "cell_type": "code",
   "execution_count": null,
   "id": "8e9a513c",
   "metadata": {},
   "outputs": [],
   "source": [
    "# potential code before try catch\n",
    "\n",
    "try:\n",
    "    # code to try to execute\n",
    "except ZeroDivisionError:\n",
    "    # code to execute if there is a ZeroDivisionError\n",
    "except NameError:\n",
    "    # code to execute if there is a NameError\n",
    "except:\n",
    "    # code to execute if ther is any exception\n",
    "    \n",
    "# code that will execute if there is no exception or a one that we are handling"
   ]
  },
  {
   "cell_type": "markdown",
   "id": "36383b37",
   "metadata": {},
   "source": [
    "### Try Except Specific Example\n"
   ]
  },
  {
   "cell_type": "markdown",
   "id": "d0c72905",
   "metadata": {},
   "source": [
    "This is the same example as above, but now we will add differentiated messages depending on the exception, letting the user know what is wrong with the input.\n"
   ]
  },
  {
   "cell_type": "code",
   "execution_count": null,
   "id": "41d90305",
   "metadata": {},
   "outputs": [],
   "source": [
    "a = 1\n",
    "\n",
    "try:\n",
    "    b = int(input(\"Please enter a number to divide a\"))\n",
    "    a = a/b\n",
    "    print(\"Success a=\",a)\n",
    "except ZeroDivisionError:\n",
    "    print(\"The number you provided cant divide 1 because it is 0\")\n",
    "except ValueError:\n",
    "    print(\"You did not provide a number\")\n",
    "except:\n",
    "    print(\"Something went wrong\")\n",
    "        \n"
   ]
  },
  {
   "cell_type": "markdown",
   "id": "2741d0d4",
   "metadata": {},
   "source": [
    "### Try Except Else and Finally\n"
   ]
  },
  {
   "cell_type": "markdown",
   "id": "92efd5a5",
   "metadata": {},
   "source": [
    "<code>else</code> allows one to check if there was no exception when executing the try block. This is useful when we want to execute something only if there were no errors.\n"
   ]
  },
  {
   "cell_type": "markdown",
   "id": "b5459e11",
   "metadata": {},
   "source": [
    "<b>do not run, just to illustrate</b>\n"
   ]
  },
  {
   "cell_type": "code",
   "execution_count": null,
   "id": "2dd90d87",
   "metadata": {},
   "outputs": [],
   "source": [
    "# potential code before try catch\n",
    "\n",
    "try:\n",
    "    # code to try to execute\n",
    "except ZeroDivisionError:\n",
    "    # code to execute if there is a ZeroDivisionError\n",
    "except NameError:\n",
    "    # code to execute if there is a NameError\n",
    "except:\n",
    "    # code to execute if ther is any exception\n",
    "else:\n",
    "    # code to execute if there is no exception\n",
    "    \n",
    "# code that will execute if there is no exception or a one that we are handling"
   ]
  },
  {
   "cell_type": "markdown",
   "id": "a1adf480",
   "metadata": {},
   "source": [
    "<code>finally</code> allows us to always execute something even if there is an exception or not. This is usually used to signify the end of the try except.\n"
   ]
  },
  {
   "cell_type": "code",
   "execution_count": null,
   "id": "d2d8892f",
   "metadata": {},
   "outputs": [],
   "source": [
    "# potential code before try catch\n",
    "\n",
    "try:\n",
    "    # code to try to execute\n",
    "except ZeroDivisionError:\n",
    "    # code to execute if there is a ZeroDivisionError\n",
    "except NameError:\n",
    "    # code to execute if there is a NameError\n",
    "except:\n",
    "    # code to execute if ther is any exception\n",
    "else:\n",
    "    # code to execute if there is no exception\n",
    "finally:\n",
    "    # code to execute at the end of the try except no matter what\n",
    "    \n",
    "# code that will execute if there is no exception or a one that we are handling"
   ]
  },
  {
   "cell_type": "markdown",
   "id": "7a5595b3",
   "metadata": {},
   "source": [
    "### Try Except Else and Finally Example\n"
   ]
  },
  {
   "cell_type": "markdown",
   "id": "296c52e4",
   "metadata": {},
   "source": [
    "You might have noticed that even if there is an error the value of <code>a</code> is always printed. Let's use the <code>else</code> and print the value of <code>a</code> only if there is no error.\n"
   ]
  },
  {
   "cell_type": "code",
   "execution_count": null,
   "id": "ad2f298c",
   "metadata": {},
   "outputs": [],
   "source": [
    "a = 1\n",
    "\n",
    "try:\n",
    "    b = int(input(\"Please enter a number to divide a\"))\n",
    "    a = a/b\n",
    "except ZeroDivisionError:\n",
    "    print(\"The number you provided cant divide 1 because it is 0\")\n",
    "except ValueError:\n",
    "    print(\"You did not provide a number\")\n",
    "except:\n",
    "    print(\"Something went wrong\")\n",
    "else:\n",
    "    print(\"success a=\",a)"
   ]
  },
  {
   "cell_type": "markdown",
   "id": "6d095b06",
   "metadata": {},
   "source": [
    "Now lets let the user know that we are done processing their answer. Using the <code>finally</code>, let's add a print.\n"
   ]
  },
  {
   "cell_type": "code",
   "execution_count": null,
   "id": "57ec2cf5",
   "metadata": {
    "scrolled": true
   },
   "outputs": [],
   "source": [
    "a = 1\n",
    "\n",
    "try:\n",
    "    b = int(input(\"Please enter a number to divide a\"))\n",
    "    a = a/b\n",
    "except ZeroDivisionError:\n",
    "    print(\"The number you provided cant divide 1 because it is 0\")\n",
    "except ValueError:\n",
    "    print(\"You did not provide a number\")\n",
    "except:\n",
    "    print(\"Something went wrong\")\n",
    "else:\n",
    "    print(\"success a=\",a)\n",
    "finally:\n",
    "    print(\"Processing Complete\")"
   ]
  },
  {
   "cell_type": "markdown",
   "id": "59c35fbc",
   "metadata": {},
   "source": [
    "----\n"
   ]
  },
  {
   "cell_type": "markdown",
   "id": "6324a8ee",
   "metadata": {},
   "source": [
    "<h2 id=\"intro\">Introduction to Classes and Objects</h2>\n"
   ]
  },
  {
   "cell_type": "markdown",
   "id": "bbe64e93",
   "metadata": {},
   "source": [
    "<h3>Creating a Class</h3>\n"
   ]
  },
  {
   "cell_type": "markdown",
   "id": "3cb2f114",
   "metadata": {},
   "source": [
    "The first step in creating a class is giving it a name. In this notebook, we will create two classes: Circle and Rectangle. We need to determine all the data that make up that class, which we call <em>attributes</em>. Think about this step as creating a blue print that we will use to create objects. In figure 1 we see two classes, Circle and Rectangle. Each has their attributes, which are variables. The class Circle has the attribute radius and color, while the Rectangle class has the attribute height and width. Let’s use the visual examples of these shapes before we get to the code, as this will help you get accustomed to the vocabulary.\n"
   ]
  },
  {
   "cell_type": "markdown",
   "id": "19de3b7a",
   "metadata": {},
   "source": [
    "<img src=\"https://cf-courses-data.s3.us.cloud-object-storage.appdomain.cloud/IBMDeveloperSkillsNetwork-PY0101EN-SkillsNetwork/labs/Module%203/images/ClassesClass.png\" width=\"500\">\n"
   ]
  },
  {
   "cell_type": "markdown",
   "id": "2bcab461",
   "metadata": {},
   "source": [
    "<i>Figure 1: Classes circle and rectangle, and each has their own attributes. The class Circle has the attribute radius and colour, the class Rectangle has the attributes height and width.</i>\n"
   ]
  },
  {
   "cell_type": "markdown",
   "id": "f4aae32c",
   "metadata": {},
   "source": [
    "<h3 id=\"instance\">Instances of a Class: Objects and Attributes</h3>\n"
   ]
  },
  {
   "cell_type": "markdown",
   "id": "c7995926",
   "metadata": {},
   "source": [
    "An instance of an object is the realisation of a class, and in Figure 2 we see three instances of the class circle. We give each object a name: red circle, yellow circle, and green circle. Each object has different attributes, so let's focus on the color attribute for each object.\n"
   ]
  },
  {
   "cell_type": "markdown",
   "id": "68d3100e",
   "metadata": {},
   "source": [
    "<img src=\"https://cf-courses-data.s3.us.cloud-object-storage.appdomain.cloud/IBMDeveloperSkillsNetwork-PY0101EN-SkillsNetwork/labs/Module%203/images/ClassesObj.png\" width=\"500\">\n"
   ]
  },
  {
   "cell_type": "markdown",
   "id": "422998e8",
   "metadata": {},
   "source": [
    "<i>Figure 2: Three instances of the class Circle, or three objects of type Circle.</i>\n"
   ]
  },
  {
   "cell_type": "markdown",
   "id": "299c3f8f",
   "metadata": {},
   "source": [
    " The colour attribute for the red Circle is the colour red, for the green Circle object the colour attribute is green, and for the yellow Circle the colour attribute is yellow.   \n"
   ]
  },
  {
   "cell_type": "markdown",
   "id": "6c97c02d",
   "metadata": {},
   "source": [
    "<h3 id=\"method\">Methods</h3>\n"
   ]
  },
  {
   "cell_type": "markdown",
   "id": "488ced9e",
   "metadata": {},
   "source": [
    "Methods give you a way to change or interact with the object; they are functions that interact with objects. For example, let’s say we would like to increase the radius of a circle by a specified amount. We can create a method called **add_radius(r)** that increases the radius by **r**. This is shown in figure 3, where after applying the method to the \"orange circle object\", the radius of the object increases accordingly. The “dot” notation means to apply the method to the object, which is essentially applying a function to the information in the object.\n"
   ]
  },
  {
   "cell_type": "markdown",
   "id": "35b941bb",
   "metadata": {},
   "source": [
    "<img src=\"https://cf-courses-data.s3.us.cloud-object-storage.appdomain.cloud/IBMDeveloperSkillsNetwork-PY0101EN-SkillsNetwork/labs/Module%203/images/ClassesMethod.png\" width=\"500\"> \n"
   ]
  },
  {
   "cell_type": "markdown",
   "id": "31b356c9",
   "metadata": {},
   "source": [
    "<i>Figure 3: Applying the method “add_radius” to the object orange circle object.</i>\n"
   ]
  },
  {
   "cell_type": "markdown",
   "id": "aaa4695b",
   "metadata": {},
   "source": [
    "<hr>\n"
   ]
  },
  {
   "cell_type": "markdown",
   "id": "8a6bbcb7",
   "metadata": {},
   "source": [
    "<h2 id=\"creating\">Creating a Class</h2>\n"
   ]
  },
  {
   "cell_type": "markdown",
   "id": "e32ef936",
   "metadata": {},
   "source": [
    "Now we are going to create a class Circle, but first, we are going to import a library to draw the objects: \n"
   ]
  },
  {
   "cell_type": "code",
   "execution_count": 1,
   "id": "b83185a6",
   "metadata": {
    "jupyter": {
     "outputs_hidden": true
    }
   },
   "outputs": [],
   "source": [
    "# Import the library\n",
    "\n",
    "import matplotlib.pyplot as plt\n",
    "%matplotlib inline  "
   ]
  },
  {
   "cell_type": "markdown",
   "id": "ddadf2c8",
   "metadata": {},
   "source": [
    " The first step in creating your own class is to use the <code>class</code> keyword, then the name of the class as shown in Figure 4. In this course the class parent will always be object: \n"
   ]
  },
  {
   "cell_type": "markdown",
   "id": "ca58c78d",
   "metadata": {},
   "source": [
    "<img src=\"https://cf-courses-data.s3.us.cloud-object-storage.appdomain.cloud/IBMDeveloperSkillsNetwork-PY0101EN-SkillsNetwork/labs/Module%203/images/ClassesDefine.png\" width=\"400\">\n"
   ]
  },
  {
   "cell_type": "markdown",
   "id": "ea573e82",
   "metadata": {},
   "source": [
    "<i>Figure 4: Creating a class Circle.</i>\n"
   ]
  },
  {
   "cell_type": "markdown",
   "id": "2103f4bf",
   "metadata": {},
   "source": [
    "The next step is a special method called a constructor <code>&#95;&#95;init&#95;&#95;</code>, which is used to initialize the object. The inputs are data attributes. The term <code>self</code> contains all the attributes in the set. For example the <code>self.color</code> gives the value of the attribute color and <code>self.radius</code> will give you the radius of the object. We also have the method <code>add_radius()</code> with the parameter <code>r</code>, the method adds the value of <code>r</code> to the attribute radius. To access the radius we use the syntax <code>self.radius</code>. The labeled syntax is summarized in Figure 5:\n"
   ]
  },
  {
   "cell_type": "markdown",
   "id": "2b2f925b",
   "metadata": {},
   "source": [
    "<img src=\"https://cf-courses-data.s3.us.cloud-object-storage.appdomain.cloud/IBMDeveloperSkillsNetwork-PY0101EN-SkillsNetwork/labs/Module%203/images/ClassesCircle.png\" width=\"600\">\n"
   ]
  },
  {
   "cell_type": "markdown",
   "id": "2fddc40d",
   "metadata": {},
   "source": [
    "<i>Figure 5: Labeled syntax of the object circle.</i>\n"
   ]
  },
  {
   "cell_type": "markdown",
   "id": "a6677473",
   "metadata": {},
   "source": [
    "The actual object is shown below. We include the method <code>drawCircle</code> to display the image of a circle. We set the default radius to 3 and the default colour to blue:\n"
   ]
  },
  {
   "cell_type": "code",
   "execution_count": 2,
   "id": "1c49ddb9",
   "metadata": {},
   "outputs": [],
   "source": [
    "# Create a class Circle\n",
    "\n",
    "class Circle(object):\n",
    "    \n",
    "    # Constructor\n",
    "    def __init__(self, radius=3, color='blue'):\n",
    "        self.radius = radius\n",
    "        self.color = color \n",
    "    \n",
    "    # Method\n",
    "    def add_radius(self, r):\n",
    "        self.radius = self.radius + r\n",
    "        return(self.radius)\n",
    "    \n",
    "    # Method\n",
    "    def drawCircle(self):\n",
    "        plt.gca().add_patch(plt.Circle((0, 0), radius=self.radius, fc=self.color))\n",
    "        plt.axis('scaled')\n",
    "        plt.show()  "
   ]
  },
  {
   "cell_type": "markdown",
   "id": "20369b27",
   "metadata": {},
   "source": [
    "<hr>\n"
   ]
  },
  {
   "cell_type": "markdown",
   "id": "b24f0bf8",
   "metadata": {},
   "source": [
    "<h2 id=\"circle\">Creating an instance of a class Circle</h2>\n"
   ]
  },
  {
   "cell_type": "markdown",
   "id": "8d7d92a9",
   "metadata": {},
   "source": [
    "Let’s create the object <code>RedCircle</code> of type Circle to do the following:\n"
   ]
  },
  {
   "cell_type": "code",
   "execution_count": 3,
   "id": "574a33ac",
   "metadata": {},
   "outputs": [],
   "source": [
    "# Create an object RedCircle\n",
    "\n",
    "RedCircle = Circle(10, 'red')"
   ]
  },
  {
   "cell_type": "markdown",
   "id": "9bbc643e",
   "metadata": {},
   "source": [
    "We can use the <code>dir</code> command to get a list of the object's methods. Many of them are default Python methods.\n"
   ]
  },
  {
   "cell_type": "code",
   "execution_count": 4,
   "id": "19cf3715",
   "metadata": {},
   "outputs": [
    {
     "data": {
      "text/plain": [
       "['__class__',\n",
       " '__delattr__',\n",
       " '__dict__',\n",
       " '__dir__',\n",
       " '__doc__',\n",
       " '__eq__',\n",
       " '__format__',\n",
       " '__ge__',\n",
       " '__getattribute__',\n",
       " '__gt__',\n",
       " '__hash__',\n",
       " '__init__',\n",
       " '__init_subclass__',\n",
       " '__le__',\n",
       " '__lt__',\n",
       " '__module__',\n",
       " '__ne__',\n",
       " '__new__',\n",
       " '__reduce__',\n",
       " '__reduce_ex__',\n",
       " '__repr__',\n",
       " '__setattr__',\n",
       " '__sizeof__',\n",
       " '__str__',\n",
       " '__subclasshook__',\n",
       " '__weakref__',\n",
       " 'add_radius',\n",
       " 'color',\n",
       " 'drawCircle',\n",
       " 'radius']"
      ]
     },
     "execution_count": 4,
     "metadata": {},
     "output_type": "execute_result"
    }
   ],
   "source": [
    "# Find out the methods can be used on the object RedCircle\n",
    "\n",
    "dir(RedCircle)"
   ]
  },
  {
   "cell_type": "markdown",
   "id": "6898a617",
   "metadata": {},
   "source": [
    "We can look at the data attributes of the object: \n"
   ]
  },
  {
   "cell_type": "code",
   "execution_count": 5,
   "id": "756e1067",
   "metadata": {},
   "outputs": [
    {
     "data": {
      "text/plain": [
       "10"
      ]
     },
     "execution_count": 5,
     "metadata": {},
     "output_type": "execute_result"
    }
   ],
   "source": [
    "# Print the object attribute radius\n",
    "\n",
    "RedCircle.radius"
   ]
  },
  {
   "cell_type": "code",
   "execution_count": 6,
   "id": "dc74ed65",
   "metadata": {},
   "outputs": [
    {
     "data": {
      "text/plain": [
       "'red'"
      ]
     },
     "execution_count": 6,
     "metadata": {},
     "output_type": "execute_result"
    }
   ],
   "source": [
    "# Print the object attribute color\n",
    "\n",
    "RedCircle.color"
   ]
  },
  {
   "cell_type": "markdown",
   "id": "2d894b30",
   "metadata": {},
   "source": [
    " We can change the object's data attributes: \n"
   ]
  },
  {
   "cell_type": "code",
   "execution_count": 7,
   "id": "f7233afa",
   "metadata": {},
   "outputs": [
    {
     "data": {
      "text/plain": [
       "1"
      ]
     },
     "execution_count": 7,
     "metadata": {},
     "output_type": "execute_result"
    }
   ],
   "source": [
    "# Set the object attribute radius\n",
    "\n",
    "RedCircle.radius = 1\n",
    "RedCircle.radius"
   ]
  },
  {
   "cell_type": "markdown",
   "id": "82126359",
   "metadata": {},
   "source": [
    " We can draw the object by using the method <code>drawCircle()</code>:\n"
   ]
  },
  {
   "cell_type": "code",
   "execution_count": 8,
   "id": "e7badc34",
   "metadata": {},
   "outputs": [
    {
     "data": {
      "image/png": "[encoded data removed]",
      "text/plain": [
       "<Figure size 640x480 with 1 Axes>"
      ]
     },
     "metadata": {},
     "output_type": "display_data"
    }
   ],
   "source": [
    "# Call the method drawCircle\n",
    "\n",
    "RedCircle.drawCircle()"
   ]
  },
  {
   "cell_type": "markdown",
   "id": "6e6995e4",
   "metadata": {},
   "source": [
    "We can increase the radius of the circle by applying the method <code>add_radius()</code>. Let's increases the radius by 2 and then by 5:  \n"
   ]
  },
  {
   "cell_type": "code",
   "execution_count": 9,
   "id": "92f06637",
   "metadata": {},
   "outputs": [
    {
     "name": "stdout",
     "output_type": "stream",
     "text": [
      "Radius of object: 1\n",
      "Radius of object of after applying the method add_radius(2): 3\n",
      "Radius of object of after applying the method add_radius(5): 8\n"
     ]
    }
   ],
   "source": [
    "# Use method to change the object attribute radius\n",
    "\n",
    "print('Radius of object:',RedCircle.radius)\n",
    "RedCircle.add_radius(2)\n",
    "print('Radius of object of after applying the method add_radius(2):',RedCircle.radius)\n",
    "RedCircle.add_radius(5)\n",
    "print('Radius of object of after applying the method add_radius(5):',RedCircle.radius)"
   ]
  },
  {
   "cell_type": "markdown",
   "id": "21ae9fa6",
   "metadata": {},
   "source": [
    " Let’s create a blue circle. As the default colour is blue, all we have to do is specify what the radius is:\n"
   ]
  },
  {
   "cell_type": "code",
   "execution_count": 10,
   "id": "61269dd5",
   "metadata": {},
   "outputs": [],
   "source": [
    "# Create a blue circle with a given radius\n",
    "\n",
    "BlueCircle = Circle(radius=100)"
   ]
  },
  {
   "cell_type": "markdown",
   "id": "65e56af3",
   "metadata": {},
   "source": [
    " As before, we can access the attributes of the instance of the class by using the dot notation:\n"
   ]
  },
  {
   "cell_type": "code",
   "execution_count": 11,
   "id": "108c3d64",
   "metadata": {},
   "outputs": [
    {
     "data": {
      "text/plain": [
       "100"
      ]
     },
     "execution_count": 11,
     "metadata": {},
     "output_type": "execute_result"
    }
   ],
   "source": [
    "# Print the object attribute radius\n",
    "\n",
    "BlueCircle.radius"
   ]
  },
  {
   "cell_type": "code",
   "execution_count": 12,
   "id": "5dd401aa",
   "metadata": {},
   "outputs": [
    {
     "data": {
      "text/plain": [
       "'blue'"
      ]
     },
     "execution_count": 12,
     "metadata": {},
     "output_type": "execute_result"
    }
   ],
   "source": [
    "# Print the object attribute color\n",
    "\n",
    "BlueCircle.color"
   ]
  },
  {
   "cell_type": "markdown",
   "id": "4b348294",
   "metadata": {},
   "source": [
    " We can draw the object by using the method <code>drawCircle()</code>:\n"
   ]
  },
  {
   "cell_type": "code",
   "execution_count": 13,
   "id": "827fed93",
   "metadata": {},
   "outputs": [
    {
     "data": {
      "image/png": "[encoded data removed]",
      "text/plain": [
       "<Figure size 640x480 with 1 Axes>"
      ]
     },
     "metadata": {},
     "output_type": "display_data"
    }
   ],
   "source": [
    "# Call the method drawCircle\n",
    "\n",
    "BlueCircle.drawCircle()"
   ]
  },
  {
   "cell_type": "markdown",
   "id": "c352eb64",
   "metadata": {},
   "source": [
    "Compare the x and y axis of the figure to the figure for <code>RedCircle</code>; they are different.\n"
   ]
  },
  {
   "cell_type": "markdown",
   "id": "0eef96ea",
   "metadata": {},
   "source": [
    "<hr>\n"
   ]
  },
  {
   "cell_type": "markdown",
   "id": "f8986cf3",
   "metadata": {},
   "source": [
    "<h2 id=\"rect\">The Rectangle Class</h2>\n"
   ]
  },
  {
   "cell_type": "markdown",
   "id": "c6c7fab3",
   "metadata": {},
   "source": [
    "Let's create a class rectangle with the attributes of height, width, and color. We will only add the method to draw the rectangle object:\n"
   ]
  },
  {
   "cell_type": "code",
   "execution_count": 14,
   "id": "8e077ac6",
   "metadata": {
    "jupyter": {
     "outputs_hidden": true
    }
   },
   "outputs": [],
   "source": [
    "# Create a new Rectangle class for creating a rectangle object\n",
    "\n",
    "class Rectangle(object):\n",
    "    \n",
    "    # Constructor\n",
    "    def __init__(self, width=2, height=3, color='r'):\n",
    "        self.height = height \n",
    "        self.width = width\n",
    "        self.color = color\n",
    "    \n",
    "    # Method\n",
    "    def drawRectangle(self):\n",
    "        plt.gca().add_patch(plt.Rectangle((0, 0), self.width, self.height ,fc=self.color))\n",
    "        plt.axis('scaled')\n",
    "        plt.show()\n",
    "        "
   ]
  },
  {
   "cell_type": "markdown",
   "id": "8eec10d9",
   "metadata": {},
   "source": [
    "Let’s create the object <code>SkinnyBlueRectangle</code> of type Rectangle. Its width will be 2 and height will be 3, and the color will be blue:\n"
   ]
  },
  {
   "cell_type": "code",
   "execution_count": 15,
   "id": "f0d1ef46",
   "metadata": {},
   "outputs": [],
   "source": [
    "# Create a new object rectangle\n",
    "\n",
    "SkinnyBlueRectangle = Rectangle(2, 3, 'blue')"
   ]
  },
  {
   "cell_type": "markdown",
   "id": "b7963a87",
   "metadata": {},
   "source": [
    " As before we can access the attributes of the instance of the class by using the dot notation:\n"
   ]
  },
  {
   "cell_type": "code",
   "execution_count": 16,
   "id": "7be257fc",
   "metadata": {},
   "outputs": [
    {
     "data": {
      "text/plain": [
       "3"
      ]
     },
     "execution_count": 16,
     "metadata": {},
     "output_type": "execute_result"
    }
   ],
   "source": [
    "# Print the object attribute height\n",
    "\n",
    "SkinnyBlueRectangle.height "
   ]
  },
  {
   "cell_type": "code",
   "execution_count": 17,
   "id": "fa229cc9",
   "metadata": {},
   "outputs": [
    {
     "data": {
      "text/plain": [
       "2"
      ]
     },
     "execution_count": 17,
     "metadata": {},
     "output_type": "execute_result"
    }
   ],
   "source": [
    "# Print the object attribute width\n",
    "\n",
    "SkinnyBlueRectangle.width"
   ]
  },
  {
   "cell_type": "code",
   "execution_count": 18,
   "id": "80a02b48",
   "metadata": {},
   "outputs": [
    {
     "data": {
      "text/plain": [
       "'blue'"
      ]
     },
     "execution_count": 18,
     "metadata": {},
     "output_type": "execute_result"
    }
   ],
   "source": [
    "# Print the object attribute color\n",
    "\n",
    "SkinnyBlueRectangle.color"
   ]
  },
  {
   "cell_type": "markdown",
   "id": "03ba3fb9",
   "metadata": {},
   "source": [
    " We can draw the object:\n"
   ]
  },
  {
   "cell_type": "code",
   "execution_count": 19,
   "id": "51b80ef6",
   "metadata": {
    "scrolled": true
   },
   "outputs": [
    {
     "data": {
      "image/png": "[encoded data removed]",
      "text/plain": [
       "<Figure size 640x480 with 1 Axes>"
      ]
     },
     "metadata": {},
     "output_type": "display_data"
    }
   ],
   "source": [
    "# Use the drawRectangle method to draw the shape\n",
    "\n",
    "SkinnyBlueRectangle.drawRectangle()"
   ]
  },
  {
   "cell_type": "markdown",
   "id": "95550a6a",
   "metadata": {},
   "source": [
    "Let’s create the object <code>FatYellowRectangle</code> of type Rectangle:\n"
   ]
  },
  {
   "cell_type": "code",
   "execution_count": 20,
   "id": "06d23303",
   "metadata": {
    "jupyter": {
     "outputs_hidden": true
    }
   },
   "outputs": [],
   "source": [
    "# Create a new object rectangle\n",
    "\n",
    "FatYellowRectangle = Rectangle(20, 5, 'yellow')"
   ]
  },
  {
   "cell_type": "markdown",
   "id": "caff70ea",
   "metadata": {},
   "source": [
    " We can access the attributes of the instance of the class by using the dot notation:\n"
   ]
  },
  {
   "cell_type": "code",
   "execution_count": 21,
   "id": "0d3d4537",
   "metadata": {},
   "outputs": [
    {
     "data": {
      "text/plain": [
       "5"
      ]
     },
     "execution_count": 21,
     "metadata": {},
     "output_type": "execute_result"
    }
   ],
   "source": [
    "# Print the object attribute height\n",
    "\n",
    "FatYellowRectangle.height "
   ]
  },
  {
   "cell_type": "code",
   "execution_count": 22,
   "id": "0512eba0",
   "metadata": {},
   "outputs": [
    {
     "data": {
      "text/plain": [
       "20"
      ]
     },
     "execution_count": 22,
     "metadata": {},
     "output_type": "execute_result"
    }
   ],
   "source": [
    "# Print the object attribute width\n",
    "\n",
    "FatYellowRectangle.width"
   ]
  },
  {
   "cell_type": "code",
   "execution_count": 23,
   "id": "02e4adbf",
   "metadata": {},
   "outputs": [
    {
     "data": {
      "text/plain": [
       "'yellow'"
      ]
     },
     "execution_count": 23,
     "metadata": {},
     "output_type": "execute_result"
    }
   ],
   "source": [
    "# Print the object attribute color\n",
    "\n",
    "FatYellowRectangle.color"
   ]
  },
  {
   "cell_type": "markdown",
   "id": "500836cb",
   "metadata": {},
   "source": [
    " We can draw the object:\n"
   ]
  },
  {
   "cell_type": "code",
   "execution_count": 24,
   "id": "b96539c4",
   "metadata": {},
   "outputs": [
    {
     "data": {
      "image/png": "[encoded data removed]",
      "text/plain": [
       "<Figure size 640x480 with 1 Axes>"
      ]
     },
     "metadata": {},
     "output_type": "display_data"
    }
   ],
   "source": [
    "# Use the drawRectangle method to draw the shape\n",
    "\n",
    "FatYellowRectangle.drawRectangle()"
   ]
  },
  {
   "cell_type": "markdown",
   "id": "83255aa8",
   "metadata": {},
   "source": [
    "<hr>\n"
   ]
  },
  {
   "cell_type": "markdown",
   "id": "04d1c4de",
   "metadata": {},
   "source": [
    "<h2 id=\"rect\">Exercises</h2>\n"
   ]
  },
  {
   "cell_type": "markdown",
   "id": "e184d2b8",
   "metadata": {},
   "source": [
    "<h4> Text Analysis </h4>\n"
   ]
  },
  {
   "cell_type": "markdown",
   "id": "71e69eea",
   "metadata": {},
   "source": [
    "You have been recruited by your friend, a linguistics enthusiast, to create a utility tool that can perform analysis on a given piece of text. Complete the class\n",
    "'analysedText' with the following methods -\n",
    "\n",
    "<ul>\n",
    "    <li> Constructor (__init__) - This method should take the argument <code>text</code>, make it lower case, and remove all punctuation.  Assume only the following punctuation is used: period (.), exclamation mark (!), comma (,) and question mark (?). Assign this newly formatted text to a new attribute called <code>fmtText</code>.\n",
    "    <li> freqAll - This method should create and <strong>return</strong> dictionary of all unique words in the text, along with the number of times they occur in the text. Each key in the dictionary should be the unique word appearing in the text and the associated value should be the number of times it occurs in the text. Create this dictionary from the <code>fmtText</code> attribute.\n",
    "    <li> freqOf - This method should take a word as an argument and <strong>return</strong> the number of occurrences of that word in <code>fmtText</code>.\n",
    "</ul>\n",
    " The skeleton code has been given to you. Docstrings can be ignored for the purpose of the exercise. <br>\n",
    " <i> Hint: Some useful functions are <code>replace()</code>, <code>lower()</code>, <code>split()</code>, <code>count()</code> </i><br>\n"
   ]
  },
  {
   "cell_type": "markdown",
   "id": "7bfd42b5",
   "metadata": {},
   "source": [
    "<details><summary>Hint for implementing Constructor</summary>\n",
    "\n",
    "The <code>lower()</code> function converts all characters in the string to lowercase. \n",
    "\n",
    "The <code>replace()</code> function takes two arguments: the text to search for and the text to replace it with. Try calling this function for each punctuation you want to remove and replace it with a blank character, <code>''</code>\n",
    "\n",
    "You can define a class attribute and assign it a value with the following generic recipe: <code>self.attribute_name = value</code>\n",
    "</details>\n"
   ]
  },
  {
   "cell_type": "markdown",
   "id": "421709df",
   "metadata": {},
   "source": [
    "<details><summary>Hint for implementing freqAll</summary>\n",
    "\n",
    "You can create a list of all words in <code>fmtText</code> using the <code>split()</code> and by using the whitespace character, <code>' '</code> as the delimiter.\n",
    "\n",
    "Using <code>set()</code> with a list as the argument will return a set with all the unique elements in the list. Try iterating over the elements in this set to create the keys for a dictionary. The <code>count()</code> function will return the number of occurrences of the argument in list. For example, <code>[\"hi\", \"hi\", \"hello\"].count(\"hi\")</code> will return 2. This can be used to set the values for each key-value pair in the dictionary.\n",
    "</details>\n"
   ]
  },
  {
   "cell_type": "markdown",
   "id": "07b0de67",
   "metadata": {},
   "source": [
    "<details><summary>Hint for implementing freqOf</summary>\n",
    "\n",
    "Try calling the <code>freqAll</code> method you implemented above and assign it to a variable. You will now have a dictionary with the unique words that appear in fmtText as the keys, and the number of times they appear as the value. \n",
    "\n",
    "You can use this dictionary to return the number of occurrences of the word that was given as an argument to the <code>freqOf</code> method. \n",
    "\n",
    "If the word given as an argument does not appear in the text, return 0. You can check if a string is a key in the dictionary using the following code recipe: <code>if item in my_dictionary:</code>\n",
    "</details>\n"
   ]
  },
  {
   "cell_type": "code",
   "execution_count": null,
   "id": "2cf9d5f1",
   "metadata": {},
   "outputs": [],
   "source": [
    "class analysedText(object):\n",
    "    \n",
    "    def __init__ (self, text):\n",
    "\n",
    "        # TODO: Remove the punctuation from <text> and make it lower case.\n",
    "        \n",
    "        formattedtext = text.replace(\".\", \"\").replace(\"!\", \"\").replace(\",\", \"\").replace(\"?\", \"\")\n",
    "        \n",
    "        formattedtext = formattedtext.lower()\n",
    "        \n",
    "        # TODO: Assign the formatted text to a new attribute called \"fmtText\"\n",
    "        \n",
    "        self.fmtText = formattedtext\n",
    "    \n",
    "    def freqAll(self):    \n",
    "\n",
    "        # TODO: Split the text into a list of words\n",
    "        \n",
    "        wordd = []\n",
    "        wordd = self.fmtText.split()\n",
    "\n",
    "        # TODO: Create a dictionary with the unique words in the text as keys\n",
    "        \n",
    "        ddct = {}\n",
    "        \n",
    "        # and the number of times they occur in the text as values\n",
    "      \n",
    "        for keys in wordd:\n",
    "            ddct[keys] = wordd.count(keys)\n",
    "        \n",
    "        # return the created dictionary\n",
    "        \n",
    "        return ddct\n",
    "        \n",
    "    def freqOf(self, word):\n",
    "\n",
    "        # TODO: return the number of occurrences of <word> in <fmtText>\n",
    "        freqddct = self.freqAll()\n",
    "        \n",
    "        return freqddct[word]"
   ]
  },
  {
   "cell_type": "markdown",
   "id": "8dcdfb2f",
   "metadata": {},
   "source": [
    "You can run the code cell below to test your functions to ensure they are working correctly. First execute the code cell in which you implemented your solution, then execute the code cell to test your implementation.\n"
   ]
  },
  {
   "cell_type": "code",
   "execution_count": null,
   "id": "b62444de",
   "metadata": {},
   "outputs": [],
   "source": [
    "import sys\n",
    "\n",
    "sampleMap = {'eirmod': 1,'sed': 1, 'amet': 2, 'diam': 5, 'consetetur': 1, 'labore': 1, 'tempor': 1, 'dolor': 1, 'magna': 2, 'et': 3, 'nonumy': 1, 'ipsum': 1, 'lorem': 2}\n",
    "\n",
    "def testMsg(passed):\n",
    "    if passed:\n",
    "       return 'Test Passed'\n",
    "    else :\n",
    "       return 'Test Failed'\n",
    "\n",
    "print(\"Constructor: \")\n",
    "try:\n",
    "    samplePassage = analysedText(\"Lorem ipsum dolor! diam amet, consetetur Lorem magna. sed diam nonumy eirmod tempor. diam et labore? et diam magna. et diam amet.\")\n",
    "    print(testMsg(samplePassage.fmtText == \"lorem ipsum dolor diam amet consetetur lorem magna sed diam nonumy eirmod tempor diam et labore et diam magna et diam amet\"))\n",
    "except:\n",
    "    print(\"Error detected. Recheck your function \" )\n",
    "print(\"freqAll: \")\n",
    "try:\n",
    "    wordMap = samplePassage.freqAll()\n",
    "    print(testMsg(wordMap==sampleMap))\n",
    "except:\n",
    "    print(\"Error detected. Recheck your function \" )\n",
    "print(\"freqOf: \")\n",
    "try:\n",
    "    passed = True\n",
    "    for word in sampleMap:\n",
    "        if samplePassage.freqOf(word) != sampleMap[word]:\n",
    "            passed = False\n",
    "            break\n",
    "    print(testMsg(passed))\n",
    "    \n",
    "except:\n",
    "    print(\"Error detected. Recheck your function  \" )\n",
    "    "
   ]
  },
  {
   "cell_type": "markdown",
   "id": "ed208987",
   "metadata": {},
   "source": [
    "<details><summary>Click here for the solution</summary>\n",
    "\n",
    "```python\n",
    "class analysedText(object):\n",
    "    \n",
    "    def __init__ (self, text):\n",
    "        # remove punctuation\n",
    "        formattedText = text.replace('.','').replace('!','').replace('?','').replace(',','')\n",
    "        \n",
    "        # make text lowercase\n",
    "        formattedText = formattedText.lower()\n",
    "        \n",
    "        self.fmtText = formattedText\n",
    "        \n",
    "    def freqAll(self):        \n",
    "        # split text into words\n",
    "        wordList = self.fmtText.split(' ')\n",
    "        \n",
    "        # Create dictionary\n",
    "        freqMap = {}\n",
    "        for word in set(wordList): # use set to remove duplicates in list\n",
    "            freqMap[word] = wordList.count(word)\n",
    "        \n",
    "        return freqMap\n",
    "    \n",
    "    def freqOf(self,word):\n",
    "        # get frequency map\n",
    "        freqDict = self.freqAll()\n",
    "        \n",
    "        if word in freqDict:\n",
    "            return freqDict[word]\n",
    "        else:\n",
    "            return 0\n",
    "    \n",
    "```\n",
    "\n",
    "</details>\n",
    "         \n"
   ]
  },
  {
   "cell_type": "markdown",
   "id": "5f39f48a",
   "metadata": {},
   "source": [
    "<hr><br>\n"
   ]
  },
  {
   "cell_type": "markdown",
   "id": "655b896f",
   "metadata": {},
   "source": [
    "<h2 id=\"download\">Download Data</h2>\n"
   ]
  },
  {
   "cell_type": "code",
   "execution_count": null,
   "id": "bc6ec54d",
   "metadata": {},
   "outputs": [],
   "source": [
    "import urllib.request\n",
    "url = 'https://cf-courses-data.s3.us.cloud-object-storage.appdomain.cloud/IBMDeveloperSkillsNetwork-PY0101EN-SkillsNetwork/labs/Module%204/data/example1.txt'\n",
    "filename = 'Example1.txt'\n",
    "urllib.request.urlretrieve(url, filename)"
   ]
  },
  {
   "cell_type": "code",
   "execution_count": null,
   "id": "2502716c",
   "metadata": {},
   "outputs": [],
   "source": [
    "# Download Example file\n",
    "\n",
    "\n",
    "!wget -O /resources/data/Example1.txt https://cf-courses-data.s3.us.cloud-object-storage.appdomain.cloud/IBMDeveloperSkillsNetwork-PY0101EN-SkillsNetwork/labs/Module%204/data/example1.txt"
   ]
  },
  {
   "cell_type": "markdown",
   "id": "3ee90c79",
   "metadata": {},
   "source": [
    "<hr>\n"
   ]
  },
  {
   "cell_type": "markdown",
   "id": "2aa41309",
   "metadata": {},
   "source": [
    "<h2 id=\"read\">Reading Text Files</h2>\n"
   ]
  },
  {
   "cell_type": "markdown",
   "id": "aa8934f3",
   "metadata": {},
   "source": [
    "One way to read or write a file in Python is to use the built-in <code>open</code> function. The <code>open</code> function provides a **File object** that contains the methods and attributes you need in order to read, save, and manipulate the file. In this notebook, we will only cover **.txt** files. The first parameter you need is the file path and the file name. An example is shown as follow:\n"
   ]
  },
  {
   "cell_type": "markdown",
   "id": "c245be6f",
   "metadata": {},
   "source": [
    "<img src=\"https://cf-courses-data.s3.us.cloud-object-storage.appdomain.cloud/IBMDeveloperSkillsNetwork-PY0101EN-SkillsNetwork/labs/Module%204/images/ReadOpen.png\" width=\"500\">\n"
   ]
  },
  {
   "cell_type": "markdown",
   "id": "0eb49df1",
   "metadata": {},
   "source": [
    " The mode argument is optional and the default value is **r**. In this notebook we only cover two modes: \n",
    "\n",
    "<ul>\n",
    "    <li>**r**: Read mode for reading files </li>\n",
    "    <li>**w**: Write mode for writing files</li>\n",
    "</ul>\n"
   ]
  },
  {
   "cell_type": "markdown",
   "id": "59678d97",
   "metadata": {},
   "source": [
    "For the next example, we will use the text file **Example1.txt**. The file is shown as follows:\n"
   ]
  },
  {
   "cell_type": "markdown",
   "id": "b7bed4e5",
   "metadata": {},
   "source": [
    "<img src=\"https://cf-courses-data.s3.us.cloud-object-storage.appdomain.cloud/IBMDeveloperSkillsNetwork-PY0101EN-SkillsNetwork/labs/Module%204/images/ReadFile.png\" width=\"100\">\n"
   ]
  },
  {
   "cell_type": "markdown",
   "id": "c5e1d710",
   "metadata": {},
   "source": [
    " We read the file: \n"
   ]
  },
  {
   "cell_type": "code",
   "execution_count": null,
   "id": "b75b66fd",
   "metadata": {},
   "outputs": [],
   "source": [
    "# Read the Example1.txt\n",
    "\n",
    "example1 = \"Example1.txt\"\n",
    "file1 = open(example1, \"r\")"
   ]
  },
  {
   "cell_type": "markdown",
   "id": "355e1216",
   "metadata": {},
   "source": [
    " We can view the attributes of the file.\n"
   ]
  },
  {
   "cell_type": "markdown",
   "id": "f02776bb",
   "metadata": {},
   "source": [
    "The name of the file:\n"
   ]
  },
  {
   "cell_type": "code",
   "execution_count": null,
   "id": "826db8c3",
   "metadata": {},
   "outputs": [],
   "source": [
    "# Print the path of file\n",
    "\n",
    "file1.name"
   ]
  },
  {
   "cell_type": "markdown",
   "id": "95e34d79",
   "metadata": {},
   "source": [
    " The mode the file object is in:\n"
   ]
  },
  {
   "cell_type": "code",
   "execution_count": null,
   "id": "a99deaef",
   "metadata": {},
   "outputs": [],
   "source": [
    "# Print the mode of file, either 'r' or 'w'\n",
    "\n",
    "file1.mode"
   ]
  },
  {
   "cell_type": "markdown",
   "id": "5499db9c",
   "metadata": {},
   "source": [
    "We can read the file and assign it to a variable :\n"
   ]
  },
  {
   "cell_type": "code",
   "execution_count": null,
   "id": "00e86e56",
   "metadata": {},
   "outputs": [],
   "source": [
    "# Read the file\n",
    "\n",
    "FileContent = file1.read()\n",
    "FileContent"
   ]
  },
  {
   "cell_type": "markdown",
   "id": "beb7811f",
   "metadata": {},
   "source": [
    "The **/n** means that there is a new line. \n"
   ]
  },
  {
   "cell_type": "markdown",
   "id": "79b6d795",
   "metadata": {},
   "source": [
    "We can print the file: \n"
   ]
  },
  {
   "cell_type": "code",
   "execution_count": null,
   "id": "89cc75ef",
   "metadata": {},
   "outputs": [],
   "source": [
    "# Print the file with '\\n' as a new line\n",
    "\n",
    "print(FileContent)"
   ]
  },
  {
   "cell_type": "markdown",
   "id": "0323718d",
   "metadata": {},
   "source": [
    "The file is of type string:\n"
   ]
  },
  {
   "cell_type": "code",
   "execution_count": null,
   "id": "16f56cfe",
   "metadata": {},
   "outputs": [],
   "source": [
    "# Type of file content\n",
    "\n",
    "type(FileContent)"
   ]
  },
  {
   "cell_type": "markdown",
   "id": "44595870",
   "metadata": {},
   "source": [
    "It is very important that the file is closed in the end. This frees up resources and ensures consistency across different python versions.\n"
   ]
  },
  {
   "cell_type": "code",
   "execution_count": null,
   "id": "7120e943",
   "metadata": {},
   "outputs": [],
   "source": [
    "# Close file after finish\n",
    "\n",
    "file1.close()"
   ]
  },
  {
   "cell_type": "markdown",
   "id": "2dd1e5fc",
   "metadata": {},
   "source": [
    "<hr>\n"
   ]
  },
  {
   "cell_type": "markdown",
   "id": "6dc6d605",
   "metadata": {},
   "source": [
    "<h2 id=\"better\">A Better Way to Open a File</h2>\n"
   ]
  },
  {
   "cell_type": "markdown",
   "id": "19f19f12",
   "metadata": {},
   "source": [
    "Using the <code>with</code> statement is better practice, it automatically closes the file even if the code encounters an exception. The code will run everything in the indent block then close the file object. \n"
   ]
  },
  {
   "cell_type": "code",
   "execution_count": null,
   "id": "300c78b5",
   "metadata": {},
   "outputs": [],
   "source": [
    "# Open file using with\n",
    "\n",
    "with open(example1, \"r\") as file1:\n",
    "    FileContent = file1.read()\n",
    "    print(FileContent)"
   ]
  },
  {
   "cell_type": "markdown",
   "id": "8df2f1ca",
   "metadata": {},
   "source": [
    "The file object is closed, you can verify it by running the following cell:  \n"
   ]
  },
  {
   "cell_type": "code",
   "execution_count": null,
   "id": "c39b598e",
   "metadata": {},
   "outputs": [],
   "source": [
    "# Verify if the file is closed\n",
    "\n",
    "file1.closed"
   ]
  },
  {
   "cell_type": "markdown",
   "id": "a44ac2e5",
   "metadata": {},
   "source": [
    " We can see the info in the file:\n"
   ]
  },
  {
   "cell_type": "code",
   "execution_count": null,
   "id": "0190510f",
   "metadata": {},
   "outputs": [],
   "source": [
    "# See the content of file\n",
    "\n",
    "print(FileContent)"
   ]
  },
  {
   "cell_type": "markdown",
   "id": "d443908f",
   "metadata": {},
   "source": [
    "The syntax is a little confusing as the file object is after the <code>as</code> statement. We also don’t explicitly close the file. Therefore we summarize the steps in a figure:\n"
   ]
  },
  {
   "cell_type": "markdown",
   "id": "5802d7a8",
   "metadata": {},
   "source": [
    "<img src=\"https://cf-courses-data.s3.us.cloud-object-storage.appdomain.cloud/IBMDeveloperSkillsNetwork-PY0101EN-SkillsNetwork/labs/Module%204/images/ReadWith.png\" width=\"500\">\n"
   ]
  },
  {
   "cell_type": "markdown",
   "id": "c06b0007",
   "metadata": {},
   "source": [
    "We don’t have to read the entire file, for example, we can read the first 4 characters by entering three as a parameter to the method **.read()**:\n"
   ]
  },
  {
   "cell_type": "code",
   "execution_count": null,
   "id": "acaa4b88",
   "metadata": {},
   "outputs": [],
   "source": [
    "# Read first four characters\n",
    "\n",
    "with open(example1, \"r\") as file1:\n",
    "    print(file1.read(4))"
   ]
  },
  {
   "cell_type": "markdown",
   "id": "788f5cee",
   "metadata": {},
   "source": [
    "Once the method <code>.read(4)</code> is called the first 4 characters are called. If we call the method again, the next 4 characters are called. The output for the following cell will demonstrate the process for different inputs to the method <code>read()</code>:\n"
   ]
  },
  {
   "cell_type": "code",
   "execution_count": null,
   "id": "11ed1ebd",
   "metadata": {},
   "outputs": [],
   "source": [
    "# Read certain amount of characters\n",
    "\n",
    "with open(example1, \"r\") as file1:\n",
    "    print(file1.read(4))\n",
    "    print(file1.read(4))\n",
    "    print(file1.read(7))\n",
    "    print(file1.read(15))"
   ]
  },
  {
   "cell_type": "markdown",
   "id": "ec162e46",
   "metadata": {},
   "source": [
    "The process is illustrated in the below figure, and each color represents the part of the file read after the method <code>read()</code> is called:\n"
   ]
  },
  {
   "cell_type": "markdown",
   "id": "dd5272fe",
   "metadata": {},
   "source": [
    "<img src=\"https://cf-courses-data.s3.us.cloud-object-storage.appdomain.cloud/IBMDeveloperSkillsNetwork-PY0101EN-SkillsNetwork/labs/Module%204/images/read.png\" width=\"500\">\n"
   ]
  },
  {
   "cell_type": "markdown",
   "id": "ff6c87ba",
   "metadata": {},
   "source": [
    " Here is an example using the same file, but instead we read 16, 5, and then 9 characters at a time: \n"
   ]
  },
  {
   "cell_type": "code",
   "execution_count": null,
   "id": "343a260d",
   "metadata": {},
   "outputs": [],
   "source": [
    "# Read certain amount of characters\n",
    "\n",
    "with open(example1, \"r\") as file1:\n",
    "    print(file1.read(16))\n",
    "    print(file1.read(5))\n",
    "    print(file1.read(9))"
   ]
  },
  {
   "cell_type": "markdown",
   "id": "429a8791",
   "metadata": {},
   "source": [
    "We can also read one line of the file at a time using the method <code>readline()</code>: \n"
   ]
  },
  {
   "cell_type": "code",
   "execution_count": null,
   "id": "7b29227c",
   "metadata": {},
   "outputs": [],
   "source": [
    "# Read one line\n",
    "\n",
    "with open(example1, \"r\") as file1:\n",
    "    print(\"first line: \" + file1.readline())"
   ]
  },
  {
   "cell_type": "markdown",
   "id": "18a04880",
   "metadata": {},
   "source": [
    "We can also pass an argument to <code> readline() </code> to specify the number of charecters we want to read. However, unlike <code> read()</code>, <code> readline()</code> can only read one line at most.\n"
   ]
  },
  {
   "cell_type": "code",
   "execution_count": null,
   "id": "bffaa13a",
   "metadata": {},
   "outputs": [],
   "source": [
    "with open(example1, \"r\") as file1:\n",
    "    print(file1.readline(20)) # does not read past the end of line\n",
    "    print(file1.read(20)) # Returns the next 20 chars\n"
   ]
  },
  {
   "cell_type": "markdown",
   "id": "8890386f",
   "metadata": {},
   "source": [
    " We can use a loop to iterate through each line: \n"
   ]
  },
  {
   "cell_type": "code",
   "execution_count": null,
   "id": "fc00301e",
   "metadata": {},
   "outputs": [],
   "source": [
    "# Iterate through the lines\n",
    "\n",
    "with open(example1,\"r\") as file1:\n",
    "        i = 0;\n",
    "        for line in file1:\n",
    "            print(\"Iteration\", str(i), \": \", line)\n",
    "            i = i + 1"
   ]
  },
  {
   "cell_type": "markdown",
   "id": "ceaf3985",
   "metadata": {},
   "source": [
    "We can use the method <code>readlines()</code> to save the text file to a list: \n"
   ]
  },
  {
   "cell_type": "code",
   "execution_count": null,
   "id": "4b9af114",
   "metadata": {},
   "outputs": [],
   "source": [
    "# Read all lines and save as a list\n",
    "\n",
    "with open(example1, \"r\") as file1:\n",
    "    FileasList = file1.readlines()"
   ]
  },
  {
   "cell_type": "markdown",
   "id": "0ba4864d",
   "metadata": {},
   "source": [
    " Each element of the list corresponds to a line of text:\n"
   ]
  },
  {
   "cell_type": "code",
   "execution_count": null,
   "id": "ec5a0bc4",
   "metadata": {},
   "outputs": [],
   "source": [
    "# Print the first line\n",
    "\n",
    "FileasList[0]"
   ]
  },
  {
   "cell_type": "markdown",
   "id": "6d928a1f",
   "metadata": {},
   "source": [
    "# Print the second line\n",
    "\n",
    "FileasList[1]\n"
   ]
  },
  {
   "cell_type": "code",
   "execution_count": null,
   "id": "5233bdd8",
   "metadata": {},
   "outputs": [],
   "source": [
    "# Print the third line\n",
    "\n",
    "FileasList[2]"
   ]
  },
  {
   "cell_type": "markdown",
   "id": "63f3d691",
   "metadata": {},
   "source": [
    "<hr><br>\n"
   ]
  },
  {
   "cell_type": "markdown",
   "id": "2b99057f",
   "metadata": {},
   "source": [
    "<h2 id=\"write\">Writing Files</h2>\n"
   ]
  },
  {
   "cell_type": "markdown",
   "id": "394ec538",
   "metadata": {},
   "source": [
    " We can open a file object using the method <code>write()</code> to save the text file to a list. To write to a file, the mode argument must be set to **w**. Let’s write a file **Example2.txt** with the line: **“This is line A”**\n"
   ]
  },
  {
   "cell_type": "code",
   "execution_count": null,
   "id": "4ba19e34",
   "metadata": {},
   "outputs": [],
   "source": [
    "# Write line to file\n",
    "exmp2 = 'Example2.txt'\n",
    "with open(exmp2, 'w') as writefile:\n",
    "    writefile.write(\"This is line A\")"
   ]
  },
  {
   "cell_type": "markdown",
   "id": "6275e2fc",
   "metadata": {},
   "source": [
    " We can read the file to see if it worked:\n"
   ]
  },
  {
   "cell_type": "code",
   "execution_count": null,
   "id": "34ff2d3e",
   "metadata": {},
   "outputs": [],
   "source": [
    "# Read file\n",
    "\n",
    "with open(exmp2, 'r') as testwritefile:\n",
    "    print(testwritefile.read())"
   ]
  },
  {
   "cell_type": "markdown",
   "id": "8752d547",
   "metadata": {},
   "source": [
    "We can write multiple lines:\n"
   ]
  },
  {
   "cell_type": "code",
   "execution_count": null,
   "id": "58eb1d86",
   "metadata": {},
   "outputs": [],
   "source": [
    "# Write lines to file\n",
    "\n",
    "with open(exmp2, 'w') as writefile:\n",
    "    writefile.write(\"This is line A\\n\")\n",
    "    writefile.write(\"This is line B\\n\")"
   ]
  },
  {
   "cell_type": "markdown",
   "id": "02af6082",
   "metadata": {},
   "source": [
    "The method <code>.write()</code> works similar to the method <code>.readline()</code>, except instead of reading a new line it writes a new line. The process is illustrated in the figure. The different colour coding of the grid represents a new line added to the file after each method call.\n"
   ]
  },
  {
   "cell_type": "markdown",
   "id": "ffac5b44",
   "metadata": {},
   "source": [
    "<img src=\"https://cf-courses-data.s3.us.cloud-object-storage.appdomain.cloud/IBMDeveloperSkillsNetwork-PY0101EN-SkillsNetwork/labs/Module%204/images/WriteLine.png\" width=\"500\">\n"
   ]
  },
  {
   "cell_type": "markdown",
   "id": "6921116d",
   "metadata": {},
   "source": [
    "You can check the file to see if your results are correct \n"
   ]
  },
  {
   "cell_type": "code",
   "execution_count": null,
   "id": "884f6f3e",
   "metadata": {},
   "outputs": [],
   "source": [
    "# Check whether write to file\n",
    "\n",
    "with open(exmp2, 'r') as testwritefile:\n",
    "    print(testwritefile.read())"
   ]
  },
  {
   "cell_type": "markdown",
   "id": "50c3c6a4",
   "metadata": {},
   "source": [
    " We write a list to a **.txt** file  as follows:\n"
   ]
  },
  {
   "cell_type": "code",
   "execution_count": null,
   "id": "c7beaac5",
   "metadata": {},
   "outputs": [],
   "source": [
    "# Sample list of text\n",
    "\n",
    "Lines = [\"This is line A\\n\", \"This is line B\\n\", \"This is line C\\n\"]\n",
    "Lines"
   ]
  },
  {
   "cell_type": "code",
   "execution_count": null,
   "id": "5bfa425b",
   "metadata": {},
   "outputs": [],
   "source": [
    "# Write the strings in the list to text file\n",
    "\n",
    "with open('Example2.txt', 'w') as writefile:\n",
    "    for line in Lines:\n",
    "        print(line)\n",
    "        writefile.write(line)"
   ]
  },
  {
   "cell_type": "markdown",
   "id": "568cdf8f",
   "metadata": {},
   "source": [
    " We can verify the file is written by reading it and printing out the values:  \n"
   ]
  },
  {
   "cell_type": "code",
   "execution_count": null,
   "id": "f1d13cdb",
   "metadata": {},
   "outputs": [],
   "source": [
    "# Verify if writing to file is successfully executed\n",
    "\n",
    "with open('Example2.txt', 'r') as testwritefile:\n",
    "    print(testwritefile.read())"
   ]
  },
  {
   "cell_type": "markdown",
   "id": "20aee159",
   "metadata": {},
   "source": [
    "However, note that setting the mode to __w__ overwrites all the existing data in the file.\n"
   ]
  },
  {
   "cell_type": "code",
   "execution_count": null,
   "id": "119ce731",
   "metadata": {},
   "outputs": [],
   "source": [
    "with open('Example2.txt', 'w') as writefile:\n",
    "    writefile.write(\"Overwrite\\n\")\n",
    "with open('Example2.txt', 'r') as testwritefile:\n",
    "    print(testwritefile.read())"
   ]
  },
  {
   "cell_type": "markdown",
   "id": "94acdec2",
   "metadata": {},
   "source": [
    "<hr>\n",
    "<h2 id=\"Append\">Appending Files</h2>\n"
   ]
  },
  {
   "cell_type": "markdown",
   "id": "24ba8d07",
   "metadata": {},
   "source": [
    " We can write to files without losing any of the existing data as follows by setting the mode argument to append: **a**.  you can append a new line as follows:\n"
   ]
  },
  {
   "cell_type": "code",
   "execution_count": null,
   "id": "f68e34f5",
   "metadata": {},
   "outputs": [],
   "source": [
    "# Write a new line to text file\n",
    "\n",
    "with open('Example2.txt', 'a') as testwritefile:\n",
    "    testwritefile.write(\"This is line C\\n\")\n",
    "    testwritefile.write(\"This is line D\\n\")\n",
    "    testwritefile.write(\"This is line E\\n\")"
   ]
  },
  {
   "cell_type": "markdown",
   "id": "43c852c5",
   "metadata": {},
   "source": [
    " You can verify the file has changed by running the following cell:\n"
   ]
  },
  {
   "cell_type": "code",
   "execution_count": null,
   "id": "18fda171",
   "metadata": {},
   "outputs": [],
   "source": [
    "# Verify if the new line is in the text file\n",
    "\n",
    "with open('Example2.txt', 'r') as testwritefile:\n",
    "    print(testwritefile.read())"
   ]
  },
  {
   "cell_type": "markdown",
   "id": "920ff27f",
   "metadata": {},
   "source": [
    "<hr>\n",
    "<h2 id=\"add\">Additional modes</h2> \n"
   ]
  },
  {
   "cell_type": "markdown",
   "id": "084a3e36",
   "metadata": {},
   "source": [
    "It's fairly ineffecient to open the file in **a** or **w** and then reopening it in **r** to read any lines. Luckily we can access the file in the following modes:\n",
    "- **r+** : Reading and writing. Cannot truncate the file.\n",
    "- **w+** : Writing and reading. Truncates the file.\n",
    "- **a+** : Appending and Reading. Creates a new file, if none exists.\n",
    "You dont have to dwell on the specifics of each mode for this lab. \n"
   ]
  },
  {
   "cell_type": "markdown",
   "id": "ae7c5336",
   "metadata": {},
   "source": [
    "Let's try out the __a+__ mode:\n"
   ]
  },
  {
   "cell_type": "code",
   "execution_count": null,
   "id": "79fd29f9",
   "metadata": {},
   "outputs": [],
   "source": [
    "with open('Example2.txt', 'a+') as testwritefile:\n",
    "    testwritefile.write(\"This is line E\\n\")\n",
    "    print(testwritefile.read())"
   ]
  },
  {
   "cell_type": "markdown",
   "id": "0a78ff40",
   "metadata": {},
   "source": [
    "There were no errors but <code>read()</code> also did not output anything. This is because of our location in the file.\n"
   ]
  },
  {
   "cell_type": "markdown",
   "id": "76690d80",
   "metadata": {},
   "source": [
    "Most of the file methods we've looked at work in a certain location in the file. <code>.write() </code> writes at a certain location in the file. <code>.read()</code> reads at a certain location in the file and so on. You can think of this as moving your pointer around in the notepad to make changes at specific location.\n"
   ]
  },
  {
   "cell_type": "markdown",
   "id": "84f347e8",
   "metadata": {},
   "source": [
    "Opening the file in **w** is akin to opening the .txt file, moving your cursor to the beginning of the text file, writing new text and deleting everything that follows.\n",
    "Whereas opening the file in **a** is similiar to opening the .txt file, moving your cursor to the very end and then adding the new pieces of text. <br>\n",
    "It is often very useful to know where the 'cursor' is in a file and be able to control it. The following methods allow us to do precisely this -\n",
    "- <code>.tell()</code> - returns the current position in bytes\n",
    "- <code>.seek(offset,from)</code> - changes the position by 'offset' bytes with respect to 'from'. From can take the value of 0,1,2 corresponding to beginning, relative to current position and end\n"
   ]
  },
  {
   "cell_type": "markdown",
   "id": "0861a509",
   "metadata": {},
   "source": [
    "Now lets revisit **a+**\n"
   ]
  },
  {
   "cell_type": "code",
   "execution_count": null,
   "id": "ebce6fcb",
   "metadata": {},
   "outputs": [],
   "source": [
    "with open('Example2.txt', 'a+') as testwritefile:\n",
    "    print(\"Initial Location: {}\".format(testwritefile.tell()))\n",
    "    \n",
    "    data = testwritefile.read()\n",
    "    if (not data):  #empty strings return false in python\n",
    "            print('Read nothing') \n",
    "    else: \n",
    "            print(testwritefile.read())\n",
    "            \n",
    "    testwritefile.seek(0,0) # move 0 bytes from beginning.\n",
    "    \n",
    "    print(\"\\nNew Location : {}\".format(testwritefile.tell()))\n",
    "    data = testwritefile.read()\n",
    "    if (not data): \n",
    "            print('Read nothing') \n",
    "    else: \n",
    "            print(data)\n",
    "    \n",
    "    print(\"Location after read: {}\".format(testwritefile.tell()) )"
   ]
  },
  {
   "cell_type": "markdown",
   "id": "b2ffe957",
   "metadata": {},
   "source": [
    "Finally, a note on the difference between **w+** and **r+**. Both of these modes allow access to read and write methods, however, opening a file in **w+** overwrites it and deletes all pre-existing data. <br>\n",
    "To work with a file on existing data, use **r+** and **a+**. While using **r+**, it can be useful to add a <code>.truncate()</code> method at the end of your data. This will reduce the file to your data and delete everything that follows. <br>\n",
    "In the following code block, Run the code as it is first and then run it with the <code>.truncate()</code>.\n"
   ]
  },
  {
   "cell_type": "code",
   "execution_count": null,
   "id": "2e25e36d",
   "metadata": {},
   "outputs": [],
   "source": [
    "with open('Example2.txt', 'r+') as testwritefile:\n",
    "    data = testwritefile.readlines()\n",
    "    testwritefile.seek(0,0) #write at beginning of file\n",
    "   \n",
    "    testwritefile.write(\"Line 1\" + \"\\n\")\n",
    "    testwritefile.write(\"Line 2\" + \"\\n\")\n",
    "    testwritefile.write(\"Line 3\" + \"\\n\")\n",
    "    testwritefile.write(\"finished\\n\")\n",
    "    #Uncomment the line below\n",
    "    testwritefile.truncate()\n",
    "    testwritefile.seek(0,0)\n",
    "    print(testwritefile.read())\n",
    "    "
   ]
  },
  {
   "cell_type": "markdown",
   "id": "53c8599a",
   "metadata": {},
   "source": [
    "<hr>\n"
   ]
  },
  {
   "cell_type": "markdown",
   "id": "549547d5",
   "metadata": {},
   "source": [
    "<h2 id=\"copy\">Copy a File</h2> \n"
   ]
  },
  {
   "cell_type": "markdown",
   "id": "bd1f4a19",
   "metadata": {},
   "source": [
    "Let's copy the file **Example2.txt** to the file **Example3.txt**:\n"
   ]
  },
  {
   "cell_type": "code",
   "execution_count": null,
   "id": "3b6c17b9",
   "metadata": {},
   "outputs": [],
   "source": [
    "# Copy file to another\n",
    "\n",
    "with open('Example2.txt','r') as readfile:\n",
    "    with open('Example3.txt','w') as writefile:\n",
    "          for line in readfile:\n",
    "                writefile.write(line)"
   ]
  },
  {
   "cell_type": "markdown",
   "id": "bfd51dca",
   "metadata": {},
   "source": [
    "We can read the file to see if everything works:\n"
   ]
  },
  {
   "cell_type": "code",
   "execution_count": null,
   "id": "c4ea2c20",
   "metadata": {},
   "outputs": [],
   "source": [
    "# Verify if the copy is successfully executed\n",
    "\n",
    "with open('Example3.txt','r') as testwritefile:\n",
    "    print(testwritefile.read())"
   ]
  },
  {
   "cell_type": "markdown",
   "id": "6728f02c",
   "metadata": {},
   "source": [
    " After reading files, we can also write data into files and save them in different file formats like **.txt, .csv, .xls (for excel files) etc**. You will come across these in further examples\n"
   ]
  },
  {
   "cell_type": "markdown",
   "id": "d114344d",
   "metadata": {},
   "source": [
    "**NOTE:** If you wish to open and view the `example3.txt` file, download this lab [here](https://cf-courses-data.s3.us.cloud-object-storage.appdomain.cloud/IBMDeveloperSkillsNetwork-PY0101EN-SkillsNetwork/labs/Module%204/PY0101EN-4-2-WriteFile.ipynb) and run it locally on your machine. Then go to the working directory to ensure the `example3.txt` file exists and contains the summary data that we wrote.\n"
   ]
  },
  {
   "cell_type": "markdown",
   "id": "b2dbba4c",
   "metadata": {},
   "source": [
    "<hr>\n"
   ]
  },
  {
   "cell_type": "markdown",
   "id": "ab1d6113",
   "metadata": {},
   "source": [
    "<h2> Exercise </h2>\n"
   ]
  },
  {
   "cell_type": "markdown",
   "id": "a52175d2",
   "metadata": {},
   "source": [
    "Your local university's Raptors fan club maintains a register of its active members on a .txt document. Every month they update the file by removing the members who are not active. You have been tasked with automating this with your Python skills. <br>\n",
    "Given the file `currentMem`, Remove each member with a 'no' in their Active column. Keep track of each of the removed members and append them to the `exMem` file. Make sure that the format of the original files in preserved.   (*Hint: Do this by reading/writing whole lines and ensuring the header remains* )\n",
    "<br>\n",
    "Run the code block below prior to starting the exercise. The skeleton code has been provided for you. Edit only the `cleanFiles` function.\n"
   ]
  },
  {
   "cell_type": "code",
   "execution_count": null,
   "id": "c03a062a",
   "metadata": {},
   "outputs": [],
   "source": [
    "#Run this prior to starting the exercise\n",
    "from random import randint as rnd\n",
    "\n",
    "memReg = 'members.txt'\n",
    "exReg = 'inactive.txt'\n",
    "fee =('yes','no')\n",
    "\n",
    "def genFiles(current,old):\n",
    "    with open(current,'w+') as writefile: \n",
    "        writefile.write('Membership No  Date Joined  Active  \\n')\n",
    "        data = \"{:^13}  {:<11}  {:<6}\\n\"\n",
    "\n",
    "        for rowno in range(20):\n",
    "            date = str(rnd(2015,2020))+ '-' + str(rnd(1,12))+'-'+str(rnd(1,25))\n",
    "            writefile.write(data.format(rnd(10000,99999),date,fee[rnd(0,1)]))\n",
    "\n",
    "\n",
    "    with open(old,'w+') as writefile: \n",
    "        writefile.write('Membership No  Date Joined  Active  \\n')\n",
    "        data = \"{:^13}  {:<11}  {:<6}\\n\"\n",
    "        for rowno in range(3):\n",
    "            date = str(rnd(2015,2020))+ '-' + str(rnd(1,12))+'-'+str(rnd(1,25))\n",
    "            writefile.write(data.format(rnd(10000,99999),date,fee[1]))\n",
    "\n",
    "\n",
    "genFiles(memReg,exReg)\n"
   ]
  },
  {
   "cell_type": "markdown",
   "id": "e20a2527",
   "metadata": {},
   "source": [
    "Now that you've run the prerequisite code cell above, which prepared the files for this exercise, you are ready to move on to the implementation.\n",
    "\n",
    "#### **Exercise:** Implement the cleanFiles function in the code cell below.\n"
   ]
  },
  {
   "cell_type": "code",
   "execution_count": null,
   "id": "ddd7e0d1",
   "metadata": {},
   "outputs": [],
   "source": [
    "  \n",
    "'''\n",
    "The two arguments for this function are the files:\n",
    "    - currentMem: File containing list of current members\n",
    "    - exMem: File containing list of old members\n",
    "    \n",
    "    This function should remove all rows from currentMem containing 'no' \n",
    "    in the 'Active' column and appends them to exMem.\n",
    "    '''\n",
    "def cleanFiles(currentMem, exMem):\n",
    "    # TODO: Open the currentMem file as in r+ mode\n",
    "    with open(currentMem, \"r+\") as rwf:\n",
    "        #TODO: Open the exMem file in a+ mode\n",
    "        with open(exMem, \"a+\") as arf:\n",
    "            rwf.seek(0, 0)\n",
    "            mem_list = rwf.readlines()\n",
    "            header = mem_list[0]\n",
    "            mem_list.pop(0)\n",
    "            ntmem_list = [i for i in mem_list if \"no\" in i]\n",
    "            rwf.seek(0, 0)\n",
    "            rwf.write(header)\n",
    "            for j in mem_list:\n",
    "                if j in ntmem_list:\n",
    "                    arf.write(j)\n",
    "                else:\n",
    "                    rwf.write(j)\n",
    "                rwf.truncate()\n",
    "\n",
    "        #TODO: Read each member in the currentMem (1 member per row) file into a list.\n",
    "        # Hint: Recall that the first line in the file is the header.\n",
    "\n",
    "        #TODO: iterate through the members and create a new list of the innactive members\n",
    "\n",
    "        # Go to the beginning of the currentMem file\n",
    "        # TODO: Iterate through the members list. \n",
    "        # If a member is inactive, add them to exMem, otherwise write them into currentMem\n",
    "    \n",
    "    \n",
    "    \n",
    "        # Remove this line when done implementation\n",
    "\n",
    "\n",
    "# The code below is to help you view the files.\n",
    "# Do not modify this code for this exercise.\n",
    "memReg = 'members.txt'\n",
    "exReg = 'inactive.txt'\n",
    "cleanFiles(memReg,exReg)\n",
    "\n",
    "\n",
    "headers = \"Membership No  Date Joined  Active  \\n\"\n",
    "with open(memReg,'r') as readFile:\n",
    "    print(\"Active Members: \\n\\n\")\n",
    "    print(readFile.read())\n",
    "    \n",
    "with open(exReg,'r') as readFile:\n",
    "    print(\"Inactive Members: \\n\\n\")\n",
    "    print(readFile.read())\n",
    "                \n"
   ]
  },
  {
   "cell_type": "markdown",
   "id": "5dfed7b0",
   "metadata": {},
   "source": [
    "The code cell below is to verify your solution. Please do not modify the code and run it to test your implementation of `cleanFiles`.\n"
   ]
  },
  {
   "cell_type": "code",
   "execution_count": null,
   "id": "de6a3a99",
   "metadata": {},
   "outputs": [],
   "source": [
    "def testMsg(passed):\n",
    "    if passed:\n",
    "       return 'Test Passed'\n",
    "    else :\n",
    "       return 'Test Failed'\n",
    "\n",
    "testWrite = \"testWrite.txt\"\n",
    "testAppend = \"testAppend.txt\" \n",
    "passed = True\n",
    "\n",
    "genFiles(testWrite,testAppend)\n",
    "\n",
    "with open(testWrite,'r') as file:\n",
    "    ogWrite = file.readlines()\n",
    "\n",
    "with open(testAppend,'r') as file:\n",
    "    ogAppend = file.readlines()\n",
    "\n",
    "try:\n",
    "    cleanFiles(testWrite,testAppend)\n",
    "except:\n",
    "    print('Error')\n",
    "\n",
    "with open(testWrite,'r') as file:\n",
    "    clWrite = file.readlines()\n",
    "\n",
    "with open(testAppend,'r') as file:\n",
    "    clAppend = file.readlines()\n",
    "        \n",
    "# checking if total no of rows is same, including headers\n",
    "\n",
    "if (len(ogWrite) + len(ogAppend) != len(clWrite) + len(clAppend)):\n",
    "    print(\"The number of rows do not add up. Make sure your final files have the same header and format.\")\n",
    "    passed = False\n",
    "    \n",
    "for line in clWrite:\n",
    "    if  'no' in line:\n",
    "        passed = False\n",
    "        print(\"Inactive members in file\")\n",
    "        break\n",
    "    else:\n",
    "        if line not in ogWrite:\n",
    "            print(\"Data in file does not match original file\")\n",
    "            passed = False\n",
    "print (\"{}\".format(testMsg(passed)))\n",
    "    \n",
    "\n"
   ]
  },
  {
   "cell_type": "markdown",
   "id": "1fefb19b",
   "metadata": {},
   "source": [
    "<details><summary>Click here for the solution</summary>\n",
    "\n",
    "```python\n",
    "def cleanFiles(currentMem,exMem):\n",
    "    with open(currentMem,'r+') as writeFile: \n",
    "        with open(exMem,'a+') as appendFile:\n",
    "            #get the data\n",
    "            writeFile.seek(0)\n",
    "            members = writeFile.readlines()\n",
    "            #remove header\n",
    "            header = members[0]\n",
    "            members.pop(0)\n",
    "                \n",
    "            inactive = [member for member in members if ('no' in member)]\n",
    "            '''\n",
    "            The above is the same as \n",
    "\n",
    "            for member in members:\n",
    "            if 'no' in member:\n",
    "                inactive.append(member)\n",
    "            '''\n",
    "            #go to the beginning of the write file\n",
    "            writeFile.seek(0) \n",
    "            writeFile.write(header)\n",
    "            for member in members:\n",
    "                if (member in inactive):\n",
    "                    appendFile.write(member)\n",
    "                else:\n",
    "                    writeFile.write(member)      \n",
    "            writeFile.truncate()\n",
    "                \n",
    "memReg = 'members.txt'\n",
    "exReg = 'inactive.txt'\n",
    "cleanFiles(memReg,exReg)\n",
    "\n",
    "# code to help you see the files\n",
    "\n",
    "headers = \"Membership No  Date Joined  Active  \\n\"\n",
    "\n",
    "with open(memReg,'r') as readFile:\n",
    "    print(\"Active Members: \\n\\n\")\n",
    "    print(readFile.read())\n",
    "    \n",
    "with open(exReg,'r') as readFile:\n",
    "    print(\"Inactive Members: \\n\\n\")\n",
    "    print(readFile.read())\n",
    "    \n",
    "```\n",
    "\n",
    "</details>\n",
    "\n",
    "    \n"
   ]
  }
 ],
 "metadata": {
  "kernelspec": {
   "display_name": "Python 3 (ipykernel)",
   "language": "python",
   "name": "python3"
  },
  "language_info": {
   "codemirror_mode": {
    "name": "ipython",
    "version": 3
   },
   "file_extension": ".py",
   "mimetype": "text/x-python",
   "name": "python",
   "nbconvert_exporter": "python",
   "pygments_lexer": "ipython3",
   "version": "3.11.5"
  }
 },
 "nbformat": 4,
 "nbformat_minor": 5
}
