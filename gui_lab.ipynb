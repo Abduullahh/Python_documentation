{
 "cells": [
  {
   "cell_type": "code",
   "execution_count": 1,
   "id": "e963012a",
   "metadata": {},
   "outputs": [],
   "source": [
    "with open(\"gui_lab.txt\", \"w\") as wf:\n",
    "    wf.write(\"3rd copmuter science\")"
   ]
  },
  {
   "cell_type": "code",
   "execution_count": 2,
   "id": "ea05f223",
   "metadata": {},
   "outputs": [
    {
     "name": "stdout",
     "output_type": "stream",
     "text": [
      "Enter your name, age and gpu\n",
      "Abdallah 21 2\n"
     ]
    },
    {
     "data": {
      "text/plain": [
       "['Abdallah', '21', '2']"
      ]
     },
     "execution_count": 2,
     "metadata": {},
     "output_type": "execute_result"
    }
   ],
   "source": [
    "info = input(\"Enter your name, age and gpu\\n\").split()\n",
    "info"
   ]
  },
  {
   "cell_type": "code",
   "execution_count": 3,
   "id": "1d8006d4",
   "metadata": {},
   "outputs": [],
   "source": [
    "with open(\"gui_lab.txt\", \"a\") as af:\n",
    "    for i in info:\n",
    "        af.write(f\"\\n{i}\")"
   ]
  },
  {
   "cell_type": "code",
   "execution_count": 4,
   "id": "b39cde8b",
   "metadata": {
    "scrolled": true
   },
   "outputs": [
    {
     "name": "stdout",
     "output_type": "stream",
     "text": [
      "3rd copmuter science\n",
      "Abdallah\n",
      "21\n",
      "2\n"
     ]
    }
   ],
   "source": [
    "with open(\"gui_lab.txt\", \"r\") as rf:\n",
    "    print(rf.read())"
   ]
  },
  {
   "cell_type": "markdown",
   "id": "56ebf223",
   "metadata": {},
   "source": [
    "<hr>"
   ]
  },
  {
   "cell_type": "code",
   "execution_count": null,
   "id": "0e9cb42c",
   "metadata": {},
   "outputs": [],
   "source": []
  }
 ],
 "metadata": {
  "kernelspec": {
   "display_name": "Python 3 (ipykernel)",
   "language": "python",
   "name": "python3"
  },
  "language_info": {
   "codemirror_mode": {
    "name": "ipython",
    "version": 3
   },
   "file_extension": ".py",
   "mimetype": "text/x-python",
   "name": "python",
   "nbconvert_exporter": "python",
   "pygments_lexer": "ipython3",
   "version": "3.9.16"
  }
 },
 "nbformat": 4,
 "nbformat_minor": 5
}
