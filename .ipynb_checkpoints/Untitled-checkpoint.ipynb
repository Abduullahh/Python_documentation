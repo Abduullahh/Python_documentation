{
 "cells": [
  {
   "cell_type": "markdown",
   "id": "7f1b7d97",
   "metadata": {},
   "source": [
    "# Python documentation"
   ]
  },
  {
   "cell_type": "markdown",
   "id": "23e7cfe8",
   "metadata": {},
   "source": [
    "### strign methods :\n",
    "- upper(), lower(), find(), split()"
   ]
  },
  {
   "cell_type": "markdown",
   "id": "67aca94e",
   "metadata": {},
   "source": [
    "##### this method capitalize the string."
   ]
  },
  {
   "cell_type": "code",
   "execution_count": 7,
   "id": "3a45ad54",
   "metadata": {},
   "outputs": [
    {
     "data": {
      "text/plain": [
       "'MY NAME IS ABDALLAH'"
      ]
     },
     "execution_count": 7,
     "metadata": {},
     "output_type": "execute_result"
    }
   ],
   "source": [
    "s1 = \"My name is Abdallah\"\n",
    "s1.upper()"
   ]
  },
  {
   "cell_type": "markdown",
   "id": "b928b992",
   "metadata": {},
   "source": [
    "##### this method lowercase the string."
   ]
  },
  {
   "cell_type": "code",
   "execution_count": 8,
   "id": "8f338d79",
   "metadata": {},
   "outputs": [
    {
     "data": {
      "text/plain": [
       "'my name is abdallah'"
      ]
     },
     "execution_count": 8,
     "metadata": {},
     "output_type": "execute_result"
    }
   ],
   "source": [
    "s2 = \"MY NAME IS ABDALLAH\"\n",
    "s2.lower()"
   ]
  },
  {
   "cell_type": "markdown",
   "id": "7406cb57",
   "metadata": {},
   "source": [
    "##### find() method returns the index of substring in a string."
   ]
  },
  {
   "cell_type": "code",
   "execution_count": 9,
   "id": "813a9696",
   "metadata": {},
   "outputs": [
    {
     "data": {
      "text/plain": [
       "8"
      ]
     },
     "execution_count": 9,
     "metadata": {},
     "output_type": "execute_result"
    }
   ],
   "source": [
    "s1.find(r\"is\")"
   ]
  },
  {
   "cell_type": "markdown",
   "id": "1c5f8b17",
   "metadata": {},
   "source": [
    "##### split() function returns a string as a list."
   ]
  },
  {
   "cell_type": "code",
   "execution_count": 10,
   "id": "dfd696b7",
   "metadata": {},
   "outputs": [
    {
     "data": {
      "text/plain": [
       "['My', 'name', 'is', 'Abdallah']"
      ]
     },
     "execution_count": 10,
     "metadata": {},
     "output_type": "execute_result"
    }
   ],
   "source": [
    "s1.split()"
   ]
  },
  {
   "cell_type": "markdown",
   "id": "21096707",
   "metadata": {},
   "source": [
    "##### replace() method replaces a substring with another."
   ]
  },
  {
   "cell_type": "code",
   "execution_count": 12,
   "id": "db08da88",
   "metadata": {},
   "outputs": [
    {
     "data": {
      "text/plain": [
       "'My name is Ahmed'"
      ]
     },
     "execution_count": 12,
     "metadata": {},
     "output_type": "execute_result"
    }
   ],
   "source": [
    "s1.replace(r\"Abdallah\", r\"Ahmed\")"
   ]
  },
  {
   "cell_type": "markdown",
   "id": "236bf2d4",
   "metadata": {},
   "source": [
    "### Regex "
   ]
  },
  {
   "cell_type": "markdown",
   "id": "0814827b",
   "metadata": {},
   "source": [
    "Regular expressions (RegEx) are patterns used to match and manipulate strings of text. There are several special sequences in RegEx that can be used to match specific characters or patterns.\n",
    "\n",
    "| Special Sequence | Meaning                 | \tExample             |\n",
    "| -----------  | ----------------------- | ----------------------|\n",
    "| \\d|Matches any digit character (0-9)|\"123\" matches \"\\d\\d\\d\"|\n",
    "|\\D|Matches any non-digit character|\"hello\" matches \"\\D\\D\\D\\D\\D\"|\n",
    "|\\w|Matches any word character (a-z, A-Z, 0-9, and _)|\"hello_world\" matches \"\\w\\w\\w\\w\\w\\w\\w\\w\\w\"|\n",
    "|\\W|Matches any non-word character|\t\"@#$%\" matches \"\\W\\W\\W\\W\"|\n",
    "|\\s|Matches any whitespace character (space, tab, newline, etc.)|\"hello world\" matches \"\\w\\s\\w\\w\\w\\w\\w\"|\n",
    "|\\S|Matches any non-whitespace character|\"hello_world\" matches \"\\S\\S\\S\\S\\S\\S\\S\\S\\S\"|\n",
    "|\\b|Matches the boundary between a word character and a non-word character|\"cat\" matches \"\\bcat\\b\" in \"The cat sat on the mat\"|\n",
    "|\\B|Matches any position that is not a word boundary|\"cat\" matches \"\\Bcat\\B\" in \"category\" but not in \"The cat sat on the mat\"|\n"
   ]
  },
  {
   "cell_type": "markdown",
   "id": "ee66fc54",
   "metadata": {},
   "source": [
    "- methods : search(), findall(), split(), sub()"
   ]
  },
  {
   "cell_type": "markdown",
   "id": "46e668db",
   "metadata": {},
   "source": [
    "#### import the re module in order to access the regex methods."
   ]
  },
  {
   "cell_type": "code",
   "execution_count": 13,
   "id": "91bf8e74",
   "metadata": {},
   "outputs": [],
   "source": [
    "import re"
   ]
  },
  {
   "cell_type": "markdown",
   "id": "b7b4eff4",
   "metadata": {},
   "source": [
    "#### search() method returns the index (as a range) of substring in a string."
   ]
  },
  {
   "cell_type": "code",
   "execution_count": 14,
   "id": "d32d9771",
   "metadata": {},
   "outputs": [
    {
     "data": {
      "text/plain": [
       "<re.Match object; span=(8, 10), match='is'>"
      ]
     },
     "execution_count": 14,
     "metadata": {},
     "output_type": "execute_result"
    }
   ],
   "source": [
    "re.search(r\"is\", s1)"
   ]
  },
  {
   "cell_type": "markdown",
   "id": "64f737d8",
   "metadata": {},
   "source": [
    "#### findall() method returns a list containing all the matched substrings in a string."
   ]
  },
  {
   "cell_type": "code",
   "execution_count": 15,
   "id": "a04b540c",
   "metadata": {},
   "outputs": [
    {
     "data": {
      "text/plain": [
       "['is']"
      ]
     },
     "execution_count": 15,
     "metadata": {},
     "output_type": "execute_result"
    }
   ],
   "source": [
    "re.findall(r\"is\", s1)"
   ]
  },
  {
   "cell_type": "markdown",
   "id": "4798483e",
   "metadata": {},
   "source": [
    "#### split() method returns a string as as list separated by specified pattern."
   ]
  },
  {
   "cell_type": "code",
   "execution_count": 16,
   "id": "f78c1f01",
   "metadata": {},
   "outputs": [
    {
     "data": {
      "text/plain": [
       "['My', 'name', 'is', 'Abdallah']"
      ]
     },
     "execution_count": 16,
     "metadata": {},
     "output_type": "execute_result"
    }
   ],
   "source": [
    "re.split(\"\\s\", s1)"
   ]
  },
  {
   "cell_type": "markdown",
   "id": "8abfad89",
   "metadata": {},
   "source": [
    "#### sub() method replaces a substring with another."
   ]
  },
  {
   "cell_type": "code",
   "execution_count": 17,
   "id": "3fbb6c0f",
   "metadata": {},
   "outputs": [
    {
     "data": {
      "text/plain": [
       "'My name is Ahmed'"
      ]
     },
     "execution_count": 17,
     "metadata": {},
     "output_type": "execute_result"
    }
   ],
   "source": [
    "re.sub(r\"Abdallah\", r\"Ahmed\", s1)"
   ]
  },
  {
   "cell_type": "code",
   "execution_count": null,
   "id": "44fc8dfe",
   "metadata": {},
   "outputs": [],
   "source": []
  }
 ],
 "metadata": {
  "kernelspec": {
   "display_name": "Python 3 (ipykernel)",
   "language": "python",
   "name": "python3"
  },
  "language_info": {
   "codemirror_mode": {
    "name": "ipython",
    "version": 3
   },
   "file_extension": ".py",
   "mimetype": "text/x-python",
   "name": "python",
   "nbconvert_exporter": "python",
   "pygments_lexer": "ipython3",
   "version": "3.9.16"
  }
 },
 "nbformat": 4,
 "nbformat_minor": 5
}
