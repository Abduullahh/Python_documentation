{
 "cells": [
  {
   "cell_type": "markdown",
   "id": "025a9dbf",
   "metadata": {},
   "source": [
    "#### when we pass *args as a function argument we are actually specifying the argument to be a tuple"
   ]
  },
  {
   "cell_type": "code",
   "execution_count": 1,
   "id": "6cfb7401",
   "metadata": {},
   "outputs": [
    {
     "name": "stdout",
     "output_type": "stream",
     "text": [
      "The total is equal to 8\n"
     ]
    }
   ],
   "source": [
    "def summ(*args):\n",
    "    total = 0\n",
    "    for i in args:\n",
    "        total+=i\n",
    "    print(\"The total is equal to\", total)\n",
    "    return None\n",
    "summ(3, 2, 3) # so these arguemnts are gonna be like (3, 2, 3) which is a tuple."
   ]
  },
  {
   "cell_type": "markdown",
   "id": "1602a4e2",
   "metadata": {},
   "source": [
    "<hr><br>"
   ]
  },
  {
   "cell_type": "markdown",
   "id": "7598714c",
   "metadata": {},
   "source": [
    "## some dictionary operations & methods"
   ]
  },
  {
   "cell_type": "markdown",
   "id": "12026894",
   "metadata": {},
   "source": [
    "#### we can pass a **kwargs and this is a special symbol for an argument as a dictionary"
   ]
  },
  {
   "cell_type": "code",
   "execution_count": 44,
   "id": "3c27039c",
   "metadata": {
    "scrolled": true
   },
   "outputs": [
    {
     "name": "stdout",
     "output_type": "stream",
     "text": [
      "name : Abdallah\n",
      "age : 21\n",
      "major : CS\n",
      "before using the clear function ->  {'name': 'Abdallah', 'age': 21, 'major': 'CS'}\n",
      "after using the clear function ->  {}\n"
     ]
    }
   ],
   "source": [
    "def dct(**kwargs):\n",
    "    for i, j in kwargs.items():\n",
    "        print(i, \":\", j)\n",
    "    print(\"before using the clear function -> \", kwargs)\n",
    "    kwargs.clear()\n",
    "    print(\"after using the clear function -> \", kwargs)\n",
    "    return None\n",
    "\n",
    "dct(name = \"Abdallah\", age = 21, major = \"CS\")"
   ]
  },
  {
   "cell_type": "markdown",
   "id": "f56fd9cf",
   "metadata": {},
   "source": [
    "#### use get method to get a certain dictionary value based on the key passed to the method"
   ]
  },
  {
   "cell_type": "code",
   "execution_count": 5,
   "id": "e043b0a7",
   "metadata": {},
   "outputs": [
    {
     "name": "stdout",
     "output_type": "stream",
     "text": [
      "Porche\n",
      "2022\n",
      "sport\n"
     ]
    },
    {
     "data": {
      "text/plain": [
       "'Porche'"
      ]
     },
     "execution_count": 5,
     "metadata": {},
     "output_type": "execute_result"
    }
   ],
   "source": [
    "dctt = {\"model\" : \"Porche\", \"year\" : 2022, \"model_type\" : \"sport\"}\n",
    "for i in dctt:\n",
    "    print(dctt[i])\n",
    "dctt.get(\"model\")"
   ]
  },
  {
   "cell_type": "markdown",
   "id": "e3602c9e",
   "metadata": {},
   "source": [
    "#### to check if certain key exists in a dictionary"
   ]
  },
  {
   "cell_type": "code",
   "execution_count": 59,
   "id": "226db5c0",
   "metadata": {},
   "outputs": [
    {
     "name": "stdout",
     "output_type": "stream",
     "text": [
      "True\n",
      "False\n"
     ]
    }
   ],
   "source": [
    "print(\"model\" in dctt)\n",
    "print(\"number\" in dctt)\n",
    "# there is this method has_key() but it's been removed in Python 3 it used to do the same thing "
   ]
  },
  {
   "cell_type": "markdown",
   "id": "72c85dd5",
   "metadata": {},
   "source": [
    "#### use pop() method to remove certain key and its value from the dictionary"
   ]
  },
  {
   "cell_type": "code",
   "execution_count": 60,
   "id": "1b9ce5d4",
   "metadata": {
    "scrolled": true
   },
   "outputs": [
    {
     "data": {
      "text/plain": [
       "{'model': 'Porche', 'year': 2022}"
      ]
     },
     "execution_count": 60,
     "metadata": {},
     "output_type": "execute_result"
    }
   ],
   "source": [
    "dctt.pop(\"model_type\")\n",
    "dctt"
   ]
  },
  {
   "cell_type": "markdown",
   "id": "d6a1c0c3",
   "metadata": {},
   "source": [
    "### hacker rank problem (finding the percentage)"
   ]
  },
  {
   "cell_type": "code",
   "execution_count": 27,
   "id": "81fa40cb",
   "metadata": {},
   "outputs": [
    {
     "name": "stdout",
     "output_type": "stream",
     "text": [
      "Enter number of students\n",
      "2\n",
      "Enter the name and the 3 marks of student all separated by a space\n",
      "Ahmed 30 30 10\n",
      "Enter the name and the 3 marks of student all separated by a space\n",
      "Abdallah 30 20 5\n",
      "Enter the name of student you wish to get their average marks\n",
      "Abdallah\n",
      "18.33\n"
     ]
    }
   ],
   "source": [
    "n = int(input(\"Enter number of students\\n\"))\n",
    "student_marks = {}\n",
    "for i in range(n):\n",
    "    name, *line = input(\"Enter the name and the 3 marks of student all separated by a space\\n\").split()\n",
    "    scores = list(map(float, line))\n",
    "    student_marks[name] = scores\n",
    "query_name = input(\"Enter the name of student you wish to get their average marks\\n\")\n",
    "for j in student_marks:\n",
    "    if j == query_name:\n",
    "        marks = student_marks[j]\n",
    "        avg = \"%.2f\" % (sum(marks)/len(marks)) # to get result in only 2 decimals after the period\n",
    "print(avg)"
   ]
  },
  {
   "cell_type": "code",
   "execution_count": 23,
   "id": "0519cd6b",
   "metadata": {},
   "outputs": [
    {
     "name": "stdout",
     "output_type": "stream",
     "text": [
      "Enter number of students\n",
      "2\n",
      "Ahmed 30 20 10\n",
      "Abdallah\n",
      "enterAhmed\n",
      "20.0\n"
     ]
    }
   ],
   "source": [
    "n = int(input(\"Enter number of students\\n\"))\n",
    "student_marks = {}\n",
    "for i in range(n):\n",
    "    name, *line = input().split()\n",
    "    scores = list(map(float, line))\n",
    "    student_marks[name] = scores\n",
    "query_name = input()\n",
    "for j in student_marks:\n",
    "    if j == query_name:\n",
    "        marks = student_marks[j] # marks = sum(student_marks[j])/len(student_marks[j]) <- this also works :p\n",
    "        avg = sum(marks)/len(marks)\n",
    "print(avg)\n",
    "\n",
    "# here i try to convert my code into a function but yet it doesn't work so don't mind it\n",
    "# def find_avg(n):\n",
    "#     n = int(input(\"Enter number of students\\n\"))\n",
    "#     student_marks = {}\n",
    "#     for i in range(n):\n",
    "#         name, *line = input(\"Enter the name of student and their 3 marks all separated by a space\").split()\n",
    "#         scores = list(map(float, line))\n",
    "#         student_marks[name] = scores\n",
    "#     query_name = input(\"Enter the name of student you wish to get their average mark\\n\")\n",
    "#     for j in student_marks:\n",
    "#         if j == query_name:\n",
    "#             marks = student_marks[j]\n",
    "#             avg = sum(marks)/len(marks)\n",
    "#     print(avg)\n",
    "#     return None\n",
    "# find_avg\n",
    "\n",
    "# hacker rank code :\n",
    "# if __name__ == '__main__':\n",
    "#     n = int(input())\n",
    "#     student_marks = {}\n",
    "#     for i in range(n):\n",
    "#         name, *line = input().split()\n",
    "#         scores = list(map(float, line))\n",
    "#         student_marks[name] = scores\n",
    "#     query_name = input()\n",
    "#     for j in student_marks:\n",
    "#         if j == query_name:\n",
    "#             marks = student_marks[j]\n",
    "#             avg = \"%.2f\" % (sum(marks)/len(marks))\n",
    "#     print(avg)"
   ]
  }
 ],
 "metadata": {
  "kernelspec": {
   "display_name": "Python 3 (ipykernel)",
   "language": "python",
   "name": "python3"
  },
  "language_info": {
   "codemirror_mode": {
    "name": "ipython",
    "version": 3
   },
   "file_extension": ".py",
   "mimetype": "text/x-python",
   "name": "python",
   "nbconvert_exporter": "python",
   "pygments_lexer": "ipython3",
   "version": "3.9.16"
  }
 },
 "nbformat": 4,
 "nbformat_minor": 5
}
