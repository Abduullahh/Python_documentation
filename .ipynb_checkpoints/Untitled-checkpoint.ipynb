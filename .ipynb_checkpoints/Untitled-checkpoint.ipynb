{
 "cells": [
  {
   "cell_type": "markdown",
   "id": "025a9dbf",
   "metadata": {},
   "source": [
    "#### when we pass *args as a function argument we are actually specifying the argument to be a tuple"
   ]
  },
  {
   "cell_type": "code",
   "execution_count": 1,
   "id": "6cfb7401",
   "metadata": {},
   "outputs": [
    {
     "name": "stdout",
     "output_type": "stream",
     "text": [
      "The total is equal to 8\n"
     ]
    }
   ],
   "source": [
    "def summ(*args):\n",
    "    total = 0\n",
    "    for i in args:\n",
    "        total+=i\n",
    "    print(\"The total is equal to\", total)\n",
    "    return None\n",
    "summ(3, 2, 3) # so these arguemnts are gonna be like (3, 2, 3) which is a tuple."
   ]
  },
  {
   "cell_type": "markdown",
   "id": "1602a4e2",
   "metadata": {},
   "source": [
    "<hr><br>"
   ]
  },
  {
   "cell_type": "markdown",
   "id": "7598714c",
   "metadata": {},
   "source": [
    "## some dictionary operations & methods"
   ]
  },
  {
   "cell_type": "markdown",
   "id": "12026894",
   "metadata": {},
   "source": [
    "#### we can pass a **kwargs and this is a special symbol for an argument as a dictionary"
   ]
  },
  {
   "cell_type": "code",
   "execution_count": 2,
   "id": "3c27039c",
   "metadata": {
    "scrolled": true
   },
   "outputs": [
    {
     "name": "stdout",
     "output_type": "stream",
     "text": [
      "name : Abdallah\n",
      "age : 21\n",
      "major : CS\n",
      "before using the clear function ->  {'name': 'Abdallah', 'age': 21, 'major': 'CS'}\n",
      "after using the clear function ->  {}\n"
     ]
    }
   ],
   "source": [
    "def dct(**kwargs):\n",
    "    for i, j in kwargs.items():\n",
    "        print(i, \":\", j)\n",
    "    print(\"before using the clear function -> \", kwargs)\n",
    "    kwargs.clear()\n",
    "    print(\"after using the clear function -> \", kwargs)\n",
    "    return None\n",
    "\n",
    "dct(name = \"Abdallah\", age = 21, major = \"CS\")"
   ]
  },
  {
   "cell_type": "markdown",
   "id": "f56fd9cf",
   "metadata": {},
   "source": [
    "#### use get method to get a certain dictionary value based on the key passed to the method"
   ]
  },
  {
   "cell_type": "code",
   "execution_count": 3,
   "id": "e043b0a7",
   "metadata": {},
   "outputs": [
    {
     "name": "stdout",
     "output_type": "stream",
     "text": [
      "Porche\n",
      "2022\n",
      "sport\n"
     ]
    },
    {
     "data": {
      "text/plain": [
       "'Porche'"
      ]
     },
     "execution_count": 3,
     "metadata": {},
     "output_type": "execute_result"
    }
   ],
   "source": [
    "dctt = {\"model\" : \"Porche\", \"year\" : 2022, \"model_type\" : \"sport\"}\n",
    "for i in dctt:\n",
    "    print(dctt[i])\n",
    "dctt.get(\"model\")"
   ]
  },
  {
   "cell_type": "markdown",
   "id": "e3602c9e",
   "metadata": {},
   "source": [
    "#### to check if certain key exists in a dictionary"
   ]
  },
  {
   "cell_type": "code",
   "execution_count": 4,
   "id": "226db5c0",
   "metadata": {},
   "outputs": [
    {
     "name": "stdout",
     "output_type": "stream",
     "text": [
      "True\n",
      "False\n"
     ]
    }
   ],
   "source": [
    "print(\"model\" in dctt)\n",
    "print(\"number\" in dctt)\n",
    "# there is this method has_key() but it's been removed in Python 3 it used to do the same thing "
   ]
  },
  {
   "cell_type": "markdown",
   "id": "72c85dd5",
   "metadata": {},
   "source": [
    "#### use pop() method to remove certain key and its value from the dictionary"
   ]
  },
  {
   "cell_type": "code",
   "execution_count": 5,
   "id": "1b9ce5d4",
   "metadata": {
    "scrolled": true
   },
   "outputs": [
    {
     "data": {
      "text/plain": [
       "{'model': 'Porche', 'year': 2022}"
      ]
     },
     "execution_count": 5,
     "metadata": {},
     "output_type": "execute_result"
    }
   ],
   "source": [
    "dctt.pop(\"model_type\")\n",
    "dctt"
   ]
  },
  {
   "cell_type": "markdown",
   "id": "d6a1c0c3",
   "metadata": {},
   "source": [
    "### hacker rank problem (finding the percentage)"
   ]
  },
  {
   "cell_type": "code",
   "execution_count": 6,
   "id": "81fa40cb",
   "metadata": {},
   "outputs": [
    {
     "name": "stdout",
     "output_type": "stream",
     "text": [
      "Enter number of students\n",
      "2\n",
      "Enter the name and the 3 marks of student all separated by a space\n",
      "ahmed 20 10 30\n",
      "Enter the name and the 3 marks of student all separated by a space\n",
      "abdallah 10 10 35\n",
      "Enter the name of student you wish to get their average marks\n",
      "abdallah\n",
      "18.33\n"
     ]
    }
   ],
   "source": [
    "n = int(input(\"Enter number of students\\n\"))\n",
    "student_marks = {}\n",
    "for i in range(n):\n",
    "    name, *line = input(\"Enter the name and the 3 marks of student all separated by a space\\n\").split()\n",
    "    scores = list(map(float, line))\n",
    "    student_marks[name] = scores\n",
    "query_name = input(\"Enter the name of student you wish to get their average marks\\n\")\n",
    "for j in student_marks:\n",
    "    if j == query_name:\n",
    "        marks = student_marks[j]\n",
    "        avg = \"%.2f\" % (sum(marks)/len(marks)) # to get result in only 2 decimals after the period\n",
    "print(avg)"
   ]
  },
  {
   "cell_type": "code",
   "execution_count": 7,
   "id": "0519cd6b",
   "metadata": {
    "scrolled": true
   },
   "outputs": [
    {
     "name": "stdout",
     "output_type": "stream",
     "text": [
      "Enter number of students\n",
      "2\n",
      "ahmed \n",
      "abdallah 10 20 30\n",
      "abdallah\n",
      "20.0\n"
     ]
    }
   ],
   "source": [
    "n = int(input(\"Enter number of students\\n\"))\n",
    "student_marks = {}\n",
    "for i in range(n):\n",
    "    name, *line = input().split()\n",
    "    scores = list(map(float, line))\n",
    "    student_marks[name] = scores\n",
    "query_name = input()\n",
    "for j in student_marks:\n",
    "    if j == query_name:\n",
    "        marks = student_marks[j] # marks = sum(student_marks[j])/len(student_marks[j]) <- this also works :p\n",
    "        avg = sum(marks)/len(marks)\n",
    "print(avg)\n",
    "\n",
    "# here i try to convert my code into a function but yet it doesn't work so don't mind it\n",
    "# def find_avg(n):\n",
    "#     n = int(input(\"Enter number of students\\n\"))\n",
    "#     student_marks = {}\n",
    "#     for i in range(n):\n",
    "#         name, *line = input(\"Enter the name of student and their 3 marks all separated by a space\").split()\n",
    "#         scores = list(map(float, line))\n",
    "#         student_marks[name] = scores\n",
    "#     query_name = input(\"Enter the name of student you wish to get their average mark\\n\")\n",
    "#     for j in student_marks:\n",
    "#         if j == query_name:\n",
    "#             marks = student_marks[j]\n",
    "#             avg = sum(marks)/len(marks)\n",
    "#     print(avg)\n",
    "#     return None\n",
    "# find_avg\n",
    "\n",
    "# hacker rank code :\n",
    "# if __name__ == '__main__':\n",
    "#     n = int(input())\n",
    "#     student_marks = {}\n",
    "#     for i in range(n):\n",
    "#         name, *line = input().split()\n",
    "#         scores = list(map(float, line))\n",
    "#         student_marks[name] = scores\n",
    "#     query_name = input()\n",
    "#     for j in student_marks:\n",
    "#         if j == query_name:\n",
    "#             marks = student_marks[j]\n",
    "#             avg = \"%.2f\" % (sum(marks)/len(marks))\n",
    "#     print(avg)"
   ]
  },
  {
   "cell_type": "code",
   "execution_count": 20,
   "id": "1ae6d9ab",
   "metadata": {},
   "outputs": [
    {
     "name": "stdout",
     "output_type": "stream",
     "text": [
      "{'lorem': 2, 'ipsum': 1, 'dolor': 1, 'diam': 5, 'amet': 2, 'consetetur': 1, 'magna': 2, 'sed': 1, 'nonumy': 1, 'eirmod': 1, 'tempor': 1, 'et': 3, 'labore': 1}\n",
      "2\n"
     ]
    }
   ],
   "source": [
    "class analysedText(object):\n",
    "    \n",
    "    def __init__ (self, text):\n",
    "\n",
    "        # TODO: Remove the punctuation from <text> and make it lower case.\n",
    "        \n",
    "        formattedtext = text.replace(\".\", \"\").replace(\"!\", \"\").replace(\",\", \"\").replace(\"?\", \"\")\n",
    "        \n",
    "        formattedtext = formattedtext.lower()\n",
    "        \n",
    "        # TODO: Assign the formatted text to a new attribute called \"fmtText\"\n",
    "        \n",
    "        self.fmtText = formattedtext \n",
    "    \n",
    "    \n",
    "    def freqAll(self):    \n",
    "\n",
    "        # TODO: Split the text into a list of words\n",
    "        \n",
    "        wordd = []\n",
    "        wordd = self.fmtText.split()\n",
    "\n",
    "        # TODO: Create a dictionary with the unique words in the text as keys\n",
    "        \n",
    "        ddct = {}\n",
    "        \n",
    "        # and the number of times they occur in the text as values\n",
    "      \n",
    "        for keys in wordd:\n",
    "            ddct[keys] = wordd.count(keys)\n",
    "        \n",
    "        # return the created dictionary\n",
    "        \n",
    "        return ddct\n",
    "        \n",
    "    def freqOf(self, word):\n",
    "\n",
    "        # TODO: return the number of occurrences of <word> in <fmtText>\n",
    "        freqddct = self.freqAll()\n",
    "        \n",
    "        return freqddct[word]\n",
    "\n",
    "samplePassage = analysedText(\"Lorem ipsum dolor! diam amet, consetetur Lorem magna. sed diam nonumy eirmod tempor. diam et labore? et diam magna. et diam amet.\")\n",
    "print(samplePassage.freqAll())\n",
    "print(samplePassage.freqOf(\"lorem\"))\n"
   ]
  },
  {
   "cell_type": "code",
   "execution_count": 21,
   "id": "fd7a046a",
   "metadata": {},
   "outputs": [
    {
     "name": "stdout",
     "output_type": "stream",
     "text": [
      "Constructor: \n",
      "Test Passed\n",
      "freqAll: \n",
      "Test Passed\n",
      "freqOf: \n",
      "Test Passed\n"
     ]
    }
   ],
   "source": [
    "import sys\n",
    "\n",
    "sampleMap = {'eirmod': 1,'sed': 1, 'amet': 2, 'diam': 5, 'consetetur': 1, 'labore': 1, 'tempor': 1, 'dolor': 1, 'magna': 2, 'et': 3, 'nonumy': 1, 'ipsum': 1, 'lorem': 2}\n",
    "\n",
    "def testMsg(passed):\n",
    "    if passed:\n",
    "       return 'Test Passed'\n",
    "    else :\n",
    "       return 'Test Failed'\n",
    "\n",
    "print(\"Constructor: \")\n",
    "try:\n",
    "    samplePassage = analysedText(\"Lorem ipsum dolor! diam amet, consetetur Lorem magna. sed diam nonumy eirmod tempor. diam et labore? et diam magna. et diam amet.\")\n",
    "    print(testMsg(samplePassage.fmtText == \"lorem ipsum dolor diam amet consetetur lorem magna sed diam nonumy eirmod tempor diam et labore et diam magna et diam amet\"))\n",
    "except:\n",
    "    print(\"Error detected. Recheck your function \" )\n",
    "print(\"freqAll: \")\n",
    "try:\n",
    "    wordMap = samplePassage.freqAll()\n",
    "    print(testMsg(wordMap==sampleMap))\n",
    "except:\n",
    "    print(\"Error detected. Recheck your function \" )\n",
    "print(\"freqOf: \")\n",
    "try:\n",
    "    passed = True\n",
    "    for word in sampleMap:\n",
    "        if samplePassage.freqOf(word) != sampleMap[word]:\n",
    "            passed = False\n",
    "            break\n",
    "    print(testMsg(passed))\n",
    "    \n",
    "except:\n",
    "    print(\"Error detected. Recheck your function  \" )\n",
    "    "
   ]
  },
  {
   "cell_type": "markdown",
   "id": "82e6810b",
   "metadata": {},
   "source": [
    "### File handling"
   ]
  },
  {
   "cell_type": "code",
   "execution_count": 87,
   "id": "01f28439",
   "metadata": {},
   "outputs": [
    {
     "name": "stdout",
     "output_type": "stream",
     "text": [
      "19\n",
      "32\n"
     ]
    }
   ],
   "source": [
    "with open(\"exm1.txt\", \"w\") as wf:\n",
    "    wf.write(\"Hello, I'm Abdallah\")\n",
    "    print(wf.tell())\n",
    "    wf.write(\"I'm a student\")\n",
    "    print(wf.tell())\n",
    "    wf.seek(19, 0)\n",
    "    wf.write(\".\\n\")"
   ]
  },
  {
   "cell_type": "code",
   "execution_count": 21,
   "id": "a4b85975",
   "metadata": {},
   "outputs": [
    {
     "name": "stdout",
     "output_type": "stream",
     "text": [
      "Hello, I'm Abdallah.\n",
      "I'm a student.\n",
      "35\n"
     ]
    }
   ],
   "source": [
    "with open(\"exm1.txt\", \"r\") as rf:\n",
    "    print(rf.read())\n",
    "#     rf.seek(20, 0)\n",
    "#     print(rf.read())\n",
    "    print(rf.tell())"
   ]
  },
  {
   "cell_type": "code",
   "execution_count": 97,
   "id": "6ddd4279",
   "metadata": {},
   "outputs": [
    {
     "name": "stdout",
     "output_type": "stream",
     "text": [
      "Hello, I'm Abdallah.\n",
      "I'm a student.\n",
      "Hello, I'm Abdallah.\n",
      "I'm a student.\n",
      "35\n"
     ]
    }
   ],
   "source": [
    "with open(\"exm1.txt\", \"r+\") as rwf:\n",
    "    print(rwf.read())\n",
    "    rwf.seek(21, 0)\n",
    "    rwf.write(\"I'm a student.\")\n",
    "    rwf.seek(0)\n",
    "    print(rwf.read())\n",
    "    print(rwf.tell())"
   ]
  },
  {
   "cell_type": "code",
   "execution_count": 19,
   "id": "d9019fe0",
   "metadata": {},
   "outputs": [],
   "source": [
    "with open(\"exm1.txt\", \"r\") as rf:\n",
    "    with open(\"exm2.txt\", \"w\") as wf:\n",
    "        for line in rf:\n",
    "            wf.write(line)"
   ]
  },
  {
   "cell_type": "code",
   "execution_count": 23,
   "id": "2c9685ff",
   "metadata": {
    "scrolled": true
   },
   "outputs": [
    {
     "name": "stdout",
     "output_type": "stream",
     "text": [
      "exm2.txt\n",
      "Hello, I'm Abdallah.\n",
      "I'm a student.\n",
      "36\n"
     ]
    }
   ],
   "source": [
    "with open(\"exm2.txt\", \"r\") as rf:\n",
    "    print(rf.name)\n",
    "    print(rf.read())\n",
    "    print(rf.tell())"
   ]
  },
  {
   "cell_type": "code",
   "execution_count": 28,
   "id": "742c3da9",
   "metadata": {},
   "outputs": [
    {
     "name": "stdout",
     "output_type": "stream",
     "text": [
      "yes 0\n",
      "yes 1\n",
      "no 2\n"
     ]
    }
   ],
   "source": [
    "line = [\"sjfowei no\", \"lsdjfioew fno\", \"fowejfoewi\"]\n",
    "for i, j in enumerate(line):\n",
    "    if \"no\" in line[i]:\n",
    "        print(\"yes\", i)\n",
    "    else:\n",
    "        print(\"no\", i)"
   ]
  },
  {
   "cell_type": "markdown",
   "id": "1a73b17a",
   "metadata": {},
   "source": [
    "### Greatest common devisor problem"
   ]
  },
  {
   "cell_type": "code",
   "execution_count": 30,
   "id": "6db3241d",
   "metadata": {},
   "outputs": [
    {
     "name": "stdout",
     "output_type": "stream",
     "text": [
      "the devisors of 10 -> [1, 2, 5, 10]\n",
      "the devisors of 20 -> [1, 2, 4, 5, 10, 20]\n",
      "The greatest common divisor is 10\n",
      "the devisors of 91 -> [1, 7, 13, 91]\n",
      "the devisors of 39 -> [1, 3, 13, 39]\n",
      "The greatest common divisor is 13\n",
      "the devisors of 320 -> [1, 2, 4, 5, 8, 10, 16, 20, 32, 40, 64, 80, 160, 320]\n",
      "the devisors of 480 -> [1, 2, 3, 4, 5, 6, 8, 10, 12, 15, 16, 20, 24, 30, 32, 40, 48, 60, 80, 96, 120, 160, 240, 480]\n",
      "The greatest common divisor is 160\n"
     ]
    }
   ],
   "source": [
    "# how to find the greatest devisor for certain number\n",
    "\n",
    "# num = 5\n",
    "# dev = 1\n",
    "# cd = []\n",
    "# max_cd = 0\n",
    "# while dev <= num:\n",
    "#     if num % dev == 0:\n",
    "#         cd.append(dev)\n",
    "#         dev+= 1\n",
    "#     else:\n",
    "#         dev+= 1\n",
    "# print(cd)\n",
    "# for i in cd:\n",
    "#     if i > max_cd:\n",
    "#         max_cd = i\n",
    "# print(\"The maximum common divisor is\", max_cd)\n",
    "\n",
    "# # how to find the greatest devisor for certain number (using function)\n",
    "\n",
    "# def find_devisor(num):\n",
    "#     dev = 1\n",
    "#     cd = []\n",
    "#     max_cd = 0\n",
    "#     while dev <= num:\n",
    "#         if num % dev == 0:\n",
    "#             cd.append(dev)\n",
    "#             dev+= 1\n",
    "#         else:\n",
    "#             dev+= 1\n",
    "#     print(\"the devisors ->\", cd)\n",
    "#     for i in cd:\n",
    "#         if i > max_cd:\n",
    "#             max_cd = i\n",
    "#     print(\"The greatest divisor is\", max_cd)\n",
    "#     return None\n",
    "# find_devisor(6)\n",
    "# find_devisor(7)\n",
    "# find_devisor(9)\n",
    "\n",
    "# how to find the greatest common devisor for 2 numbers\n",
    "\n",
    "def find_gcdevisor(num1, num2):\n",
    "    dev1 = 1\n",
    "    dev2 = 1\n",
    "    cd1 = []\n",
    "    cd2 = []\n",
    "    cd = []\n",
    "    max_cd = 0\n",
    "    # find the devisors of num1\n",
    "    while dev1 <= num1:\n",
    "        if num1 % dev1 == 0:\n",
    "            cd1.append(dev1)\n",
    "            dev1 += 1\n",
    "        else:\n",
    "            dev1 += 1\n",
    "    print(\"the devisors of\", num1, \"->\", cd1)\n",
    "    \n",
    "    # find the devisors of num2\n",
    "    while dev2 <= num2:\n",
    "        if num2 % dev2 == 0:\n",
    "            cd2.append(dev2)\n",
    "            dev2 += 1\n",
    "        else:\n",
    "            dev2 += 1        \n",
    "    print(\"the devisors of\", num2, \"->\", cd2)\n",
    "    \n",
    "    # Adding the common devisors for both numbers in one list\n",
    "    for x in cd1:\n",
    "        for y in cd2:\n",
    "            if x == y:\n",
    "                cd.append(x)\n",
    "    # now finding the greatest common devisor \n",
    "    for i in cd:\n",
    "        if i > max_cd:\n",
    "            max_cd = i\n",
    "    print(\"The greatest common divisor is\", max_cd)\n",
    "    return None\n",
    "\n",
    "find_gcdevisor(10, 20)\n",
    "find_gcdevisor(91, 39)\n",
    "find_gcdevisor(320, 480)"
   ]
  },
  {
   "cell_type": "markdown",
   "id": "acae565d",
   "metadata": {},
   "source": [
    "### Pandas"
   ]
  },
  {
   "cell_type": "code",
   "execution_count": 1,
   "id": "9736b23d",
   "metadata": {},
   "outputs": [],
   "source": [
    "import pandas as pd"
   ]
  },
  {
   "cell_type": "code",
   "execution_count": 2,
   "id": "58a15360",
   "metadata": {},
   "outputs": [
    {
     "data": {
      "text/html": [
       "<div>\n",
       "<style scoped>\n",
       "    .dataframe tbody tr th:only-of-type {\n",
       "        vertical-align: middle;\n",
       "    }\n",
       "\n",
       "    .dataframe tbody tr th {\n",
       "        vertical-align: top;\n",
       "    }\n",
       "\n",
       "    .dataframe thead th {\n",
       "        text-align: right;\n",
       "    }\n",
       "</style>\n",
       "<table border=\"1\" class=\"dataframe\">\n",
       "  <thead>\n",
       "    <tr style=\"text-align: right;\">\n",
       "      <th></th>\n",
       "      <th>Id</th>\n",
       "      <th>ActivityDate</th>\n",
       "      <th>TotalSteps</th>\n",
       "      <th>TotalDistance</th>\n",
       "      <th>TrackerDistance</th>\n",
       "      <th>LoggedActivitiesDistance</th>\n",
       "      <th>VeryActiveDistance</th>\n",
       "      <th>ModeratelyActiveDistance</th>\n",
       "      <th>LightActiveDistance</th>\n",
       "      <th>SedentaryActiveDistance</th>\n",
       "      <th>VeryActiveMinutes</th>\n",
       "      <th>FairlyActiveMinutes</th>\n",
       "      <th>LightlyActiveMinutes</th>\n",
       "      <th>SedentaryMinutes</th>\n",
       "      <th>Calories</th>\n",
       "    </tr>\n",
       "  </thead>\n",
       "  <tbody>\n",
       "    <tr>\n",
       "      <th>0</th>\n",
       "      <td>1503960366</td>\n",
       "      <td>4/12/2016</td>\n",
       "      <td>13162</td>\n",
       "      <td>8.50</td>\n",
       "      <td>8.50</td>\n",
       "      <td>0.0</td>\n",
       "      <td>1.88</td>\n",
       "      <td>0.55</td>\n",
       "      <td>6.06</td>\n",
       "      <td>0.0</td>\n",
       "      <td>25</td>\n",
       "      <td>13</td>\n",
       "      <td>328</td>\n",
       "      <td>728</td>\n",
       "      <td>1985</td>\n",
       "    </tr>\n",
       "    <tr>\n",
       "      <th>1</th>\n",
       "      <td>1503960366</td>\n",
       "      <td>4/13/2016</td>\n",
       "      <td>10735</td>\n",
       "      <td>6.97</td>\n",
       "      <td>6.97</td>\n",
       "      <td>0.0</td>\n",
       "      <td>1.57</td>\n",
       "      <td>0.69</td>\n",
       "      <td>4.71</td>\n",
       "      <td>0.0</td>\n",
       "      <td>21</td>\n",
       "      <td>19</td>\n",
       "      <td>217</td>\n",
       "      <td>776</td>\n",
       "      <td>1797</td>\n",
       "    </tr>\n",
       "    <tr>\n",
       "      <th>2</th>\n",
       "      <td>1503960366</td>\n",
       "      <td>4/14/2016</td>\n",
       "      <td>10460</td>\n",
       "      <td>6.74</td>\n",
       "      <td>6.74</td>\n",
       "      <td>0.0</td>\n",
       "      <td>2.44</td>\n",
       "      <td>0.40</td>\n",
       "      <td>3.91</td>\n",
       "      <td>0.0</td>\n",
       "      <td>30</td>\n",
       "      <td>11</td>\n",
       "      <td>181</td>\n",
       "      <td>1218</td>\n",
       "      <td>1776</td>\n",
       "    </tr>\n",
       "    <tr>\n",
       "      <th>3</th>\n",
       "      <td>1503960366</td>\n",
       "      <td>4/15/2016</td>\n",
       "      <td>9762</td>\n",
       "      <td>6.28</td>\n",
       "      <td>6.28</td>\n",
       "      <td>0.0</td>\n",
       "      <td>2.14</td>\n",
       "      <td>1.26</td>\n",
       "      <td>2.83</td>\n",
       "      <td>0.0</td>\n",
       "      <td>29</td>\n",
       "      <td>34</td>\n",
       "      <td>209</td>\n",
       "      <td>726</td>\n",
       "      <td>1745</td>\n",
       "    </tr>\n",
       "    <tr>\n",
       "      <th>4</th>\n",
       "      <td>1503960366</td>\n",
       "      <td>4/16/2016</td>\n",
       "      <td>12669</td>\n",
       "      <td>8.16</td>\n",
       "      <td>8.16</td>\n",
       "      <td>0.0</td>\n",
       "      <td>2.71</td>\n",
       "      <td>0.41</td>\n",
       "      <td>5.04</td>\n",
       "      <td>0.0</td>\n",
       "      <td>36</td>\n",
       "      <td>10</td>\n",
       "      <td>221</td>\n",
       "      <td>773</td>\n",
       "      <td>1863</td>\n",
       "    </tr>\n",
       "  </tbody>\n",
       "</table>\n",
       "</div>"
      ],
      "text/plain": [
       "           Id ActivityDate  TotalSteps  TotalDistance  TrackerDistance  \\\n",
       "0  1503960366    4/12/2016       13162           8.50             8.50   \n",
       "1  1503960366    4/13/2016       10735           6.97             6.97   \n",
       "2  1503960366    4/14/2016       10460           6.74             6.74   \n",
       "3  1503960366    4/15/2016        9762           6.28             6.28   \n",
       "4  1503960366    4/16/2016       12669           8.16             8.16   \n",
       "\n",
       "   LoggedActivitiesDistance  VeryActiveDistance  ModeratelyActiveDistance  \\\n",
       "0                       0.0                1.88                      0.55   \n",
       "1                       0.0                1.57                      0.69   \n",
       "2                       0.0                2.44                      0.40   \n",
       "3                       0.0                2.14                      1.26   \n",
       "4                       0.0                2.71                      0.41   \n",
       "\n",
       "   LightActiveDistance  SedentaryActiveDistance  VeryActiveMinutes  \\\n",
       "0                 6.06                      0.0                 25   \n",
       "1                 4.71                      0.0                 21   \n",
       "2                 3.91                      0.0                 30   \n",
       "3                 2.83                      0.0                 29   \n",
       "4                 5.04                      0.0                 36   \n",
       "\n",
       "   FairlyActiveMinutes  LightlyActiveMinutes  SedentaryMinutes  Calories  \n",
       "0                   13                   328               728      1985  \n",
       "1                   19                   217               776      1797  \n",
       "2                   11                   181              1218      1776  \n",
       "3                   34                   209               726      1745  \n",
       "4                   10                   221               773      1863  "
      ]
     },
     "execution_count": 2,
     "metadata": {},
     "output_type": "execute_result"
    }
   ],
   "source": [
    "df = pd.read_csv(\"dailyActivity_merged.csv\")\n",
    "df.head()"
   ]
  },
  {
   "cell_type": "markdown",
   "id": "9f13b461",
   "metadata": {},
   "source": [
    "#### Create dataframe"
   ]
  },
  {
   "cell_type": "code",
   "execution_count": 20,
   "id": "24462939",
   "metadata": {
    "scrolled": false
   },
   "outputs": [
    {
     "data": {
      "text/html": [
       "<div>\n",
       "<style scoped>\n",
       "    .dataframe tbody tr th:only-of-type {\n",
       "        vertical-align: middle;\n",
       "    }\n",
       "\n",
       "    .dataframe tbody tr th {\n",
       "        vertical-align: top;\n",
       "    }\n",
       "\n",
       "    .dataframe thead th {\n",
       "        text-align: right;\n",
       "    }\n",
       "</style>\n",
       "<table border=\"1\" class=\"dataframe\">\n",
       "  <thead>\n",
       "    <tr style=\"text-align: right;\">\n",
       "      <th></th>\n",
       "      <th>Name</th>\n",
       "      <th>Age</th>\n",
       "      <th>Major</th>\n",
       "    </tr>\n",
       "  </thead>\n",
       "  <tbody>\n",
       "    <tr>\n",
       "      <th>0</th>\n",
       "      <td>Abdallah</td>\n",
       "      <td>22</td>\n",
       "      <td>Computer Science</td>\n",
       "    </tr>\n",
       "    <tr>\n",
       "      <th>1</th>\n",
       "      <td>Ahmed</td>\n",
       "      <td>21</td>\n",
       "      <td>Chemistry</td>\n",
       "    </tr>\n",
       "    <tr>\n",
       "      <th>2</th>\n",
       "      <td>Noor</td>\n",
       "      <td>18</td>\n",
       "      <td>Accounting</td>\n",
       "    </tr>\n",
       "  </tbody>\n",
       "</table>\n",
       "</div>"
      ],
      "text/plain": [
       "       Name  Age             Major\n",
       "0  Abdallah   22  Computer Science\n",
       "1     Ahmed   21         Chemistry\n",
       "2      Noor   18        Accounting"
      ]
     },
     "execution_count": 20,
     "metadata": {},
     "output_type": "execute_result"
    }
   ],
   "source": [
    "students = {\"Name\":[\"Abdallah\", \"Ahmed\", \"Noor\"], \"Age\":[22, 21, 18], \"Major\":[\"Computer Science\", \"Chemistry\", \"Accounting\"]}\n",
    "students_df = pd.DataFrame(students)\n",
    "students_df.head()"
   ]
  },
  {
   "cell_type": "markdown",
   "id": "52f238be",
   "metadata": {},
   "source": [
    "#### access a cell using .iloc[] method"
   ]
  },
  {
   "cell_type": "code",
   "execution_count": 40,
   "id": "cd8ac151",
   "metadata": {},
   "outputs": [
    {
     "name": "stdout",
     "output_type": "stream",
     "text": [
      "Noor\n"
     ]
    }
   ],
   "source": [
    "print(students_df.iloc[2, 0])"
   ]
  },
  {
   "cell_type": "markdown",
   "id": "d461f5b8",
   "metadata": {},
   "source": [
    "#### use the slicing to show multiple records"
   ]
  },
  {
   "cell_type": "code",
   "execution_count": 53,
   "id": "9ba8cfbf",
   "metadata": {},
   "outputs": [
    {
     "data": {
      "text/html": [
       "<div>\n",
       "<style scoped>\n",
       "    .dataframe tbody tr th:only-of-type {\n",
       "        vertical-align: middle;\n",
       "    }\n",
       "\n",
       "    .dataframe tbody tr th {\n",
       "        vertical-align: top;\n",
       "    }\n",
       "\n",
       "    .dataframe thead th {\n",
       "        text-align: right;\n",
       "    }\n",
       "</style>\n",
       "<table border=\"1\" class=\"dataframe\">\n",
       "  <thead>\n",
       "    <tr style=\"text-align: right;\">\n",
       "      <th></th>\n",
       "      <th>Name</th>\n",
       "      <th>Age</th>\n",
       "      <th>Major</th>\n",
       "    </tr>\n",
       "  </thead>\n",
       "  <tbody>\n",
       "    <tr>\n",
       "      <th>0</th>\n",
       "      <td>Abdallah</td>\n",
       "      <td>22</td>\n",
       "      <td>Computer Science</td>\n",
       "    </tr>\n",
       "    <tr>\n",
       "      <th>1</th>\n",
       "      <td>Ahmed</td>\n",
       "      <td>21</td>\n",
       "      <td>Chemistry</td>\n",
       "    </tr>\n",
       "  </tbody>\n",
       "</table>\n",
       "</div>"
      ],
      "text/plain": [
       "       Name  Age             Major\n",
       "0  Abdallah   22  Computer Science\n",
       "1     Ahmed   21         Chemistry"
      ]
     },
     "execution_count": 53,
     "metadata": {},
     "output_type": "execute_result"
    }
   ],
   "source": [
    "students_df.iloc[0:2]"
   ]
  },
  {
   "cell_type": "markdown",
   "id": "f24315b3",
   "metadata": {},
   "source": [
    "#### access a cell using the loc() method"
   ]
  },
  {
   "cell_type": "code",
   "execution_count": 43,
   "id": "4b465399",
   "metadata": {
    "scrolled": true
   },
   "outputs": [
    {
     "data": {
      "text/plain": [
       "'Abdallah'"
      ]
     },
     "execution_count": 43,
     "metadata": {},
     "output_type": "execute_result"
    }
   ],
   "source": [
    "students_df.loc[0, \"Name\"]"
   ]
  },
  {
   "cell_type": "code",
   "execution_count": 54,
   "id": "0d1f8109",
   "metadata": {},
   "outputs": [
    {
     "data": {
      "text/html": [
       "<div>\n",
       "<style scoped>\n",
       "    .dataframe tbody tr th:only-of-type {\n",
       "        vertical-align: middle;\n",
       "    }\n",
       "\n",
       "    .dataframe tbody tr th {\n",
       "        vertical-align: top;\n",
       "    }\n",
       "\n",
       "    .dataframe thead th {\n",
       "        text-align: right;\n",
       "    }\n",
       "</style>\n",
       "<table border=\"1\" class=\"dataframe\">\n",
       "  <thead>\n",
       "    <tr style=\"text-align: right;\">\n",
       "      <th></th>\n",
       "      <th>Name</th>\n",
       "      <th>Age</th>\n",
       "      <th>Major</th>\n",
       "    </tr>\n",
       "  </thead>\n",
       "  <tbody>\n",
       "    <tr>\n",
       "      <th>0</th>\n",
       "      <td>Abdallah</td>\n",
       "      <td>22</td>\n",
       "      <td>Computer Science</td>\n",
       "    </tr>\n",
       "    <tr>\n",
       "      <th>1</th>\n",
       "      <td>Ahmed</td>\n",
       "      <td>21</td>\n",
       "      <td>Chemistry</td>\n",
       "    </tr>\n",
       "    <tr>\n",
       "      <th>2</th>\n",
       "      <td>Noor</td>\n",
       "      <td>18</td>\n",
       "      <td>Accounting</td>\n",
       "    </tr>\n",
       "  </tbody>\n",
       "</table>\n",
       "</div>"
      ],
      "text/plain": [
       "       Name  Age             Major\n",
       "0  Abdallah   22  Computer Science\n",
       "1     Ahmed   21         Chemistry\n",
       "2      Noor   18        Accounting"
      ]
     },
     "execution_count": 54,
     "metadata": {},
     "output_type": "execute_result"
    }
   ],
   "source": [
    "students_df.loc[0:2]"
   ]
  },
  {
   "cell_type": "markdown",
   "id": "93d9ad35",
   "metadata": {},
   "source": [
    "#### set Name column as the index of df "
   ]
  },
  {
   "cell_type": "code",
   "execution_count": 44,
   "id": "b6294134",
   "metadata": {},
   "outputs": [
    {
     "data": {
      "text/html": [
       "<div>\n",
       "<style scoped>\n",
       "    .dataframe tbody tr th:only-of-type {\n",
       "        vertical-align: middle;\n",
       "    }\n",
       "\n",
       "    .dataframe tbody tr th {\n",
       "        vertical-align: top;\n",
       "    }\n",
       "\n",
       "    .dataframe thead th {\n",
       "        text-align: right;\n",
       "    }\n",
       "</style>\n",
       "<table border=\"1\" class=\"dataframe\">\n",
       "  <thead>\n",
       "    <tr style=\"text-align: right;\">\n",
       "      <th></th>\n",
       "      <th>Age</th>\n",
       "      <th>Major</th>\n",
       "    </tr>\n",
       "    <tr>\n",
       "      <th>Name</th>\n",
       "      <th></th>\n",
       "      <th></th>\n",
       "    </tr>\n",
       "  </thead>\n",
       "  <tbody>\n",
       "    <tr>\n",
       "      <th>Abdallah</th>\n",
       "      <td>22</td>\n",
       "      <td>Computer Science</td>\n",
       "    </tr>\n",
       "    <tr>\n",
       "      <th>Ahmed</th>\n",
       "      <td>21</td>\n",
       "      <td>Chemistry</td>\n",
       "    </tr>\n",
       "    <tr>\n",
       "      <th>Noor</th>\n",
       "      <td>18</td>\n",
       "      <td>Accounting</td>\n",
       "    </tr>\n",
       "  </tbody>\n",
       "</table>\n",
       "</div>"
      ],
      "text/plain": [
       "          Age             Major\n",
       "Name                           \n",
       "Abdallah   22  Computer Science\n",
       "Ahmed      21         Chemistry\n",
       "Noor       18        Accounting"
      ]
     },
     "execution_count": 44,
     "metadata": {},
     "output_type": "execute_result"
    }
   ],
   "source": [
    "students_df2 = students_df.set_index(\"Name\")\n",
    "students_df2"
   ]
  },
  {
   "cell_type": "code",
   "execution_count": 47,
   "id": "3994d339",
   "metadata": {},
   "outputs": [
    {
     "name": "stdout",
     "output_type": "stream",
     "text": [
      "Computer Science\n",
      "22\n"
     ]
    }
   ],
   "source": [
    "print(students_df2.loc[\"Abdallah\", \"Major\"])\n",
    "print(students_df2.loc[\"Abdallah\", \"Age\"])"
   ]
  },
  {
   "cell_type": "markdown",
   "id": "3f9a7274",
   "metadata": {},
   "source": [
    "#### create a dataframe from an existing dataframe"
   ]
  },
  {
   "cell_type": "code",
   "execution_count": 21,
   "id": "b5284aad",
   "metadata": {},
   "outputs": [
    {
     "data": {
      "text/html": [
       "<div>\n",
       "<style scoped>\n",
       "    .dataframe tbody tr th:only-of-type {\n",
       "        vertical-align: middle;\n",
       "    }\n",
       "\n",
       "    .dataframe tbody tr th {\n",
       "        vertical-align: top;\n",
       "    }\n",
       "\n",
       "    .dataframe thead th {\n",
       "        text-align: right;\n",
       "    }\n",
       "</style>\n",
       "<table border=\"1\" class=\"dataframe\">\n",
       "  <thead>\n",
       "    <tr style=\"text-align: right;\">\n",
       "      <th></th>\n",
       "      <th>Name</th>\n",
       "    </tr>\n",
       "  </thead>\n",
       "  <tbody>\n",
       "    <tr>\n",
       "      <th>0</th>\n",
       "      <td>Abdallah</td>\n",
       "    </tr>\n",
       "    <tr>\n",
       "      <th>1</th>\n",
       "      <td>Ahmed</td>\n",
       "    </tr>\n",
       "    <tr>\n",
       "      <th>2</th>\n",
       "      <td>Noor</td>\n",
       "    </tr>\n",
       "  </tbody>\n",
       "</table>\n",
       "</div>"
      ],
      "text/plain": [
       "       Name\n",
       "0  Abdallah\n",
       "1     Ahmed\n",
       "2      Noor"
      ]
     },
     "execution_count": 21,
     "metadata": {},
     "output_type": "execute_result"
    }
   ],
   "source": [
    "name = students_df[[\"Name\"]]\n",
    "name.head()"
   ]
  },
  {
   "cell_type": "markdown",
   "id": "ba444669",
   "metadata": {},
   "source": [
    "#### showing the unique values of a specific field"
   ]
  },
  {
   "cell_type": "code",
   "execution_count": 22,
   "id": "253076ef",
   "metadata": {},
   "outputs": [
    {
     "data": {
      "text/plain": [
       "array(['Abdallah', 'Ahmed', 'Noor'], dtype=object)"
      ]
     },
     "execution_count": 22,
     "metadata": {},
     "output_type": "execute_result"
    }
   ],
   "source": [
    "students_df[\"Name\"].unique()"
   ]
  },
  {
   "cell_type": "code",
   "execution_count": 23,
   "id": "a04109f2",
   "metadata": {},
   "outputs": [
    {
     "data": {
      "text/plain": [
       "0     True\n",
       "1     True\n",
       "2    False\n",
       "Name: Age, dtype: bool"
      ]
     },
     "execution_count": 23,
     "metadata": {},
     "output_type": "execute_result"
    }
   ],
   "source": [
    "students_df[\"Age\"] >= 20"
   ]
  },
  {
   "cell_type": "markdown",
   "id": "b2daf542",
   "metadata": {},
   "source": [
    "#### creating a df from an existing df based on a condition"
   ]
  },
  {
   "cell_type": "code",
   "execution_count": 27,
   "id": "c1516918",
   "metadata": {},
   "outputs": [
    {
     "data": {
      "text/html": [
       "<div>\n",
       "<style scoped>\n",
       "    .dataframe tbody tr th:only-of-type {\n",
       "        vertical-align: middle;\n",
       "    }\n",
       "\n",
       "    .dataframe tbody tr th {\n",
       "        vertical-align: top;\n",
       "    }\n",
       "\n",
       "    .dataframe thead th {\n",
       "        text-align: right;\n",
       "    }\n",
       "</style>\n",
       "<table border=\"1\" class=\"dataframe\">\n",
       "  <thead>\n",
       "    <tr style=\"text-align: right;\">\n",
       "      <th></th>\n",
       "      <th>Name</th>\n",
       "      <th>Age</th>\n",
       "      <th>Major</th>\n",
       "    </tr>\n",
       "  </thead>\n",
       "  <tbody>\n",
       "    <tr>\n",
       "      <th>0</th>\n",
       "      <td>Abdallah</td>\n",
       "      <td>22</td>\n",
       "      <td>Computer Science</td>\n",
       "    </tr>\n",
       "    <tr>\n",
       "      <th>1</th>\n",
       "      <td>Ahmed</td>\n",
       "      <td>21</td>\n",
       "      <td>Chemistry</td>\n",
       "    </tr>\n",
       "  </tbody>\n",
       "</table>\n",
       "</div>"
      ],
      "text/plain": [
       "       Name  Age             Major\n",
       "0  Abdallah   22  Computer Science\n",
       "1     Ahmed   21         Chemistry"
      ]
     },
     "execution_count": 27,
     "metadata": {},
     "output_type": "execute_result"
    }
   ],
   "source": [
    "students_dfup20 = students_df[students_df[\"Age\"] >= 20]\n",
    "students_dfup20.head()"
   ]
  },
  {
   "cell_type": "markdown",
   "id": "a6293fc7",
   "metadata": {},
   "source": [
    "#### save a dataframe as a csv"
   ]
  },
  {
   "cell_type": "code",
   "execution_count": 26,
   "id": "ba679a17",
   "metadata": {},
   "outputs": [],
   "source": [
    "students_df.to_csv(\"students.csv\")"
   ]
  },
  {
   "cell_type": "code",
   "execution_count": null,
   "id": "8d84b4a4",
   "metadata": {},
   "outputs": [],
   "source": []
  }
 ],
 "metadata": {
  "kernelspec": {
   "display_name": "Python 3 (ipykernel)",
   "language": "python",
   "name": "python3"
  },
  "language_info": {
   "codemirror_mode": {
    "name": "ipython",
    "version": 3
   },
   "file_extension": ".py",
   "mimetype": "text/x-python",
   "name": "python",
   "nbconvert_exporter": "python",
   "pygments_lexer": "ipython3",
   "version": "3.9.16"
  }
 },
 "nbformat": 4,
 "nbformat_minor": 5
}
