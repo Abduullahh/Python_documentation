{
 "cells": [
  {
   "cell_type": "markdown",
   "id": "4188fe85",
   "metadata": {},
   "source": [
    "# GUI"
   ]
  },
  {
   "cell_type": "code",
   "execution_count": 22,
   "id": "6549323f",
   "metadata": {},
   "outputs": [],
   "source": [
    "from tkinter import *"
   ]
  },
  {
   "cell_type": "code",
   "execution_count": 2,
   "id": "485f0e10",
   "metadata": {},
   "outputs": [],
   "source": [
    "def calc():\n",
    "    num1 = float(num1_entry.get())\n",
    "    num2 = float(num2_entry.get())\n",
    "    result = num1*num2\n",
    "    result_label.configure(text=f\"Result = {result:.2f}\")"
   ]
  },
  {
   "cell_type": "code",
   "execution_count": 23,
   "id": "facdf053",
   "metadata": {},
   "outputs": [],
   "source": [
    "root = Tk()"
   ]
  },
  {
   "cell_type": "code",
   "execution_count": 24,
   "id": "49e37a95",
   "metadata": {},
   "outputs": [],
   "source": [
    "root.title('calculator')\n",
    "root.geometry('400x200')"
   ]
  },
  {
   "cell_type": "code",
   "execution_count": 5,
   "id": "23494b33",
   "metadata": {},
   "outputs": [],
   "source": [
    "num1_label = Label(root, text='Enter the first number')\n",
    "num1_label.pack()\n",
    "num1_entry = Entry(root)\n",
    "num1_entry.pack()"
   ]
  },
  {
   "cell_type": "code",
   "execution_count": 6,
   "id": "3c6ca21a",
   "metadata": {},
   "outputs": [],
   "source": [
    "num2_label = Label(root, text='Enter the second number')\n",
    "num2_label.pack()\n",
    "num2_entry = Entry(root)\n",
    "num2_entry.pack()"
   ]
  },
  {
   "cell_type": "code",
   "execution_count": 7,
   "id": "0ef8a1ac",
   "metadata": {},
   "outputs": [],
   "source": [
    "btn1 = Button(root, text='Result', command = calc)\n",
    "btn1.pack()"
   ]
  },
  {
   "cell_type": "code",
   "execution_count": 8,
   "id": "ef60e48d",
   "metadata": {},
   "outputs": [],
   "source": [
    "result_label = Label(root)\n",
    "result_label.pack()"
   ]
  },
  {
   "cell_type": "code",
   "execution_count": 9,
   "id": "108f040b",
   "metadata": {},
   "outputs": [],
   "source": [
    "root.mainloop()"
   ]
  },
  {
   "cell_type": "markdown",
   "id": "2f069629",
   "metadata": {},
   "source": [
    "<hr>"
   ]
  },
  {
   "cell_type": "markdown",
   "id": "04da90a6",
   "metadata": {},
   "source": [
    "## Sum calculator"
   ]
  },
  {
   "cell_type": "code",
   "execution_count": 42,
   "id": "37ee385b",
   "metadata": {},
   "outputs": [],
   "source": [
    "from tkinter import *"
   ]
  },
  {
   "cell_type": "code",
   "execution_count": 43,
   "id": "e6320c07",
   "metadata": {},
   "outputs": [],
   "source": [
    "root = Tk()"
   ]
  },
  {
   "cell_type": "code",
   "execution_count": 44,
   "id": "dbd8c963",
   "metadata": {},
   "outputs": [],
   "source": [
    "root.title('Sum calculator')\n",
    "root.geometry('600x600')"
   ]
  },
  {
   "cell_type": "code",
   "execution_count": 45,
   "id": "69e36c18",
   "metadata": {},
   "outputs": [],
   "source": [
    "def clcsum():\n",
    "    x = float(num1.get())\n",
    "    y = float(num2.get())\n",
    "    summ = x + y\n",
    "    summl.configure(text= f\"Sum = {summ : .2f}\")"
   ]
  },
  {
   "cell_type": "code",
   "execution_count": 46,
   "id": "e78d0558",
   "metadata": {},
   "outputs": [],
   "source": [
    "num1l = Label(root, text= 'Enter the first number')\n",
    "num1l.pack()\n",
    "num1 = Entry(root)\n",
    "num1.pack()"
   ]
  },
  {
   "cell_type": "code",
   "execution_count": 47,
   "id": "949c9671",
   "metadata": {},
   "outputs": [],
   "source": [
    "num2l = Label(root, text= 'Enter the second number')\n",
    "num2l.pack()\n",
    "num2 = Entry(root)\n",
    "num2.pack()"
   ]
  },
  {
   "cell_type": "code",
   "execution_count": 48,
   "id": "9e2b346b",
   "metadata": {},
   "outputs": [],
   "source": [
    "btnn = Button(root, text= 'Result', command = clcsum)\n",
    "btnn.pack()"
   ]
  },
  {
   "cell_type": "code",
   "execution_count": 49,
   "id": "01cf4b14",
   "metadata": {},
   "outputs": [],
   "source": [
    "summl = Label(root)\n",
    "summl.pack()"
   ]
  },
  {
   "cell_type": "code",
   "execution_count": 50,
   "id": "9193ed42",
   "metadata": {},
   "outputs": [],
   "source": [
    "root.mainloop()"
   ]
  }
 ],
 "metadata": {
  "kernelspec": {
   "display_name": "Python 3 (ipykernel)",
   "language": "python",
   "name": "python3"
  },
  "language_info": {
   "codemirror_mode": {
    "name": "ipython",
    "version": 3
   },
   "file_extension": ".py",
   "mimetype": "text/x-python",
   "name": "python",
   "nbconvert_exporter": "python",
   "pygments_lexer": "ipython3",
   "version": "3.9.16"
  }
 },
 "nbformat": 4,
 "nbformat_minor": 5
}
